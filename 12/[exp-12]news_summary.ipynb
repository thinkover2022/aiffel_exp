{
 "cells": [
  {
   "cell_type": "code",
   "execution_count": 1,
   "id": "db37bdc2",
   "metadata": {},
   "outputs": [
    {
     "name": "stderr",
     "output_type": "stream",
     "text": [
      "[nltk_data] Downloading package stopwords to ./data/nltk...\n",
      "[nltk_data]   Package stopwords is already up-to-date!\n"
     ]
    },
    {
     "name": "stdout",
     "output_type": "stream",
     "text": [
      "3.6.5\n",
      "2.6.0\n",
      "1.2.0\n"
     ]
    }
   ],
   "source": [
    "import nltk\n",
    "nltk.download('stopwords',download_dir='./data/nltk')\n",
    "nltk.data.path.append('./data/nltk')\n",
    "import numpy as np\n",
    "import pandas as pd\n",
    "import os\n",
    "import re\n",
    "import matplotlib.pyplot as plt\n",
    "from nltk.corpus import stopwords\n",
    "from bs4 import BeautifulSoup \n",
    "from tensorflow.keras.preprocessing.text import Tokenizer \n",
    "from tensorflow.keras.preprocessing.sequence import pad_sequences\n",
    "import urllib.request\n",
    "import warnings\n",
    "warnings.filterwarnings(\"ignore\", category=UserWarning, module='bs4')\n",
    "\n",
    "from importlib.metadata import version\n",
    "import summa\n",
    "import tensorflow\n",
    "\n",
    "print(nltk.__version__)\n",
    "print(tensorflow.__version__)\n",
    "print(version('summa'))"
   ]
  },
  {
   "cell_type": "markdown",
   "id": "d4db8c93",
   "metadata": {},
   "source": [
    "# Step 1. 데이터 수집하기\n",
    "\n",
    "데이터는 아래 링크에 있는 뉴스 기사 데이터(news_summary_more.csv)를 사용하세요.\n",
    "\n",
    "[sunnysai12345/News_Summary](https://github.com/sunnysai12345/News_Summary)<br>\n",
    "아래의 코드로 데이터를 다운로드할 수 있어요.\n",
    "\n",
    "추상적 요약을 하는 경우에는 text를 본문, headlines를 이미 요약된 데이터로 삼아서 모델을 학습할 수 있어요. 추출적 요약을 하는 경우에는 오직 text열만을 사용하세요."
   ]
  },
  {
   "cell_type": "code",
   "execution_count": 2,
   "id": "799372f4",
   "metadata": {},
   "outputs": [],
   "source": [
    "import urllib.request\n",
    "urllib.request.urlretrieve(\"https://raw.githubusercontent.com/sunnysai12345/News_Summary/master/news_summary_more.csv\", filename=\"news_summary_more.csv\")\n",
    "data = pd.read_csv('news_summary_more.csv', encoding='utf-8')"
   ]
  },
  {
   "cell_type": "code",
   "execution_count": 4,
   "id": "cbe25c86",
   "metadata": {},
   "outputs": [
    {
     "data": {
      "text/html": [
       "<div>\n",
       "<style scoped>\n",
       "    .dataframe tbody tr th:only-of-type {\n",
       "        vertical-align: middle;\n",
       "    }\n",
       "\n",
       "    .dataframe tbody tr th {\n",
       "        vertical-align: top;\n",
       "    }\n",
       "\n",
       "    .dataframe thead th {\n",
       "        text-align: right;\n",
       "    }\n",
       "</style>\n",
       "<table border=\"1\" class=\"dataframe\">\n",
       "  <thead>\n",
       "    <tr style=\"text-align: right;\">\n",
       "      <th></th>\n",
       "      <th>headlines</th>\n",
       "      <th>text</th>\n",
       "    </tr>\n",
       "  </thead>\n",
       "  <tbody>\n",
       "    <tr>\n",
       "      <th>25411</th>\n",
       "      <td>Air India paintings to be given to culture min...</td>\n",
       "      <td>Paintings in possession of Air India won't be ...</td>\n",
       "    </tr>\n",
       "    <tr>\n",
       "      <th>35400</th>\n",
       "      <td>Kathua, Unnao cases darkest hour: Ex-bureaucra...</td>\n",
       "      <td>Slamming the government over the Unnao and Kat...</td>\n",
       "    </tr>\n",
       "    <tr>\n",
       "      <th>31567</th>\n",
       "      <td>BJP leader tweets pic of inverse flag at AAP m...</td>\n",
       "      <td>BJP leader Harish Khurana on Wednesday posted ...</td>\n",
       "    </tr>\n",
       "    <tr>\n",
       "      <th>19860</th>\n",
       "      <td>Andhra govt plans snake god ritual after 100 s...</td>\n",
       "      <td>The Andhra Pradesh government plans to conduct...</td>\n",
       "    </tr>\n",
       "    <tr>\n",
       "      <th>30730</th>\n",
       "      <td>Big B named most engaging B'wood actor on FB, ...</td>\n",
       "      <td>Amitabh Bachchan took to Twitter to share a su...</td>\n",
       "    </tr>\n",
       "    <tr>\n",
       "      <th>17421</th>\n",
       "      <td>MP varsity launches 'adarsh bahu' course to 'e...</td>\n",
       "      <td>Barkatullah University in Madhya Pradesh's Bho...</td>\n",
       "    </tr>\n",
       "    <tr>\n",
       "      <th>92935</th>\n",
       "      <td>Facebook owns world's top 4 most downloaded apps</td>\n",
       "      <td>Mark Zuckerberg Co-founded social media giant ...</td>\n",
       "    </tr>\n",
       "    <tr>\n",
       "      <th>73443</th>\n",
       "      <td>The Great Gatsby's mansion on sale for over â...</td>\n",
       "      <td>The mansion that inspired The Great Gatsby by ...</td>\n",
       "    </tr>\n",
       "    <tr>\n",
       "      <th>7668</th>\n",
       "      <td>NASA probe reaches asteroid to collect samples...</td>\n",
       "      <td>NASA's OSIRIS-REx has arrived at asteroid Benn...</td>\n",
       "    </tr>\n",
       "    <tr>\n",
       "      <th>28580</th>\n",
       "      <td>Man paralysed after 2-litre poop cuts off bloo...</td>\n",
       "      <td>An Australian man was left temporarily paralys...</td>\n",
       "    </tr>\n",
       "  </tbody>\n",
       "</table>\n",
       "</div>"
      ],
      "text/plain": [
       "                                               headlines  \\\n",
       "25411  Air India paintings to be given to culture min...   \n",
       "35400  Kathua, Unnao cases darkest hour: Ex-bureaucra...   \n",
       "31567  BJP leader tweets pic of inverse flag at AAP m...   \n",
       "19860  Andhra govt plans snake god ritual after 100 s...   \n",
       "30730  Big B named most engaging B'wood actor on FB, ...   \n",
       "17421  MP varsity launches 'adarsh bahu' course to 'e...   \n",
       "92935   Facebook owns world's top 4 most downloaded apps   \n",
       "73443  The Great Gatsby's mansion on sale for over â...   \n",
       "7668   NASA probe reaches asteroid to collect samples...   \n",
       "28580  Man paralysed after 2-litre poop cuts off bloo...   \n",
       "\n",
       "                                                    text  \n",
       "25411  Paintings in possession of Air India won't be ...  \n",
       "35400  Slamming the government over the Unnao and Kat...  \n",
       "31567  BJP leader Harish Khurana on Wednesday posted ...  \n",
       "19860  The Andhra Pradesh government plans to conduct...  \n",
       "30730  Amitabh Bachchan took to Twitter to share a su...  \n",
       "17421  Barkatullah University in Madhya Pradesh's Bho...  \n",
       "92935  Mark Zuckerberg Co-founded social media giant ...  \n",
       "73443  The mansion that inspired The Great Gatsby by ...  \n",
       "7668   NASA's OSIRIS-REx has arrived at asteroid Benn...  \n",
       "28580  An Australian man was left temporarily paralys...  "
      ]
     },
     "execution_count": 4,
     "metadata": {},
     "output_type": "execute_result"
    }
   ],
   "source": [
    "data.sample(10)"
   ]
  },
  {
   "cell_type": "markdown",
   "id": "5f256a60",
   "metadata": {},
   "source": [
    "# Step 2. 데이터 전처리하기 (추상적 요약)\n",
    "실습에서 사용된 전처리를 참고하여 각자 필요하다고 생각하는 전처리를 추가 사용하여 텍스트를 정규화 또는 정제해 보세요. 만약, 불용어 제거를 선택한다면 상대적으로 길이가 짧은 요약 데이터에 대해서도 불용어를 제거하는 것이 좋을지 고민해 보세요."
   ]
  },
  {
   "cell_type": "markdown",
   "id": "db87c50b",
   "metadata": {},
   "source": [
    "## 중복 샘플과 NULL 값이 존재하는 샘플 제거"
   ]
  },
  {
   "cell_type": "code",
   "execution_count": 5,
   "id": "a014a9de",
   "metadata": {},
   "outputs": [
    {
     "name": "stdout",
     "output_type": "stream",
     "text": [
      "text 열에서 중복을 배제한 유일한 샘플의 수 : 98360\n",
      "headlines 열에서 중복을 배제한 유일한 샘플의 수 : 98280\n"
     ]
    }
   ],
   "source": [
    "print('text 열에서 중복을 배제한 유일한 샘플의 수 :', data['text'].nunique())\n",
    "print('headlines 열에서 중복을 배제한 유일한 샘플의 수 :', data['headlines'].nunique())"
   ]
  },
  {
   "cell_type": "code",
   "execution_count": 6,
   "id": "4561462b",
   "metadata": {},
   "outputs": [
    {
     "name": "stdout",
     "output_type": "stream",
     "text": [
      "전체 샘플수 : 98360\n"
     ]
    }
   ],
   "source": [
    "# 데이터 프레임에서 중복값 제거\n",
    "data.drop_duplicates(subset = ['text'], inplace=True)\n",
    "print('전체 샘플수 :', (len(data)))"
   ]
  },
  {
   "cell_type": "code",
   "execution_count": 7,
   "id": "2eded2ce",
   "metadata": {},
   "outputs": [
    {
     "name": "stdout",
     "output_type": "stream",
     "text": [
      "headlines    0\n",
      "text         0\n",
      "dtype: int64\n"
     ]
    }
   ],
   "source": [
    "# 데이터 프레임에 null값이 있는지 확인\n",
    "print(data.isnull().sum())"
   ]
  },
  {
   "cell_type": "markdown",
   "id": "896604bc",
   "metadata": {},
   "source": [
    "## 텍스트 정규화와 불용어 제거"
   ]
  },
  {
   "cell_type": "code",
   "execution_count": 8,
   "id": "f9b5bc92",
   "metadata": {},
   "outputs": [
    {
     "name": "stdout",
     "output_type": "stream",
     "text": [
      "정규화 사전의 수:  120\n"
     ]
    }
   ],
   "source": [
    "# 같은의미 인데도 다른 표현으로 쓰며 단어처럼 간주되는 것 제거 (텍스트 정규화)\n",
    "contractions = {\"ain't\": \"is not\", \"aren't\": \"are not\",\"can't\": \"cannot\", \"'cause\": \"because\", \"could've\": \"could have\", \"couldn't\": \"could not\",\n",
    "                           \"didn't\": \"did not\",  \"doesn't\": \"does not\", \"don't\": \"do not\", \"hadn't\": \"had not\", \"hasn't\": \"has not\", \"haven't\": \"have not\",\n",
    "                           \"he'd\": \"he would\",\"he'll\": \"he will\", \"he's\": \"he is\", \"how'd\": \"how did\", \"how'd'y\": \"how do you\", \"how'll\": \"how will\", \"how's\": \"how is\",\n",
    "                           \"I'd\": \"I would\", \"I'd've\": \"I would have\", \"I'll\": \"I will\", \"I'll've\": \"I will have\",\"I'm\": \"I am\", \"I've\": \"I have\", \"i'd\": \"i would\",\n",
    "                           \"i'd've\": \"i would have\", \"i'll\": \"i will\",  \"i'll've\": \"i will have\",\"i'm\": \"i am\", \"i've\": \"i have\", \"isn't\": \"is not\", \"it'd\": \"it would\",\n",
    "                           \"it'd've\": \"it would have\", \"it'll\": \"it will\", \"it'll've\": \"it will have\",\"it's\": \"it is\", \"let's\": \"let us\", \"ma'am\": \"madam\",\n",
    "                           \"mayn't\": \"may not\", \"might've\": \"might have\",\"mightn't\": \"might not\",\"mightn't've\": \"might not have\", \"must've\": \"must have\",\n",
    "                           \"mustn't\": \"must not\", \"mustn't've\": \"must not have\", \"needn't\": \"need not\", \"needn't've\": \"need not have\",\"o'clock\": \"of the clock\",\n",
    "                           \"oughtn't\": \"ought not\", \"oughtn't've\": \"ought not have\", \"shan't\": \"shall not\", \"sha'n't\": \"shall not\", \"shan't've\": \"shall not have\",\n",
    "                           \"she'd\": \"she would\", \"she'd've\": \"she would have\", \"she'll\": \"she will\", \"she'll've\": \"she will have\", \"she's\": \"she is\",\n",
    "                           \"should've\": \"should have\", \"shouldn't\": \"should not\", \"shouldn't've\": \"should not have\", \"so've\": \"so have\",\"so's\": \"so as\",\n",
    "                           \"this's\": \"this is\",\"that'd\": \"that would\", \"that'd've\": \"that would have\", \"that's\": \"that is\", \"there'd\": \"there would\",\n",
    "                           \"there'd've\": \"there would have\", \"there's\": \"there is\", \"here's\": \"here is\",\"they'd\": \"they would\", \"they'd've\": \"they would have\",\n",
    "                           \"they'll\": \"they will\", \"they'll've\": \"they will have\", \"they're\": \"they are\", \"they've\": \"they have\", \"to've\": \"to have\",\n",
    "                           \"wasn't\": \"was not\", \"we'd\": \"we would\", \"we'd've\": \"we would have\", \"we'll\": \"we will\", \"we'll've\": \"we will have\", \"we're\": \"we are\",\n",
    "                           \"we've\": \"we have\", \"weren't\": \"were not\", \"what'll\": \"what will\", \"what'll've\": \"what will have\", \"what're\": \"what are\",\n",
    "                           \"what's\": \"what is\", \"what've\": \"what have\", \"when's\": \"when is\", \"when've\": \"when have\", \"where'd\": \"where did\", \"where's\": \"where is\",\n",
    "                           \"where've\": \"where have\", \"who'll\": \"who will\", \"who'll've\": \"who will have\", \"who's\": \"who is\", \"who've\": \"who have\",\n",
    "                           \"why's\": \"why is\", \"why've\": \"why have\", \"will've\": \"will have\", \"won't\": \"will not\", \"won't've\": \"will not have\",\n",
    "                           \"would've\": \"would have\", \"wouldn't\": \"would not\", \"wouldn't've\": \"would not have\", \"y'all\": \"you all\",\n",
    "                           \"y'all'd\": \"you all would\",\"y'all'd've\": \"you all would have\",\"y'all're\": \"you all are\",\"y'all've\": \"you all have\",\n",
    "                           \"you'd\": \"you would\", \"you'd've\": \"you would have\", \"you'll\": \"you will\", \"you'll've\": \"you will have\",\n",
    "                           \"you're\": \"you are\", \"you've\": \"you have\"}\n",
    "\n",
    "print(\"정규화 사전의 수: \", len(contractions))"
   ]
  },
  {
   "cell_type": "code",
   "execution_count": 9,
   "id": "1928e284",
   "metadata": {},
   "outputs": [
    {
     "name": "stdout",
     "output_type": "stream",
     "text": [
      "불용어 개수 : 179\n",
      "['i', 'me', 'my', 'myself', 'we', 'our', 'ours', 'ourselves', 'you', \"you're\", \"you've\", \"you'll\", \"you'd\", 'your', 'yours', 'yourself', 'yourselves', 'he', 'him', 'his', 'himself', 'she', \"she's\", 'her', 'hers', 'herself', 'it', \"it's\", 'its', 'itself', 'they', 'them', 'their', 'theirs', 'themselves', 'what', 'which', 'who', 'whom', 'this', 'that', \"that'll\", 'these', 'those', 'am', 'is', 'are', 'was', 'were', 'be', 'been', 'being', 'have', 'has', 'had', 'having', 'do', 'does', 'did', 'doing', 'a', 'an', 'the', 'and', 'but', 'if', 'or', 'because', 'as', 'until', 'while', 'of', 'at', 'by', 'for', 'with', 'about', 'against', 'between', 'into', 'through', 'during', 'before', 'after', 'above', 'below', 'to', 'from', 'up', 'down', 'in', 'out', 'on', 'off', 'over', 'under', 'again', 'further', 'then', 'once', 'here', 'there', 'when', 'where', 'why', 'how', 'all', 'any', 'both', 'each', 'few', 'more', 'most', 'other', 'some', 'such', 'no', 'nor', 'not', 'only', 'own', 'same', 'so', 'than', 'too', 'very', 's', 't', 'can', 'will', 'just', 'don', \"don't\", 'should', \"should've\", 'now', 'd', 'll', 'm', 'o', 're', 've', 'y', 'ain', 'aren', \"aren't\", 'couldn', \"couldn't\", 'didn', \"didn't\", 'doesn', \"doesn't\", 'hadn', \"hadn't\", 'hasn', \"hasn't\", 'haven', \"haven't\", 'isn', \"isn't\", 'ma', 'mightn', \"mightn't\", 'mustn', \"mustn't\", 'needn', \"needn't\", 'shan', \"shan't\", 'shouldn', \"shouldn't\", 'wasn', \"wasn't\", 'weren', \"weren't\", 'won', \"won't\", 'wouldn', \"wouldn't\"]\n"
     ]
    }
   ],
   "source": [
    "# 일반적으로 텍스트에 자주등장하지만 자연어 처리 할 때 실질적으로 별 도움이 되지 않는 단어들(불용어)\n",
    "print('불용어 개수 :', len(stopwords.words('english') ))\n",
    "print(stopwords.words('english'))"
   ]
  },
  {
   "cell_type": "code",
   "execution_count": 10,
   "id": "cd5014ed",
   "metadata": {},
   "outputs": [],
   "source": [
    "# 데이터 전처리 함수\n",
    "def preprocess_sentence(sentence, remove_stopwords=True):\n",
    "    sentence = sentence.lower() # 텍스트 소문자화\n",
    "    sentence = BeautifulSoup(sentence, \"lxml\").text # <br />, <a href = ...> 등의 html 태그 제거\n",
    "    sentence = re.sub(r'\\([^)]*\\)', '', sentence) # 괄호로 닫힌 문자열 (...) 제거 Ex) my husband (and myself!) for => my husband for\n",
    "    sentence = re.sub('\"','', sentence) # 쌍따옴표 \" 제거\n",
    "    sentence = ' '.join([contractions[t] if t in contractions else t for t in sentence.split(\" \")]) # 약어 정규화\n",
    "    sentence = re.sub(r\"'s\\b\",\"\", sentence) # 소유격 제거. Ex) roland's -> roland\n",
    "    sentence = re.sub(\"[^a-zA-Z]\", \" \", sentence) # 영어 외 문자(숫자, 특수문자 등) 공백으로 변환\n",
    "    sentence = re.sub('[m]{2,}', 'mm', sentence) # m이 3개 이상이면 2개로 변경. Ex) ummmmmmm yeah -> umm yeah\n",
    "    \n",
    "    # 불용어 제거 (Text)\n",
    "    if remove_stopwords:\n",
    "        tokens = ' '.join(word for word in sentence.split() if not word in stopwords.words('english') if len(word) > 1)\n",
    "    # 불용어 미제거 (Summary)\n",
    "    else:\n",
    "        tokens = ' '.join(word for word in sentence.split() if len(word) > 1)\n",
    "    return tokens"
   ]
  },
  {
   "cell_type": "code",
   "execution_count": 11,
   "id": "f45a9ac4",
   "metadata": {},
   "outputs": [
    {
     "name": "stdout",
     "output_type": "stream",
     "text": [
      "text 전처리 후 결과:  ['saurav kant alumnus upgrad iiit pg program machine learning artificial intelligence sr systems engineer infosys almost years work experience program upgrad degree career support helped transition data scientist tech mahindra salary hike upgrad online power learning powered lakh careers', 'kunal shah credit card bill payment platform cred gave users chance win free food swiggy one year pranav kaushik delhi techie bagged reward spending cred coins users get one cred coin per rupee bill paid used avail rewards brands like ixigo bookmyshow ubereats cult fit', 'new zealand defeated india wickets fourth odi hamilton thursday win first match five match odi series india lost international match rohit sharma captaincy consecutive victories dating back march match witnessed india getting seventh lowest total odi cricket history', 'aegon life iterm insurance plan customers enjoy tax benefits premiums paid save taxes plan provides life cover age years also customers options insure critical illnesses disability accidental death benefit rider life cover age years', 'speaking sexual harassment allegations rajkumar hirani sonam kapoor said known hirani many years true metoo movement get derailed metoo movement always believe woman case need reserve judgment added hirani accused assistant worked sanju']\n"
     ]
    }
   ],
   "source": [
    "clean_text = []\n",
    "# 전체 Text 데이터에 대한 전처리 : 10분 이상 시간이 걸릴 수 있습니다. \n",
    "for s in data['text']:\n",
    "    clean_text.append(preprocess_sentence(s))\n",
    "\n",
    "# 전처리 후 출력\n",
    "print(\"text 전처리 후 결과: \", clean_text[:5])"
   ]
  },
  {
   "cell_type": "code",
   "execution_count": 12,
   "id": "7ca77cc3",
   "metadata": {},
   "outputs": [
    {
     "name": "stdout",
     "output_type": "stream",
     "text": [
      "headlines 전처리 후 결과:  ['upgrad learner switches to career in ml al with salary hike', 'delhi techie wins free food from swiggy for one year on cred', 'new zealand end rohit sharma led india match winning streak', 'aegon life iterm insurance plan helps customers save tax', 'have known hirani for yrs what if metoo claims are not true sonam']\n"
     ]
    }
   ],
   "source": [
    "clean_headlines = []\n",
    "# 전체 headlines 데이터에 대한 전처리 : 5분 이상 시간이 걸릴 수 있습니다. \n",
    "for s in data['headlines']:\n",
    "    clean_headlines.append(preprocess_sentence(s, False))\n",
    "\n",
    "print(\"headlines 전처리 후 결과: \", clean_headlines[:5])"
   ]
  },
  {
   "cell_type": "code",
   "execution_count": 13,
   "id": "8b53e085",
   "metadata": {},
   "outputs": [],
   "source": [
    "data['text_new'] = clean_text\n",
    "data['headlines_new'] = clean_headlines\n",
    "\n",
    "# 빈 값을 Null 값으로 변환\n",
    "data.replace('', np.nan, inplace=True)"
   ]
  },
  {
   "cell_type": "code",
   "execution_count": 14,
   "id": "c2ffc47f",
   "metadata": {},
   "outputs": [
    {
     "data": {
      "text/plain": [
       "headlines        0\n",
       "text             0\n",
       "text_new         0\n",
       "headlines_new    0\n",
       "dtype: int64"
      ]
     },
     "execution_count": 14,
     "metadata": {},
     "output_type": "execute_result"
    }
   ],
   "source": [
    "data.isnull().sum()"
   ]
  },
  {
   "cell_type": "markdown",
   "id": "b4faa1ea",
   "metadata": {},
   "source": [
    "## 샘플의 최대 길이 정하기"
   ]
  },
  {
   "cell_type": "code",
   "execution_count": 15,
   "id": "93414a15",
   "metadata": {},
   "outputs": [
    {
     "name": "stdout",
     "output_type": "stream",
     "text": [
      "텍스트의 최소 길이 : 1\n",
      "텍스트의 최대 길이 : 60\n",
      "텍스트의 평균 길이 : 35.09968483123221\n",
      "요약의 최소 길이 : 1\n",
      "요약의 최대 길이 : 16\n",
      "요약의 평균 길이 : 9.299532330215534\n"
     ]
    },
    {
     "data": {
      "image/png": "[encoded data removed]",
      "text/plain": [
       "<Figure size 640x480 with 2 Axes>"
      ]
     },
     "metadata": {},
     "output_type": "display_data"
    },
    {
     "data": {
      "image/png": "[encoded data removed]",
      "text/plain": [
       "<Figure size 640x480 with 1 Axes>"
      ]
     },
     "metadata": {},
     "output_type": "display_data"
    },
    {
     "data": {
      "image/png": "[encoded data removed]",
      "text/plain": [
       "<Figure size 640x480 with 1 Axes>"
      ]
     },
     "metadata": {},
     "output_type": "display_data"
    }
   ],
   "source": [
    "# 길이 분포 출력\n",
    "import matplotlib.pyplot as plt\n",
    "\n",
    "text_len = [len(s.split()) for s in data['text_new']]\n",
    "summary_len = [len(s.split()) for s in data['headlines_new']]\n",
    "\n",
    "print('텍스트의 최소 길이 : {}'.format(np.min(text_len)))\n",
    "print('텍스트의 최대 길이 : {}'.format(np.max(text_len)))\n",
    "print('텍스트의 평균 길이 : {}'.format(np.mean(text_len)))\n",
    "print('요약의 최소 길이 : {}'.format(np.min(summary_len)))\n",
    "print('요약의 최대 길이 : {}'.format(np.max(summary_len)))\n",
    "print('요약의 평균 길이 : {}'.format(np.mean(summary_len)))\n",
    "\n",
    "plt.subplot(1,2,1)\n",
    "plt.boxplot(text_len)\n",
    "plt.title('text')\n",
    "plt.subplot(1,2,2)\n",
    "plt.boxplot(summary_len)\n",
    "plt.title('headlines')\n",
    "plt.tight_layout()\n",
    "plt.show()\n",
    "\n",
    "plt.title('text')\n",
    "plt.hist(text_len, bins = 40)\n",
    "plt.xlabel('length of samples')\n",
    "plt.ylabel('number of samples')\n",
    "plt.show()\n",
    "\n",
    "plt.title('headlines')\n",
    "plt.hist(summary_len, bins = 40)\n",
    "plt.xlabel('length of samples')\n",
    "plt.ylabel('number of samples')\n",
    "plt.show()"
   ]
  },
  {
   "cell_type": "code",
   "execution_count": 17,
   "id": "68fcb781",
   "metadata": {},
   "outputs": [],
   "source": [
    "text_max_len = 45\n",
    "summary_max_len = 12"
   ]
  },
  {
   "cell_type": "code",
   "execution_count": 18,
   "id": "ea61adad",
   "metadata": {},
   "outputs": [],
   "source": [
    "def below_threshold_len(max_len, nested_list):\n",
    "  cnt = 0\n",
    "  for s in nested_list:\n",
    "    if(len(s.split()) <= max_len):\n",
    "        cnt = cnt + 1\n",
    "  print('전체 샘플 중 길이가 %s 이하인 샘플의 비율: %s'%(max_len, (cnt / len(nested_list))))"
   ]
  },
  {
   "cell_type": "code",
   "execution_count": 19,
   "id": "2b175eef",
   "metadata": {},
   "outputs": [
    {
     "name": "stdout",
     "output_type": "stream",
     "text": [
      "전체 샘플 중 길이가 45 이하인 샘플의 비율: 0.9967771451809678\n",
      "전체 샘플 중 길이가 12 이하인 샘플의 비율: 0.9880337535583571\n"
     ]
    }
   ],
   "source": [
    "below_threshold_len(text_max_len, data['text_new'])\n",
    "below_threshold_len(summary_max_len,  data['headlines_new'])"
   ]
  },
  {
   "cell_type": "code",
   "execution_count": 20,
   "id": "6634d97e",
   "metadata": {},
   "outputs": [
    {
     "name": "stdout",
     "output_type": "stream",
     "text": [
      "전체 샘플수 : 96871\n"
     ]
    }
   ],
   "source": [
    "data = data[data['text_new'].apply(lambda x: len(x.split()) <= text_max_len)]\n",
    "data = data[data['headlines_new'].apply(lambda x: len(x.split()) <= summary_max_len)]\n",
    "print('전체 샘플수 :', (len(data)))"
   ]
  },
  {
   "cell_type": "markdown",
   "id": "d3cb5735",
   "metadata": {},
   "source": [
    "## 시작 토큰과 종료 토큰 추가하기"
   ]
  },
  {
   "cell_type": "code",
   "execution_count": 21,
   "id": "8fed5a43",
   "metadata": {},
   "outputs": [
    {
     "data": {
      "text/html": [
       "<div>\n",
       "<style scoped>\n",
       "    .dataframe tbody tr th:only-of-type {\n",
       "        vertical-align: middle;\n",
       "    }\n",
       "\n",
       "    .dataframe tbody tr th {\n",
       "        vertical-align: top;\n",
       "    }\n",
       "\n",
       "    .dataframe thead th {\n",
       "        text-align: right;\n",
       "    }\n",
       "</style>\n",
       "<table border=\"1\" class=\"dataframe\">\n",
       "  <thead>\n",
       "    <tr style=\"text-align: right;\">\n",
       "      <th></th>\n",
       "      <th>headlines</th>\n",
       "      <th>text</th>\n",
       "      <th>text_new</th>\n",
       "      <th>headlines_new</th>\n",
       "      <th>decoder_input</th>\n",
       "      <th>decoder_target</th>\n",
       "    </tr>\n",
       "  </thead>\n",
       "  <tbody>\n",
       "    <tr>\n",
       "      <th>0</th>\n",
       "      <td>upGrad learner switches to career in ML &amp; Al w...</td>\n",
       "      <td>Saurav Kant, an alumnus of upGrad and IIIT-B's...</td>\n",
       "      <td>saurav kant alumnus upgrad iiit pg program mac...</td>\n",
       "      <td>upgrad learner switches to career in ml al wit...</td>\n",
       "      <td>sostoken upgrad learner switches to career in ...</td>\n",
       "      <td>upgrad learner switches to career in ml al wit...</td>\n",
       "    </tr>\n",
       "    <tr>\n",
       "      <th>1</th>\n",
       "      <td>Delhi techie wins free food from Swiggy for on...</td>\n",
       "      <td>Kunal Shah's credit card bill payment platform...</td>\n",
       "      <td>kunal shah credit card bill payment platform c...</td>\n",
       "      <td>delhi techie wins free food from swiggy for on...</td>\n",
       "      <td>sostoken delhi techie wins free food from swig...</td>\n",
       "      <td>delhi techie wins free food from swiggy for on...</td>\n",
       "    </tr>\n",
       "    <tr>\n",
       "      <th>2</th>\n",
       "      <td>New Zealand end Rohit Sharma-led India's 12-ma...</td>\n",
       "      <td>New Zealand defeated India by 8 wickets in the...</td>\n",
       "      <td>new zealand defeated india wickets fourth odi ...</td>\n",
       "      <td>new zealand end rohit sharma led india match w...</td>\n",
       "      <td>sostoken new zealand end rohit sharma led indi...</td>\n",
       "      <td>new zealand end rohit sharma led india match w...</td>\n",
       "    </tr>\n",
       "    <tr>\n",
       "      <th>3</th>\n",
       "      <td>Aegon life iTerm insurance plan helps customer...</td>\n",
       "      <td>With Aegon Life iTerm Insurance plan, customer...</td>\n",
       "      <td>aegon life iterm insurance plan customers enjo...</td>\n",
       "      <td>aegon life iterm insurance plan helps customer...</td>\n",
       "      <td>sostoken aegon life iterm insurance plan helps...</td>\n",
       "      <td>aegon life iterm insurance plan helps customer...</td>\n",
       "    </tr>\n",
       "    <tr>\n",
       "      <th>5</th>\n",
       "      <td>Rahat Fateh Ali Khan denies getting notice for...</td>\n",
       "      <td>Pakistani singer Rahat Fateh Ali Khan has deni...</td>\n",
       "      <td>pakistani singer rahat fateh ali khan denied r...</td>\n",
       "      <td>rahat fateh ali khan denies getting notice for...</td>\n",
       "      <td>sostoken rahat fateh ali khan denies getting n...</td>\n",
       "      <td>rahat fateh ali khan denies getting notice for...</td>\n",
       "    </tr>\n",
       "  </tbody>\n",
       "</table>\n",
       "</div>"
      ],
      "text/plain": [
       "                                           headlines  \\\n",
       "0  upGrad learner switches to career in ML & Al w...   \n",
       "1  Delhi techie wins free food from Swiggy for on...   \n",
       "2  New Zealand end Rohit Sharma-led India's 12-ma...   \n",
       "3  Aegon life iTerm insurance plan helps customer...   \n",
       "5  Rahat Fateh Ali Khan denies getting notice for...   \n",
       "\n",
       "                                                text  \\\n",
       "0  Saurav Kant, an alumnus of upGrad and IIIT-B's...   \n",
       "1  Kunal Shah's credit card bill payment platform...   \n",
       "2  New Zealand defeated India by 8 wickets in the...   \n",
       "3  With Aegon Life iTerm Insurance plan, customer...   \n",
       "5  Pakistani singer Rahat Fateh Ali Khan has deni...   \n",
       "\n",
       "                                            text_new  \\\n",
       "0  saurav kant alumnus upgrad iiit pg program mac...   \n",
       "1  kunal shah credit card bill payment platform c...   \n",
       "2  new zealand defeated india wickets fourth odi ...   \n",
       "3  aegon life iterm insurance plan customers enjo...   \n",
       "5  pakistani singer rahat fateh ali khan denied r...   \n",
       "\n",
       "                                       headlines_new  \\\n",
       "0  upgrad learner switches to career in ml al wit...   \n",
       "1  delhi techie wins free food from swiggy for on...   \n",
       "2  new zealand end rohit sharma led india match w...   \n",
       "3  aegon life iterm insurance plan helps customer...   \n",
       "5  rahat fateh ali khan denies getting notice for...   \n",
       "\n",
       "                                       decoder_input  \\\n",
       "0  sostoken upgrad learner switches to career in ...   \n",
       "1  sostoken delhi techie wins free food from swig...   \n",
       "2  sostoken new zealand end rohit sharma led indi...   \n",
       "3  sostoken aegon life iterm insurance plan helps...   \n",
       "5  sostoken rahat fateh ali khan denies getting n...   \n",
       "\n",
       "                                      decoder_target  \n",
       "0  upgrad learner switches to career in ml al wit...  \n",
       "1  delhi techie wins free food from swiggy for on...  \n",
       "2  new zealand end rohit sharma led india match w...  \n",
       "3  aegon life iterm insurance plan helps customer...  \n",
       "5  rahat fateh ali khan denies getting notice for...  "
      ]
     },
     "execution_count": 21,
     "metadata": {},
     "output_type": "execute_result"
    }
   ],
   "source": [
    "# 요약 데이터에는 시작 토큰과 종료 토큰을 추가한다.\n",
    "data['decoder_input'] = data['headlines_new'].apply(lambda x : 'sostoken '+ x)\n",
    "data['decoder_target'] = data['headlines_new'].apply(lambda x : x + ' eostoken')\n",
    "data.head()"
   ]
  },
  {
   "cell_type": "code",
   "execution_count": 22,
   "id": "8c8060c9",
   "metadata": {},
   "outputs": [],
   "source": [
    "encoder_input = np.array(data['text_new']) # 인코더의 입력\n",
    "decoder_input = np.array(data['decoder_input']) # 디코더의 입력\n",
    "decoder_target = np.array(data['decoder_target']) # 디코더의 레이블"
   ]
  },
  {
   "cell_type": "code",
   "execution_count": 23,
   "id": "36a01dc2",
   "metadata": {},
   "outputs": [
    {
     "name": "stdout",
     "output_type": "stream",
     "text": [
      "[41487 21606 94993 ... 27144 85749 70091]\n"
     ]
    }
   ],
   "source": [
    "indices = np.arange(encoder_input.shape[0])\n",
    "np.random.shuffle(indices)\n",
    "print(indices)"
   ]
  },
  {
   "cell_type": "code",
   "execution_count": 24,
   "id": "5c7f6cf5",
   "metadata": {},
   "outputs": [],
   "source": [
    "# 잘 섞인 샘플 만들기\n",
    "encoder_input = encoder_input[indices]\n",
    "decoder_input = decoder_input[indices]\n",
    "decoder_target = decoder_target[indices]"
   ]
  },
  {
   "cell_type": "code",
   "execution_count": 25,
   "id": "8887c710",
   "metadata": {},
   "outputs": [
    {
     "name": "stdout",
     "output_type": "stream",
     "text": [
      "테스트 데이터의 수 : 19374\n"
     ]
    }
   ],
   "source": [
    "# 20% 테스트 데이터 만들기 위해 index위치 값 계산\n",
    "n_of_val = int(len(encoder_input)*0.2)\n",
    "print('테스트 데이터의 수 :', n_of_val)"
   ]
  },
  {
   "cell_type": "code",
   "execution_count": 26,
   "id": "a942d0b9",
   "metadata": {},
   "outputs": [
    {
     "name": "stdout",
     "output_type": "stream",
     "text": [
      "훈련 데이터의 개수 : 77497\n",
      "훈련 레이블의 개수 : 77497\n",
      "테스트 데이터의 개수 : 19374\n",
      "테스트 레이블의 개수 : 19374\n"
     ]
    }
   ],
   "source": [
    "encoder_input_train = encoder_input[:-n_of_val]\n",
    "decoder_input_train = decoder_input[:-n_of_val]\n",
    "decoder_target_train = decoder_target[:-n_of_val]\n",
    "\n",
    "encoder_input_test = encoder_input[-n_of_val:]\n",
    "decoder_input_test = decoder_input[-n_of_val:]\n",
    "decoder_target_test = decoder_target[-n_of_val:]\n",
    "\n",
    "print('훈련 데이터의 개수 :', len(encoder_input_train))\n",
    "print('훈련 레이블의 개수 :', len(decoder_input_train))\n",
    "print('테스트 데이터의 개수 :', len(encoder_input_test))\n",
    "print('테스트 레이블의 개수 :', len(decoder_input_test))"
   ]
  },
  {
   "cell_type": "markdown",
   "id": "44762ad7",
   "metadata": {},
   "source": [
    "## 단어 집합(vocabulary) 만들기 및 정수 인코딩"
   ]
  },
  {
   "cell_type": "code",
   "execution_count": 27,
   "id": "5bc5eacd",
   "metadata": {},
   "outputs": [],
   "source": [
    "src_tokenizer = Tokenizer() # 토크나이저 정의\n",
    "src_tokenizer.fit_on_texts(encoder_input_train) # 입력된 데이터로부터 단어 집합 생성"
   ]
  },
  {
   "cell_type": "code",
   "execution_count": 28,
   "id": "87f10226",
   "metadata": {},
   "outputs": [
    {
     "name": "stdout",
     "output_type": "stream",
     "text": [
      "단어 집합(vocabulary)의 크기 : 69012\n",
      "등장 빈도가 6번 이하인 희귀 단어의 수: 46985\n",
      "단어 집합에서 희귀 단어를 제외시킬 경우의 단어 집합의 크기 22027\n",
      "단어 집합에서 희귀 단어의 비율: 68.0823624876833\n",
      "전체 등장 빈도에서 희귀 단어 등장 빈도 비율: 3.5105854274212804\n"
     ]
    }
   ],
   "source": [
    "threshold = 7\n",
    "total_cnt = len(src_tokenizer.word_index) # 단어의 수\n",
    "rare_cnt = 0 # 등장 빈도수가 threshold보다 작은 단어의 개수를 카운트\n",
    "total_freq = 0 # 훈련 데이터의 전체 단어 빈도수 총 합\n",
    "rare_freq = 0 # 등장 빈도수가 threshold보다 작은 단어의 등장 빈도수의 총 합\n",
    "\n",
    "# 단어와 빈도수의 쌍(pair)을 key와 value로 받는다.\n",
    "for key, value in src_tokenizer.word_counts.items():\n",
    "    total_freq = total_freq + value\n",
    "\n",
    "    # 단어의 등장 빈도수가 threshold보다 작으면\n",
    "    if(value < threshold):\n",
    "        rare_cnt = rare_cnt + 1\n",
    "        rare_freq = rare_freq + value\n",
    "\n",
    "print('단어 집합(vocabulary)의 크기 :', total_cnt)\n",
    "print('등장 빈도가 %s번 이하인 희귀 단어의 수: %s'%(threshold - 1, rare_cnt))\n",
    "print('단어 집합에서 희귀 단어를 제외시킬 경우의 단어 집합의 크기 %s'%(total_cnt - rare_cnt))\n",
    "print(\"단어 집합에서 희귀 단어의 비율:\", (rare_cnt / total_cnt)*100)\n",
    "print(\"전체 등장 빈도에서 희귀 단어 등장 빈도 비율:\", (rare_freq / total_freq)*100)"
   ]
  },
  {
   "cell_type": "code",
   "execution_count": 29,
   "id": "ece041e9",
   "metadata": {},
   "outputs": [],
   "source": [
    "src_vocab = 21000\n",
    "src_tokenizer = Tokenizer(num_words=src_vocab) # 단어 집합의 크기를 21,000으로 제한\n",
    "src_tokenizer.fit_on_texts(encoder_input_train) # 단어 집합 재생성"
   ]
  },
  {
   "cell_type": "code",
   "execution_count": 30,
   "id": "cdb1218d",
   "metadata": {},
   "outputs": [
    {
     "name": "stdout",
     "output_type": "stream",
     "text": [
      "[[26, 894, 46, 14, 2515, 4813, 69, 2210, 21, 1176, 16551, 18, 5550, 62, 1843, 2295, 8, 874, 34, 80, 1138, 839, 1, 584, 246, 804, 453, 205, 3129, 450, 409, 27, 1635, 61, 155, 1343, 590, 243, 177, 874], [1589, 97, 20, 57, 68, 352, 8, 3902, 2456, 530, 323, 2124, 5770, 4586, 126, 1238, 61, 8, 249, 20, 1664, 530, 323, 1115, 699, 7745, 126, 687, 10, 6441, 1337, 136, 323, 442, 638, 5770, 20, 68], [27, 11160, 66, 3549, 3336, 13648, 2125, 3212, 993, 66, 451, 7, 1557, 261, 2007, 5365, 401, 365, 849, 261, 3549, 3336, 701, 3696, 1900, 6509, 4518, 1040, 533]]\n"
     ]
    }
   ],
   "source": [
    "# 텍스트 시퀀스를 정수 시퀀스로 변환\n",
    "encoder_input_train = src_tokenizer.texts_to_sequences(encoder_input_train) \n",
    "encoder_input_test = src_tokenizer.texts_to_sequences(encoder_input_test)\n",
    "\n",
    "# 잘 진행되었는지 샘플 출력\n",
    "print(encoder_input_train[:3])"
   ]
  },
  {
   "cell_type": "code",
   "execution_count": 31,
   "id": "d48d6ff3",
   "metadata": {},
   "outputs": [],
   "source": [
    "tar_tokenizer = Tokenizer()\n",
    "tar_tokenizer.fit_on_texts(decoder_input_train)"
   ]
  },
  {
   "cell_type": "code",
   "execution_count": 32,
   "id": "cb1544ef",
   "metadata": {},
   "outputs": [
    {
     "name": "stdout",
     "output_type": "stream",
     "text": [
      "단어 집합(vocabulary)의 크기 : 29908\n",
      "등장 빈도가 5번 이하인 희귀 단어의 수: 19528\n",
      "단어 집합에서 희귀 단어를 제외시킬 경우의 단어 집합의 크기 10380\n",
      "단어 집합에서 희귀 단어의 비율: 65.29356693861175\n",
      "전체 등장 빈도에서 희귀 단어 등장 빈도 비율: 4.69796461391101\n"
     ]
    }
   ],
   "source": [
    "threshold = 6\n",
    "total_cnt = len(tar_tokenizer.word_index) # 단어의 수\n",
    "rare_cnt = 0 # 등장 빈도수가 threshold보다 작은 단어의 개수를 카운트\n",
    "total_freq = 0 # 훈련 데이터의 전체 단어 빈도수 총 합\n",
    "rare_freq = 0 # 등장 빈도수가 threshold보다 작은 단어의 등장 빈도수의 총 합\n",
    "\n",
    "# 단어와 빈도수의 쌍(pair)을 key와 value로 받는다.\n",
    "for key, value in tar_tokenizer.word_counts.items():\n",
    "    total_freq = total_freq + value\n",
    "\n",
    "    # 단어의 등장 빈도수가 threshold보다 작으면\n",
    "    if(value < threshold):\n",
    "        rare_cnt = rare_cnt + 1\n",
    "        rare_freq = rare_freq + value\n",
    "\n",
    "print('단어 집합(vocabulary)의 크기 :', total_cnt)\n",
    "print('등장 빈도가 %s번 이하인 희귀 단어의 수: %s'%(threshold - 1, rare_cnt))\n",
    "print('단어 집합에서 희귀 단어를 제외시킬 경우의 단어 집합의 크기 %s'%(total_cnt - rare_cnt))\n",
    "print(\"단어 집합에서 희귀 단어의 비율:\", (rare_cnt / total_cnt)*100)\n",
    "print(\"전체 등장 빈도에서 희귀 단어 등장 빈도 비율:\", (rare_freq / total_freq)*100)"
   ]
  },
  {
   "cell_type": "code",
   "execution_count": 33,
   "id": "3b117f64",
   "metadata": {},
   "outputs": [
    {
     "name": "stdout",
     "output_type": "stream",
     "text": [
      "input\n",
      "input  [[1, 425, 8713, 50, 5, 9465, 4207, 4, 23, 595], [1, 197, 261, 825, 317, 2549, 2415, 319, 123, 137, 341, 23], [1, 54, 8714, 75, 241, 7152, 3651, 13, 204], [1, 73, 10, 1766, 1266, 4, 553, 704, 2706, 409], [1, 1401, 1877, 1624, 124, 7, 1898, 28, 45, 5599]]\n",
      "target\n",
      "decoder  [[425, 8713, 50, 5, 9465, 4207, 4, 23, 595, 2], [197, 261, 825, 317, 2549, 2415, 319, 123, 137, 341, 23, 2], [54, 8714, 75, 241, 7152, 3651, 13, 204, 2], [73, 10, 1766, 1266, 4, 553, 704, 2706, 409, 2], [1401, 1877, 1624, 124, 7, 1898, 28, 45, 5599, 2]]\n"
     ]
    }
   ],
   "source": [
    "tar_vocab = 10000\n",
    "tar_tokenizer = Tokenizer(num_words=tar_vocab) \n",
    "tar_tokenizer.fit_on_texts(decoder_input_train)\n",
    "tar_tokenizer.fit_on_texts(decoder_target_train)\n",
    "\n",
    "# 텍스트 시퀀스를 정수 시퀀스로 변환\n",
    "decoder_input_train = tar_tokenizer.texts_to_sequences(decoder_input_train) \n",
    "decoder_target_train = tar_tokenizer.texts_to_sequences(decoder_target_train)\n",
    "decoder_input_test = tar_tokenizer.texts_to_sequences(decoder_input_test)\n",
    "decoder_target_test = tar_tokenizer.texts_to_sequences(decoder_target_test)\n",
    "\n",
    "# 잘 변환되었는지 확인\n",
    "print('input')\n",
    "print('input ',decoder_input_train[:5])\n",
    "print('target')\n",
    "print('decoder ',decoder_target_train[:5])"
   ]
  },
  {
   "cell_type": "code",
   "execution_count": 34,
   "id": "ddade97b",
   "metadata": {},
   "outputs": [
    {
     "name": "stdout",
     "output_type": "stream",
     "text": [
      "삭제할 훈련 데이터의 개수 : 0\n",
      "삭제할 테스트 데이터의 개수 : 0\n"
     ]
    }
   ],
   "source": [
    "drop_train = [index for index, sentence in enumerate(decoder_input_train) if len(sentence) == 1]\n",
    "drop_test = [index for index, sentence in enumerate(decoder_input_test) if len(sentence) == 1]\n",
    "\n",
    "print('삭제할 훈련 데이터의 개수 :', len(drop_train))\n",
    "print('삭제할 테스트 데이터의 개수 :', len(drop_test))"
   ]
  },
  {
   "cell_type": "code",
   "execution_count": 35,
   "id": "d5cc5708",
   "metadata": {},
   "outputs": [
    {
     "name": "stdout",
     "output_type": "stream",
     "text": [
      "훈련 데이터의 개수 : 77497\n",
      "훈련 레이블의 개수 : 77497\n",
      "테스트 데이터의 개수 : 19374\n",
      "테스트 레이블의 개수 : 19374\n"
     ]
    }
   ],
   "source": [
    "encoder_input_train = [sentence for index, sentence in enumerate(encoder_input_train) if index not in drop_train]\n",
    "decoder_input_train = [sentence for index, sentence in enumerate(decoder_input_train) if index not in drop_train]\n",
    "decoder_target_train = [sentence for index, sentence in enumerate(decoder_target_train) if index not in drop_train]\n",
    "\n",
    "encoder_input_test = [sentence for index, sentence in enumerate(encoder_input_test) if index not in drop_test]\n",
    "decoder_input_test = [sentence for index, sentence in enumerate(decoder_input_test) if index not in drop_test]\n",
    "decoder_target_test = [sentence for index, sentence in enumerate(decoder_target_test) if index not in drop_test]\n",
    "\n",
    "print('훈련 데이터의 개수 :', len(encoder_input_train))\n",
    "print('훈련 레이블의 개수 :', len(decoder_input_train))\n",
    "print('테스트 데이터의 개수 :', len(encoder_input_test))\n",
    "print('테스트 레이블의 개수 :', len(decoder_input_test))"
   ]
  },
  {
   "cell_type": "markdown",
   "id": "a5b91730",
   "metadata": {},
   "source": [
    "## 패딩하기"
   ]
  },
  {
   "cell_type": "code",
   "execution_count": 36,
   "id": "498de85d",
   "metadata": {},
   "outputs": [],
   "source": [
    "encoder_input_train = pad_sequences(encoder_input_train, maxlen=text_max_len, padding='post')\n",
    "encoder_input_test = pad_sequences(encoder_input_test, maxlen=text_max_len, padding='post')\n",
    "decoder_input_train = pad_sequences(decoder_input_train, maxlen=summary_max_len, padding='post')\n",
    "decoder_target_train = pad_sequences(decoder_target_train, maxlen=summary_max_len, padding='post')\n",
    "decoder_input_test = pad_sequences(decoder_input_test, maxlen=summary_max_len, padding='post')\n",
    "decoder_target_test = pad_sequences(decoder_target_test, maxlen=summary_max_len, padding='post')"
   ]
  },
  {
   "cell_type": "markdown",
   "id": "c975889a",
   "metadata": {},
   "source": [
    "## 모델설계하기"
   ]
  },
  {
   "cell_type": "code",
   "execution_count": 37,
   "id": "dec80571",
   "metadata": {},
   "outputs": [
    {
     "name": "stderr",
     "output_type": "stream",
     "text": [
      "2022-11-01 20:38:57.409510: I tensorflow/core/platform/cpu_feature_guard.cc:142] This TensorFlow binary is optimized with oneAPI Deep Neural Network Library (oneDNN) to use the following CPU instructions in performance-critical operations:  AVX2 FMA\n",
      "To enable them in other operations, rebuild TensorFlow with the appropriate compiler flags.\n",
      "2022-11-01 20:38:57.854760: I tensorflow/core/common_runtime/gpu/gpu_device.cc:1510] Created device /job:localhost/replica:0/task:0/device:GPU:0 with 9894 MB memory:  -> device: 0, name: NVIDIA GeForce GTX 1080 Ti, pci bus id: 0000:41:00.0, compute capability: 6.1\n"
     ]
    }
   ],
   "source": [
    "from tensorflow.keras.layers import Input, LSTM, Embedding, Dense, Concatenate, TimeDistributed\n",
    "from tensorflow.keras.models import Model\n",
    "from tensorflow.keras.callbacks import EarlyStopping, ModelCheckpoint\n",
    "\n",
    "\n",
    "# 인코더 설계 시작\n",
    "embedding_dim = 128\n",
    "hidden_size = 256\n",
    "\n",
    "# 인코더\n",
    "encoder_inputs = Input(shape=(text_max_len,))\n",
    "\n",
    "# 인코더의 임베딩 층\n",
    "enc_emb = Embedding(src_vocab, embedding_dim)(encoder_inputs)\n",
    "\n",
    "# 인코더의 LSTM 1\n",
    "# encoder_lstm1 = LSTM(hidden_size, return_sequences=True, return_state=True ,dropout = 0.4, recurrent_dropout = 0.4)\n",
    "encoder_lstm1 = LSTM(hidden_size, return_sequences=True, return_state=True ,dropout = 0.4)\n",
    "encoder_output1, state_h1, state_c1 = encoder_lstm1(enc_emb)\n",
    "\n",
    "# 인코더의 LSTM 2\n",
    "# encoder_lstm2 = LSTM(hidden_size, return_sequences=True, return_state=True, dropout=0.4, recurrent_dropout=0.4)\n",
    "encoder_lstm2 = LSTM(hidden_size, return_sequences=True, return_state=True, dropout=0.4)\n",
    "encoder_output2, state_h2, state_c2 = encoder_lstm2(encoder_output1)\n",
    "\n",
    "# 인코더의 LSTM 3\n",
    "# encoder_lstm3 = LSTM(hidden_size, return_state=True, return_sequences=True, dropout=0.4, recurrent_dropout=0.4)\n",
    "encoder_lstm3 = LSTM(hidden_size, return_state=True, return_sequences=True, dropout=0.4)\n",
    "encoder_outputs, state_h, state_c= encoder_lstm3(encoder_output2)"
   ]
  },
  {
   "cell_type": "code",
   "execution_count": 38,
   "id": "4412d41b",
   "metadata": {},
   "outputs": [],
   "source": [
    "# 디코더 설계\n",
    "decoder_inputs = Input(shape=(None,))\n",
    "\n",
    "# 디코더의 임베딩 층\n",
    "dec_emb_layer = Embedding(tar_vocab, embedding_dim)\n",
    "dec_emb = dec_emb_layer(decoder_inputs)\n",
    "\n",
    "# 디코더의 LSTM\n",
    "# decoder_lstm = LSTM(hidden_size, return_sequences=True, return_state=True, dropout=0.4, recurrent_dropout=0.2)\n",
    "decoder_lstm = LSTM(hidden_size, return_sequences=True, return_state=True, dropout=0.4)\n",
    "decoder_outputs, _, _ = decoder_lstm(dec_emb, initial_state=[state_h, state_c])"
   ]
  },
  {
   "cell_type": "markdown",
   "id": "fa2cc1ef",
   "metadata": {},
   "source": [
    "# Step 3. 어텐션 메커니즘 사용하기 (추상적 요약)\n",
    "일반적인 seq2seq보다는 어텐션 메커니즘을 사용한 seq2seq를 사용하는 것이 더 나은 성능을 얻을 수 있어요. 실습 내용을 참고하여 어텐션 메커니즘을 사용한 seq2seq를 설계해 보세요."
   ]
  },
  {
   "cell_type": "code",
   "execution_count": 39,
   "id": "c19ef1f6",
   "metadata": {},
   "outputs": [
    {
     "name": "stdout",
     "output_type": "stream",
     "text": [
      "Model: \"model\"\n",
      "__________________________________________________________________________________________________\n",
      "Layer (type)                    Output Shape         Param #     Connected to                     \n",
      "==================================================================================================\n",
      "input_1 (InputLayer)            [(None, 45)]         0                                            \n",
      "__________________________________________________________________________________________________\n",
      "embedding (Embedding)           (None, 45, 128)      2688000     input_1[0][0]                    \n",
      "__________________________________________________________________________________________________\n",
      "lstm (LSTM)                     [(None, 45, 256), (N 394240      embedding[0][0]                  \n",
      "__________________________________________________________________________________________________\n",
      "input_2 (InputLayer)            [(None, None)]       0                                            \n",
      "__________________________________________________________________________________________________\n",
      "lstm_1 (LSTM)                   [(None, 45, 256), (N 525312      lstm[0][0]                       \n",
      "__________________________________________________________________________________________________\n",
      "embedding_1 (Embedding)         (None, None, 128)    1280000     input_2[0][0]                    \n",
      "__________________________________________________________________________________________________\n",
      "lstm_2 (LSTM)                   [(None, 45, 256), (N 525312      lstm_1[0][0]                     \n",
      "__________________________________________________________________________________________________\n",
      "lstm_3 (LSTM)                   [(None, None, 256),  394240      embedding_1[0][0]                \n",
      "                                                                 lstm_2[0][1]                     \n",
      "                                                                 lstm_2[0][2]                     \n",
      "__________________________________________________________________________________________________\n",
      "attention_layer (AdditiveAttent (None, None, 256)    256         lstm_3[0][0]                     \n",
      "                                                                 lstm_2[0][0]                     \n",
      "__________________________________________________________________________________________________\n",
      "concat_layer (Concatenate)      (None, None, 512)    0           lstm_3[0][0]                     \n",
      "                                                                 attention_layer[0][0]            \n",
      "__________________________________________________________________________________________________\n",
      "dense (Dense)                   (None, None, 10000)  5130000     concat_layer[0][0]               \n",
      "==================================================================================================\n",
      "Total params: 10,937,360\n",
      "Trainable params: 10,937,360\n",
      "Non-trainable params: 0\n",
      "__________________________________________________________________________________________________\n"
     ]
    }
   ],
   "source": [
    "from tensorflow.keras.layers import AdditiveAttention\n",
    "\n",
    "# 어텐션 층(어텐션 함수)\n",
    "attn_layer = AdditiveAttention(name='attention_layer')\n",
    "\n",
    "# 인코더와 디코더의 모든 time step의 hidden state를 어텐션 층에 전달하고 결과를 리턴\n",
    "attn_out = attn_layer([decoder_outputs, encoder_outputs])\n",
    "\n",
    "\n",
    "# 어텐션의 결과와 디코더의 hidden state들을 연결\n",
    "decoder_concat_input = Concatenate(axis=-1, name='concat_layer')([decoder_outputs, attn_out])\n",
    "\n",
    "# 디코더의 출력층\n",
    "decoder_softmax_layer = Dense(tar_vocab, activation='softmax')\n",
    "decoder_softmax_outputs = decoder_softmax_layer(decoder_concat_input)\n",
    "\n",
    "# 모델 정의\n",
    "model = Model([encoder_inputs, decoder_inputs], decoder_softmax_outputs)\n",
    "model.summary()"
   ]
  },
  {
   "cell_type": "code",
   "execution_count": 40,
   "id": "7b339ad3",
   "metadata": {},
   "outputs": [
    {
     "name": "stderr",
     "output_type": "stream",
     "text": [
      "2022-11-01 20:39:22.327278: I tensorflow/compiler/mlir/mlir_graph_optimization_pass.cc:185] None of the MLIR Optimization Passes are enabled (registered 2)\n"
     ]
    },
    {
     "name": "stdout",
     "output_type": "stream",
     "text": [
      "Epoch 1/50\n"
     ]
    },
    {
     "name": "stderr",
     "output_type": "stream",
     "text": [
      "2022-11-01 20:39:25.597072: W tensorflow/core/grappler/costs/op_level_cost_estimator.cc:689] Error in PredictCost() for the op: op: \"Softmax\" attr { key: \"T\" value { type: DT_FLOAT } } inputs { dtype: DT_FLOAT shape { unknown_rank: true } } device { type: \"GPU\" vendor: \"NVIDIA\" model: \"NVIDIA GeForce GTX 1080 Ti\" frequency: 1683 num_cores: 28 environment { key: \"architecture\" value: \"6.1\" } environment { key: \"cuda\" value: \"11020\" } environment { key: \"cudnn\" value: \"8100\" } num_registers: 65536 l1_cache_size: 24576 l2_cache_size: 2883584 shared_memory_size_per_multiprocessor: 98304 memory_size: 10374807552 bandwidth: 484440000 } outputs { dtype: DT_FLOAT shape { unknown_rank: true } }\n",
      "2022-11-01 20:39:26.302656: I tensorflow/stream_executor/cuda/cuda_dnn.cc:369] Loaded cuDNN version 8600\n"
     ]
    },
    {
     "name": "stdout",
     "output_type": "stream",
     "text": [
      "303/303 [==============================] - ETA: 0s - loss: 5.6243"
     ]
    },
    {
     "name": "stderr",
     "output_type": "stream",
     "text": [
      "2022-11-01 20:39:46.502281: W tensorflow/core/grappler/costs/op_level_cost_estimator.cc:689] Error in PredictCost() for the op: op: \"Softmax\" attr { key: \"T\" value { type: DT_FLOAT } } inputs { dtype: DT_FLOAT shape { unknown_rank: true } } device { type: \"GPU\" vendor: \"NVIDIA\" model: \"NVIDIA GeForce GTX 1080 Ti\" frequency: 1683 num_cores: 28 environment { key: \"architecture\" value: \"6.1\" } environment { key: \"cuda\" value: \"11020\" } environment { key: \"cudnn\" value: \"8100\" } num_registers: 65536 l1_cache_size: 24576 l2_cache_size: 2883584 shared_memory_size_per_multiprocessor: 98304 memory_size: 10374807552 bandwidth: 484440000 } outputs { dtype: DT_FLOAT shape { unknown_rank: true } }\n"
     ]
    },
    {
     "name": "stdout",
     "output_type": "stream",
     "text": [
      "303/303 [==============================] - 26s 73ms/step - loss: 5.6243 - val_loss: 5.1823\n",
      "Epoch 2/50\n",
      "303/303 [==============================] - 21s 71ms/step - loss: 5.0349 - val_loss: 4.8047\n",
      "Epoch 3/50\n",
      "303/303 [==============================] - 21s 71ms/step - loss: 4.6890 - val_loss: 4.5394\n",
      "Epoch 4/50\n",
      "303/303 [==============================] - 22s 74ms/step - loss: 4.4201 - val_loss: 4.3507\n",
      "Epoch 5/50\n",
      "303/303 [==============================] - 22s 71ms/step - loss: 4.2143 - val_loss: 4.2091\n",
      "Epoch 6/50\n",
      "303/303 [==============================] - 25s 81ms/step - loss: 4.0504 - val_loss: 4.1078\n",
      "Epoch 7/50\n",
      "303/303 [==============================] - 29s 95ms/step - loss: 3.9065 - val_loss: 4.0211\n",
      "Epoch 8/50\n",
      "303/303 [==============================] - 25s 83ms/step - loss: 3.7826 - val_loss: 3.9601\n",
      "Epoch 9/50\n",
      "303/303 [==============================] - 25s 83ms/step - loss: 3.6726 - val_loss: 3.8999\n",
      "Epoch 10/50\n",
      "303/303 [==============================] - 25s 81ms/step - loss: 3.5743 - val_loss: 3.8580\n",
      "Epoch 11/50\n",
      "303/303 [==============================] - 25s 81ms/step - loss: 3.4837 - val_loss: 3.8137\n",
      "Epoch 12/50\n",
      "303/303 [==============================] - 24s 81ms/step - loss: 3.3995 - val_loss: 3.7845\n",
      "Epoch 13/50\n",
      "303/303 [==============================] - 25s 81ms/step - loss: 3.3237 - val_loss: 3.7547\n",
      "Epoch 14/50\n",
      "303/303 [==============================] - 25s 81ms/step - loss: 3.2523 - val_loss: 3.7345\n",
      "Epoch 15/50\n",
      "303/303 [==============================] - 25s 81ms/step - loss: 3.1867 - val_loss: 3.7101\n",
      "Epoch 16/50\n",
      "303/303 [==============================] - 25s 81ms/step - loss: 3.1300 - val_loss: 3.7015\n",
      "Epoch 17/50\n",
      "303/303 [==============================] - 25s 82ms/step - loss: 3.0752 - val_loss: 3.6911\n",
      "Epoch 18/50\n",
      "303/303 [==============================] - 25s 81ms/step - loss: 3.0232 - val_loss: 3.6801\n",
      "Epoch 19/50\n",
      "303/303 [==============================] - 25s 81ms/step - loss: 2.9692 - val_loss: 3.6693\n",
      "Epoch 20/50\n",
      "303/303 [==============================] - 25s 81ms/step - loss: 2.9255 - val_loss: 3.6610\n",
      "Epoch 21/50\n",
      "303/303 [==============================] - 25s 81ms/step - loss: 2.8859 - val_loss: 3.6563\n",
      "Epoch 22/50\n",
      "303/303 [==============================] - 24s 80ms/step - loss: 2.8480 - val_loss: 3.6545\n",
      "Epoch 23/50\n",
      "303/303 [==============================] - 25s 82ms/step - loss: 2.8090 - val_loss: 3.6506\n",
      "Epoch 24/50\n",
      "303/303 [==============================] - 25s 81ms/step - loss: 2.7695 - val_loss: 3.6474\n",
      "Epoch 25/50\n",
      "303/303 [==============================] - 24s 79ms/step - loss: 2.7327 - val_loss: 3.6469\n",
      "Epoch 26/50\n",
      "303/303 [==============================] - 24s 78ms/step - loss: 2.7014 - val_loss: 3.6477\n",
      "Epoch 27/50\n",
      "303/303 [==============================] - 24s 79ms/step - loss: 2.6693 - val_loss: 3.6473\n",
      "Epoch 00027: early stopping\n"
     ]
    }
   ],
   "source": [
    "model.compile(optimizer='rmsprop', loss='sparse_categorical_crossentropy')\n",
    "es = EarlyStopping(monitor='val_loss', patience=2, verbose=1)\n",
    "history = model.fit(x=[encoder_input_train, decoder_input_train], y=decoder_target_train, \\\n",
    "          validation_data=([encoder_input_test, decoder_input_test], decoder_target_test), \\\n",
    "          batch_size=256, callbacks=[es], epochs=50)"
   ]
  },
  {
   "cell_type": "code",
   "execution_count": 41,
   "id": "e5673bcb",
   "metadata": {},
   "outputs": [
    {
     "data": {
      "image/png": "[encoded data removed]",
      "text/plain": [
       "<Figure size 640x480 with 1 Axes>"
      ]
     },
     "metadata": {},
     "output_type": "display_data"
    }
   ],
   "source": [
    "plt.plot(history.history['loss'], label='train')\n",
    "plt.plot(history.history['val_loss'], label='test')\n",
    "plt.legend()\n",
    "plt.show()"
   ]
  },
  {
   "cell_type": "markdown",
   "id": "0879daa9",
   "metadata": {},
   "source": [
    "# Step 4. 실제 결과와 요약문 비교하기 (추상적 요약)\n",
    "원래의 요약문(headlines 열)과 학습을 통해 얻은 추상적 요약의 결과를 비교해 보세요."
   ]
  },
  {
   "cell_type": "code",
   "execution_count": 42,
   "id": "e2fc4739",
   "metadata": {},
   "outputs": [],
   "source": [
    "src_index_to_word = src_tokenizer.index_word # 원문 단어 집합에서 정수 -> 단어를 얻음\n",
    "tar_word_to_index = tar_tokenizer.word_index # 요약 단어 집합에서 단어 -> 정수를 얻음\n",
    "tar_index_to_word = tar_tokenizer.index_word # 요약 단어 집합에서 정수 -> 단어를 얻음"
   ]
  },
  {
   "cell_type": "code",
   "execution_count": 43,
   "id": "ed5f46b1",
   "metadata": {},
   "outputs": [],
   "source": [
    "# 인코더 설계\n",
    "encoder_model = Model(inputs=encoder_inputs, outputs=[encoder_outputs, state_h, state_c])\n",
    "\n",
    "# 이전 시점의 상태들을 저장하는 텐서\n",
    "decoder_state_input_h = Input(shape=(hidden_size,))\n",
    "decoder_state_input_c = Input(shape=(hidden_size,))\n",
    "\n",
    "dec_emb2 = dec_emb_layer(decoder_inputs)\n",
    "\n",
    "# 문장의 다음 단어를 예측하기 위해서 초기 상태(initial_state)를 이전 시점의 상태로 사용. 이는 뒤의 함수 decode_sequence()에 구현\n",
    "# 훈련 과정에서와 달리 LSTM의 리턴하는 은닉 상태와 셀 상태인 state_h와 state_c를 버리지 않음.\n",
    "decoder_outputs2, state_h2, state_c2 = decoder_lstm(dec_emb2, initial_state=[decoder_state_input_h, decoder_state_input_c])"
   ]
  },
  {
   "cell_type": "code",
   "execution_count": 44,
   "id": "c38bc9bc",
   "metadata": {},
   "outputs": [],
   "source": [
    "# 어텐션 함수\n",
    "decoder_hidden_state_input = Input(shape=(text_max_len, hidden_size))\n",
    "attn_out_inf = attn_layer([decoder_outputs2, decoder_hidden_state_input])\n",
    "decoder_inf_concat = Concatenate(axis=-1, name='concat')([decoder_outputs2, attn_out_inf])\n",
    "\n",
    "# 디코더의 출력층\n",
    "decoder_outputs2 = decoder_softmax_layer(decoder_inf_concat) \n",
    "\n",
    "# 최종 디코더 모델\n",
    "decoder_model = Model(\n",
    "    [decoder_inputs] + [decoder_hidden_state_input,decoder_state_input_h, decoder_state_input_c],\n",
    "    [decoder_outputs2] + [state_h2, state_c2])"
   ]
  },
  {
   "cell_type": "code",
   "execution_count": 45,
   "id": "d3fcadfd",
   "metadata": {},
   "outputs": [],
   "source": [
    "def decode_sequence(input_seq):\n",
    "    # 입력으로부터 인코더의 상태를 얻음\n",
    "    e_out, e_h, e_c = encoder_model.predict(input_seq)\n",
    "\n",
    "     # <SOS>에 해당하는 토큰 생성\n",
    "    target_seq = np.zeros((1,1))\n",
    "    target_seq[0, 0] = tar_word_to_index['sostoken']\n",
    "\n",
    "    stop_condition = False\n",
    "    decoded_sentence = ''\n",
    "    while not stop_condition: # stop_condition이 True가 될 때까지 루프 반복\n",
    "\n",
    "        output_tokens, h, c = decoder_model.predict([target_seq] + [e_out, e_h, e_c])\n",
    "        sampled_token_index = np.argmax(output_tokens[0, -1, :])\n",
    "        sampled_token = tar_index_to_word[sampled_token_index]\n",
    "\n",
    "        if (sampled_token!='eostoken'):\n",
    "            decoded_sentence += ' '+sampled_token\n",
    "\n",
    "        #  <eos>에 도달하거나 최대 길이를 넘으면 중단.\n",
    "        if (sampled_token == 'eostoken'  or len(decoded_sentence.split()) >= (summary_max_len-1)):\n",
    "            stop_condition = True\n",
    "\n",
    "        # 길이가 1인 타겟 시퀀스를 업데이트\n",
    "        target_seq = np.zeros((1,1))\n",
    "        target_seq[0, 0] = sampled_token_index\n",
    "\n",
    "        # 상태를 업데이트 합니다.\n",
    "        e_h, e_c = h, c\n",
    "\n",
    "    return decoded_sentence"
   ]
  },
  {
   "cell_type": "code",
   "execution_count": 46,
   "id": "8f4188d0",
   "metadata": {},
   "outputs": [],
   "source": [
    "# 원문의 정수 시퀀스를 텍스트 시퀀스로 변환\n",
    "def seq2text(input_seq):\n",
    "    temp=''\n",
    "    for i in input_seq:\n",
    "        if (i!=0):\n",
    "            temp = temp + src_index_to_word[i]+' '\n",
    "    return temp\n",
    "\n",
    "# 요약문의 정수 시퀀스를 텍스트 시퀀스로 변환\n",
    "def seq2summary(input_seq):\n",
    "    temp=''\n",
    "    for i in input_seq:\n",
    "        if ((i!=0 and i!=tar_word_to_index['sostoken']) and i!=tar_word_to_index['eostoken']):\n",
    "            temp = temp + tar_index_to_word[i] + ' '\n",
    "    return temp"
   ]
  },
  {
   "cell_type": "code",
   "execution_count": 47,
   "id": "a41a817e",
   "metadata": {},
   "outputs": [
    {
     "name": "stdout",
     "output_type": "stream",
     "text": [
      "원문 : ministry urban development proposed bill provides life sentence death penalty act sabotage intent cause death metro premises across india metro rail bill provides fine drunk commuters four year jail term carrying guns inside metro \n",
      "실제 요약 : bill proposes death penalty for \n"
     ]
    },
    {
     "name": "stderr",
     "output_type": "stream",
     "text": [
      "2022-11-01 20:53:10.495848: W tensorflow/core/grappler/costs/op_level_cost_estimator.cc:689] Error in PredictCost() for the op: op: \"Softmax\" attr { key: \"T\" value { type: DT_FLOAT } } inputs { dtype: DT_FLOAT shape { unknown_rank: true } } device { type: \"GPU\" vendor: \"NVIDIA\" model: \"NVIDIA GeForce GTX 1080 Ti\" frequency: 1683 num_cores: 28 environment { key: \"architecture\" value: \"6.1\" } environment { key: \"cuda\" value: \"11020\" } environment { key: \"cudnn\" value: \"8100\" } num_registers: 65536 l1_cache_size: 24576 l2_cache_size: 2883584 shared_memory_size_per_multiprocessor: 98304 memory_size: 10374807552 bandwidth: 484440000 } outputs { dtype: DT_FLOAT shape { unknown_rank: true } }\n"
     ]
    },
    {
     "name": "stdout",
     "output_type": "stream",
     "text": [
      "예측 요약 :  compensation for victims of martyred in iraq\n",
      "\n",
      "\n",
      "원문 : following australia th consecutive away odi loss indian spinner harbhajan singh said current australian team like sri lankan team playing yellow jersey think australia anyone finch warner steve smith take team forward added earlier harbhajan asked michael clarke come retirement rescue australia \n",
      "실제 요약 : harbhajan calls australia cricket team sri lanka in yellow \n",
      "예측 요약 :  australia australia australia australia series win aus coach\n",
      "\n",
      "\n",
      "원문 : flipkart internet marketplace arm flipkart india reduced losses crore financial year compared crore year ago period decrease attributed reduction logistics storage charges filings revealed however revenue grew crore period crore fiscal \n",
      "실제 요약 : flipkart internet loss reduced by to cr in fy \n",
      "예측 요약 :  flipkart invests crore in flipkart walmart\n",
      "\n",
      "\n",
      "원문 : actress alia bhatt referring earnings baahubali jokingly said baahubali think right talk box office added baahubali everybody wants keep quiet good work however said going positive response received films \n",
      "실제 요약 : have no right to talk on box office post baahubali alia \n",
      "예측 요약 :  alia is the right to change alia on nepotism\n",
      "\n",
      "\n",
      "원문 : rbi hiked repo rate rate banks borrow rbi second bi monthly policy review first hike since january rate raised hike comes amid rising oil prices high retail inflation accelerated april \n",
      "실제 요약 : rbi hikes rate for the first time in years \n",
      "예측 요약 :  rbi hikes rate rate on day to ban on rbi\n",
      "\n",
      "\n",
      "원문 : electric vehicle maker tesla remotely increased range cars florida usa help hurricane irma victims evacuate tesla uses battery version model model vehicles locks software side range upgrade vehicles reportedly ran additional km single charge \n",
      "실제 요약 : tesla increases car range in us to help hurricane evacuation \n",
      "예측 요약 :  tesla car car with cars to build km\n",
      "\n",
      "\n",
      "원문 : delhi patiala house court tuesday pronounced death sentence singh announced life imprisonment another convict naresh sherawat anti sikh riots case two convicted last week killing two sikhs delhi assassination prime minister indira gandhi \n",
      "실제 요약 : convict gets death sentence in anti sikh riots case \n",
      "예측 요약 :  convicts death convict sentenced to death in jail\n",
      "\n",
      "\n",
      "원문 : two bike borne men saturday snatched phone gambhir diplomat called pakistan un delhi gambhir currently vacation capital walk mother men stopped pretext asking directions reports said phone iphone plus contained crucial official documents \n",
      "실제 요약 : phone of envoy who called pak stolen in delhi \n",
      "예측 요약 :  pak police officer meets his own national anthem\n",
      "\n",
      "\n",
      "원문 : google monday announced invest billion set new google square campus new york million square foot new campus include two buildings located street office space situated nearby washington street manhattan also part new campus \n",
      "실제 요약 : google to invest billion to set up new campus in new york \n",
      "예측 요약 :  google to build new village in china\n",
      "\n",
      "\n",
      "원문 : family members supporters rationalist anti superstition activist narendra dabholkar monday took protest rally pune fifth death anniversary protestors carried placards demanding justice arrest real killers comes days cbi arrested one suspected shooters murder allegedly took place ideological differences \n",
      "실제 요약 : slain activist kin protest seeking arrest of real killers \n",
      "예측 요약 :  death toll in anti sikh riots rally in west bengal\n",
      "\n",
      "\n",
      "원문 : railway protection force constable saved elderly couple railway tracks mumbai station sunday couple crossing tracks train began approaching fast pace rpf said constable rushed towards pulled safety seconds local train passed spot added \n",
      "실제 요약 : elderly couple saved from train by constable \n",
      "예측 요약 :  railway tracks for railway tracks in mumbai\n",
      "\n",
      "\n",
      "원문 : former chairman central board film certification pahlaj nihalani said state cannot ban film certified board nihalani added state ban film certification threatens disrupt law order said certificate yet issued padmavati \n",
      "실제 요약 : states cannot ban film before cbfc says pahlaj \n",
      "예측 요약 :  cbfc chief pahlaj slams cbfc for not cuts\n",
      "\n",
      "\n",
      "원문 : actress kajol said actor amitabh bachchan one person lived stardom added one intelligent men used mind professionally personally kajol said amitabh grace dignity \n",
      "실제 요약 : big person who has lived his stardom kajol \n",
      "예측 요약 :  kajol is an actor of my career abhishek\n",
      "\n",
      "\n",
      "원문 : hyderabad based ed tech startup raised lakh seed round angel investors based india us europe investors included founder career information portal careers director founded startup provides learning solutions modules visual content accounting finance \n",
      "실제 요약 : hyderabad ed tech startup raises lakh \n",
      "예측 요약 :  iit alumni startup raises million\n",
      "\n",
      "\n",
      "원문 : south lakes safari zoo england almost animals died less three years granted new licence local authority inspectors said encouraged improvements made adding previous director longer involved zoo fined crore keeper mauled death tiger \n",
      "실제 요약 : zoo where animals died granted new license \n",
      "예측 요약 :  south africa die after years after being\n",
      "\n",
      "\n",
      "원문 : finance minister arun jaitley monday said legacy anti sikh riots hangs around neck congress gandhi family hailing delhi high court verdict senior congress leader sajjan kumar riots jaitley said cover ups defeated high court overturned lower court order acquitted kumar riots case \n",
      "실제 요약 : legacy of hangs around the neck of gandhi family fm \n",
      "예측 요약 :  jaitley arun jaitley to hear rss on sikh riots\n",
      "\n",
      "\n",
      "원문 : release date ranbir kapoor sanjay dutt starrer announced july film set india jaw dropping action sequences read statement yash raj films produce directed director karan malhotra also star vaani kapoor opposite ranbir \n",
      "실제 요약 : release date of ranbir sanjay dutt starrer out \n",
      "예측 요약 :  ranbir kapoor to release in ranbir starrer sanju\n",
      "\n",
      "\n",
      "원문 : union minister maneka gandhi written maharashtra cm devendra fadnavis asking remove state forest minister sudhir accused ordering killing suspected man tigress avni gandhi wrote forest minister resorts killing animals instead protecting failing duty \n",
      "실제 요약 : maneka asks maha cm to remove minister over tigress killing \n",
      "예측 요약 :  delhi cm orders probe into sexual harassment case\n",
      "\n",
      "\n",
      "원문 : state run oil natural gas corp keen buy fuel retailer hindustan petroleum crore deal following finance minister arun jaitley budget announcement creating integrated oil firm ongc evaluated options buying either however found bharat petroleum corp expensive reports said \n",
      "실제 요약 : ongc keen to buy hpcl in deal worth crore \n",
      "예측 요약 :  ongc to buy oil firms for crore in rafale deal\n",
      "\n",
      "\n",
      "원문 : section year old bridge collapsed kolkata tuesday west bengal cm mamata banerjee darjeeling said unable go kolkata want go back soon possible flights evening banerjee said several people feared trapped collapsed bridge \n",
      "실제 요약 : no flights unable to return mamata after bridge collapse \n",
      "예측 요약 :  bengal cm yogi are not an of its lives\n",
      "\n",
      "\n",
      "원문 : actor salman khan took instagram share video shows dancing brothers arbaaz khan sohail khan christmas party organised actor wrote video caption bollywood celebrities including katrina kaif karan johar sisters malaika arora amrita arora attended party \n",
      "실제 요약 : salman shares video of him dancing with his brothers at mas party \n",
      "예측 요약 :  salman shares video of his brother dancing at his party\n",
      "\n",
      "\n",
      "원문 : six men arrested entered brawl pub staff noida gardens mall playing song haryanvi singer sapna choudhary sunday night one accused even broke beer bottle head pub maintenance charge one accused booked venue party \n",
      "실제 요약 : fight with pub staff for not playing sapna song held \n",
      "예측 요약 :  arrested for dancing at eatery in up\n",
      "\n",
      "\n",
      "원문 : sharing picture sachin tendulkar twitter indian shuttler kidambi srikanth revealed cricket legend told would become world number one year old said sachin words made work harder srikanth achieved top ranking first time april slipped fifth within eight days \n",
      "실제 요약 : sachin told me in will become world no srikanth \n",
      "예측 요약 :  sachin tendulkar is the best player in cricket odis sehwag\n",
      "\n",
      "\n",
      "원문 : actor shah rukh khan play lead fourth instalment dhoom franchise per reports reportedly start working dhoom finishing shoot upcoming film zero earlier reports said salman khan also approached role turned offer \n",
      "실제 요약 : shah rukh khan to play lead in reports \n"
     ]
    },
    {
     "name": "stdout",
     "output_type": "stream",
     "text": [
      "예측 요약 :  srk to make comeback in film on srk reports\n",
      "\n",
      "\n",
      "원문 : least nine people killed others injured afghan border forces opened fire pakistani security personnel guarding census team balochistan area notably afghan border forces creating hurdles conduct census divided villages pakistani side border \n",
      "실제 요약 : afghan firing on pakistan census team kills injures \n",
      "예측 요약 :  killed injured in blast in afghanistan\n",
      "\n",
      "\n",
      "원문 : pakistan coach mickey arthur handed official warning one demerit point breaching icc code conduct third day play first south africa pakistan test arthur entered tv umpire room showed dissent decision given favour dean elgar room \n",
      "실제 요약 : pak coach warned for showing dissent at umpire decision \n",
      "예측 요약 :  pak pacer fined for making finger to pak\n",
      "\n",
      "\n",
      "원문 : referring defence minister nirmala sitharaman speech rafale deal lok sabha pm narendra modi saturday said congratulate defence minister nirmala sitharaman showed people india real face country compromise national security politics insult holy parliament added \n",
      "실제 요약 : congratulate defence minister sitharaman pm modi on rafale row \n",
      "예측 요약 :  pm modi is the nation of rafale defence minister\n",
      "\n",
      "\n",
      "원문 : new arjun kapoor parineeti chopra starrer sandeep aur pinky released dramatic thriller directed banerjee earlier worked films like lsd love sex aur oye lucky lucky oye arjun parineeti second film together ishaqzaade \n",
      "실제 요약 : new from sandeep aur released \n",
      "예측 요약 :  new song from arjun kapoor starrer released\n",
      "\n",
      "\n",
      "원문 : actor akshay kumar revealed ten years got chance act bollywood added know stunt performers risk lives earn bread entertain us akshay said stunt performers get equal respect work award shows \n",
      "실제 요약 : was for yrs before got chance to act akshay \n",
      "예측 요약 :  akshay kumar was like an actor in years ago\n",
      "\n",
      "\n",
      "원문 : delhi district cricket association tuesday inaugurated gate named virender sehwag feroz shah kotla stadium plaque wrongly calling sehwag indian score test triple century sehwag scored two triple hundreds tests karun nair became second indian score test triple century last year \n",
      "실제 요약 : writes wrong fact on stadium gate named after sehwag \n",
      "예측 요약 :  sehwag sehwag calls for his st odi ton\n",
      "\n",
      "\n",
      "원문 : many ministers new bihar cabinet face criminal charges higher ministers previous grand alliance government ministers crorepatis little less previous government also minister new cabinet earns average crore \n",
      "실제 요약 : bihar cabinet ministers face criminal charges \n",
      "예측 요약 :  bihar ministers resign after years in haryana\n",
      "\n",
      "\n",
      "원문 : former australian captain steve smith suspended international cricket got dismissed getting caught hit wicket ball playing barbados caribbean premier league facing jamaica andre russell smith hit shot got caught powell long hitting wicket bat follow \n",
      "실제 요약 : steve smith gets caught and hit wicket on the same delivery \n",
      "예측 요약 :  warner gets hit by ball in front of his ball\n",
      "\n",
      "\n",
      "원문 : asserting saving farmers government priority karnataka chief minister hd kumaraswamy promised waive farm loans within days insisted going back getting calculated whatever thousand crore rupees saving government responsibility told gathering farmers \n",
      "실제 요약 : taka cm kumaraswamy promises farm loan waiver in days \n",
      "예측 요약 :  farm loan waiver will cost up cm\n",
      "\n",
      "\n",
      "원문 : indian film television directors association terminated gurmeet ram rahim work permit conviction rape case cine tv artists association also terminated permit grounds moral notably ram rahim directed starred movies like messenger warrior lion heart engineer among others \n",
      "실제 요약 : film tv directors ram rahim work permit \n",
      "예측 요약 :  ram rahim to be held for ram rahim in ram rahim\n",
      "\n",
      "\n",
      "원문 : mumbai based mobile gaming company raised crore funding special opportunities fund might valued around crore funding round according reports founded nitish develops mobile games based public personalities like cricketer virat kohli cartoon series motu \n",
      "실제 요약 : mobile gaming company raises crore \n",
      "예측 요약 :  mumbai startup raises cr from others\n",
      "\n",
      "\n",
      "원문 : describing meeting north korean leader kim jong un us president donald trump said went better anybody could expected trump said lot progress made adding two sides expected sign agreement however unclear document two leaders would signing \n",
      "실제 요약 : kim meet went better than anybody could have expected trump \n",
      "예측 요약 :  trump is good good for the first time trump\n",
      "\n",
      "\n",
      "원문 : lokendra singh kalvi convener rajput organisation karni sena said deepika padukone dancing less clothing film padmavati questioned trying portray indian women fire jauhar lot things burn kalvi added threatening burn theatres screen film \n",
      "실제 요약 : deepika dancing in less clothing in padmavati karni sena \n",
      "예측 요약 :  ranveer deepika ranveer slams ranveer over padmavati row\n",
      "\n",
      "\n",
      "원문 : parliamentary panel raised concerns air india decision stop serving non vegetarian meals economy class passengers domestic flights would seek explanation measure panel seek explanation air india basis decision taken notably decision taken bring costs food wastage \n",
      "실제 요약 : panel to question air india decision to stop non veg meals \n",
      "예측 요약 :  air india panel panel asks class to check alcohol test\n",
      "\n",
      "\n",
      "원문 : following launch mukesh ambani led reliance jio september last year smaller telecom companies seen decline high revenues additionally revenues large companies bharti airtel saw decline since jio launch tata teleservices reliance communications aircel lost market share \n",
      "실제 요약 : small telcos revenue declined up to due to reliance jio \n",
      "예측 요약 :  jio may acquire jio assets of telcos report\n",
      "\n",
      "\n",
      "원문 : economic affairs secretary subhash chandra garg took dig rbi deputy governor viral acharya said governments respect central bank independence financial markets garg took twitter comment recent performance rupee markets comes two days government said respects central bank autonomy \n",
      "실제 요약 : economic affairs secretary takes dig at rbi viral \n",
      "예측 요약 :  rbi guv exit from rbi economic affairs secy\n",
      "\n",
      "\n",
      "원문 : reliance communications accused swedish telecom equipment maker ericsson distorting issues trying contempt petition telco chairman anil ambani rcom added fully committed settle dues ericsson indian telecom company said would repay ericsson proceeds sale wireless assets reliance jio nn \n",
      "실제 요약 : ericsson issues with contempt petition rcom \n",
      "예측 요약 :  reliance industries to rcom arrest in rcom\n",
      "\n",
      "\n",
      "원문 : cricket australia saturday shared video indian captain virat kohli dancing field first test adelaide along caption virat loving reacting video twitter user wrote never disappoint either inside pitch fielding wherever users wrote awesome baat ki khushi \n",
      "실제 요약 : cricket australia shares video of virat kohli dancing on field \n",
      "예측 요약 :  aus players do not know kohli for kohli tweets\n",
      "\n",
      "\n",
      "원문 : year old girl allegedly beheaded front mother neighbour barged home attacked sickle salem district tamil nadu monday accused detained locals called police police said history aggressive although families friendly incident occurred \n",
      "실제 요약 : tn man year old neighbour in front of her mother \n",
      "예측 요약 :  man kills year old girl in tamil nadu\n",
      "\n",
      "\n",
      "원문 : singer miley cyrus took twitter deny reports expecting child pregnant eating shit ton wrote sharing story suggested pregnant rumours pregnancy started posted picture sized shirt appeared hide baby bump \n",
      "실제 요약 : miley cyrus denies rumours of pregnancy \n",
      "예측 요약 :  singer accuses of her pregnancy\n",
      "\n",
      "\n",
      "원문 : india cricket world cup winning captain kapil dev selected national golf team take part asia pacific senior amateur championship held october japan year old qualified finishing third india seniors golf championship held noida earlier july \n",
      "실제 요약 : kapil dev selected in indian golf team for tournament in japan \n",
      "예측 요약 :  kapil dev kapil dev to win chhetri in kapil dev\n",
      "\n",
      "\n",
      "원문 : governor satya pal malik delhi remark raj bhawan clarified pressure kind intervention centre governor tuesday said looked delhi would appoint lone government want go history dishonest man \n",
      "실제 요약 : no intervention from centre raj bhawan on guv delhi remark \n",
      "예측 요약 :  will not take off if you did not have to do\n",
      "\n",
      "\n",
      "원문 : chinese internet giant tencent stock tumbled since peak january wiping billion market value biggest ever slump worldwide measured date stock week high earlier facebook billion valuation slump became us stock market biggest single day tencent asia second largest company commerce giant alibaba group \n",
      "실제 요약 : tencent billion valuation becomes world biggest \n"
     ]
    },
    {
     "name": "stdout",
     "output_type": "stream",
     "text": [
      "예측 요약 :  china overtakes us as world biggest stock\n",
      "\n",
      "\n",
      "원문 : asked difficulties faced building technology team makemytrip ceo deep kalra said gone many become joke said would start co founder would skills would \n",
      "실제 요약 : we have gone through so many it is joke makemytrip ceo \n",
      "예측 요약 :  we have open to open ceo of makemytrip ceo\n",
      "\n",
      "\n",
      "원문 : karan johar announced upcoming production war drama starring varun dhawan directed shashank khaitan third time trio working together sharma ki dulhania badrinath ki dulhania remaining cast yet announced film scheduled diwali release \n",
      "실제 요약 : varun to star in johar and war drama \n",
      "예측 요약 :  karan johar to appear in koffee with karan reports\n",
      "\n",
      "\n",
      "원문 : talking working conditions amazon centres employee allegedly said management regard us crucial success treat us like disposable parts employee also said like factory workers assembly line essentially extensions machine work hard make amazon run employee added \n",
      "실제 요약 : management treats us like parts amazon employee \n",
      "예측 요약 :  amazon us workers to work in us\n",
      "\n",
      "\n"
     ]
    }
   ],
   "source": [
    "for i in range(50, 100):\n",
    "    print(\"원문 :\", seq2text(encoder_input_test[i]))\n",
    "    print(\"실제 요약 :\", seq2summary(decoder_input_test[i]))\n",
    "    print(\"예측 요약 :\", decode_sequence(encoder_input_test[i].reshape(1, text_max_len)))\n",
    "    print(\"\\n\")"
   ]
  },
  {
   "cell_type": "markdown",
   "id": "32ab15f9",
   "metadata": {},
   "source": [
    "# Step 5. Summa을 이용해서 추출적 요약해보기\n",
    "추상적 요약은 추출적 요약과는 달리 문장의 표현력을 다양하게 가져갈 수 있지만, 추출적 요약에 비해서 난이도가 높아요. 반대로 말하면 추출적 요약은 추상적 요약에 비해 난이도가 낮고 기존 문장에서 문장을 꺼내오는 것이므로 잘못된 요약이 나올 가능성이 낮아요.\n",
    "\n",
    "Summa의 summarize를 사용하여 추출적 요약을 해보세요."
   ]
  },
  {
   "cell_type": "code",
   "execution_count": 48,
   "id": "ebb2c262",
   "metadata": {},
   "outputs": [],
   "source": [
    "from summa import summarizer\n",
    "from summa import keywords"
   ]
  },
  {
   "cell_type": "code",
   "execution_count": 52,
   "id": "b661e549",
   "metadata": {},
   "outputs": [],
   "source": [
    "org_input = np.array(data['text'])\n",
    "org_headline = np.array(data['headlines'])\n",
    "\n",
    "org_input = org_input[indices]\n",
    "org_headline = org_headline[indices]\n",
    "\n",
    "org_input_test = org_input[-n_of_val:]\n",
    "org_headline_test = org_headline[-n_of_val:]"
   ]
  },
  {
   "cell_type": "code",
   "execution_count": 70,
   "id": "d740a308",
   "metadata": {
    "scrolled": false
   },
   "outputs": [
    {
     "name": "stdout",
     "output_type": "stream",
     "text": [
      "원문 : The Ministry of Urban Development has proposed a bill that provides for a life sentence or a death penalty for âany act of sabotage with the intent to cause deathâ in metro premises across India. The Metro Rail Bill 2017 further provides a fine of â¹5,000 for drunk commuters and a four-year jail term for carrying guns inside the metro.\n",
      "실제 요약 : Bill proposes death penalty for sabotaging metros\n",
      "summa요약 : The Ministry of Urban Development has proposed a bill that provides for a life sentence or a death penalty for âany act of sabotage with the intent to cause deathâ in metro premises across India.\n",
      "\n",
      "\n",
      "원문 : Following Australia's 11th consecutive away ODI loss, Indian spinner Harbhajan Singh said the current Australian team is like the Sri Lankan team playing in yellow jersey. \"I don't think in [Australia] anyone other than Finch or Warner or...Steve Smith can take the team forward,\" he added. Earlier, Harbhajan had asked Michael Clarke to come out of retirement and rescue Australia.\n",
      "실제 요약 : Harbhajan calls Australia cricket team 'Sri Lanka in yellow'\n",
      "summa요약 : Following Australia's 11th consecutive away ODI loss, Indian spinner Harbhajan Singh said the current Australian team is like the Sri Lankan team playing in yellow jersey.\n",
      "\n",
      "\n",
      "원문 : Flipkart Internet, the marketplace arm of Flipkart India, has reduced losses by 29% to â¹1,639 crore in the financial year 2017, compared to â¹2,306 crore in the year-ago period. The decrease was attributed to the reduction in logistics and storage charges, filings revealed. However, revenue grew 15% to â¹2,253.5 crore for the same period from â¹1,952 crore in 2016 fiscal.\n",
      "실제 요약 : Flipkart Internet's loss reduced by 29% to â¹1,639 cr in FY17\n",
      "summa요약 : Flipkart Internet, the marketplace arm of Flipkart India, has reduced losses by 29% to â¹1,639 crore in the financial year 2017, compared to â¹2,306 crore in the year-ago period.\n",
      "\n",
      "\n",
      "원문 : Actress Alia Bhatt, while referring to the earnings of 'Baahubali 2', jokingly said, \"After Baahubali 2, I don't think we have the right to talk about box office.\" She added, \"After Baahubali 2, everybody just wants to keep quiet and do good work.\" However, she further said she is not going to negate the positive response received by her films. \n",
      "실제 요약 : Have no right to talk on box office post Baahubali 2: Alia\n",
      "summa요약 : \n",
      "\n",
      "\n",
      "원문 : The RBI has hiked the repo rate, the rate at which banks borrow from RBI, by 25 bps to 6.25% during its second bi-monthly policy review of 2018-19. This is the first hike since January 2014, when the rate was raised to 8%. The hike comes amid rising oil prices and high retail inflation, which accelerated to 4.58% in April.\n",
      "실제 요약 : RBI hikes repo rate for the first time in 4.5 years\n",
      "summa요약 : This is the first hike since January 2014, when the rate was raised to 8%.\n",
      "\n",
      "\n",
      "원문 : Electric vehicle maker Tesla has remotely increased the range of its cars in Florida, USA to help Hurricane Irma victims evacuate. Tesla uses a 75kWh battery in the 60kWh version of its Model S and Model X vehicles but locks it on the software side. After the range upgrade, vehicles reportedly ran an additional 48.2 km on a single charge. \n",
      "실제 요약 : Tesla increases car range in US to help hurricane evacuation\n",
      "summa요약 : Electric vehicle maker Tesla has remotely increased the range of its cars in Florida, USA to help Hurricane Irma victims evacuate.\n",
      "\n",
      "\n",
      "원문 : The Delhi Patiala House Court on Tuesday pronounced the death sentence for Yashpal Singh and announced life imprisonment for another convict Naresh Sherawat in the 1984 anti-Sikh riots case. The two were convicted last week for killing two Sikhs in Delhi after the assassination of then Prime Minister Indira Gandhi. \n",
      "실제 요약 : Convict gets death sentence in 1984 anti-Sikh riots case\n",
      "summa요약 : The Delhi Patiala House Court on Tuesday pronounced the death sentence for Yashpal Singh and announced life imprisonment for another convict Naresh Sherawat in the 1984 anti-Sikh riots case.\n",
      "\n",
      "\n",
      "원문 : Two bike-borne men on Saturday snatched the phone of Eenam Gambhir, the diplomat who had called Pakistan 'Terroristan' in UN, in Delhi. Gambhir, currently on vacation in the capital, was out on a walk with her mother when the men stopped her on the pretext of asking directions. Reports said the phone, an iPhone 7 Plus, contained crucial official documents.\n",
      "실제 요약 : Phone of envoy who called Pak 'Terroristan' stolen in Delhi\n",
      "summa요약 : Two bike-borne men on Saturday snatched the phone of Eenam Gambhir, the diplomat who had called Pakistan 'Terroristan' in UN, in Delhi.\n",
      "\n",
      "\n",
      "원문 : Google on Monday announced that it will invest $1 billion to set up a new âGoogle Hudson Squareâ campus in New York. The over 1.7 million square foot new campus will include two buildings located at 315 and 345 Hudson Street. An office space situated nearby at 550 Washington Street in Manhattan will also be part of the new campus.\n",
      "실제 요약 : Google to invest $1 billion to set up new campus in New York\n",
      "summa요약 : The over 1.7 million square foot new campus will include two buildings located at 315 and 345 Hudson Street.\n",
      "\n",
      "\n",
      "원문 : The family members and supporters of rationalist and anti-superstition activist Narendra Dabholkar on Monday took out a protest rally in Pune on his fifth death anniversary. Protestors carried placards demanding justice and arrest of the \"real\" killers. This comes days after the CBI arrested one of the suspected shooters in the 2013 murder, which allegedly took place over ideological differences.\n",
      "실제 요약 : Slain activist's kin protest seeking arrest of 'real' killers\n",
      "summa요약 : This comes days after the CBI arrested one of the suspected shooters in the 2013 murder, which allegedly took place over ideological differences.\n",
      "\n",
      "\n",
      "원문 : A Railway Protection Force constable saved an elderly couple who was on the railway tracks of a Mumbai station on Sunday. The couple was crossing the tracks when a train began approaching them at a fast pace, the RPF said. The constable \"rushed towards them and pulled them to safety seconds before the local train passed the spot,\" it added. \n",
      "실제 요약 : Elderly couple saved from approaching train by RPF constable\n",
      "summa요약 : The couple was crossing the tracks when a train began approaching them at a fast pace, the RPF said.\n",
      "\n",
      "\n",
      "원문 : Former Chairman of the Central Board of Film Certification (CBFC) Pahlaj Nihalani has said a state cannot ban a film before it has been certified by the board. Nihalani added that a state can ban a film after certification only if it threatens to disrupt law and order. He further said, \"A certificate is yet to be issued to 'Padmavati'.\"\n",
      "실제 요약 : States can't ban film before CBFC certification, says Pahlaj\n",
      "summa요약 : Former Chairman of the Central Board of Film Certification (CBFC) Pahlaj Nihalani has said a state cannot ban a film before it has been certified by the board.\n",
      "\n",
      "\n",
      "원문 : Actress Kajol has said that actor Amitabh Bachchan is the one person who has lived his stardom wonderfully. She added, \"He is one of those supremely intelligent men who has used his mind to further himself professionally and personally.\" Kajol further said that Amitabh is the epitome of grace and dignity.\n",
      "실제 요약 : Big B a person who has lived his stardom wonderfully: Kajol\n",
      "summa요약 : Actress Kajol has said that actor Amitabh Bachchan is the one person who has lived his stardom wonderfully.\n",
      "\n",
      "\n",
      "원문 : Hyderabad-based ed-tech startup IndigoLearn has raised â¹97 lakh in a seed round from angel investors based in India, the US, and Europe. Investors included Maheshwar Peri, Founder of career information portal Careers360, and Jamshed Jeejeebhoy, Director at Byramjee Jeejeebhoy. Founded in 2017, the startup provides e-learning solutions through modules and visual-content in accounting and finance.\n",
      "실제 요약 : Hyderabad ed-tech startup IndigoLearn raises â¹97 lakh\n",
      "summa요약 : Hyderabad-based ed-tech startup IndigoLearn has raised â¹97 lakh in a seed round from angel investors based in India, the US, and Europe.\n",
      "\n",
      "\n",
      "원문 : The South Lakes Safari zoo in England, where almost 500 animals died in less than three years, has been granted a new licence by the local authority. Inspectors said they were \"encouraged by the improvements made,\" adding the previous director was no longer involved. The zoo was fined â¹2 crore after a keeper was mauled to death by a tiger.\n",
      "실제 요약 : Zoo where 500 animals died granted new license\n",
      "summa요약 : The South Lakes Safari zoo in England, where almost 500 animals died in less than three years, has been granted a new licence by the local authority.\n",
      "\n",
      "\n",
      "원문 : Finance Minister Arun Jaitley on Monday said the legacy of 1984 anti-Sikh riots hangs around the neck of Congress and Gandhi family. Hailing the Delhi High Court's verdict convicting senior Congress leader Sajjan Kumar in the riots, Jaitley said, \"The cover-ups are now being defeated.\" The high court overturned a lower court's order that acquitted Kumar in the riots case.\n",
      "실제 요약 : Legacy of 1984 hangs around the neck of Gandhi family: FM\n",
      "summa요약 : Finance Minister Arun Jaitley on Monday said the legacy of 1984 anti-Sikh riots hangs around the neck of Congress and Gandhi family.\n",
      "\n",
      "\n",
      "원문 : The release date of Ranbir Kapoor and Sanjay Dutt starrer 'Shamshera' has been announced as July 31, 2020. The film will be \"set in the heartland of India and will have jaw-dropping action sequences,\" read a statement by Yash Raj Films, who will produce it. Directed by 'Agneepath' director Karan Malhotra, 'Shamshera' will also star Vaani Kapoor opposite Ranbir.\n",
      "실제 요약 : Release date of Ranbir, Sanjay Dutt starrer 'Shamshera' out\n",
      "summa요약 : The release date of Ranbir Kapoor and Sanjay Dutt starrer 'Shamshera' has been announced as July 31, 2020.\n",
      "\n",
      "\n",
      "원문 : Union Minister Maneka Gandhi has written to Maharashtra CM Devendra Fadnavis asking him to remove state Forest Minister Sudhir Mungantiwar as she accused him of ordering the killing of suspected \"man-eater\" tigress Avni. Gandhi wrote that if the Forest Minister resorts to killing of animals instead of protecting them, he is failing in his duty. \n",
      "실제 요약 : Maneka asks Maha CM to remove minister over tigress' killing\n",
      "summa요약 : Union Minister Maneka Gandhi has written to Maharashtra CM Devendra Fadnavis asking him to remove state Forest Minister Sudhir Mungantiwar as she accused him of ordering the killing of suspected \"man-eater\" tigress Avni.\n",
      "\n",
      "\n",
      "원문 : State-run Oil and Natural Gas Corp (ONGC) is keen to buy fuel retailer Hindustan Petroleum (HPCL) in a â¹42,254 crore deal. Following up on Finance Minister Arun Jaitleyâs budget announcement of creating an integrated oil firm, ONGC evaluated options of buying either HPCL or BPCL. However, it found Bharat Petroleum Corp too expensive, reports said.\n",
      "실제 요약 : ONGC keen to buy HPCL in a deal worth â¹42,200 crore\n",
      "summa요약 : State-run Oil and Natural Gas Corp (ONGC) is keen to buy fuel retailer Hindustan Petroleum (HPCL) in a â¹42,254 crore deal.\n",
      "\n",
      "\n",
      "원문 : After a section of a 40-year-old bridge collapsed in Kolkata on Tuesday, West Bengal CM Mamata Banerjee, who is in Darjeeling, said she is unable to go to Kolkata. \"We want to go back as soon as possible. There are no flights in the evening,\" Banerjee said. Several people are feared trapped under the collapsed bridge.\n",
      "실제 요약 : No flights, unable to return: Mamata after bridge collapse\n",
      "summa요약 : After a section of a 40-year-old bridge collapsed in Kolkata on Tuesday, West Bengal CM Mamata Banerjee, who is in Darjeeling, said she is unable to go to Kolkata.\n",
      "\n",
      "\n",
      "원문 : Actor Salman Khan took to Instagram to share a video which shows him dancing with his brothers Arbaaz Khan and Sohail Khan at a Christmas party organised by him. \"Merry Xmas to all,\" the actor wrote in the video's caption. Bollywood celebrities including Katrina Kaif, Karan Johar, sisters Malaika Arora and Amrita Arora attended the party. \n",
      "실제 요약 : Salman shares video of him dancing with his brothers at X-mas party\n",
      "summa요약 : Actor Salman Khan took to Instagram to share a video which shows him dancing with his brothers Arbaaz Khan and Sohail Khan at a Christmas party organised by him.\n",
      "\n",
      "\n",
      "원문 : Six men were arrested after they entered into a brawl with a pub's staff in Noida's Gardens Galleria Mall for not playing a song by Haryanvi singer Sapna Choudhary on Sunday night. One of the accused even broke a beer bottle on the head of the pub's maintenance in-charge. One of the accused had booked the venue for a party.\n",
      "실제 요약 : 6 fight with pub staff for not playing Sapna Choudhary song, held\n",
      "summa요약 : One of the accused even broke a beer bottle on the head of the pub's maintenance in-charge.\n",
      "\n",
      "\n",
      "원문 : Sharing a picture of himself with Sachin Tendulkar on Twitter, Indian shuttler Kidambi Srikanth revealed the cricket legend had told him in 2015 that he would become world number one. The 25-year-old further said that Sachin's words made him work harder. Srikanth achieved the top ranking for the first time on April 12 but slipped to fifth within eight days.\n",
      "실제 요약 : Sachin told me in 2015 I will become world no. 1: Srikanth\n",
      "summa요약 : Sharing a picture of himself with Sachin Tendulkar on Twitter, Indian shuttler Kidambi Srikanth revealed the cricket legend had told him in 2015 that he would become world number one.\n",
      "\n",
      "\n",
      "원문 : Actor Shah Rukh Khan will play the lead in the fourth instalment of the 'Dhoom' franchise, as per reports. He will reportedly start working for 'Dhoom 4' after finishing the shoot of his upcoming film 'Zero'. Earlier, reports said that Salman Khan was also approached for the role but he turned down the offer.\n",
      "실제 요약 : Shah Rukh Khan to play lead in Dhoom 4: Reports\n",
      "summa요약 : Actor Shah Rukh Khan will play the lead in the fourth instalment of the 'Dhoom' franchise, as per reports.\n",
      "\n",
      "\n",
      "원문 : At least nine people were killed and over 40 others were injured as Afghan border forces opened fire on Pakistani security personnel guarding a census team in Balochistan's Chaman area. Notably, Afghan border forces have been creating hurdles in conduct of census in the divided villages of Killi Luqman and Killi Jahangir, on Pakistani side of the border.\n",
      "실제 요약 : Afghan firing on Pakistan census team kills 9, injures 40\n",
      "summa요약 : At least nine people were killed and over 40 others were injured as Afghan border forces opened fire on Pakistani security personnel guarding a census team in Balochistan's Chaman area.\n",
      "\n",
      "\n",
      "원문 : Pakistan coach Mickey Arthur was handed an official warning and one demerit point for breaching the ICC Code of Conduct during the third day's play of the first South Africa-Pakistan Test. Arthur entered the TV umpire's room and showed dissent at the not-out decision given in favour of Dean Elgar before storming out of the room.\n",
      "실제 요약 : Pak coach warned for showing dissent at umpire's decision\n",
      "summa요약 : Pakistan coach Mickey Arthur was handed an official warning and one demerit point for breaching the ICC Code of Conduct during the third day's play of the first South Africa-Pakistan Test.\n",
      "\n",
      "\n",
      "원문 : Referring to Defence Minister Nirmala Sitharaman's speech on the Rafale deal in Lok Sabha, PM Narendra Modi on Saturday said, \"I congratulate Defence Minister Nirmala Sitharaman.\" \"She showed the people of India the real face of those who deceive the country, those who compromise national security for politics and those who insult the holy Parliament with their immaturity,\" he added.\n",
      "실제 요약 : I congratulate Defence Minister Sitharaman: PM Modi on Rafale row\n",
      "summa요약 : \n",
      "\n",
      "\n",
      "원문 : New stills from Arjun Kapoor and Parineeti Chopra starrer 'Sandeep Aur Pinky Faraar' have been released. The 'dramatic thriller' will be directed by Dibakar Banerjee, who has earlier worked on films like 'LSD: Love Sex Aur Dhokha' and 'Oye Lucky! Lucky Oye!' This will be Arjun and Parineeti's second film together after 'Ishaqzaade'.\n",
      "실제 요약 : New stills from 'Sandeep Aur Pinky Faraar' released\n",
      "summa요약 : Lucky Oye!' This will be Arjun and Parineeti's second film together after 'Ishaqzaade'.\n",
      "\n",
      "\n",
      "원문 : Actor Akshay Kumar has revealed that he was a stuntman for ten years before he got a chance to act in Bollywood. He added, \"[So] I know how stunt performers risk their lives to earn their bread [and] entertain us.\" Akshay further said that stunt performers should get equal respect for their work on award shows.\n",
      "실제 요약 : Was a stuntman for 10 yrs before I got chance to act: Akshay\n",
      "summa요약 : Actor Akshay Kumar has revealed that he was a stuntman for ten years before he got a chance to act in Bollywood.\n",
      "\n",
      "\n",
      "원문 : The Delhi & District Cricket Association on Tuesday inaugurated a gate named after Virender Sehwag at  Feroz Shah Kotla stadium, with a plaque on it wrongly calling Sehwag the only Indian to score a Test triple century. While Sehwag has scored two triple hundreds in Tests, Karun Nair became the second Indian to score a Test triple century last year.\n",
      "실제 요약 : DDCA writes wrong fact on stadium gate named after Sehwag\n",
      "summa요약 : The Delhi & District Cricket Association on Tuesday inaugurated a gate named after Virender Sehwag at  Feroz Shah Kotla stadium, with a plaque on it wrongly calling Sehwag the only Indian to score a Test triple century.\n",
      "\n",
      "\n",
      "원문 : As many as 22 of 29, or 76% of ministers in the new Bihar cabinet face criminal charges against them, higher than the 19 ministers (69%) in the previous Grand Alliance government. Further, 21 ministers (72%) are crorepatis, a little less than 22 (79%) in the previous government. Also, a minister in the new cabinet earns an average â¹2.46 crore.\n",
      "실제 요약 : 76% Bihar cabinet ministers face criminal charges\n",
      "summa요약 : As many as 22 of 29, or 76% of ministers in the new Bihar cabinet face criminal charges against them, higher than the 19 ministers (69%) in the previous Grand Alliance government.\n",
      "\n",
      "\n",
      "원문 : Former Australian captain Steve Smith, who has been suspended from international cricket, got dismissed after getting caught and hit-wicket off the same ball while playing for the Barbados Tridents in the Caribbean Premier League. Facing Jamaica Tallawahs' Andre Russell, Smith hit a shot that got caught by Rovman Powell at long-on while hitting the wicket in his bat's follow-through.\n",
      "실제 요약 : Steve Smith gets caught and hit-wicket on the same delivery\n",
      "summa요약 : Former Australian captain Steve Smith, who has been suspended from international cricket, got dismissed after getting caught and hit-wicket off the same ball while playing for the Barbados Tridents in the Caribbean Premier League.\n",
      "\n",
      "\n",
      "원문 : Asserting that saving farmers is his government's priority, Karnataka Chief Minister HD Kumaraswamy promised to waive farm loans within 15 days and insisted that there was \"no going back\" on it. \"I'm getting it (the loan amount) calculated, whatever thousand crore rupees it is... Saving you is our government's responsibility,\" he told a gathering of farmers. \n",
      "실제 요약 : K'taka CM Kumaraswamy promises farm loan waiver in 15 days\n",
      "summa요약 : Asserting that saving farmers is his government's priority, Karnataka Chief Minister HD Kumaraswamy promised to waive farm loans within 15 days and insisted that there was \"no going back\" on it.\n",
      "\n",
      "\n",
      "원문 : The Indian Film and Television Directors Association has terminated Gurmeet Ram Rahim's work permit after his conviction in the rape case. The Cine and TV Artists Association also terminated his permit on the grounds of criminality and moral turpitude. Notably, Ram Rahim directed and starred in movies like  MSG: The Messenger, MSG The Warrior: Lion Heart, Jattu Engineer, among others.\n",
      "실제 요약 : Film & TV directors assoc terminates Ram Rahim's work permit\n",
      "summa요약 : The Indian Film and Television Directors Association has terminated Gurmeet Ram Rahim's work permit after his conviction in the rape case.\n",
      "\n",
      "\n",
      "원문 : Mumbai-based mobile gaming company Nazara has raised â¹330 crore in funding from IIFL Special Opportunities Fund. Nazara might be valued at around â¹2,000 crore after the funding round, according to reports. Founded in 2000 by Nitish Mittersain, Nazara develops mobile games based on public personalities like cricketer Virat Kohli and cartoon series such as 'Motu Patlu'. \n",
      "실제 요약 : Mobile gaming company Nazara raises â¹330 crore\n",
      "summa요약 : Mumbai-based mobile gaming company Nazara has raised â¹330 crore in funding from IIFL Special Opportunities Fund.\n",
      "\n",
      "\n",
      "원문 : Describing his meeting with North Korean leader Kim Jong-un, US President Donald Trump said, \"It went better than anybody could have expected.\" Trump further said that \"a lot of progress\" has been made, adding that the two sides are expected to sign an agreement. However, it is unclear what document the two leaders would be signing.\n",
      "실제 요약 : Kim meet went better than anybody could have expected: Trump\n",
      "summa요약 : \n",
      "\n",
      "\n",
      "원문 : Lokendra Singh Kalvi, the convener of Rajput organisation Karni Sena, has said Deepika Padukone is dancing in \"less clothing\" in the film 'Padmavati'. He further questioned, \"How are you trying to portray Indian women?\" \"This is the fire of 'jauhar', a lot of things will burn,\" Kalvi added while threatening to burn down theatres which will screen the film.\n",
      "실제 요약 : Deepika dancing in less clothing in Padmavati: Karni Sena \n",
      "summa요약 : Lokendra Singh Kalvi, the convener of Rajput organisation Karni Sena, has said Deepika Padukone is dancing in \"less clothing\" in the film 'Padmavati'.\n",
      "\n",
      "\n",
      "원문 : A Parliamentary panel has raised concerns over Air Indiaâs decision to stop serving non-vegetarian meals to economy-class passengers on domestic flights and would seek an explanation on the measure. The panel will seek an explanation from Air India as to on what basis such a decision was taken. Notably, the decision was taken to bring down costs and food wastage.\n",
      "실제 요약 : Panel to question Air India's decision to stop non-veg meals\n",
      "summa요약 : The panel will seek an explanation from Air India as to on what basis such a decision was taken.\n",
      "\n",
      "\n",
      "원문 : Following the launch of Mukesh Ambani-led Reliance Jio in September last year, smaller telecom companies have seen a decline of as high as 22-24% in their revenues. Additionally, revenues of large companies such as Bharti Airtel saw a decline of 10%. Further, since Jioâs launch, Tata Teleservices, Reliance Communications, and Aircel have all lost market share. \n",
      "실제 요약 : Small telcos' revenue declined up to 24% due to Reliance Jio\n",
      "summa요약 : Following the launch of Mukesh Ambani-led Reliance Jio in September last year, smaller telecom companies have seen a decline of as high as 22-24% in their revenues.\n",
      "\n",
      "\n",
      "원문 : Economic Affairs Secretary Subhash Chandra Garg took a dig at RBI Deputy Governor Viral Acharya, who said governments that don't respect central bank independence will \"incur the wrath of financial markets\". Garg took to Twitter to comment on the recent performance of rupee and markets. This comes two days after the government said it respects and nurtures central bank autonomy.\n",
      "실제 요약 : Economic Affairs Secretary takes a dig at RBI's Viral Acharya\n",
      "summa요약 : Economic Affairs Secretary Subhash Chandra Garg took a dig at RBI Deputy Governor Viral Acharya, who said governments that don't respect central bank independence will \"incur the wrath of financial markets\".\n",
      "\n",
      "\n",
      "원문 : Reliance Communications (RCom) has accused Swedish telecom equipment maker Ericsson of \"distorting issues\" by trying to sensationalise its contempt petition against the telco's Chairman Anil Ambani. RCom added it is \"fully committed\" to settle dues with Ericsson. The Indian telecom company had said it would repay Ericsson from the proceeds of its sale of wireless assets to Reliance Jio.nn\n",
      "실제 요약 : Ericsson 'distorting issues' with contempt petition: RCom\n",
      "summa요약 : Reliance Communications (RCom) has accused Swedish telecom equipment maker Ericsson of \"distorting issues\" by trying to sensationalise its contempt petition against the telco's Chairman Anil Ambani.\n",
      "\n",
      "\n",
      "원문 : Cricket Australia on Saturday shared a video of Indian captain Virat Kohli dancing on field during the first Test in Adelaide, along with the caption, \"Virat's loving it.\" Reacting to the video a Twitter user wrote, \"You never disappoint either inside the pitch or fielding or wherever you're.\" Other users wrote, \"He is awesome\" and \"Kis [baat] ki itni khushi.\"\n",
      "실제 요약 : Cricket Australia shares video of Virat Kohli dancing on field\n",
      "summa요약 : \n",
      "\n",
      "\n",
      "원문 : A 14-year-old girl was allegedly beheaded in front of her mother after their neighbour barged into their home and attacked her with a sickle in Salem district, Tamil Nadu on Monday. The accused was detained after locals called the police. The police said he had a history of being aggressive, although their families were friendly before the incident occurred. \n",
      "실제 요약 : TN man beheads 14-year-old neighbour in front of her mother\n",
      "summa요약 : The accused was detained after locals called the police.\n",
      "The police said he had a history of being aggressive, although their families were friendly before the incident occurred.\n",
      "\n",
      "\n",
      "원문 : Singer Miley Cyrus took to Twitter to deny reports that she is expecting a child. \"Not pregnant just eating a shit ton of tofurkey,\" she wrote while sharing a story which suggested that she is pregnant. The rumours of her pregnancy started after she posted a picture of herself in an over-sized T-shirt which appeared to hide a baby bump.\n",
      "실제 요약 : Miley Cyrus denies rumours of pregnancy\n",
      "summa요약 : Singer Miley Cyrus took to Twitter to deny reports that she is expecting a child.\n",
      "\n",
      "\n",
      "원문 : India's 1983 Cricket World Cup-winning captain Kapil Dev has been selected in the national golf team to take part in the 2018 Asia-Pacific Senior Amateur Championship, which will be held from October 17 to 19 in Japan. The 59-year-old qualified after finishing third in the All India Seniors Golf Championship that was held in Noida earlier in July.\n",
      "실제 요약 : Kapil Dev selected in Indian golf team for tournament in Japan\n",
      "summa요약 : India's 1983 Cricket World Cup-winning captain Kapil Dev has been selected in the national golf team to take part in the 2018 Asia-Pacific Senior Amateur Championship, which will be held from October 17 to 19 in Japan.\n",
      "\n",
      "\n",
      "원문 : After J&K Governor Satya Pal Malik's 'Delhi' remark, Raj Bhawan has clarified, \"There was no pressure or any kind of intervention from the Centre.\" The Governor had on Tuesday said, \"Had I looked at Delhi (Centre), I would have had to appoint Sajad Lone's government, but I didn't want to go down in history as a dishonest man.\"\n",
      "실제 요약 : No intervention from Centre: J&K Raj Bhawan on Guv's 'Delhi' remark\n",
      "summa요약 : \n",
      "\n",
      "\n",
      "원문 : Chinese internet giant Tencent's stock has tumbled 25% since its peak in January, wiping $143 billion from its market value, the biggest ever slump worldwide as measured from the date of each stock's 52-week high. Earlier, Facebook's over $100-billion valuation slump became US stock market's biggest single-day wipeout. Tencent is Asia's second-largest company after e-commerce giant Alibaba Group.\n",
      "실제 요약 : Tencent's $143 billion valuation slump becomes world's biggest\n",
      "summa요약 : Chinese internet giant Tencent's stock has tumbled 25% since its peak in January, wiping $143 billion from its market value, the biggest ever slump worldwide as measured from the date of each stock's 52-week high.\n",
      "\n",
      "\n",
      "원문 : When asked about the difficulties faced while building a technology team, MakeMyTrip CEO Deep Kalra has said, \"We have gone through so many CTOs (Chief Technology Officer), it's become a joke.\" He further said that if he had to do it again, he would start with a co-founder who would have complementary skills while he himself would be the \"techie\". \n",
      "실제 요약 : We've gone through so many CTOs, it's a joke: MakeMyTrip CEO\n",
      "summa요약 : \n",
      "\n",
      "\n",
      "원문 : Karan Johar has announced his upcoming production 'Rannbhoomi', a war drama starring Varun Dhawan and being directed by Shashank Khaitan. This is the third time that the trio will be working together after 'Humpty Sharma Ki Dulhania' and 'Badrinath Ki Dulhania'. While the remaining cast is yet to be announced, the film is scheduled for a Diwali release in 2020. \n",
      "실제 요약 : Varun to star in Johar and Khaitanâs war drama 'Rannbhoomi'\n",
      "summa요약 : Karan Johar has announced his upcoming production 'Rannbhoomi', a war drama starring Varun Dhawan and being directed by Shashank Khaitan.\n",
      "\n",
      "\n",
      "원문 : Talking about the working conditions at Amazon's fulfillment centres, an employee has allegedly said, \"Management doesn't regard us [as] crucial contributors to its success...they treat us like disposable parts.\" The employee also said, \"Like factory workers on the assembly line, we are essentially extensions of the machine.\" \"We work hard, and diligently, to make Amazon run,\" the employee added.\n",
      "실제 요약 : Management treats us like disposable parts: Amazon employee\n",
      "summa요약 : \n",
      "\n",
      "\n"
     ]
    }
   ],
   "source": [
    "for i in range(50, 100):\n",
    "    print(\"원문 :\", org_input_test[i])\n",
    "    print(\"실제 요약 :\", org_headline_test[i])\n",
    "    print(\"summa요약 :\", summarizer.summarize(org_input_test[i],ratio=0.5,words=20))\n",
    "    print(\"\\n\")"
   ]
  },
  {
   "cell_type": "markdown",
   "id": "580404bf",
   "metadata": {},
   "source": [
    "# Step 6. 추상적 요약과 추출적 요약 비교"
   ]
  },
  {
   "cell_type": "code",
   "execution_count": 71,
   "id": "5f41909e",
   "metadata": {
    "scrolled": false
   },
   "outputs": [
    {
     "name": "stdout",
     "output_type": "stream",
     "text": [
      "원문 : The Ministry of Urban Development has proposed a bill that provides for a life sentence or a death penalty for âany act of sabotage with the intent to cause deathâ in metro premises across India. The Metro Rail Bill 2017 further provides a fine of â¹5,000 for drunk commuters and a four-year jail term for carrying guns inside the metro.\n",
      "실제 요약 : Bill proposes death penalty for sabotaging metros\n",
      "추상적 요약 :  compensation for victims of martyred in iraq\n",
      "추출적 요약 : The Ministry of Urban Development has proposed a bill that provides for a life sentence or a death penalty for âany act of sabotage with the intent to cause deathâ in metro premises across India.\n",
      "\n",
      "\n",
      "원문 : A Railway Protection Force constable saved an elderly couple who was on the railway tracks of a Mumbai station on Sunday. The couple was crossing the tracks when a train began approaching them at a fast pace, the RPF said. The constable \"rushed towards them and pulled them to safety seconds before the local train passed the spot,\" it added. \n",
      "실제 요약 : Elderly couple saved from approaching train by RPF constable\n",
      "추상적 요약 :  railway tracks for railway tracks in mumbai\n",
      "추출적 요약 : The couple was crossing the tracks when a train began approaching them at a fast pace, the RPF said.\n",
      "\n",
      "\n",
      "원문 : Actor Salman Khan took to Instagram to share a video which shows him dancing with his brothers Arbaaz Khan and Sohail Khan at a Christmas party organised by him. \"Merry Xmas to all,\" the actor wrote in the video's caption. Bollywood celebrities including Katrina Kaif, Karan Johar, sisters Malaika Arora and Amrita Arora attended the party. \n",
      "실제 요약 : Salman shares video of him dancing with his brothers at X-mas party\n",
      "추상적 요약 :  salman shares video of his brother dancing at his party\n",
      "추출적 요약 : Actor Salman Khan took to Instagram to share a video which shows him dancing with his brothers Arbaaz Khan and Sohail Khan at a Christmas party organised by him.\n",
      "\n",
      "\n"
     ]
    }
   ],
   "source": [
    "for i in [50,60,70]:\n",
    "    print(\"원문 :\", org_input_test[i])\n",
    "    print(\"실제 요약 :\", org_headline_test[i])\n",
    "    print(\"추상적 요약 :\", decode_sequence(encoder_input_test[i].reshape(1, text_max_len)))\n",
    "    print(\"추출적 요약 :\", summarizer.summarize(org_input_test[i],ratio=0.5,words=20))\n",
    "    print(\"\\n\")"
   ]
  },
  {
   "cell_type": "code",
   "execution_count": null,
   "id": "26c166a1",
   "metadata": {},
   "outputs": [],
   "source": []
  }
 ],
 "metadata": {
  "kernelspec": {
   "display_name": "Python 3 (ipykernel)",
   "language": "python",
   "name": "python3"
  },
  "language_info": {
   "codemirror_mode": {
    "name": "ipython",
    "version": 3
   },
   "file_extension": ".py",
   "mimetype": "text/x-python",
   "name": "python",
   "nbconvert_exporter": "python",
   "pygments_lexer": "ipython3",
   "version": "3.9.5"
  }
 },
 "nbformat": 4,
 "nbformat_minor": 5
}
