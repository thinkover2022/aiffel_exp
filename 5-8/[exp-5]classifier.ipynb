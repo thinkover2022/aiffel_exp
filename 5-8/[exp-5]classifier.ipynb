{
 "cells": [
  {
   "cell_type": "code",
   "execution_count": 1,
   "id": "3f6c6998-ba9d-4745-97ac-e127c47c9840",
   "metadata": {},
   "outputs": [],
   "source": [
    "import tensorflow as tf\n",
    "from tensorflow import keras\n",
    "\n",
    "import numpy as np\n",
    "import matplotlib.pyplot as plt\n",
    "import os\n",
    "\n",
    "from PIL import Image\n",
    "import glob"
   ]
  },
  {
   "cell_type": "code",
   "execution_count": 2,
   "id": "09b21a91",
   "metadata": {},
   "outputs": [],
   "source": [
    "def rename_images(img_path):\n",
    "    images=glob.glob(img_path + \"/*.jpg\") \n",
    "    \n",
    "    for img in images:\n",
    "        head, tail = os.path.split(img)\n",
    "        os.rename(img,head+'\\__'+tail)\n"
   ]
  },
  {
   "cell_type": "code",
   "execution_count": 3,
   "id": "f0720809",
   "metadata": {},
   "outputs": [
    {
     "name": "stdout",
     "output_type": "stream",
     "text": [
      "300  images to be resized.\n",
      "images is already resized, skipping all process\n",
      "300  images to be resized.\n",
      "images is already resized, skipping all process\n",
      "300  images to be resized.\n",
      "images is already resized, skipping all process\n"
     ]
    }
   ],
   "source": [
    "def resize_images(img_path):\n",
    "    images=glob.glob(img_path + \"/*.jpg\")  \n",
    "    \n",
    "    print(len(images), \" images to be resized.\")\n",
    "\n",
    "    # 파일마다 모두 28x28 사이즈로 바꾸어 저장합니다.\n",
    "    target_size=(56,56)\n",
    "    for img in images:\n",
    "        old_img=Image.open(img)\n",
    "        #image height == target height skipp all process\n",
    "        if old_img.width==target_size[0]:\n",
    "            print('images is already resized, skipping all process')\n",
    "            return\n",
    "\n",
    "        new_img=old_img.resize(target_size,Image.ANTIALIAS)\n",
    "        new_img.save(img, \"JPEG\")\n",
    "    \n",
    "    print(len(images), \" images resized.\")\n",
    "\n",
    "# 가위 이미지가 저장된 디렉토리 아래의 모든 jpg 파일을 읽어들여서\n",
    "# 가위\n",
    "resize_images('.\\\\data\\\\scissor')\n",
    "# 바위\n",
    "resize_images('.\\\\data\\\\rock')\n",
    "# 보\n",
    "resize_images('.\\\\data\\\\paper')\n",
    "# 테스트 데이터\n",
    "# 가위\n",
    "#resize_images('.\\\\data\\\\test\\\\scissor')\n",
    "# 바위\n",
    "#resize_images('.\\\\data\\\\test\\\\rock')\n",
    "# 보\n",
    "#resize_images('.\\\\data\\\\test\\\\paper')"
   ]
  },
  {
   "cell_type": "code",
   "execution_count": 4,
   "id": "55385e43-be22-4d9f-951b-9b2d1d55a59d",
   "metadata": {},
   "outputs": [],
   "source": [
    "def load_data(img_path, number_of_data=300):  # 가위바위보 이미지 개수 총합에 주의하세요.\n",
    "    # 가위 : 0, 바위 : 1, 보 : 2\n",
    "    img_size=56\n",
    "    color=3\n",
    "    #이미지 데이터와 라벨(가위 : 0, 바위 : 1, 보 : 2) 데이터를 담을 행렬(matrix) 영역을 생성합니다.\n",
    "    imgs=np.zeros(number_of_data*img_size*img_size*color,dtype=np.int32).reshape(number_of_data,img_size,img_size,color)\n",
    "    labels=np.zeros(number_of_data,dtype=np.int32)\n",
    "\n",
    "    idx=0\n",
    "    for file in glob.iglob(img_path+'/scissor/*.jpg'):\n",
    "        img = np.array(Image.open(file),dtype=np.int32)\n",
    "        imgs[idx,:,:,:]=img    # 데이터 영역에 이미지 행렬을 복사\n",
    "        labels[idx]=0   # 가위 : 0\n",
    "        idx=idx+1\n",
    "\n",
    "    for file in glob.iglob(img_path+'/rock/*.jpg'):\n",
    "        img = np.array(Image.open(file),dtype=np.int32)\n",
    "        imgs[idx,:,:,:]=img    # 데이터 영역에 이미지 행렬을 복사\n",
    "        labels[idx]=1   # 바위 : 1\n",
    "        idx=idx+1  \n",
    "    \n",
    "    for file in glob.iglob(img_path+'/paper/*.jpg'):\n",
    "        img = np.array(Image.open(file),dtype=np.int32)\n",
    "        imgs[idx,:,:,:]=img    # 데이터 영역에 이미지 행렬을 복사\n",
    "        labels[idx]=2   # 보 : 2\n",
    "        idx=idx+1\n",
    "        \n",
    "    print(\"학습데이터(x_train)의 이미지 개수는\", idx,\"입니다.\")\n",
    "    return imgs, labels\n"
   ]
  },
  {
   "cell_type": "code",
   "execution_count": 5,
   "id": "3801e512",
   "metadata": {},
   "outputs": [],
   "source": [
    "def rgb2gray(rgb):\n",
    "    r, g, b = rgb[:,:,0], rgb[:,:,1], rgb[:,:,2]\n",
    "    gray = 0.2989 * r + 0.5870 * g + 0.1140 * b\n",
    "    return np.expand_dims(gray,2)\n",
    "\n",
    "\n",
    "def load_data_gray(img_path, number_of_data=300):  # 가위바위보 이미지 개수 총합에 주의하세요.\n",
    "    # 가위 : 0, 바위 : 1, 보 : 2\n",
    "    img_size=56\n",
    "    color=1\n",
    "    #이미지 데이터와 라벨(가위 : 0, 바위 : 1, 보 : 2) 데이터를 담을 행렬(matrix) 영역을 생성합니다.\n",
    "    imgs=np.zeros(number_of_data*img_size*img_size*color,dtype=np.int32).reshape(number_of_data,img_size,img_size,color)\n",
    "    labels=np.zeros(number_of_data,dtype=np.int32)\n",
    "\n",
    "    idx=0\n",
    "    for file in glob.iglob(img_path+'/scissor/*.jpg'):\n",
    "        img = np.array(Image.open(file),dtype=np.int32)\n",
    "        imgs[idx,:,:]=rgb2gray(img)    # 데이터 영역에 이미지 행렬을 복사\n",
    "        labels[idx]=0   # 가위 : 0\n",
    "        idx=idx+1\n",
    "\n",
    "    for file in glob.iglob(img_path+'/rock/*.jpg'):\n",
    "        img = np.array(Image.open(file),dtype=np.int32)\n",
    "        imgs[idx,:,:]=rgb2gray(img)    # 데이터 영역에 이미지 행렬을 복사\n",
    "        labels[idx]=1   # 바위 : 1\n",
    "        idx=idx+1  \n",
    "    \n",
    "    for file in glob.iglob(img_path+'/paper/*.jpg'):\n",
    "        img = np.array(Image.open(file),dtype=np.int32)\n",
    "        imgs[idx,:,:]=rgb2gray(img)    # 데이터 영역에 이미지 행렬을 복사\n",
    "        labels[idx]=2   # 보 : 2\n",
    "        idx=idx+1\n",
    "        \n",
    "    print(\"학습데이터(x_train)의 이미지 개수는\", idx,\"입니다.\")\n",
    "    return imgs, labels"
   ]
  },
  {
   "cell_type": "code",
   "execution_count": 6,
   "id": "41d55db3-bc44-4680-8484-e987bb3e9a0f",
   "metadata": {},
   "outputs": [
    {
     "name": "stdout",
     "output_type": "stream",
     "text": [
      "학습데이터(x_train)의 이미지 개수는 900 입니다.\n",
      "train_data_norm shape: (900, 56, 56, 1)\n",
      "train_label shape: (900,)\n"
     ]
    }
   ],
   "source": [
    "# train data load\n",
    "image_dir_path = '.\\\\data'\n",
    "(train_data, train_label)=load_data_gray(image_dir_path,number_of_data=900)\n",
    "train_data_norm = train_data/255.0   # 입력은 0~1 사이의 값으로 정규화\n",
    "\n",
    "print(\"train_data_norm shape: {}\".format(train_data_norm.shape))\n",
    "print(\"train_label shape: {}\".format(train_label.shape))\n",
    "\n",
    "from sklearn.model_selection import train_test_split\n",
    "\n",
    "x_train, x_valid, y_train, y_valid = \\\n",
    "    train_test_split(train_data_norm, train_label, \\\n",
    "                     test_size=0.2, shuffle=True, \\\n",
    "                     stratify=train_label, random_state=34)\n"
   ]
  },
  {
   "cell_type": "code",
   "execution_count": 7,
   "id": "452c50d1-fbb1-4838-b59d-beeac145fe95",
   "metadata": {},
   "outputs": [
    {
     "name": "stdout",
     "output_type": "stream",
     "text": [
      "학습데이터(x_train)의 이미지 개수는 300 입니다.\n",
      "x_test_norm shape: (300, 56, 56, 1)\n",
      "y_test shape: (300,)\n"
     ]
    }
   ],
   "source": [
    "# x_test, y_test를 만드는 방법\n",
    "image_dir_path = '.\\\\data/test'\n",
    "(x_test, y_test)=load_data_gray(image_dir_path,number_of_data=300)\n",
    "x_test_norm = x_test/255.0   # 입력은 0~1 사이의 값으로 정규화\n",
    "\n",
    "print(\"x_test_norm shape: {}\".format(x_test_norm.shape))\n",
    "print(\"y_test shape: {}\".format(y_test.shape))"
   ]
  },
  {
   "cell_type": "code",
   "execution_count": 8,
   "id": "303aa365",
   "metadata": {},
   "outputs": [
    {
     "name": "stdout",
     "output_type": "stream",
     "text": [
      "<tf.Variable 'learning_rate:0' shape=() dtype=float32, numpy=0.001>\n",
      "Model: \"sequential\"\n",
      "_________________________________________________________________\n",
      "Layer (type)                 Output Shape              Param #   \n",
      "=================================================================\n",
      "conv2d (Conv2D)              (None, 56, 56, 64)        640       \n",
      "_________________________________________________________________\n",
      "conv2d_1 (Conv2D)            (None, 56, 56, 64)        36928     \n",
      "_________________________________________________________________\n",
      "max_pooling2d (MaxPooling2D) (None, 28, 28, 64)        0         \n",
      "_________________________________________________________________\n",
      "conv2d_2 (Conv2D)            (None, 28, 28, 128)       73856     \n",
      "_________________________________________________________________\n",
      "max_pooling2d_1 (MaxPooling2 (None, 14, 14, 128)       0         \n",
      "_________________________________________________________________\n",
      "conv2d_3 (Conv2D)            (None, 14, 14, 256)       295168    \n",
      "_________________________________________________________________\n",
      "max_pooling2d_2 (MaxPooling2 (None, 7, 7, 256)         0         \n",
      "_________________________________________________________________\n",
      "flatten (Flatten)            (None, 12544)             0         \n",
      "_________________________________________________________________\n",
      "dense (Dense)                (None, 512)               6423040   \n",
      "_________________________________________________________________\n",
      "dense_1 (Dense)              (None, 256)               131328    \n",
      "_________________________________________________________________\n",
      "dense_2 (Dense)              (None, 3)                 771       \n",
      "=================================================================\n",
      "Total params: 6,961,731\n",
      "Trainable params: 6,961,731\n",
      "Non-trainable params: 0\n",
      "_________________________________________________________________\n",
      "Epoch 1/14\n",
      "29/29 [==============================] - 4s 69ms/step - loss: 1.0986 - accuracy: 0.3722 - val_loss: 1.5946 - val_accuracy: 0.3333\n",
      "Epoch 2/14\n",
      "29/29 [==============================] - 1s 44ms/step - loss: 0.9633 - accuracy: 0.4944 - val_loss: 0.6735 - val_accuracy: 0.6278\n",
      "Epoch 3/14\n",
      "29/29 [==============================] - 1s 44ms/step - loss: 0.5496 - accuracy: 0.7211 - val_loss: 0.5246 - val_accuracy: 0.7722\n",
      "Epoch 4/14\n",
      "29/29 [==============================] - 1s 44ms/step - loss: 0.5076 - accuracy: 0.7878 - val_loss: 0.2885 - val_accuracy: 0.8833\n",
      "Epoch 5/14\n",
      "29/29 [==============================] - 1s 44ms/step - loss: 0.2661 - accuracy: 0.8989 - val_loss: 0.2124 - val_accuracy: 0.8944\n",
      "Epoch 6/14\n",
      "29/29 [==============================] - 1s 44ms/step - loss: 0.2252 - accuracy: 0.9322 - val_loss: 0.0516 - val_accuracy: 0.9944\n",
      "Epoch 7/14\n",
      "29/29 [==============================] - 1s 44ms/step - loss: 0.0500 - accuracy: 0.9789 - val_loss: 0.0087 - val_accuracy: 1.0000\n",
      "Epoch 8/14\n",
      "29/29 [==============================] - 1s 44ms/step - loss: 0.0108 - accuracy: 0.9978 - val_loss: 0.0020 - val_accuracy: 1.0000\n",
      "Epoch 9/14\n",
      "29/29 [==============================] - 1s 44ms/step - loss: 0.0100 - accuracy: 0.9956 - val_loss: 0.0057 - val_accuracy: 1.0000\n",
      "Epoch 10/14\n",
      "29/29 [==============================] - 1s 44ms/step - loss: 0.0122 - accuracy: 0.9956 - val_loss: 0.0048 - val_accuracy: 1.0000\n",
      "Epoch 11/14\n",
      "29/29 [==============================] - 1s 44ms/step - loss: 0.0037 - accuracy: 1.0000 - val_loss: 1.4036e-04 - val_accuracy: 1.0000\n",
      "Epoch 12/14\n",
      "29/29 [==============================] - 1s 44ms/step - loss: 2.7341e-04 - accuracy: 1.0000 - val_loss: 8.2151e-05 - val_accuracy: 1.0000\n",
      "Epoch 13/14\n",
      "29/29 [==============================] - 1s 44ms/step - loss: 1.2978e-04 - accuracy: 1.0000 - val_loss: 5.2249e-05 - val_accuracy: 1.0000\n",
      "Epoch 14/14\n",
      "29/29 [==============================] - 1s 44ms/step - loss: 1.0388e-04 - accuracy: 1.0000 - val_loss: 4.4242e-05 - val_accuracy: 1.0000\n"
     ]
    }
   ],
   "source": [
    "import tensorflow as tf\n",
    "from tensorflow import keras\n",
    "import numpy as np\n",
    "\n",
    "# 바꿔 볼 수 있는 하이퍼파라미터들\n",
    "model=keras.models.Sequential()\n",
    "model.add(keras.layers.Conv2D(filters=64, kernel_size=(3,3),padding='same', activation='relu', input_shape=(56,56,1)))\n",
    "model.add(keras.layers.Conv2D(filters=64, kernel_size=(3,3),padding='same', activation='relu'))\n",
    "model.add(keras.layers.MaxPool2D(pool_size=(2,2)))\n",
    "\n",
    "model.add(keras.layers.Conv2D(filters=128, kernel_size=(3,3),padding='same', activation='relu'))\n",
    "model.add(keras.layers.MaxPool2D(pool_size=(2,2)))\n",
    "model.add(keras.layers.Conv2D(filters=256, kernel_size=(3,3),padding='same', activation='relu'))\n",
    "model.add(keras.layers.MaxPool2D(pool_size=(2,2)))\n",
    "\n",
    "model.add(keras.layers.Flatten())\n",
    "model.add(keras.layers.Dense(units=512, activation='relu'))\n",
    "#model.add(keras.layers.Dropout(rate=0.5))\n",
    "model.add(keras.layers.Dense(units=256, activation='relu'))\n",
    "#model.add(keras.layers.Dropout(rate=0.5))\n",
    "model.add(keras.layers.Dense(3, activation='softmax'))\n",
    "\n",
    "adam = keras.optimizers.Adam()\n",
    "print(adam.learning_rate)\n",
    "model.compile(optimizer=adam,\n",
    "             loss='sparse_categorical_crossentropy',\n",
    "             metrics=['accuracy'])\n",
    "\n",
    "model.summary()\n",
    "\n",
    "# 모델 훈련\n",
    "history = model.fit(train_data_norm, train_label,validation_data=(x_valid,y_valid), epochs=14)\n"
   ]
  },
  {
   "cell_type": "code",
   "execution_count": 9,
   "id": "ebdad2b1",
   "metadata": {},
   "outputs": [
    {
     "data": {
      "image/png": "[encoded data removed]",
      "text/plain": [
       "<Figure size 640x480 with 1 Axes>"
      ]
     },
     "metadata": {},
     "output_type": "display_data"
    }
   ],
   "source": [
    "plt.plot(history.history['accuracy'])\n",
    "plt.plot(history.history['val_accuracy'])\n",
    "plt.title('model accuracy')\n",
    "plt.ylabel('accuracy')\n",
    "plt.xlabel('epoch')\n",
    "plt.legend(['train_accuracy', 'val_accuracy'], loc='upper left')\n",
    "plt.show()"
   ]
  },
  {
   "cell_type": "code",
   "execution_count": 10,
   "id": "7ee4288e",
   "metadata": {},
   "outputs": [
    {
     "data": {
      "image/png": "[encoded data removed]",
      "text/plain": [
       "<Figure size 640x480 with 1 Axes>"
      ]
     },
     "metadata": {},
     "output_type": "display_data"
    }
   ],
   "source": [
    "plt.plot(history.history['loss'])\n",
    "plt.plot(history.history['val_loss'])\n",
    "plt.title('model loss')\n",
    "plt.ylabel('loss')\n",
    "plt.xlabel('epoch')\n",
    "plt.legend(['train_loss', 'val_loss'], loc='upper left')\n",
    "plt.show()"
   ]
  },
  {
   "cell_type": "code",
   "execution_count": 11,
   "id": "1a5658b5",
   "metadata": {},
   "outputs": [
    {
     "name": "stdout",
     "output_type": "stream",
     "text": [
      "10/10 - 1s - loss: 5.8698 - accuracy: 0.6533\n",
      "test_loss: 5.869760990142822 \n",
      "test_accuracy: 0.653333306312561\n"
     ]
    }
   ],
   "source": [
    "# 모델 테스트\n",
    "test_loss, test_accuracy = model.evaluate(x_test_norm, y_test, verbose=2)\n",
    "print(f\"test_loss: {test_loss} \")\n",
    "print(f\"test_accuracy: {test_accuracy}\")"
   ]
  },
  {
   "cell_type": "code",
   "execution_count": null,
   "id": "714c9ed3",
   "metadata": {},
   "outputs": [],
   "source": []
  }
 ],
 "metadata": {
  "kernelspec": {
   "display_name": "Python 3 (ipykernel)",
   "language": "python",
   "name": "python3"
  },
  "language_info": {
   "codemirror_mode": {
    "name": "ipython",
    "version": 3
   },
   "file_extension": ".py",
   "mimetype": "text/x-python",
   "name": "python",
   "nbconvert_exporter": "python",
   "pygments_lexer": "ipython3",
   "version": "3.9.7"
  }
 },
 "nbformat": 4,
 "nbformat_minor": 5
}
