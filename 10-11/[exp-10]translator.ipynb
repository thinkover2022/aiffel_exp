{
 "cells": [
  {
   "cell_type": "code",
   "execution_count": 1,
   "id": "1ae3ef35",
   "metadata": {},
   "outputs": [],
   "source": [
    "import pandas as pd\n",
    "from tensorflow.keras.preprocessing.text import Tokenizer\n",
    "from tensorflow.keras.preprocessing.sequence import pad_sequences\n",
    "from tensorflow.keras.utils import to_categorical\n",
    "import numpy as np"
   ]
  },
  {
   "cell_type": "code",
   "execution_count": 2,
   "id": "64762bae",
   "metadata": {},
   "outputs": [
    {
     "name": "stdout",
     "output_type": "stream",
     "text": [
      "전체 샘플의 수 : 197463\n"
     ]
    },
    {
     "data": {
      "text/html": [
       "<div>\n",
       "<style scoped>\n",
       "    .dataframe tbody tr th:only-of-type {\n",
       "        vertical-align: middle;\n",
       "    }\n",
       "\n",
       "    .dataframe tbody tr th {\n",
       "        vertical-align: top;\n",
       "    }\n",
       "\n",
       "    .dataframe thead th {\n",
       "        text-align: right;\n",
       "    }\n",
       "</style>\n",
       "<table border=\"1\" class=\"dataframe\">\n",
       "  <thead>\n",
       "    <tr style=\"text-align: right;\">\n",
       "      <th></th>\n",
       "      <th>eng</th>\n",
       "      <th>fra</th>\n",
       "      <th>cc</th>\n",
       "    </tr>\n",
       "  </thead>\n",
       "  <tbody>\n",
       "    <tr>\n",
       "      <th>45777</th>\n",
       "      <td>Tom forgot to salute.</td>\n",
       "      <td>Tom oublia de saluer.</td>\n",
       "      <td>CC-BY 2.0 (France) Attribution: tatoeba.org #4...</td>\n",
       "    </tr>\n",
       "    <tr>\n",
       "      <th>181757</th>\n",
       "      <td>Why didn't you tell us that there was a witness?</td>\n",
       "      <td>Que ne nous as-tu pas dit qu'il y avait un tém...</td>\n",
       "      <td>CC-BY 2.0 (France) Attribution: tatoeba.org #7...</td>\n",
       "    </tr>\n",
       "    <tr>\n",
       "      <th>125162</th>\n",
       "      <td>It may well rain before tonight.</td>\n",
       "      <td>Il va certainement pleuvoir avant ce soir.</td>\n",
       "      <td>CC-BY 2.0 (France) Attribution: tatoeba.org #2...</td>\n",
       "    </tr>\n",
       "    <tr>\n",
       "      <th>6407</th>\n",
       "      <td>Who built it?</td>\n",
       "      <td>Qui l'a bâtie ?</td>\n",
       "      <td>CC-BY 2.0 (France) Attribution: tatoeba.org #2...</td>\n",
       "    </tr>\n",
       "    <tr>\n",
       "      <th>179881</th>\n",
       "      <td>There is a nice park in the center of the town.</td>\n",
       "      <td>Il y a un chouette parc au centre de la ville.</td>\n",
       "      <td>CC-BY 2.0 (France) Attribution: tatoeba.org #4...</td>\n",
       "    </tr>\n",
       "  </tbody>\n",
       "</table>\n",
       "</div>"
      ],
      "text/plain": [
       "                                                     eng  \\\n",
       "45777                              Tom forgot to salute.   \n",
       "181757  Why didn't you tell us that there was a witness?   \n",
       "125162                  It may well rain before tonight.   \n",
       "6407                                       Who built it?   \n",
       "179881   There is a nice park in the center of the town.   \n",
       "\n",
       "                                                      fra  \\\n",
       "45777                               Tom oublia de saluer.   \n",
       "181757  Que ne nous as-tu pas dit qu'il y avait un tém...   \n",
       "125162         Il va certainement pleuvoir avant ce soir.   \n",
       "6407                                      Qui l'a bâtie ?   \n",
       "179881     Il y a un chouette parc au centre de la ville.   \n",
       "\n",
       "                                                       cc  \n",
       "45777   CC-BY 2.0 (France) Attribution: tatoeba.org #4...  \n",
       "181757  CC-BY 2.0 (France) Attribution: tatoeba.org #7...  \n",
       "125162  CC-BY 2.0 (France) Attribution: tatoeba.org #2...  \n",
       "6407    CC-BY 2.0 (France) Attribution: tatoeba.org #2...  \n",
       "179881  CC-BY 2.0 (France) Attribution: tatoeba.org #4...  "
      ]
     },
     "execution_count": 2,
     "metadata": {},
     "output_type": "execute_result"
    }
   ],
   "source": [
    "import os\n",
    "file_path = 'data/fra.txt'\n",
    "lines = pd.read_csv(file_path, names=['eng', 'fra', 'cc'], sep='\\t')\n",
    "print('전체 샘플의 수 :',len(lines))\n",
    "lines.sample(5) #샘플 5개 출력"
   ]
  },
  {
   "cell_type": "markdown",
   "id": "67558078",
   "metadata": {},
   "source": [
    "# Step0. 33,000개의 샘플만 사용"
   ]
  },
  {
   "cell_type": "code",
   "execution_count": 3,
   "id": "42d7f5ca",
   "metadata": {},
   "outputs": [
    {
     "data": {
      "text/html": [
       "<div>\n",
       "<style scoped>\n",
       "    .dataframe tbody tr th:only-of-type {\n",
       "        vertical-align: middle;\n",
       "    }\n",
       "\n",
       "    .dataframe tbody tr th {\n",
       "        vertical-align: top;\n",
       "    }\n",
       "\n",
       "    .dataframe thead th {\n",
       "        text-align: right;\n",
       "    }\n",
       "</style>\n",
       "<table border=\"1\" class=\"dataframe\">\n",
       "  <thead>\n",
       "    <tr style=\"text-align: right;\">\n",
       "      <th></th>\n",
       "      <th>eng</th>\n",
       "      <th>fra</th>\n",
       "    </tr>\n",
       "  </thead>\n",
       "  <tbody>\n",
       "    <tr>\n",
       "      <th>20410</th>\n",
       "      <td>Stop showing off!</td>\n",
       "      <td>Arrêtez de frimer !</td>\n",
       "    </tr>\n",
       "    <tr>\n",
       "      <th>28922</th>\n",
       "      <td>Get real, will you?</td>\n",
       "      <td>Soyez réaliste, voulez-vous ?</td>\n",
       "    </tr>\n",
       "    <tr>\n",
       "      <th>9282</th>\n",
       "      <td>We're winners.</td>\n",
       "      <td>Nous sommes des gagneurs.</td>\n",
       "    </tr>\n",
       "    <tr>\n",
       "      <th>16400</th>\n",
       "      <td>Tom seems angry.</td>\n",
       "      <td>Tom semble énervé.</td>\n",
       "    </tr>\n",
       "    <tr>\n",
       "      <th>18601</th>\n",
       "      <td>I drive a hybrid.</td>\n",
       "      <td>Je conduis un véhicule hybride.</td>\n",
       "    </tr>\n",
       "  </tbody>\n",
       "</table>\n",
       "</div>"
      ],
      "text/plain": [
       "                       eng                              fra\n",
       "20410    Stop showing off!              Arrêtez de frimer !\n",
       "28922  Get real, will you?    Soyez réaliste, voulez-vous ?\n",
       "9282        We're winners.        Nous sommes des gagneurs.\n",
       "16400     Tom seems angry.               Tom semble énervé.\n",
       "18601    I drive a hybrid.  Je conduis un véhicule hybride."
      ]
     },
     "execution_count": 3,
     "metadata": {},
     "output_type": "execute_result"
    }
   ],
   "source": [
    "lines = lines[['eng', 'fra']][:33000] # 3만3000개 샘플 사용\n",
    "lines.sample(5)"
   ]
  },
  {
   "cell_type": "code",
   "execution_count": 4,
   "id": "2646885b",
   "metadata": {},
   "outputs": [
    {
     "data": {
      "text/plain": [
       "eng    33000\n",
       "fra    33000\n",
       "dtype: int64"
      ]
     },
     "execution_count": 4,
     "metadata": {},
     "output_type": "execute_result"
    }
   ],
   "source": [
    "lines.count()"
   ]
  },
  {
   "cell_type": "code",
   "execution_count": 5,
   "id": "df853198",
   "metadata": {},
   "outputs": [
    {
     "data": {
      "text/html": [
       "<div>\n",
       "<style scoped>\n",
       "    .dataframe tbody tr th:only-of-type {\n",
       "        vertical-align: middle;\n",
       "    }\n",
       "\n",
       "    .dataframe tbody tr th {\n",
       "        vertical-align: top;\n",
       "    }\n",
       "\n",
       "    .dataframe thead th {\n",
       "        text-align: right;\n",
       "    }\n",
       "</style>\n",
       "<table border=\"1\" class=\"dataframe\">\n",
       "  <thead>\n",
       "    <tr style=\"text-align: right;\">\n",
       "      <th></th>\n",
       "      <th>eng</th>\n",
       "      <th>fra</th>\n",
       "    </tr>\n",
       "  </thead>\n",
       "  <tbody>\n",
       "    <tr>\n",
       "      <th>0</th>\n",
       "      <td>Go.</td>\n",
       "      <td>Va !</td>\n",
       "    </tr>\n",
       "    <tr>\n",
       "      <th>1</th>\n",
       "      <td>Go.</td>\n",
       "      <td>Marche.</td>\n",
       "    </tr>\n",
       "    <tr>\n",
       "      <th>2</th>\n",
       "      <td>Go.</td>\n",
       "      <td>En route !</td>\n",
       "    </tr>\n",
       "    <tr>\n",
       "      <th>3</th>\n",
       "      <td>Go.</td>\n",
       "      <td>Bouge !</td>\n",
       "    </tr>\n",
       "    <tr>\n",
       "      <th>4</th>\n",
       "      <td>Hi.</td>\n",
       "      <td>Salut !</td>\n",
       "    </tr>\n",
       "  </tbody>\n",
       "</table>\n",
       "</div>"
      ],
      "text/plain": [
       "   eng         fra\n",
       "0  Go.        Va !\n",
       "1  Go.     Marche.\n",
       "2  Go.  En route !\n",
       "3  Go.     Bouge !\n",
       "4  Hi.     Salut !"
      ]
     },
     "execution_count": 5,
     "metadata": {},
     "output_type": "execute_result"
    }
   ],
   "source": [
    "lines.head(5)"
   ]
  },
  {
   "cell_type": "markdown",
   "id": "c103ede8",
   "metadata": {},
   "source": [
    "# Step1. 정제,정규화,전처리 및 프랑스어 시작 ,끝 문자추가\n",
    "구두점(Punctuation)을 단어와 분리<br>\n",
    "소문자로 변경<br>\n",
    "띄어쓰기 단위로 토큰 수행<br>"
   ]
  },
  {
   "cell_type": "code",
   "execution_count": 6,
   "id": "73960dee",
   "metadata": {},
   "outputs": [],
   "source": [
    "import re\n",
    "def preprocess_sentence(sentence,is_decoder=False):\n",
    "    sentence = sentence.lower().strip() # 대문자를 소문자로, 양쪽공백 지우기\n",
    "    sentence = re.sub(r\"([?.!,¿])\", r\" \\1 \", sentence) # 특수문자 양쪽에 공백넣기\n",
    "    sentence = re.sub(r'[\" \"]+', \" \", sentence) # 여러개의 공백은 하나의 공백으로 바꾼다\n",
    "    sentence = re.sub(r\"[^a-zA-Z?.!,¿]+\", \" \", sentence) # a-zA-Z>.!,¿가 아닌 모든 문자를 하나의 공백으로 변경\n",
    "    sentence = sentence.strip() # 다시왼쪽 공백을 지운다\n",
    "    if is_decoder: # 디코더 인 경우만 수행\n",
    "        sentence = '<start> ' + sentence + ' <end>' # 문장 시작<start>, 끝에는<end> 추가\n",
    "    return sentence"
   ]
  },
  {
   "cell_type": "code",
   "execution_count": 7,
   "id": "8069d3ef",
   "metadata": {},
   "outputs": [],
   "source": [
    "lines.eng = lines.eng.apply(preprocess_sentence,is_decoder=False)"
   ]
  },
  {
   "cell_type": "code",
   "execution_count": 8,
   "id": "6a9ea657",
   "metadata": {},
   "outputs": [
    {
     "data": {
      "text/html": [
       "<div>\n",
       "<style scoped>\n",
       "    .dataframe tbody tr th:only-of-type {\n",
       "        vertical-align: middle;\n",
       "    }\n",
       "\n",
       "    .dataframe tbody tr th {\n",
       "        vertical-align: top;\n",
       "    }\n",
       "\n",
       "    .dataframe thead th {\n",
       "        text-align: right;\n",
       "    }\n",
       "</style>\n",
       "<table border=\"1\" class=\"dataframe\">\n",
       "  <thead>\n",
       "    <tr style=\"text-align: right;\">\n",
       "      <th></th>\n",
       "      <th>eng</th>\n",
       "      <th>fra</th>\n",
       "    </tr>\n",
       "  </thead>\n",
       "  <tbody>\n",
       "    <tr>\n",
       "      <th>0</th>\n",
       "      <td>go .</td>\n",
       "      <td>Va !</td>\n",
       "    </tr>\n",
       "    <tr>\n",
       "      <th>1</th>\n",
       "      <td>go .</td>\n",
       "      <td>Marche.</td>\n",
       "    </tr>\n",
       "    <tr>\n",
       "      <th>2</th>\n",
       "      <td>go .</td>\n",
       "      <td>En route !</td>\n",
       "    </tr>\n",
       "    <tr>\n",
       "      <th>3</th>\n",
       "      <td>go .</td>\n",
       "      <td>Bouge !</td>\n",
       "    </tr>\n",
       "    <tr>\n",
       "      <th>4</th>\n",
       "      <td>hi .</td>\n",
       "      <td>Salut !</td>\n",
       "    </tr>\n",
       "  </tbody>\n",
       "</table>\n",
       "</div>"
      ],
      "text/plain": [
       "    eng         fra\n",
       "0  go .        Va !\n",
       "1  go .     Marche.\n",
       "2  go .  En route !\n",
       "3  go .     Bouge !\n",
       "4  hi .     Salut !"
      ]
     },
     "execution_count": 8,
     "metadata": {},
     "output_type": "execute_result"
    }
   ],
   "source": [
    "lines.head(5)"
   ]
  },
  {
   "cell_type": "markdown",
   "id": "91accc20",
   "metadata": {},
   "source": [
    "### 프랑스어는 시작과 끝을 넣는다"
   ]
  },
  {
   "cell_type": "code",
   "execution_count": 9,
   "id": "4a8335c4",
   "metadata": {},
   "outputs": [],
   "source": [
    "lines.fra = lines.fra.apply(preprocess_sentence,is_decoder=True)"
   ]
  },
  {
   "cell_type": "code",
   "execution_count": 10,
   "id": "b567d2a7",
   "metadata": {},
   "outputs": [
    {
     "data": {
      "text/html": [
       "<div>\n",
       "<style scoped>\n",
       "    .dataframe tbody tr th:only-of-type {\n",
       "        vertical-align: middle;\n",
       "    }\n",
       "\n",
       "    .dataframe tbody tr th {\n",
       "        vertical-align: top;\n",
       "    }\n",
       "\n",
       "    .dataframe thead th {\n",
       "        text-align: right;\n",
       "    }\n",
       "</style>\n",
       "<table border=\"1\" class=\"dataframe\">\n",
       "  <thead>\n",
       "    <tr style=\"text-align: right;\">\n",
       "      <th></th>\n",
       "      <th>eng</th>\n",
       "      <th>fra</th>\n",
       "    </tr>\n",
       "  </thead>\n",
       "  <tbody>\n",
       "    <tr>\n",
       "      <th>0</th>\n",
       "      <td>go .</td>\n",
       "      <td>&lt;start&gt; va ! &lt;end&gt;</td>\n",
       "    </tr>\n",
       "    <tr>\n",
       "      <th>1</th>\n",
       "      <td>go .</td>\n",
       "      <td>&lt;start&gt; marche . &lt;end&gt;</td>\n",
       "    </tr>\n",
       "    <tr>\n",
       "      <th>2</th>\n",
       "      <td>go .</td>\n",
       "      <td>&lt;start&gt; en route ! &lt;end&gt;</td>\n",
       "    </tr>\n",
       "    <tr>\n",
       "      <th>3</th>\n",
       "      <td>go .</td>\n",
       "      <td>&lt;start&gt; bouge ! &lt;end&gt;</td>\n",
       "    </tr>\n",
       "    <tr>\n",
       "      <th>4</th>\n",
       "      <td>hi .</td>\n",
       "      <td>&lt;start&gt; salut ! &lt;end&gt;</td>\n",
       "    </tr>\n",
       "  </tbody>\n",
       "</table>\n",
       "</div>"
      ],
      "text/plain": [
       "    eng                       fra\n",
       "0  go .        <start> va ! <end>\n",
       "1  go .    <start> marche . <end>\n",
       "2  go .  <start> en route ! <end>\n",
       "3  go .     <start> bouge ! <end>\n",
       "4  hi .     <start> salut ! <end>"
      ]
     },
     "execution_count": 10,
     "metadata": {},
     "output_type": "execute_result"
    }
   ],
   "source": [
    "lines.head(5)"
   ]
  },
  {
   "cell_type": "markdown",
   "id": "9281ca9b",
   "metadata": {},
   "source": [
    "### Tokenizer는 !?. 를 포함하도록 수정"
   ]
  },
  {
   "cell_type": "code",
   "execution_count": 11,
   "id": "4739db29",
   "metadata": {},
   "outputs": [],
   "source": [
    "# filters='!\"#$%&()*+,-./:;<=>?@[\\\\]^_`{|}~\\t\\n' default값에서 !?.<> 만 제외시킨 필터 적용\n",
    "eng_tokenizer = Tokenizer(filters='\"#$%&()*+,-/:;=@[\\\\]^_`{|}~\\t\\n')\n",
    "eng_tokenizer.fit_on_texts(lines.eng)"
   ]
  },
  {
   "cell_type": "code",
   "execution_count": 12,
   "id": "6798e7b0",
   "metadata": {},
   "outputs": [],
   "source": [
    "fra_tokenizer = Tokenizer(filters='\"#$%&()*+,-/:;=@[\\\\]^_`{|}~\\t\\n')\n",
    "fra_tokenizer.fit_on_texts(lines.fra)"
   ]
  },
  {
   "cell_type": "code",
   "execution_count": 13,
   "id": "aca66ab5",
   "metadata": {},
   "outputs": [
    {
     "data": {
      "text/plain": [
       "1"
      ]
     },
     "execution_count": 13,
     "metadata": {},
     "output_type": "execute_result"
    }
   ],
   "source": [
    "eng_tokenizer.word_index['.']"
   ]
  },
  {
   "cell_type": "code",
   "execution_count": 14,
   "id": "06edc0c8",
   "metadata": {},
   "outputs": [
    {
     "data": {
      "text/plain": [
       "8"
      ]
     },
     "execution_count": 14,
     "metadata": {},
     "output_type": "execute_result"
    }
   ],
   "source": [
    "fra_tokenizer.word_index['!']"
   ]
  },
  {
   "cell_type": "markdown",
   "id": "673fcdce",
   "metadata": {},
   "source": [
    "# Step2. 케라스의 토크나이저로 텍스트를 숫자로 변경\n",
    "## tokenizer.text_to_sequences() 사용"
   ]
  },
  {
   "cell_type": "code",
   "execution_count": 15,
   "id": "fbb1075c",
   "metadata": {},
   "outputs": [
    {
     "data": {
      "text/plain": [
       "[[28, 1],\n",
       " [28, 1],\n",
       " [28, 1],\n",
       " [28, 1],\n",
       " [761, 1],\n",
       " [761, 1],\n",
       " [196, 23],\n",
       " [196, 23],\n",
       " [196, 23],\n",
       " [196, 23]]"
      ]
     },
     "execution_count": 15,
     "metadata": {},
     "output_type": "execute_result"
    }
   ],
   "source": [
    "input_text = eng_tokenizer.texts_to_sequences(lines.eng)    # 단어를 숫자값 인덱스로 변환하여 저장\n",
    "input_text[:10]"
   ]
  },
  {
   "cell_type": "code",
   "execution_count": 16,
   "id": "d3028ef1",
   "metadata": {},
   "outputs": [
    {
     "name": "stdout",
     "output_type": "stream",
     "text": [
      "go . \n",
      "go . \n",
      "go . \n",
      "go . \n",
      "hi . \n",
      "hi . \n",
      "run ! \n",
      "run ! \n",
      "run ! \n",
      "run ! \n"
     ]
    }
   ],
   "source": [
    "for sentence in input_text[:10]:\n",
    "    for idx in sentence:\n",
    "        print(eng_tokenizer.index_word[idx],end=' ')\n",
    "    print('')"
   ]
  },
  {
   "cell_type": "code",
   "execution_count": 17,
   "id": "a180295f",
   "metadata": {},
   "outputs": [
    {
     "data": {
      "text/plain": [
       "[[1, 75, 8, 2],\n",
       " [1, 365, 3, 2],\n",
       " [1, 28, 512, 8, 2],\n",
       " [1, 716, 8, 2],\n",
       " [1, 750, 8, 2],\n",
       " [1, 750, 3, 2],\n",
       " [1, 663, 8, 2],\n",
       " [1, 1879, 8, 2],\n",
       " [1, 178, 267, 1043, 267, 2620, 8, 2],\n",
       " [1, 1487, 8, 2]]"
      ]
     },
     "execution_count": 17,
     "metadata": {},
     "output_type": "execute_result"
    }
   ],
   "source": [
    "target_text = fra_tokenizer.texts_to_sequences(lines.fra)     # 단어를 숫자값 인덱스로 변환하여 저장\n",
    "target_text[:10]"
   ]
  },
  {
   "cell_type": "code",
   "execution_count": 18,
   "id": "4bb5d554",
   "metadata": {},
   "outputs": [
    {
     "name": "stdout",
     "output_type": "stream",
     "text": [
      "<start> va ! <end> \n",
      "<start> marche . <end> \n",
      "<start> en route ! <end> \n",
      "<start> bouge ! <end> \n",
      "<start> salut ! <end> \n",
      "<start> salut . <end> \n",
      "<start> cours ! <end> \n",
      "<start> courez ! <end> \n",
      "<start> prenez vos jambes vos cous ! <end> \n",
      "<start> file ! <end> \n"
     ]
    }
   ],
   "source": [
    "for sentence in target_text[:10]:\n",
    "    for idx in sentence:\n",
    "        print(fra_tokenizer.index_word[idx],end=' ')\n",
    "    print('')"
   ]
  },
  {
   "cell_type": "code",
   "execution_count": 19,
   "id": "c89e9ca1",
   "metadata": {},
   "outputs": [
    {
     "name": "stdout",
     "output_type": "stream",
     "text": [
      "영어 단어장의 크기 : 4671\n",
      "프랑스어 단어장의 크기 : 7454\n"
     ]
    }
   ],
   "source": [
    "eng_vocab_size = len(eng_tokenizer.word_index) + 1\n",
    "fra_vocab_size = len(fra_tokenizer.word_index) + 1\n",
    "print('영어 단어장의 크기 :', eng_vocab_size)\n",
    "print('프랑스어 단어장의 크기 :', fra_vocab_size)"
   ]
  },
  {
   "cell_type": "code",
   "execution_count": 20,
   "id": "f920bed5",
   "metadata": {},
   "outputs": [
    {
     "name": "stdout",
     "output_type": "stream",
     "text": [
      "영어 시퀀스의 최대 길이 8\n",
      "프랑스어 시퀀스의 최대 길이 17\n"
     ]
    }
   ],
   "source": [
    "max_eng_seq_len = max([len(line) for line in input_text])\n",
    "max_fra_seq_len = max([len(line) for line in target_text])\n",
    "print('영어 시퀀스의 최대 길이', max_eng_seq_len)\n",
    "print('프랑스어 시퀀스의 최대 길이', max_fra_seq_len)"
   ]
  },
  {
   "cell_type": "code",
   "execution_count": 21,
   "id": "e01ddff9",
   "metadata": {},
   "outputs": [
    {
     "name": "stdout",
     "output_type": "stream",
     "text": [
      "전체 샘플의 수 : 33000\n",
      "영어 단어장의 크기 : 4671\n",
      "프랑스어 단어장의 크기 : 7454\n",
      "영어 시퀀스의 최대 길이 8\n",
      "프랑스어 시퀀스의 최대 길이 17\n"
     ]
    }
   ],
   "source": [
    "print('전체 샘플의 수 :',len(lines))\n",
    "print('영어 단어장의 크기 :', eng_vocab_size)\n",
    "print('프랑스어 단어장의 크기 :', fra_vocab_size)\n",
    "print('영어 시퀀스의 최대 길이', max_eng_seq_len)\n",
    "print('프랑스어 시퀀스의 최대 길이', max_fra_seq_len)"
   ]
  },
  {
   "cell_type": "code",
   "execution_count": 22,
   "id": "5d53bfe7",
   "metadata": {},
   "outputs": [],
   "source": [
    "encoder_input = input_text\n",
    "# 종료 토큰 제거\n",
    "decoder_input = [[ word for word in line if word != fra_tokenizer.word_index['<end>'] ] for line in target_text] \n",
    "# 시작 토큰 제거\n",
    "decoder_target = [[ word for word in line if word != fra_tokenizer.word_index['<start>'] ] for line in target_text]"
   ]
  },
  {
   "cell_type": "code",
   "execution_count": 23,
   "id": "acca34c9",
   "metadata": {},
   "outputs": [],
   "source": [
    "encoder_input = pad_sequences(encoder_input, maxlen = max_eng_seq_len, padding='post')\n",
    "decoder_input = pad_sequences(decoder_input, maxlen = max_fra_seq_len, padding='post')\n",
    "decoder_target = pad_sequences(decoder_target, maxlen = max_fra_seq_len, padding='post')"
   ]
  },
  {
   "cell_type": "code",
   "execution_count": 24,
   "id": "8dacf6ab",
   "metadata": {},
   "outputs": [
    {
     "name": "stdout",
     "output_type": "stream",
     "text": [
      "[28  1  0  0  0  0  0  0]\n",
      "(33000, 8)\n",
      "[ 1 75  8  0  0  0  0  0  0  0  0  0  0  0  0  0  0]\n",
      "(33000, 17)\n",
      "[75  8  2  0  0  0  0  0  0  0  0  0  0  0  0  0  0]\n",
      "(33000, 17)\n"
     ]
    }
   ],
   "source": [
    "print(encoder_input[0])\n",
    "print(encoder_input.shape)\n",
    "print(decoder_input[0])\n",
    "print(decoder_input.shape)\n",
    "print(decoder_target[0])\n",
    "print(decoder_target.shape)"
   ]
  },
  {
   "cell_type": "code",
   "execution_count": 25,
   "id": "0356be8a",
   "metadata": {},
   "outputs": [
    {
     "name": "stdout",
     "output_type": "stream",
     "text": [
      "영어 학습데이터의 크기(shape) : (30000, 8)\n",
      "프랑스어 학습 입력데이터의 크기(shape) : (30000, 17)\n",
      "프랑스어 학습 출력데이터의 크기(shape) : (30000, 17)\n",
      "영어 테스트 데이터의 크기(shape) : (3000, 8)\n",
      "프랑스어 테스트 입력데이터의 크기(shape) : (3000, 17)\n",
      "프랑스어 테스트 출력데이터의 크기(shape) : (3000, 17)\n"
     ]
    }
   ],
   "source": [
    "n_of_val = 3000\n",
    "\n",
    "encoder_input_train = encoder_input[:-n_of_val]\n",
    "decoder_input_train = decoder_input[:-n_of_val]\n",
    "decoder_target_train = decoder_target[:-n_of_val]\n",
    "\n",
    "encoder_input_test = encoder_input[-n_of_val:]\n",
    "decoder_input_test = decoder_input[-n_of_val:]\n",
    "decoder_target_test = decoder_target[-n_of_val:]\n",
    "\n",
    "print('영어 학습데이터의 크기(shape) :',np.shape(encoder_input_train))\n",
    "print('프랑스어 학습 입력데이터의 크기(shape) :',np.shape(decoder_input_train))\n",
    "print('프랑스어 학습 출력데이터의 크기(shape) :',np.shape(decoder_target_train))\n",
    "\n",
    "print('영어 테스트 데이터의 크기(shape) :',np.shape(encoder_input_test))\n",
    "print('프랑스어 테스트 입력데이터의 크기(shape) :',np.shape(decoder_input_test))\n",
    "print('프랑스어 테스트 출력데이터의 크기(shape) :',np.shape(decoder_target_test))"
   ]
  },
  {
   "cell_type": "markdown",
   "id": "fa0f009f",
   "metadata": {},
   "source": [
    "# Step3. 임베딩 층(Embedding layer)사용하기\n",
    "주의할 점은 인코더와 디코더의 임베딩 층은 서로 다른 임베딩 층을 사용해야 하지만,\n",
    "디코더의 훈련 과정과 테스트 과정(예측 과정)에서의 임베딩 층은 동일해야 합니다!"
   ]
  },
  {
   "cell_type": "code",
   "execution_count": 26,
   "id": "4c447e47",
   "metadata": {},
   "outputs": [],
   "source": [
    "from tensorflow.keras.layers import Input, LSTM, Embedding, Dense, Masking\n",
    "from tensorflow.keras.models import Model\n",
    "\n",
    "embedding_vector_dim = 500\n",
    "hidden_size = 256\n",
    "\n",
    "encoder_inputs = Input(shape=(None,))\n",
    "enc_emb =  Embedding(input_dim=eng_vocab_size, \n",
    "                     output_dim=embedding_vector_dim,\n",
    "                     input_length=max_eng_seq_len)(encoder_inputs)\n",
    "\n",
    "encoder_masking =Masking(mask_value=0.0)(enc_emb)\n",
    "encoder_lstm = LSTM(hidden_size, return_state=True)\n",
    "encoder_outputs, state_h, state_c = encoder_lstm(encoder_masking)\n",
    "encoder_states = [state_h, state_c]"
   ]
  },
  {
   "cell_type": "code",
   "execution_count": 27,
   "id": "d9bc6caf",
   "metadata": {},
   "outputs": [],
   "source": [
    "decoder_inputs = Input(shape=(None,))\n",
    "dec_emb_layer =  Embedding(input_dim=fra_vocab_size, \n",
    "                     output_dim=embedding_vector_dim,\n",
    "                     input_length=max_fra_seq_len)\n",
    "\n",
    "dec_emb_out = dec_emb_layer(decoder_inputs)\n",
    "decoder_masking =Masking(mask_value=0.0)(dec_emb_out)\n",
    "decoder_lstm = LSTM(hidden_size,return_sequences=True, return_state=True)\n",
    "decoder_outputs, _, _ = decoder_lstm(decoder_masking, initial_state = encoder_states)\n",
    "decoder_softmax_layer = Dense(fra_vocab_size, activation='softmax')\n",
    "decoder_outputs_last = decoder_softmax_layer(decoder_outputs)"
   ]
  },
  {
   "cell_type": "code",
   "execution_count": null,
   "id": "d61bc965",
   "metadata": {},
   "outputs": [],
   "source": []
  },
  {
   "cell_type": "markdown",
   "id": "c7ecc0a2",
   "metadata": {},
   "source": [
    "# Step5. 모델구현"
   ]
  },
  {
   "cell_type": "code",
   "execution_count": 28,
   "id": "6d071c39",
   "metadata": {},
   "outputs": [
    {
     "name": "stdout",
     "output_type": "stream",
     "text": [
      "Model: \"model\"\n",
      "__________________________________________________________________________________________________\n",
      "Layer (type)                    Output Shape         Param #     Connected to                     \n",
      "==================================================================================================\n",
      "input_1 (InputLayer)            [(None, None)]       0                                            \n",
      "__________________________________________________________________________________________________\n",
      "input_2 (InputLayer)            [(None, None)]       0                                            \n",
      "__________________________________________________________________________________________________\n",
      "embedding (Embedding)           (None, None, 500)    2335500     input_1[0][0]                    \n",
      "__________________________________________________________________________________________________\n",
      "embedding_1 (Embedding)         (None, None, 500)    3727000     input_2[0][0]                    \n",
      "__________________________________________________________________________________________________\n",
      "masking (Masking)               (None, None, 500)    0           embedding[0][0]                  \n",
      "__________________________________________________________________________________________________\n",
      "masking_1 (Masking)             (None, None, 500)    0           embedding_1[0][0]                \n",
      "__________________________________________________________________________________________________\n",
      "lstm (LSTM)                     [(None, 256), (None, 775168      masking[0][0]                    \n",
      "__________________________________________________________________________________________________\n",
      "lstm_1 (LSTM)                   [(None, None, 256),  775168      masking_1[0][0]                  \n",
      "                                                                 lstm[0][1]                       \n",
      "                                                                 lstm[0][2]                       \n",
      "__________________________________________________________________________________________________\n",
      "dense (Dense)                   (None, None, 7454)   1915678     lstm_1[0][0]                     \n",
      "==================================================================================================\n",
      "Total params: 9,528,514\n",
      "Trainable params: 9,528,514\n",
      "Non-trainable params: 0\n",
      "__________________________________________________________________________________________________\n"
     ]
    }
   ],
   "source": [
    "model = Model([encoder_inputs, decoder_inputs], decoder_outputs_last)\n",
    "model.compile(optimizer=\"rmsprop\", loss=\"sparse_categorical_crossentropy\")\n",
    "model.summary()"
   ]
  },
  {
   "cell_type": "code",
   "execution_count": 29,
   "id": "6a067fff",
   "metadata": {},
   "outputs": [
    {
     "name": "stdout",
     "output_type": "stream",
     "text": [
      "Epoch 1/20\n",
      "235/235 [==============================] - 23s 70ms/step - loss: 1.7693 - val_loss: 1.6800\n",
      "Epoch 2/20\n",
      "235/235 [==============================] - 14s 61ms/step - loss: 1.2310 - val_loss: 1.4184\n",
      "Epoch 3/20\n",
      "235/235 [==============================] - 15s 62ms/step - loss: 1.0387 - val_loss: 1.2923\n",
      "Epoch 4/20\n",
      "235/235 [==============================] - 15s 62ms/step - loss: 0.9201 - val_loss: 1.2054\n",
      "Epoch 5/20\n",
      "235/235 [==============================] - 15s 62ms/step - loss: 0.8309 - val_loss: 1.1542\n",
      "Epoch 6/20\n",
      "235/235 [==============================] - 14s 62ms/step - loss: 0.7602 - val_loss: 1.1077\n",
      "Epoch 7/20\n",
      "235/235 [==============================] - 14s 61ms/step - loss: 0.7009 - val_loss: 1.0799\n",
      "Epoch 8/20\n",
      "235/235 [==============================] - 14s 62ms/step - loss: 0.6487 - val_loss: 1.0393\n",
      "Epoch 9/20\n",
      "235/235 [==============================] - 14s 61ms/step - loss: 0.6018 - val_loss: 1.0262\n",
      "Epoch 10/20\n",
      "235/235 [==============================] - 14s 62ms/step - loss: 0.5618 - val_loss: 1.0191\n",
      "Epoch 11/20\n",
      "235/235 [==============================] - 14s 62ms/step - loss: 0.5257 - val_loss: 0.9980\n",
      "Epoch 12/20\n",
      "235/235 [==============================] - 14s 62ms/step - loss: 0.4920 - val_loss: 0.9854\n",
      "Epoch 13/20\n",
      "235/235 [==============================] - 15s 63ms/step - loss: 0.4622 - val_loss: 0.9787\n",
      "Epoch 14/20\n",
      "235/235 [==============================] - 15s 63ms/step - loss: 0.4360 - val_loss: 0.9818\n",
      "Epoch 15/20\n",
      "235/235 [==============================] - 15s 63ms/step - loss: 0.4129 - val_loss: 0.9696\n",
      "Epoch 16/20\n",
      "235/235 [==============================] - 15s 62ms/step - loss: 0.3901 - val_loss: 0.9690\n",
      "Epoch 17/20\n",
      "235/235 [==============================] - 15s 62ms/step - loss: 0.3709 - val_loss: 0.9773\n",
      "Epoch 18/20\n",
      "235/235 [==============================] - 15s 62ms/step - loss: 0.3531 - val_loss: 0.9739\n",
      "Epoch 19/20\n",
      "235/235 [==============================] - 15s 62ms/step - loss: 0.3364 - val_loss: 0.9757\n",
      "Epoch 20/20\n",
      "235/235 [==============================] - 15s 63ms/step - loss: 0.3206 - val_loss: 0.9843\n"
     ]
    }
   ],
   "source": [
    "history=model.fit(x=[encoder_input_train, decoder_input_train], y=decoder_target_train, \\\n",
    "          validation_data = ([encoder_input_test, decoder_input_test], decoder_target_test),\n",
    "          batch_size=128, epochs=20)"
   ]
  },
  {
   "cell_type": "code",
   "execution_count": 32,
   "id": "a42171a9",
   "metadata": {},
   "outputs": [
    {
     "data": {
      "image/png": "[encoded data removed]",
      "text/plain": [
       "<Figure size 640x480 with 1 Axes>"
      ]
     },
     "metadata": {},
     "output_type": "display_data"
    }
   ],
   "source": [
    "import matplotlib.pyplot as plt\n",
    "y_vloss = history.history['val_loss']\n",
    "y_loss = history.history['loss']\n",
    "\n",
    "x_len = np.arange(len(y_loss))\n",
    "plt.plot(x_len, y_vloss, marker='.', c='red', label=\"Validation-set Loss\")\n",
    "plt.plot(x_len, y_loss, marker='.', c='blue', label=\"Train-set Loss\")\n",
    "\n",
    "plt.legend(loc='upper right')\n",
    "plt.grid()\n",
    "plt.xlabel('epoch')\n",
    "plt.ylabel('loss')\n",
    "plt.show()"
   ]
  },
  {
   "cell_type": "markdown",
   "id": "ff0be956",
   "metadata": {},
   "source": [
    "# Step6. 모델평가"
   ]
  },
  {
   "cell_type": "code",
   "execution_count": 33,
   "id": "e3d363f0",
   "metadata": {},
   "outputs": [
    {
     "name": "stdout",
     "output_type": "stream",
     "text": [
      "Model: \"model_1\"\n",
      "_________________________________________________________________\n",
      "Layer (type)                 Output Shape              Param #   \n",
      "=================================================================\n",
      "input_1 (InputLayer)         [(None, None)]            0         \n",
      "_________________________________________________________________\n",
      "embedding (Embedding)        (None, None, 500)         2335500   \n",
      "_________________________________________________________________\n",
      "masking (Masking)            (None, None, 500)         0         \n",
      "_________________________________________________________________\n",
      "lstm (LSTM)                  [(None, 256), (None, 256) 775168    \n",
      "=================================================================\n",
      "Total params: 3,110,668\n",
      "Trainable params: 3,110,668\n",
      "Non-trainable params: 0\n",
      "_________________________________________________________________\n"
     ]
    }
   ],
   "source": [
    "encoder_model = Model(inputs = encoder_inputs, outputs = encoder_states)\n",
    "encoder_model.summary()"
   ]
  },
  {
   "cell_type": "code",
   "execution_count": 34,
   "id": "56bc6d31",
   "metadata": {},
   "outputs": [],
   "source": [
    "# 이전 time step의 hidden state를 저장하는 텐서\n",
    "decoder_state_input_h = Input(shape=(hidden_size,))\n",
    "# 이전 time step의 cell state를 저장하는 텐서\n",
    "decoder_state_input_c = Input(shape=(hidden_size,))\n",
    "# 이전 time step의 hidden state와 cell state를 하나의 변수에 저장\n",
    "decoder_states_inputs = [decoder_state_input_h, decoder_state_input_c]\n",
    "\n",
    "dec_emb_out_test = dec_emb_layer(decoder_inputs)\n",
    "# decoder_states_inputs를 현재 time step의 초기 상태로 사용.\n",
    "# 구체적인 동작 자체는 def decode_sequence()에 구현.\n",
    "decoder_outputs_test, state_h_test, state_c_test = decoder_lstm(dec_emb_out_test, initial_state = decoder_states_inputs)\n",
    "# 현재 time step의 hidden state와 cell state를 하나의 변수에 저장.\n",
    "decoder_states_test = [state_h_test, state_c_test]"
   ]
  },
  {
   "cell_type": "code",
   "execution_count": 35,
   "id": "d7b14845",
   "metadata": {},
   "outputs": [
    {
     "name": "stdout",
     "output_type": "stream",
     "text": [
      "Model: \"model_2\"\n",
      "__________________________________________________________________________________________________\n",
      "Layer (type)                    Output Shape         Param #     Connected to                     \n",
      "==================================================================================================\n",
      "input_2 (InputLayer)            [(None, None)]       0                                            \n",
      "__________________________________________________________________________________________________\n",
      "embedding_1 (Embedding)         (None, None, 500)    3727000     input_2[0][0]                    \n",
      "__________________________________________________________________________________________________\n",
      "input_3 (InputLayer)            [(None, 256)]        0                                            \n",
      "__________________________________________________________________________________________________\n",
      "input_4 (InputLayer)            [(None, 256)]        0                                            \n",
      "__________________________________________________________________________________________________\n",
      "lstm_1 (LSTM)                   [(None, None, 256),  775168      embedding_1[1][0]                \n",
      "                                                                 input_3[0][0]                    \n",
      "                                                                 input_4[0][0]                    \n",
      "__________________________________________________________________________________________________\n",
      "dense (Dense)                   (None, None, 7454)   1915678     lstm_1[1][0]                     \n",
      "==================================================================================================\n",
      "Total params: 6,417,846\n",
      "Trainable params: 6,417,846\n",
      "Non-trainable params: 0\n",
      "__________________________________________________________________________________________________\n"
     ]
    }
   ],
   "source": [
    "decoder_outputs_test_last = decoder_softmax_layer(decoder_outputs_test)\n",
    "decoder_model = Model(inputs=[decoder_inputs] + decoder_states_inputs, \n",
    "                      outputs=[decoder_outputs_test_last] + decoder_states_test)\n",
    "decoder_model.summary()"
   ]
  },
  {
   "cell_type": "code",
   "execution_count": 36,
   "id": "90a54170",
   "metadata": {},
   "outputs": [],
   "source": [
    "eng2idx = eng_tokenizer.word_index\n",
    "fra2idx = fra_tokenizer.word_index\n",
    "idx2eng = eng_tokenizer.index_word\n",
    "idx2fra = fra_tokenizer.index_word"
   ]
  },
  {
   "cell_type": "code",
   "execution_count": 37,
   "id": "a4df61d9",
   "metadata": {},
   "outputs": [
    {
     "data": {
      "text/plain": [
       "7453"
      ]
     },
     "execution_count": 37,
     "metadata": {},
     "output_type": "execute_result"
    }
   ],
   "source": [
    "len(idx2fra)"
   ]
  },
  {
   "cell_type": "code",
   "execution_count": 40,
   "id": "41efc049",
   "metadata": {},
   "outputs": [],
   "source": [
    "def decode_sequence(input_seq):\n",
    "    # 입력으로부터 인코더의 상태를 얻음\n",
    "    states_value = encoder_model.predict(input_seq)\n",
    "\n",
    "    # <start>에 해당하는벡터 생성\n",
    "    target_seq = np.zeros((1,1)) \n",
    "    target_seq[0, 0] = fra2idx['<start>']\n",
    "    \n",
    "    stop_condition = False\n",
    "    decoded_sentence = \"\"\n",
    "\n",
    "    # stop_condition이 True가 될 때까지 루프 반복\n",
    "    while not stop_condition:\n",
    "        # 이점 시점의 상태 states_value를 현 시점의 초기 상태로 사용\n",
    "        output_tokens, h, c = decoder_model.predict([target_seq] + states_value)\n",
    "\n",
    "        # 예측 결과를 문자로 변환\n",
    "        sampled_token_index = np.argmax(output_tokens[0, -1, :])\n",
    "        sampled_word = idx2fra[sampled_token_index]\n",
    "\n",
    "        # 현재 시점의 예측 문자를 예측 문장에 추가\n",
    "        decoded_sentence += ' '+sampled_word\n",
    "\n",
    "        # <end>에 도달하거나 최대 길이를 넘으면 중단.\n",
    "        if (sampled_word == '<end>' or\n",
    "           len(decoded_sentence) > max_fra_seq_len):\n",
    "            stop_condition = True\n",
    "\n",
    "        # 현재 시점의 예측 결과를 다음 시점의 입력으로 사용하기 위해 저장     \n",
    "        target_seq = np.zeros((1, 1))\n",
    "        target_seq[0, 0] = sampled_token_index\n",
    "\n",
    "        # 현재 시점의 상태를 다음 시점의 상태로 사용하기 위해 저장\n",
    "        states_value = [h, c]\n",
    "\n",
    "    return decoded_sentence"
   ]
  },
  {
   "cell_type": "code",
   "execution_count": 44,
   "id": "390f9320",
   "metadata": {},
   "outputs": [
    {
     "name": "stdout",
     "output_type": "stream",
     "text": [
      "-----------------------------------\n",
      "입력 문장: go .\n",
      "정답 문장: <start> bouge ! <end>\n",
      "번역기가 번역한 문장:  va y ! <end>\n",
      "-----------------------------------\n",
      "입력 문장: hello !\n",
      "정답 문장: <start> bonjour ! <end>\n",
      "번역기가 번역한 문장:  bonjour ! <end>\n",
      "-----------------------------------\n",
      "입력 문장: got it ?\n",
      "정답 문장: <start> t as capt ? <end>\n",
      "번역기가 번역한 문장:  a t il ? <end>\n",
      "-----------------------------------\n",
      "입력 문장: hang on .\n",
      "정답 문장: <start> tiens bon ! <end>\n",
      "번역기가 번역한 문장:  attendez . <end>\n",
      "-----------------------------------\n",
      "입력 문장: here s .\n",
      "정답 문장: <start> voil cinq dollars . <end>\n",
      "번역기가 번역한 문장:  tenez vous en voil\n"
     ]
    }
   ],
   "source": [
    "import numpy as np\n",
    "for seq_index in [3,50,100,300,1001]: # 입력 문장의 인덱스 (자유롭게 선택해 보세요)\n",
    "    input_seq = encoder_input[seq_index: seq_index + 1]\n",
    "    decoded_sentence = decode_sequence(input_seq)\n",
    "    print(35 * \"-\")\n",
    "    print('입력 문장:', lines.eng[seq_index])\n",
    "    print('정답 문장:', lines.fra[seq_index])\n",
    "    print('번역기가 번역한 문장:', decoded_sentence)"
   ]
  },
  {
   "cell_type": "markdown",
   "id": "e90905c2",
   "metadata": {},
   "source": [
    "-----------------------------------\n",
    "입력 문장: go .\n",
    "정답 문장: <start> bouge ! <end>\n",
    "번역기가 번역한 문장:  va y ! <end>\n",
    "정답 문장      ->한글: 이동하다!\n",
    "번역기 번역문장->한글: 가다!\n",
    "-----------------------------------\n",
    "입력 문장: hello !\n",
    "정답 문장: <start> bonjour ! <end>\n",
    "번역기가 번역한 문장:  bonjour ! <end>\n",
    "정답 문장      ->한글: 여보세요 !\n",
    "번역기 번역문장->한글: 여보세요 !\n",
    "-----------------------------------\n",
    "입력 문장: got it ?\n",
    "정답 문장: <start> t as capt ? <end>\n",
    "번역기가 번역한 문장:  a t il ? <end>\n",
    "정답 문장      ->한글: 잡았어?\n",
    "번역기 번역문장->한글: 그는 가지고 있습니까?\n",
    "-----------------------------------\n",
    "입력 문장: hang on .\n",
    "정답 문장: <start> tiens bon ! <end>\n",
    "번역기가 번역한 문장:  attendez . <end>\n",
    "정답 문장      ->한글: 기다리다 !\n",
    "번역기 번역문장->한글: 기다리다 .\n",
    "-----------------------------------\n",
    "입력 문장: here s .\n",
    "정답 문장: <start> voil cinq dollars . <end>\n",
    "번역기가 번역한 문장:  tenez vous en voil\n",
    "정답 문장      ->한글: 여기 5달러입니다.\n",
    "번역기 번역문장->한글: 기다리다"
   ]
  }
 ],
 "metadata": {
  "kernelspec": {
   "display_name": "Python 3 (ipykernel)",
   "language": "python",
   "name": "python3"
  },
  "language_info": {
   "codemirror_mode": {
    "name": "ipython",
    "version": 3
   },
   "file_extension": ".py",
   "mimetype": "text/x-python",
   "name": "python",
   "nbconvert_exporter": "python",
   "pygments_lexer": "ipython3",
   "version": "3.9.7"
  }
 },
 "nbformat": 4,
 "nbformat_minor": 5
}
