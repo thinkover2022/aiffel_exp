{
 "cells": [
  {
   "cell_type": "markdown",
   "id": "036e2ff8",
   "metadata": {},
   "source": [
    "# 13-9. 프로젝트 - Movielens 영화 추천 실습\n",
    "이전 스텝에서 배운 MF 모델 학습 방법을 토대로, 내가 좋아할 만한 영화 추천 시스템을 제작해 보겠습니다.\n",
    "\n",
    "이번에 활용할 데이터셋은 추천 시스템의 MNIST라고 부를만한 Movielens 데이터입니다.\n",
    "\n",
    "- 유저가 영화에 대해 평점을 매긴 데이터가 데이터 크기 별로 있습니다. MovieLens 1M Dataset 사용을 권장합니다.<br>\n",
    "- 별점 데이터는 대표적인 explicit 데이터입니다. 하지만 implicit 데이터로 간주하고 테스트해 볼 수 있습니다.<br>\n",
    "- 별점을 시청횟수로 해석해서 생각하겠습니다.<br>\n",
    "- 또한 유저가 3점 미만으로 준 데이터는 선호하지 않는다고 가정하고 제외하겠습니다.<br>\n",
    "\n"
   ]
  },
  {
   "cell_type": "code",
   "execution_count": 192,
   "id": "575a99c3",
   "metadata": {},
   "outputs": [
    {
     "name": "stdout",
     "output_type": "stream",
     "text": [
      "1.19.5\n",
      "1.9.3\n",
      "0.4.8\n"
     ]
    }
   ],
   "source": [
    "import numpy as np\n",
    "import scipy\n",
    "import implicit\n",
    "\n",
    "print(np.__version__)\n",
    "print(scipy.__version__)\n",
    "print(implicit.__version__)"
   ]
  },
  {
   "cell_type": "markdown",
   "id": "754cf9fb",
   "metadata": {},
   "source": [
    "# 1) 데이터 준비와 전처리\n",
    "---\n",
    "Movielens 데이터는 rating.dat 안에 이미 인덱싱까지 완료된 사용자-영화-평점 데이터가 깔끔하게 정리되어 있습니다."
   ]
  },
  {
   "cell_type": "code",
   "execution_count": 193,
   "id": "1a925404",
   "metadata": {},
   "outputs": [
    {
     "data": {
      "text/html": [
       "<div>\n",
       "<style scoped>\n",
       "    .dataframe tbody tr th:only-of-type {\n",
       "        vertical-align: middle;\n",
       "    }\n",
       "\n",
       "    .dataframe tbody tr th {\n",
       "        vertical-align: top;\n",
       "    }\n",
       "\n",
       "    .dataframe thead th {\n",
       "        text-align: right;\n",
       "    }\n",
       "</style>\n",
       "<table border=\"1\" class=\"dataframe\">\n",
       "  <thead>\n",
       "    <tr style=\"text-align: right;\">\n",
       "      <th></th>\n",
       "      <th>user_id</th>\n",
       "      <th>movie_id</th>\n",
       "      <th>ratings</th>\n",
       "      <th>timestamp</th>\n",
       "    </tr>\n",
       "  </thead>\n",
       "  <tbody>\n",
       "    <tr>\n",
       "      <th>0</th>\n",
       "      <td>1</td>\n",
       "      <td>1193</td>\n",
       "      <td>5</td>\n",
       "      <td>978300760</td>\n",
       "    </tr>\n",
       "    <tr>\n",
       "      <th>1</th>\n",
       "      <td>1</td>\n",
       "      <td>661</td>\n",
       "      <td>3</td>\n",
       "      <td>978302109</td>\n",
       "    </tr>\n",
       "    <tr>\n",
       "      <th>2</th>\n",
       "      <td>1</td>\n",
       "      <td>914</td>\n",
       "      <td>3</td>\n",
       "      <td>978301968</td>\n",
       "    </tr>\n",
       "    <tr>\n",
       "      <th>3</th>\n",
       "      <td>1</td>\n",
       "      <td>3408</td>\n",
       "      <td>4</td>\n",
       "      <td>978300275</td>\n",
       "    </tr>\n",
       "    <tr>\n",
       "      <th>4</th>\n",
       "      <td>1</td>\n",
       "      <td>2355</td>\n",
       "      <td>5</td>\n",
       "      <td>978824291</td>\n",
       "    </tr>\n",
       "  </tbody>\n",
       "</table>\n",
       "</div>"
      ],
      "text/plain": [
       "   user_id  movie_id  ratings  timestamp\n",
       "0        1      1193        5  978300760\n",
       "1        1       661        3  978302109\n",
       "2        1       914        3  978301968\n",
       "3        1      3408        4  978300275\n",
       "4        1      2355        5  978824291"
      ]
     },
     "execution_count": 193,
     "metadata": {},
     "output_type": "execute_result"
    }
   ],
   "source": [
    "import os\n",
    "import pandas as pd\n",
    "rating_file_path='./data/ml-1m/ratings.dat'\n",
    "ratings_cols = ['user_id', 'movie_id', 'ratings', 'timestamp']\n",
    "ratings = pd.read_csv(rating_file_path, sep='::', names=ratings_cols, engine='python', encoding = \"ISO-8859-1\")\n",
    "orginal_data_size = len(ratings)\n",
    "ratings.head()"
   ]
  },
  {
   "cell_type": "code",
   "execution_count": 194,
   "id": "f1c7acc3",
   "metadata": {},
   "outputs": [
    {
     "name": "stdout",
     "output_type": "stream",
     "text": [
      "orginal_data_size: 1000209, filtered_data_size: 836478\n",
      "Ratio of Remaining Data is 83.63%\n"
     ]
    }
   ],
   "source": [
    "# 3점 이상만 남깁니다.\n",
    "ratings = ratings[ratings['ratings']>=3]\n",
    "filtered_data_size = len(ratings)\n",
    "\n",
    "print(f'orginal_data_size: {orginal_data_size}, filtered_data_size: {filtered_data_size}')\n",
    "print(f'Ratio of Remaining Data is {filtered_data_size / orginal_data_size:.2%}')"
   ]
  },
  {
   "cell_type": "code",
   "execution_count": 195,
   "id": "7632d8db",
   "metadata": {},
   "outputs": [],
   "source": [
    "# ratings 컬럼의 이름을 counts로 바꿉니다.\n",
    "ratings.rename(columns={'ratings':'counts'}, inplace=True)"
   ]
  },
  {
   "cell_type": "code",
   "execution_count": 196,
   "id": "6c60f825",
   "metadata": {},
   "outputs": [
    {
     "data": {
      "text/html": [
       "<div>\n",
       "<style scoped>\n",
       "    .dataframe tbody tr th:only-of-type {\n",
       "        vertical-align: middle;\n",
       "    }\n",
       "\n",
       "    .dataframe tbody tr th {\n",
       "        vertical-align: top;\n",
       "    }\n",
       "\n",
       "    .dataframe thead th {\n",
       "        text-align: right;\n",
       "    }\n",
       "</style>\n",
       "<table border=\"1\" class=\"dataframe\">\n",
       "  <thead>\n",
       "    <tr style=\"text-align: right;\">\n",
       "      <th></th>\n",
       "      <th>user_id</th>\n",
       "      <th>movie_id</th>\n",
       "      <th>counts</th>\n",
       "      <th>timestamp</th>\n",
       "    </tr>\n",
       "  </thead>\n",
       "  <tbody>\n",
       "    <tr>\n",
       "      <th>0</th>\n",
       "      <td>1</td>\n",
       "      <td>1193</td>\n",
       "      <td>5</td>\n",
       "      <td>978300760</td>\n",
       "    </tr>\n",
       "    <tr>\n",
       "      <th>1</th>\n",
       "      <td>1</td>\n",
       "      <td>661</td>\n",
       "      <td>3</td>\n",
       "      <td>978302109</td>\n",
       "    </tr>\n",
       "    <tr>\n",
       "      <th>2</th>\n",
       "      <td>1</td>\n",
       "      <td>914</td>\n",
       "      <td>3</td>\n",
       "      <td>978301968</td>\n",
       "    </tr>\n",
       "    <tr>\n",
       "      <th>3</th>\n",
       "      <td>1</td>\n",
       "      <td>3408</td>\n",
       "      <td>4</td>\n",
       "      <td>978300275</td>\n",
       "    </tr>\n",
       "    <tr>\n",
       "      <th>4</th>\n",
       "      <td>1</td>\n",
       "      <td>2355</td>\n",
       "      <td>5</td>\n",
       "      <td>978824291</td>\n",
       "    </tr>\n",
       "  </tbody>\n",
       "</table>\n",
       "</div>"
      ],
      "text/plain": [
       "   user_id  movie_id  counts  timestamp\n",
       "0        1      1193       5  978300760\n",
       "1        1       661       3  978302109\n",
       "2        1       914       3  978301968\n",
       "3        1      3408       4  978300275\n",
       "4        1      2355       5  978824291"
      ]
     },
     "execution_count": 196,
     "metadata": {},
     "output_type": "execute_result"
    }
   ],
   "source": [
    "ratings.head()"
   ]
  },
  {
   "cell_type": "code",
   "execution_count": 197,
   "id": "38656826",
   "metadata": {},
   "outputs": [
    {
     "data": {
      "text/html": [
       "<div>\n",
       "<style scoped>\n",
       "    .dataframe tbody tr th:only-of-type {\n",
       "        vertical-align: middle;\n",
       "    }\n",
       "\n",
       "    .dataframe tbody tr th {\n",
       "        vertical-align: top;\n",
       "    }\n",
       "\n",
       "    .dataframe thead th {\n",
       "        text-align: right;\n",
       "    }\n",
       "</style>\n",
       "<table border=\"1\" class=\"dataframe\">\n",
       "  <thead>\n",
       "    <tr style=\"text-align: right;\">\n",
       "      <th></th>\n",
       "      <th>movie_id</th>\n",
       "      <th>title</th>\n",
       "      <th>genre</th>\n",
       "    </tr>\n",
       "  </thead>\n",
       "  <tbody>\n",
       "    <tr>\n",
       "      <th>0</th>\n",
       "      <td>1</td>\n",
       "      <td>Toy Story (1995)</td>\n",
       "      <td>Animation|Children's|Comedy</td>\n",
       "    </tr>\n",
       "    <tr>\n",
       "      <th>1</th>\n",
       "      <td>2</td>\n",
       "      <td>Jumanji (1995)</td>\n",
       "      <td>Adventure|Children's|Fantasy</td>\n",
       "    </tr>\n",
       "    <tr>\n",
       "      <th>2</th>\n",
       "      <td>3</td>\n",
       "      <td>Grumpier Old Men (1995)</td>\n",
       "      <td>Comedy|Romance</td>\n",
       "    </tr>\n",
       "    <tr>\n",
       "      <th>3</th>\n",
       "      <td>4</td>\n",
       "      <td>Waiting to Exhale (1995)</td>\n",
       "      <td>Comedy|Drama</td>\n",
       "    </tr>\n",
       "    <tr>\n",
       "      <th>4</th>\n",
       "      <td>5</td>\n",
       "      <td>Father of the Bride Part II (1995)</td>\n",
       "      <td>Comedy</td>\n",
       "    </tr>\n",
       "  </tbody>\n",
       "</table>\n",
       "</div>"
      ],
      "text/plain": [
       "   movie_id                               title                         genre\n",
       "0         1                    Toy Story (1995)   Animation|Children's|Comedy\n",
       "1         2                      Jumanji (1995)  Adventure|Children's|Fantasy\n",
       "2         3             Grumpier Old Men (1995)                Comedy|Romance\n",
       "3         4            Waiting to Exhale (1995)                  Comedy|Drama\n",
       "4         5  Father of the Bride Part II (1995)                        Comedy"
      ]
     },
     "execution_count": 197,
     "metadata": {},
     "output_type": "execute_result"
    }
   ],
   "source": [
    "# 영화 제목을 보기 위해 메타 데이터를 읽어옵니다.\n",
    "movie_file_path='./data/ml-1m/movies.dat'\n",
    "cols = ['movie_id', 'title', 'genre'] \n",
    "movies = pd.read_csv(movie_file_path, sep='::', names=cols, engine='python', encoding='ISO-8859-1')\n",
    "movies.head()"
   ]
  },
  {
   "cell_type": "markdown",
   "id": "50ea755b",
   "metadata": {},
   "source": [
    "여기까지가 전처리입니다. 이후에는 이전 스텝에 소개했던 것과 동일한 방식으로 MF model을 구성하여 내가 좋아할 만한 영화를 추천해 볼 수 있습니다."
   ]
  },
  {
   "cell_type": "markdown",
   "id": "53fd9ae4",
   "metadata": {},
   "source": [
    "# 2) 분석해 봅시다.\n",
    "---\n",
    "- ratings에 있는 유니크한 영화 개수<br>\n",
    "- ratings에 있는 유니크한 사용자 수<br>\n",
    "- 가장 인기 있는 영화 30개(인기순)<br>"
   ]
  },
  {
   "cell_type": "code",
   "execution_count": 198,
   "id": "7b91f4d3",
   "metadata": {},
   "outputs": [
    {
     "data": {
      "text/html": [
       "<div>\n",
       "<style scoped>\n",
       "    .dataframe tbody tr th:only-of-type {\n",
       "        vertical-align: middle;\n",
       "    }\n",
       "\n",
       "    .dataframe tbody tr th {\n",
       "        vertical-align: top;\n",
       "    }\n",
       "\n",
       "    .dataframe thead th {\n",
       "        text-align: right;\n",
       "    }\n",
       "</style>\n",
       "<table border=\"1\" class=\"dataframe\">\n",
       "  <thead>\n",
       "    <tr style=\"text-align: right;\">\n",
       "      <th></th>\n",
       "      <th>user_id</th>\n",
       "      <th>movie_id</th>\n",
       "      <th>counts</th>\n",
       "      <th>timestamp</th>\n",
       "      <th>title</th>\n",
       "    </tr>\n",
       "  </thead>\n",
       "  <tbody>\n",
       "    <tr>\n",
       "      <th>0</th>\n",
       "      <td>1</td>\n",
       "      <td>1193</td>\n",
       "      <td>5</td>\n",
       "      <td>978300760</td>\n",
       "      <td>One Flew Over the Cuckoo's Nest (1975)</td>\n",
       "    </tr>\n",
       "    <tr>\n",
       "      <th>1</th>\n",
       "      <td>1</td>\n",
       "      <td>661</td>\n",
       "      <td>3</td>\n",
       "      <td>978302109</td>\n",
       "      <td>James and the Giant Peach (1996)</td>\n",
       "    </tr>\n",
       "    <tr>\n",
       "      <th>2</th>\n",
       "      <td>1</td>\n",
       "      <td>914</td>\n",
       "      <td>3</td>\n",
       "      <td>978301968</td>\n",
       "      <td>My Fair Lady (1964)</td>\n",
       "    </tr>\n",
       "    <tr>\n",
       "      <th>3</th>\n",
       "      <td>1</td>\n",
       "      <td>3408</td>\n",
       "      <td>4</td>\n",
       "      <td>978300275</td>\n",
       "      <td>Erin Brockovich (2000)</td>\n",
       "    </tr>\n",
       "    <tr>\n",
       "      <th>4</th>\n",
       "      <td>1</td>\n",
       "      <td>2355</td>\n",
       "      <td>5</td>\n",
       "      <td>978824291</td>\n",
       "      <td>Bug's Life, A (1998)</td>\n",
       "    </tr>\n",
       "    <tr>\n",
       "      <th>...</th>\n",
       "      <td>...</td>\n",
       "      <td>...</td>\n",
       "      <td>...</td>\n",
       "      <td>...</td>\n",
       "      <td>...</td>\n",
       "    </tr>\n",
       "    <tr>\n",
       "      <th>836473</th>\n",
       "      <td>6040</td>\n",
       "      <td>1090</td>\n",
       "      <td>3</td>\n",
       "      <td>956715518</td>\n",
       "      <td>Platoon (1986)</td>\n",
       "    </tr>\n",
       "    <tr>\n",
       "      <th>836474</th>\n",
       "      <td>6040</td>\n",
       "      <td>1094</td>\n",
       "      <td>5</td>\n",
       "      <td>956704887</td>\n",
       "      <td>Crying Game, The (1992)</td>\n",
       "    </tr>\n",
       "    <tr>\n",
       "      <th>836475</th>\n",
       "      <td>6040</td>\n",
       "      <td>562</td>\n",
       "      <td>5</td>\n",
       "      <td>956704746</td>\n",
       "      <td>Welcome to the Dollhouse (1995)</td>\n",
       "    </tr>\n",
       "    <tr>\n",
       "      <th>836476</th>\n",
       "      <td>6040</td>\n",
       "      <td>1096</td>\n",
       "      <td>4</td>\n",
       "      <td>956715648</td>\n",
       "      <td>Sophie's Choice (1982)</td>\n",
       "    </tr>\n",
       "    <tr>\n",
       "      <th>836477</th>\n",
       "      <td>6040</td>\n",
       "      <td>1097</td>\n",
       "      <td>4</td>\n",
       "      <td>956715569</td>\n",
       "      <td>E.T. the Extra-Terrestrial (1982)</td>\n",
       "    </tr>\n",
       "  </tbody>\n",
       "</table>\n",
       "<p>836478 rows × 5 columns</p>\n",
       "</div>"
      ],
      "text/plain": [
       "        user_id  movie_id  counts  timestamp  \\\n",
       "0             1      1193       5  978300760   \n",
       "1             1       661       3  978302109   \n",
       "2             1       914       3  978301968   \n",
       "3             1      3408       4  978300275   \n",
       "4             1      2355       5  978824291   \n",
       "...         ...       ...     ...        ...   \n",
       "836473     6040      1090       3  956715518   \n",
       "836474     6040      1094       5  956704887   \n",
       "836475     6040       562       5  956704746   \n",
       "836476     6040      1096       4  956715648   \n",
       "836477     6040      1097       4  956715569   \n",
       "\n",
       "                                         title  \n",
       "0       One Flew Over the Cuckoo's Nest (1975)  \n",
       "1             James and the Giant Peach (1996)  \n",
       "2                          My Fair Lady (1964)  \n",
       "3                       Erin Brockovich (2000)  \n",
       "4                         Bug's Life, A (1998)  \n",
       "...                                        ...  \n",
       "836473                          Platoon (1986)  \n",
       "836474                 Crying Game, The (1992)  \n",
       "836475         Welcome to the Dollhouse (1995)  \n",
       "836476                  Sophie's Choice (1982)  \n",
       "836477       E.T. the Extra-Terrestrial (1982)  \n",
       "\n",
       "[836478 rows x 5 columns]"
      ]
     },
     "execution_count": 198,
     "metadata": {},
     "output_type": "execute_result"
    }
   ],
   "source": [
    "# ratings에 movie_id로 존재하는 값과 movies에 movie_id로 존재하는 값이 같은 경우 movie의 title 컬럼을 만들고 값을 넣어주려고합니다\n",
    "ratings = pd.merge(ratings,movies[['movie_id','title']],on='movie_id',how='left')\n",
    "ratings"
   ]
  },
  {
   "cell_type": "code",
   "execution_count": 199,
   "id": "efbfd5fe",
   "metadata": {},
   "outputs": [],
   "source": [
    "ratings['user_id'] = ratings['user_id'].astype(str)"
   ]
  },
  {
   "cell_type": "code",
   "execution_count": 200,
   "id": "01574ab6",
   "metadata": {},
   "outputs": [
    {
     "data": {
      "text/plain": [
       "3628"
      ]
     },
     "execution_count": 200,
     "metadata": {},
     "output_type": "execute_result"
    }
   ],
   "source": [
    "# ratings에 있는 유니크한 영화개수\n",
    "ratings['movie_id'].nunique()"
   ]
  },
  {
   "cell_type": "code",
   "execution_count": 201,
   "id": "25a26d47",
   "metadata": {},
   "outputs": [
    {
     "data": {
      "text/plain": [
       "6039"
      ]
     },
     "execution_count": 201,
     "metadata": {},
     "output_type": "execute_result"
    }
   ],
   "source": [
    "# ratings에 있는 유니크한 사용자 수\n",
    "ratings['user_id'].nunique()"
   ]
  },
  {
   "cell_type": "code",
   "execution_count": 202,
   "id": "d7b48850",
   "metadata": {},
   "outputs": [],
   "source": [
    "# 가장 인기 있느 영화 찾아보자 30개\n",
    "movie_id_user_count = ratings.groupby('movie_id')['counts'].count()\n",
    "best_movie_id = movie_id_user_count.sort_values(ascending=False) # 큰값이 맨처음 ---> 나중으로 갈수록 값이 작아지도록 정렬\n",
    "best_movie_id_list=best_movie_id[:30].index.to_list() # 최상위 30개의 index를 list로 변환"
   ]
  },
  {
   "cell_type": "code",
   "execution_count": 203,
   "id": "154f98a6",
   "metadata": {},
   "outputs": [
    {
     "data": {
      "text/html": [
       "<div>\n",
       "<style scoped>\n",
       "    .dataframe tbody tr th:only-of-type {\n",
       "        vertical-align: middle;\n",
       "    }\n",
       "\n",
       "    .dataframe tbody tr th {\n",
       "        vertical-align: top;\n",
       "    }\n",
       "\n",
       "    .dataframe thead th {\n",
       "        text-align: right;\n",
       "    }\n",
       "</style>\n",
       "<table border=\"1\" class=\"dataframe\">\n",
       "  <thead>\n",
       "    <tr style=\"text-align: right;\">\n",
       "      <th></th>\n",
       "      <th>title</th>\n",
       "      <th>genre</th>\n",
       "    </tr>\n",
       "    <tr>\n",
       "      <th>movie_id</th>\n",
       "      <th></th>\n",
       "      <th></th>\n",
       "    </tr>\n",
       "  </thead>\n",
       "  <tbody>\n",
       "    <tr>\n",
       "      <th>2858</th>\n",
       "      <td>American Beauty (1999)</td>\n",
       "      <td>Comedy|Drama</td>\n",
       "    </tr>\n",
       "    <tr>\n",
       "      <th>260</th>\n",
       "      <td>Star Wars: Episode IV - A New Hope (1977)</td>\n",
       "      <td>Action|Adventure|Fantasy|Sci-Fi</td>\n",
       "    </tr>\n",
       "    <tr>\n",
       "      <th>1196</th>\n",
       "      <td>Star Wars: Episode V - The Empire Strikes Back...</td>\n",
       "      <td>Action|Adventure|Drama|Sci-Fi|War</td>\n",
       "    </tr>\n",
       "    <tr>\n",
       "      <th>1210</th>\n",
       "      <td>Star Wars: Episode VI - Return of the Jedi (1983)</td>\n",
       "      <td>Action|Adventure|Romance|Sci-Fi|War</td>\n",
       "    </tr>\n",
       "    <tr>\n",
       "      <th>2028</th>\n",
       "      <td>Saving Private Ryan (1998)</td>\n",
       "      <td>Action|Drama|War</td>\n",
       "    </tr>\n",
       "    <tr>\n",
       "      <th>589</th>\n",
       "      <td>Terminator 2: Judgment Day (1991)</td>\n",
       "      <td>Action|Sci-Fi|Thriller</td>\n",
       "    </tr>\n",
       "    <tr>\n",
       "      <th>593</th>\n",
       "      <td>Silence of the Lambs, The (1991)</td>\n",
       "      <td>Drama|Thriller</td>\n",
       "    </tr>\n",
       "    <tr>\n",
       "      <th>1198</th>\n",
       "      <td>Raiders of the Lost Ark (1981)</td>\n",
       "      <td>Action|Adventure</td>\n",
       "    </tr>\n",
       "    <tr>\n",
       "      <th>1270</th>\n",
       "      <td>Back to the Future (1985)</td>\n",
       "      <td>Comedy|Sci-Fi</td>\n",
       "    </tr>\n",
       "    <tr>\n",
       "      <th>2571</th>\n",
       "      <td>Matrix, The (1999)</td>\n",
       "      <td>Action|Sci-Fi|Thriller</td>\n",
       "    </tr>\n",
       "    <tr>\n",
       "      <th>480</th>\n",
       "      <td>Jurassic Park (1993)</td>\n",
       "      <td>Action|Adventure|Sci-Fi</td>\n",
       "    </tr>\n",
       "    <tr>\n",
       "      <th>2762</th>\n",
       "      <td>Sixth Sense, The (1999)</td>\n",
       "      <td>Thriller</td>\n",
       "    </tr>\n",
       "    <tr>\n",
       "      <th>608</th>\n",
       "      <td>Fargo (1996)</td>\n",
       "      <td>Crime|Drama|Thriller</td>\n",
       "    </tr>\n",
       "    <tr>\n",
       "      <th>110</th>\n",
       "      <td>Braveheart (1995)</td>\n",
       "      <td>Action|Drama|War</td>\n",
       "    </tr>\n",
       "    <tr>\n",
       "      <th>1580</th>\n",
       "      <td>Men in Black (1997)</td>\n",
       "      <td>Action|Adventure|Comedy|Sci-Fi</td>\n",
       "    </tr>\n",
       "    <tr>\n",
       "      <th>527</th>\n",
       "      <td>Schindler's List (1993)</td>\n",
       "      <td>Drama|War</td>\n",
       "    </tr>\n",
       "    <tr>\n",
       "      <th>1197</th>\n",
       "      <td>Princess Bride, The (1987)</td>\n",
       "      <td>Action|Adventure|Comedy|Romance</td>\n",
       "    </tr>\n",
       "    <tr>\n",
       "      <th>2396</th>\n",
       "      <td>Shakespeare in Love (1998)</td>\n",
       "      <td>Comedy|Romance</td>\n",
       "    </tr>\n",
       "    <tr>\n",
       "      <th>1617</th>\n",
       "      <td>L.A. Confidential (1997)</td>\n",
       "      <td>Crime|Film-Noir|Mystery|Thriller</td>\n",
       "    </tr>\n",
       "    <tr>\n",
       "      <th>318</th>\n",
       "      <td>Shawshank Redemption, The (1994)</td>\n",
       "      <td>Drama</td>\n",
       "    </tr>\n",
       "    <tr>\n",
       "      <th>858</th>\n",
       "      <td>Godfather, The (1972)</td>\n",
       "      <td>Action|Crime|Drama</td>\n",
       "    </tr>\n",
       "    <tr>\n",
       "      <th>1265</th>\n",
       "      <td>Groundhog Day (1993)</td>\n",
       "      <td>Comedy|Romance</td>\n",
       "    </tr>\n",
       "    <tr>\n",
       "      <th>1097</th>\n",
       "      <td>E.T. the Extra-Terrestrial (1982)</td>\n",
       "      <td>Children's|Drama|Fantasy|Sci-Fi</td>\n",
       "    </tr>\n",
       "    <tr>\n",
       "      <th>2997</th>\n",
       "      <td>Being John Malkovich (1999)</td>\n",
       "      <td>Comedy</td>\n",
       "    </tr>\n",
       "    <tr>\n",
       "      <th>2716</th>\n",
       "      <td>Ghostbusters (1984)</td>\n",
       "      <td>Comedy|Horror</td>\n",
       "    </tr>\n",
       "    <tr>\n",
       "      <th>296</th>\n",
       "      <td>Pulp Fiction (1994)</td>\n",
       "      <td>Crime|Drama</td>\n",
       "    </tr>\n",
       "    <tr>\n",
       "      <th>356</th>\n",
       "      <td>Forrest Gump (1994)</td>\n",
       "      <td>Comedy|Romance|War</td>\n",
       "    </tr>\n",
       "    <tr>\n",
       "      <th>1240</th>\n",
       "      <td>Terminator, The (1984)</td>\n",
       "      <td>Action|Sci-Fi|Thriller</td>\n",
       "    </tr>\n",
       "    <tr>\n",
       "      <th>1</th>\n",
       "      <td>Toy Story (1995)</td>\n",
       "      <td>Animation|Children's|Comedy</td>\n",
       "    </tr>\n",
       "    <tr>\n",
       "      <th>457</th>\n",
       "      <td>Fugitive, The (1993)</td>\n",
       "      <td>Action|Thriller</td>\n",
       "    </tr>\n",
       "  </tbody>\n",
       "</table>\n",
       "</div>"
      ],
      "text/plain": [
       "                                                      title  \\\n",
       "movie_id                                                      \n",
       "2858                                 American Beauty (1999)   \n",
       "260               Star Wars: Episode IV - A New Hope (1977)   \n",
       "1196      Star Wars: Episode V - The Empire Strikes Back...   \n",
       "1210      Star Wars: Episode VI - Return of the Jedi (1983)   \n",
       "2028                             Saving Private Ryan (1998)   \n",
       "589                       Terminator 2: Judgment Day (1991)   \n",
       "593                        Silence of the Lambs, The (1991)   \n",
       "1198                         Raiders of the Lost Ark (1981)   \n",
       "1270                              Back to the Future (1985)   \n",
       "2571                                     Matrix, The (1999)   \n",
       "480                                    Jurassic Park (1993)   \n",
       "2762                                Sixth Sense, The (1999)   \n",
       "608                                            Fargo (1996)   \n",
       "110                                       Braveheart (1995)   \n",
       "1580                                    Men in Black (1997)   \n",
       "527                                 Schindler's List (1993)   \n",
       "1197                             Princess Bride, The (1987)   \n",
       "2396                             Shakespeare in Love (1998)   \n",
       "1617                               L.A. Confidential (1997)   \n",
       "318                        Shawshank Redemption, The (1994)   \n",
       "858                                   Godfather, The (1972)   \n",
       "1265                                   Groundhog Day (1993)   \n",
       "1097                      E.T. the Extra-Terrestrial (1982)   \n",
       "2997                            Being John Malkovich (1999)   \n",
       "2716                                    Ghostbusters (1984)   \n",
       "296                                     Pulp Fiction (1994)   \n",
       "356                                     Forrest Gump (1994)   \n",
       "1240                                 Terminator, The (1984)   \n",
       "1                                          Toy Story (1995)   \n",
       "457                                    Fugitive, The (1993)   \n",
       "\n",
       "                                        genre  \n",
       "movie_id                                       \n",
       "2858                             Comedy|Drama  \n",
       "260           Action|Adventure|Fantasy|Sci-Fi  \n",
       "1196        Action|Adventure|Drama|Sci-Fi|War  \n",
       "1210      Action|Adventure|Romance|Sci-Fi|War  \n",
       "2028                         Action|Drama|War  \n",
       "589                    Action|Sci-Fi|Thriller  \n",
       "593                            Drama|Thriller  \n",
       "1198                         Action|Adventure  \n",
       "1270                            Comedy|Sci-Fi  \n",
       "2571                   Action|Sci-Fi|Thriller  \n",
       "480                   Action|Adventure|Sci-Fi  \n",
       "2762                                 Thriller  \n",
       "608                      Crime|Drama|Thriller  \n",
       "110                          Action|Drama|War  \n",
       "1580           Action|Adventure|Comedy|Sci-Fi  \n",
       "527                                 Drama|War  \n",
       "1197          Action|Adventure|Comedy|Romance  \n",
       "2396                           Comedy|Romance  \n",
       "1617         Crime|Film-Noir|Mystery|Thriller  \n",
       "318                                     Drama  \n",
       "858                        Action|Crime|Drama  \n",
       "1265                           Comedy|Romance  \n",
       "1097          Children's|Drama|Fantasy|Sci-Fi  \n",
       "2997                                   Comedy  \n",
       "2716                            Comedy|Horror  \n",
       "296                               Crime|Drama  \n",
       "356                        Comedy|Romance|War  \n",
       "1240                   Action|Sci-Fi|Thriller  \n",
       "1                 Animation|Children's|Comedy  \n",
       "457                           Action|Thriller  "
      ]
     },
     "execution_count": 203,
     "metadata": {},
     "output_type": "execute_result"
    }
   ],
   "source": [
    "best_movie_top30_df = movies[movies['movie_id'].isin(best_movie_id_list)]\n",
    "best_movie_top30_df=best_movie_top30_df.set_index('movie_id') # 인덱스를 movie_id로 변경한다\n",
    "best_movie_top30_df.loc[best_movie_id_list] # best_movie_id_list 값 순서와 동일하게 배치된 DataFrame을 출력한다 맨위부터 제일 많이 선호하는영화"
   ]
  },
  {
   "cell_type": "markdown",
   "id": "89ebb58d",
   "metadata": {},
   "source": [
    "# 3) 내가 선호하는 영화를 5가지 골라서 ratings에 추가해 줍시다.\n",
    "---"
   ]
  },
  {
   "cell_type": "code",
   "execution_count": 204,
   "id": "157a927a",
   "metadata": {},
   "outputs": [
    {
     "data": {
      "text/html": [
       "<div>\n",
       "<style scoped>\n",
       "    .dataframe tbody tr th:only-of-type {\n",
       "        vertical-align: middle;\n",
       "    }\n",
       "\n",
       "    .dataframe tbody tr th {\n",
       "        vertical-align: top;\n",
       "    }\n",
       "\n",
       "    .dataframe thead th {\n",
       "        text-align: right;\n",
       "    }\n",
       "</style>\n",
       "<table border=\"1\" class=\"dataframe\">\n",
       "  <thead>\n",
       "    <tr style=\"text-align: right;\">\n",
       "      <th></th>\n",
       "      <th>user_id</th>\n",
       "      <th>movie_id</th>\n",
       "      <th>counts</th>\n",
       "      <th>timestamp</th>\n",
       "      <th>title</th>\n",
       "    </tr>\n",
       "  </thead>\n",
       "  <tbody>\n",
       "    <tr>\n",
       "      <th>836473</th>\n",
       "      <td>6040</td>\n",
       "      <td>1090.0</td>\n",
       "      <td>3</td>\n",
       "      <td>956715518</td>\n",
       "      <td>Platoon (1986)</td>\n",
       "    </tr>\n",
       "    <tr>\n",
       "      <th>836474</th>\n",
       "      <td>6040</td>\n",
       "      <td>1094.0</td>\n",
       "      <td>5</td>\n",
       "      <td>956704887</td>\n",
       "      <td>Crying Game, The (1992)</td>\n",
       "    </tr>\n",
       "    <tr>\n",
       "      <th>836475</th>\n",
       "      <td>6040</td>\n",
       "      <td>562.0</td>\n",
       "      <td>5</td>\n",
       "      <td>956704746</td>\n",
       "      <td>Welcome to the Dollhouse (1995)</td>\n",
       "    </tr>\n",
       "    <tr>\n",
       "      <th>836476</th>\n",
       "      <td>6040</td>\n",
       "      <td>1096.0</td>\n",
       "      <td>4</td>\n",
       "      <td>956715648</td>\n",
       "      <td>Sophie's Choice (1982)</td>\n",
       "    </tr>\n",
       "    <tr>\n",
       "      <th>836477</th>\n",
       "      <td>6040</td>\n",
       "      <td>1097.0</td>\n",
       "      <td>4</td>\n",
       "      <td>956715569</td>\n",
       "      <td>E.T. the Extra-Terrestrial (1982)</td>\n",
       "    </tr>\n",
       "    <tr>\n",
       "      <th>0</th>\n",
       "      <td>liky</td>\n",
       "      <td>NaN</td>\n",
       "      <td>3</td>\n",
       "      <td>0</td>\n",
       "      <td>Contender, The (2000)</td>\n",
       "    </tr>\n",
       "    <tr>\n",
       "      <th>1</th>\n",
       "      <td>liky</td>\n",
       "      <td>NaN</td>\n",
       "      <td>3</td>\n",
       "      <td>0</td>\n",
       "      <td>Tigerland (2000)</td>\n",
       "    </tr>\n",
       "    <tr>\n",
       "      <th>2</th>\n",
       "      <td>liky</td>\n",
       "      <td>NaN</td>\n",
       "      <td>3</td>\n",
       "      <td>0</td>\n",
       "      <td>Requiem for a Dream (2000)</td>\n",
       "    </tr>\n",
       "    <tr>\n",
       "      <th>3</th>\n",
       "      <td>liky</td>\n",
       "      <td>NaN</td>\n",
       "      <td>3</td>\n",
       "      <td>0</td>\n",
       "      <td>Get Carter (1971)</td>\n",
       "    </tr>\n",
       "    <tr>\n",
       "      <th>4</th>\n",
       "      <td>liky</td>\n",
       "      <td>NaN</td>\n",
       "      <td>3</td>\n",
       "      <td>0</td>\n",
       "      <td>Bootmen (2000)</td>\n",
       "    </tr>\n",
       "  </tbody>\n",
       "</table>\n",
       "</div>"
      ],
      "text/plain": [
       "       user_id  movie_id  counts  timestamp                              title\n",
       "836473    6040    1090.0       3  956715518                     Platoon (1986)\n",
       "836474    6040    1094.0       5  956704887            Crying Game, The (1992)\n",
       "836475    6040     562.0       5  956704746    Welcome to the Dollhouse (1995)\n",
       "836476    6040    1096.0       4  956715648             Sophie's Choice (1982)\n",
       "836477    6040    1097.0       4  956715569  E.T. the Extra-Terrestrial (1982)\n",
       "0         liky       NaN       3          0              Contender, The (2000)\n",
       "1         liky       NaN       3          0                   Tigerland (2000)\n",
       "2         liky       NaN       3          0         Requiem for a Dream (2000)\n",
       "3         liky       NaN       3          0                  Get Carter (1971)\n",
       "4         liky       NaN       3          0                     Bootmen (2000)"
      ]
     },
     "execution_count": 204,
     "metadata": {},
     "output_type": "execute_result"
    }
   ],
   "source": [
    "# 본인이 좋아하시는 아티스트 데이터로 바꿔서 추가하셔도 됩니다! 단, 이름은 꼭 데이터셋에 있는 것과 동일하게 맞춰주세요. \n",
    "my_favorite_movie = ['Contender, The (2000)' , 'Tigerland (2000)' ,'Requiem for a Dream (2000)' ,'Get Carter (1971)' ,'Bootmen (2000)']\n",
    "\n",
    "# 위에서 모든 id를 str으로 변환했기 때문에 저의 'id'는 liky 로 하겠습니다.\n",
    "# id=liky 가 favorite_movie 를 보고 추천을 3으로 주었다고 가정하겠습니다.\n",
    "my_rate_list = pd.DataFrame({'user_id': ['liky']*5, 'counts':[3]*5, 'timestamp':0,'title':my_favorite_movie})\n",
    "\n",
    "if not ratings.isin({'user_id':['liky']})['user_id'].any():  # user_id에 liky 이라는 데이터가 없다면\n",
    "    ratings = ratings.append(my_rate_list)                 # 위에 임의로 만든 my_rate_list 데이터를 추가해 줍니다. \n",
    "\n",
    "ratings.tail(10) "
   ]
  },
  {
   "cell_type": "code",
   "execution_count": 206,
   "id": "c53cc8ff",
   "metadata": {},
   "outputs": [],
   "source": [
    "user_id = ratings['user_id'].unique()\n",
    "movie_id = ratings['title'].unique()\n",
    "user_to_idx = {v:k for k,v in enumerate(user_id)}\n",
    "movie_to_idx = {v:k for k,v in enumerate(movie_id)}"
   ]
  },
  {
   "cell_type": "code",
   "execution_count": 207,
   "id": "41689127",
   "metadata": {},
   "outputs": [
    {
     "name": "stdout",
     "output_type": "stream",
     "text": [
      "user_id column indexing OK!!\n",
      "title column indexing OK!!\n"
     ]
    }
   ],
   "source": [
    "temp_user_data = ratings['user_id'].map(user_to_idx.get).dropna()\n",
    "if len(temp_user_data) == len(ratings):   # 모든 row가 정상적으로 인덱싱되었다면\n",
    "    print('user_id column indexing OK!!')\n",
    "    ratings['user_id'] = temp_user_data   # data['user_id']을 인덱싱된 Series로 교체해 줍니다. \n",
    "else:\n",
    "    print('user_id column indexing Fail!!')\n",
    "\n",
    "# movie_to_idx 을 통해  title 컬럼도 동일한 방식으로 인덱싱해 줍니다. \n",
    "temp_movie_data = ratings['title'].map(movie_to_idx.get).dropna()\n",
    "if len(temp_movie_data) == len(ratings):\n",
    "    print('title column indexing OK!!')\n",
    "    ratings['title'] = temp_movie_data\n",
    "else:\n",
    "    print('title column indexing Fail!!')"
   ]
  },
  {
   "cell_type": "code",
   "execution_count": 208,
   "id": "f4e33b32",
   "metadata": {},
   "outputs": [],
   "source": [
    "ratings.drop('movie_id',axis=1,inplace=True)"
   ]
  },
  {
   "cell_type": "code",
   "execution_count": 209,
   "id": "b3edd566",
   "metadata": {},
   "outputs": [],
   "source": [
    "ratings.drop('timestamp',axis=1,inplace=True)"
   ]
  },
  {
   "cell_type": "code",
   "execution_count": 210,
   "id": "7926856a",
   "metadata": {},
   "outputs": [],
   "source": [
    "ratings.rename(columns={'title':'movie_id'},inplace=True)"
   ]
  },
  {
   "cell_type": "code",
   "execution_count": 213,
   "id": "c2fd68c8",
   "metadata": {},
   "outputs": [
    {
     "data": {
      "text/html": [
       "<div>\n",
       "<style scoped>\n",
       "    .dataframe tbody tr th:only-of-type {\n",
       "        vertical-align: middle;\n",
       "    }\n",
       "\n",
       "    .dataframe tbody tr th {\n",
       "        vertical-align: top;\n",
       "    }\n",
       "\n",
       "    .dataframe thead th {\n",
       "        text-align: right;\n",
       "    }\n",
       "</style>\n",
       "<table border=\"1\" class=\"dataframe\">\n",
       "  <thead>\n",
       "    <tr style=\"text-align: right;\">\n",
       "      <th></th>\n",
       "      <th>user_id</th>\n",
       "      <th>counts</th>\n",
       "      <th>movie_id</th>\n",
       "    </tr>\n",
       "  </thead>\n",
       "  <tbody>\n",
       "    <tr>\n",
       "      <th>0</th>\n",
       "      <td>0</td>\n",
       "      <td>5</td>\n",
       "      <td>0</td>\n",
       "    </tr>\n",
       "    <tr>\n",
       "      <th>1</th>\n",
       "      <td>0</td>\n",
       "      <td>3</td>\n",
       "      <td>1</td>\n",
       "    </tr>\n",
       "    <tr>\n",
       "      <th>2</th>\n",
       "      <td>0</td>\n",
       "      <td>3</td>\n",
       "      <td>2</td>\n",
       "    </tr>\n",
       "    <tr>\n",
       "      <th>3</th>\n",
       "      <td>0</td>\n",
       "      <td>4</td>\n",
       "      <td>3</td>\n",
       "    </tr>\n",
       "    <tr>\n",
       "      <th>4</th>\n",
       "      <td>0</td>\n",
       "      <td>5</td>\n",
       "      <td>4</td>\n",
       "    </tr>\n",
       "    <tr>\n",
       "      <th>...</th>\n",
       "      <td>...</td>\n",
       "      <td>...</td>\n",
       "      <td>...</td>\n",
       "    </tr>\n",
       "    <tr>\n",
       "      <th>0</th>\n",
       "      <td>6039</td>\n",
       "      <td>3</td>\n",
       "      <td>1099</td>\n",
       "    </tr>\n",
       "    <tr>\n",
       "      <th>1</th>\n",
       "      <td>6039</td>\n",
       "      <td>3</td>\n",
       "      <td>2398</td>\n",
       "    </tr>\n",
       "    <tr>\n",
       "      <th>2</th>\n",
       "      <td>6039</td>\n",
       "      <td>3</td>\n",
       "      <td>1318</td>\n",
       "    </tr>\n",
       "    <tr>\n",
       "      <th>3</th>\n",
       "      <td>6039</td>\n",
       "      <td>3</td>\n",
       "      <td>2691</td>\n",
       "    </tr>\n",
       "    <tr>\n",
       "      <th>4</th>\n",
       "      <td>6039</td>\n",
       "      <td>3</td>\n",
       "      <td>3320</td>\n",
       "    </tr>\n",
       "  </tbody>\n",
       "</table>\n",
       "<p>836483 rows × 3 columns</p>\n",
       "</div>"
      ],
      "text/plain": [
       "    user_id  counts  movie_id\n",
       "0         0       5         0\n",
       "1         0       3         1\n",
       "2         0       3         2\n",
       "3         0       4         3\n",
       "4         0       5         4\n",
       "..      ...     ...       ...\n",
       "0      6039       3      1099\n",
       "1      6039       3      2398\n",
       "2      6039       3      1318\n",
       "3      6039       3      2691\n",
       "4      6039       3      3320\n",
       "\n",
       "[836483 rows x 3 columns]"
      ]
     },
     "execution_count": 213,
     "metadata": {},
     "output_type": "execute_result"
    }
   ],
   "source": [
    "ratings"
   ]
  },
  {
   "cell_type": "markdown",
   "id": "7c96afd2",
   "metadata": {},
   "source": [
    "# 4) CSR matrix를 직접 만들어 봅시다.\n",
    "---"
   ]
  },
  {
   "cell_type": "code",
   "execution_count": 214,
   "id": "3cb85c7e",
   "metadata": {},
   "outputs": [
    {
     "data": {
      "text/plain": [
       "<6040x3628 sparse matrix of type '<class 'numpy.int64'>'\n",
       "\twith 836483 stored elements in Compressed Sparse Row format>"
      ]
     },
     "execution_count": 214,
     "metadata": {},
     "output_type": "execute_result"
    }
   ],
   "source": [
    "from scipy.sparse import csr_matrix\n",
    "\n",
    "num_user = ratings['user_id'].nunique()\n",
    "num_movie = ratings['movie_id'].nunique()\n",
    "\n",
    "csr_data = csr_matrix((ratings.counts, (ratings.user_id, ratings.movie_id)), shape= (num_user, num_movie))\n",
    "csr_data"
   ]
  },
  {
   "cell_type": "markdown",
   "id": "e701a5cd",
   "metadata": {},
   "source": [
    "# 5) als_model = AlternatingLeastSquares 모델을 직접 구성하여 훈련.\n",
    "---"
   ]
  },
  {
   "cell_type": "code",
   "execution_count": 271,
   "id": "8f2bf294",
   "metadata": {},
   "outputs": [],
   "source": [
    "from implicit.als import AlternatingLeastSquares\n",
    "import os\n",
    "import numpy as np\n",
    "\n",
    "# implicit 라이브러리에서 권장하고 있는 부분입니다. 학습 내용과는 무관합니다.\n",
    "os.environ['OPENBLAS_NUM_THREADS']='1'\n",
    "os.environ['KMP_DUPLICATE_LIB_OK']='True'\n",
    "os.environ['MKL_NUM_THREADS']='1'\n",
    "# Implicit AlternatingLeastSquares 모델의 선언\n",
    "als_model = AlternatingLeastSquares(factors=500, regularization=0.01, use_gpu=False, iterations=200, dtype=np.float32)"
   ]
  },
  {
   "cell_type": "code",
   "execution_count": 272,
   "id": "077159a4",
   "metadata": {},
   "outputs": [
    {
     "data": {
      "text/plain": [
       "<3628x6040 sparse matrix of type '<class 'numpy.int64'>'\n",
       "\twith 836483 stored elements in Compressed Sparse Column format>"
      ]
     },
     "execution_count": 272,
     "metadata": {},
     "output_type": "execute_result"
    }
   ],
   "source": [
    "# als 모델은 input으로 (item X user 꼴의 matrix를 받기 때문에 Transpose해줍니다.)\n",
    "csr_data_transpose = csr_data.T\n",
    "csr_data_transpose"
   ]
  },
  {
   "cell_type": "code",
   "execution_count": 273,
   "id": "76b6cf8a",
   "metadata": {},
   "outputs": [
    {
     "name": "stderr",
     "output_type": "stream",
     "text": [
      "100%|██████████| 200/200 [02:50<00:00,  1.17it/s]\n"
     ]
    }
   ],
   "source": [
    "# 모델 훈련\n",
    "als_model.fit(csr_data_transpose)"
   ]
  },
  {
   "cell_type": "code",
   "execution_count": 274,
   "id": "222e3767",
   "metadata": {},
   "outputs": [
    {
     "data": {
      "text/plain": [
       "(3628, 500)"
      ]
     },
     "execution_count": 274,
     "metadata": {},
     "output_type": "execute_result"
    }
   ],
   "source": [
    "als_model.item_factors.shape"
   ]
  },
  {
   "cell_type": "markdown",
   "id": "9870ca5e",
   "metadata": {},
   "source": [
    "# 6) 내가 선호하는 5가지 영화 중 하나와 그 외의 영화 하나를 골라 훈련된 모델이 예측한 나의 선호도를 파악해 보세요."
   ]
  },
  {
   "cell_type": "code",
   "execution_count": 275,
   "id": "1ab7a54b",
   "metadata": {},
   "outputs": [],
   "source": [
    "# 내가선호하는 5가지 영화중 하나\n",
    "my_user_idx, requiem_movie_idx = user_to_idx['liky'], movie_to_idx['Requiem for a Dream (2000)']"
   ]
  },
  {
   "cell_type": "code",
   "execution_count": 276,
   "id": "ae0e0507",
   "metadata": {},
   "outputs": [],
   "source": [
    "my_vector = als_model.user_factors[my_user_idx]\n",
    "requiem_vector = als_model.item_factors[requiem_movie_idx]"
   ]
  },
  {
   "cell_type": "code",
   "execution_count": 277,
   "id": "5d98f32f",
   "metadata": {},
   "outputs": [
    {
     "data": {
      "text/plain": [
       "0.56579596"
      ]
     },
     "execution_count": 277,
     "metadata": {},
     "output_type": "execute_result"
    }
   ],
   "source": [
    "# 선호도가 0.56으로 나오네요\n",
    "np.dot(my_vector, requiem_vector)"
   ]
  },
  {
   "cell_type": "code",
   "execution_count": 278,
   "id": "a0118a94",
   "metadata": {},
   "outputs": [],
   "source": [
    "# 제가 선택하지 않은 영화 \n",
    "ab_movie_idx = movie_to_idx['American Beauty (1999)']\n",
    "ab_vector = als_model.item_factors[ab_movie_idx]"
   ]
  },
  {
   "cell_type": "code",
   "execution_count": 279,
   "id": "f2c335ce",
   "metadata": {},
   "outputs": [
    {
     "data": {
      "text/plain": [
       "-0.008366175"
      ]
     },
     "execution_count": 279,
     "metadata": {},
     "output_type": "execute_result"
    }
   ],
   "source": [
    "# 선호도가 더 낮게 나오네요^^\n",
    "np.dot(my_vector, ab_vector)"
   ]
  },
  {
   "cell_type": "markdown",
   "id": "2b24bfba",
   "metadata": {},
   "source": [
    "# 7) 내가 좋아하는 영화와 비슷한 영화를 추천받아 봅시다."
   ]
  },
  {
   "cell_type": "code",
   "execution_count": 280,
   "id": "e6662b48",
   "metadata": {},
   "outputs": [],
   "source": [
    "idx_to_movie = {v:k for k,v in movie_to_idx.items()}\n",
    "def get_similar_movie(movie_name: str):\n",
    "    movie_idx = movie_to_idx[movie_name]\n",
    "    similar_movies = als_model.similar_items(movie_idx)\n",
    "    similar_movie_list = [idx_to_movie[i[0]] for i in similar_movies]\n",
    "    return similar_movie_list"
   ]
  },
  {
   "cell_type": "code",
   "execution_count": 281,
   "id": "47a7c29b",
   "metadata": {},
   "outputs": [
    {
     "data": {
      "text/plain": [
       "['Tigerland (2000)',\n",
       " 'Two Family House (2000)',\n",
       " 'Yards, The (1999)',\n",
       " 'Splendor (1999)',\n",
       " 'Go Now (1995)',\n",
       " 'Secret Agent, The (1996)',\n",
       " 'All Things Fair (1996)',\n",
       " 'Hangmen Also Die (1943)',\n",
       " 'Jeanne and the Perfect Guy (Jeanne et le garçon formidable) (1998)',\n",
       " \"Brother's Kiss, A (1997)\"]"
      ]
     },
     "execution_count": 281,
     "metadata": {},
     "output_type": "execute_result"
    }
   ],
   "source": [
    "get_similar_movie('Tigerland (2000)')"
   ]
  },
  {
   "cell_type": "markdown",
   "id": "fbd341af",
   "metadata": {},
   "source": [
    "# 8) 내가 가장 좋아할 만한 영화들을 추천받아 봅시다."
   ]
  },
  {
   "cell_type": "code",
   "execution_count": 282,
   "id": "9a5f7cf9",
   "metadata": {},
   "outputs": [
    {
     "data": {
      "text/plain": [
       "[(755, 0.26510483),\n",
       " (1852, 0.25399625),\n",
       " (1853, 0.24022226),\n",
       " (1814, 0.19178516),\n",
       " (1887, 0.15767696),\n",
       " (2243, 0.14495523),\n",
       " (2537, 0.13773964),\n",
       " (432, 0.12729578),\n",
       " (461, 0.116106376),\n",
       " (904, 0.112489946),\n",
       " (2056, 0.111758575),\n",
       " (1786, 0.109740354),\n",
       " (374, 0.10932307),\n",
       " (208, 0.10883531),\n",
       " (1470, 0.103501976),\n",
       " (463, 0.101000056),\n",
       " (667, 0.10018546),\n",
       " (355, 0.099741675),\n",
       " (1317, 0.09955253),\n",
       " (1808, 0.09904888)]"
      ]
     },
     "execution_count": 282,
     "metadata": {},
     "output_type": "execute_result"
    }
   ],
   "source": [
    "movie_recommended = als_model.recommend(my_user_idx, csr_data, N=20, filter_already_liked_items=True)\n",
    "movie_recommended"
   ]
  },
  {
   "cell_type": "code",
   "execution_count": 283,
   "id": "c41acb04",
   "metadata": {},
   "outputs": [
    {
     "data": {
      "text/plain": [
       "['Almost Famous (2000)',\n",
       " 'Dancer in the Dark (2000)',\n",
       " 'Best in Show (2000)',\n",
       " 'Nurse Betty (2000)',\n",
       " 'Wonder Boys (2000)',\n",
       " 'Yards, The (1999)',\n",
       " 'Girlfight (2000)',\n",
       " 'Taxi Driver (1976)',\n",
       " 'Meet the Parents (2000)',\n",
       " 'Clockwork Orange, A (1971)',\n",
       " 'Way of the Gun, The (2000)',\n",
       " \"Jesus' Son (1999)\",\n",
       " 'Exorcist, The (1973)',\n",
       " 'Donnie Brasco (1997)',\n",
       " 'Tao of Steve, The (2000)',\n",
       " 'Frequency (2000)',\n",
       " 'Fletch (1985)',\n",
       " 'Straight Story, The (1999)',\n",
       " 'Bamboozled (2000)',\n",
       " 'Chuck & Buck (2000)']"
      ]
     },
     "execution_count": 283,
     "metadata": {},
     "output_type": "execute_result"
    }
   ],
   "source": [
    "[idx_to_movie[i[0]] for i in movie_recommended]"
   ]
  },
  {
   "cell_type": "code",
   "execution_count": null,
   "id": "8f488366",
   "metadata": {},
   "outputs": [],
   "source": []
  }
 ],
 "metadata": {
  "kernelspec": {
   "display_name": "Python 3 (ipykernel)",
   "language": "python",
   "name": "python3"
  },
  "language_info": {
   "codemirror_mode": {
    "name": "ipython",
    "version": 3
   },
   "file_extension": ".py",
   "mimetype": "text/x-python",
   "name": "python",
   "nbconvert_exporter": "python",
   "pygments_lexer": "ipython3",
   "version": "3.9.5"
  }
 },
 "nbformat": 4,
 "nbformat_minor": 5
}
