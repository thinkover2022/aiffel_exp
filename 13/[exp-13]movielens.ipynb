{
 "cells": [
  {
   "cell_type": "markdown",
   "id": "036e2ff8",
   "metadata": {},
   "source": [
    "# 13-9. 프로젝트 - Movielens 영화 추천 실습\n",
    "이전 스텝에서 배운 MF 모델 학습 방법을 토대로, 내가 좋아할 만한 영화 추천 시스템을 제작해 보겠습니다.\n",
    "\n",
    "이번에 활용할 데이터셋은 추천 시스템의 MNIST라고 부를만한 Movielens 데이터입니다.\n",
    "\n",
    "- 유저가 영화에 대해 평점을 매긴 데이터가 데이터 크기 별로 있습니다. MovieLens 1M Dataset 사용을 권장합니다.<br>\n",
    "- 별점 데이터는 대표적인 explicit 데이터입니다. 하지만 implicit 데이터로 간주하고 테스트해 볼 수 있습니다.<br>\n",
    "- 별점을 시청횟수로 해석해서 생각하겠습니다.<br>\n",
    "- 또한 유저가 3점 미만으로 준 데이터는 선호하지 않는다고 가정하고 제외하겠습니다.<br>\n",
    "\n"
   ]
  },
  {
   "cell_type": "code",
   "execution_count": 69,
   "id": "575a99c3",
   "metadata": {},
   "outputs": [
    {
     "name": "stdout",
     "output_type": "stream",
     "text": [
      "1.19.5\n",
      "1.9.3\n",
      "0.4.8\n"
     ]
    }
   ],
   "source": [
    "import numpy as np\n",
    "import scipy\n",
    "import implicit\n",
    "\n",
    "print(np.__version__)\n",
    "print(scipy.__version__)\n",
    "print(implicit.__version__)"
   ]
  },
  {
   "cell_type": "markdown",
   "id": "754cf9fb",
   "metadata": {},
   "source": [
    "# 1) 데이터 준비와 전처리\n",
    "---\n",
    "Movielens 데이터는 rating.dat 안에 이미 인덱싱까지 완료된 사용자-영화-평점 데이터가 깔끔하게 정리되어 있습니다."
   ]
  },
  {
   "cell_type": "code",
   "execution_count": 70,
   "id": "1a925404",
   "metadata": {},
   "outputs": [
    {
     "data": {
      "text/html": [
       "<div>\n",
       "<style scoped>\n",
       "    .dataframe tbody tr th:only-of-type {\n",
       "        vertical-align: middle;\n",
       "    }\n",
       "\n",
       "    .dataframe tbody tr th {\n",
       "        vertical-align: top;\n",
       "    }\n",
       "\n",
       "    .dataframe thead th {\n",
       "        text-align: right;\n",
       "    }\n",
       "</style>\n",
       "<table border=\"1\" class=\"dataframe\">\n",
       "  <thead>\n",
       "    <tr style=\"text-align: right;\">\n",
       "      <th></th>\n",
       "      <th>user_id</th>\n",
       "      <th>movie_id</th>\n",
       "      <th>ratings</th>\n",
       "      <th>timestamp</th>\n",
       "    </tr>\n",
       "  </thead>\n",
       "  <tbody>\n",
       "    <tr>\n",
       "      <th>0</th>\n",
       "      <td>1</td>\n",
       "      <td>1193</td>\n",
       "      <td>5</td>\n",
       "      <td>978300760</td>\n",
       "    </tr>\n",
       "    <tr>\n",
       "      <th>1</th>\n",
       "      <td>1</td>\n",
       "      <td>661</td>\n",
       "      <td>3</td>\n",
       "      <td>978302109</td>\n",
       "    </tr>\n",
       "    <tr>\n",
       "      <th>2</th>\n",
       "      <td>1</td>\n",
       "      <td>914</td>\n",
       "      <td>3</td>\n",
       "      <td>978301968</td>\n",
       "    </tr>\n",
       "    <tr>\n",
       "      <th>3</th>\n",
       "      <td>1</td>\n",
       "      <td>3408</td>\n",
       "      <td>4</td>\n",
       "      <td>978300275</td>\n",
       "    </tr>\n",
       "    <tr>\n",
       "      <th>4</th>\n",
       "      <td>1</td>\n",
       "      <td>2355</td>\n",
       "      <td>5</td>\n",
       "      <td>978824291</td>\n",
       "    </tr>\n",
       "  </tbody>\n",
       "</table>\n",
       "</div>"
      ],
      "text/plain": [
       "   user_id  movie_id  ratings  timestamp\n",
       "0        1      1193        5  978300760\n",
       "1        1       661        3  978302109\n",
       "2        1       914        3  978301968\n",
       "3        1      3408        4  978300275\n",
       "4        1      2355        5  978824291"
      ]
     },
     "execution_count": 70,
     "metadata": {},
     "output_type": "execute_result"
    }
   ],
   "source": [
    "import os\n",
    "import pandas as pd\n",
    "rating_file_path='./data/ml-1m/ratings.dat'\n",
    "ratings_cols = ['user_id', 'movie_id', 'ratings', 'timestamp']\n",
    "ratings = pd.read_csv(rating_file_path, sep='::', names=ratings_cols, engine='python', encoding = \"ISO-8859-1\")\n",
    "orginal_data_size = len(ratings)\n",
    "ratings.head()"
   ]
  },
  {
   "cell_type": "code",
   "execution_count": 71,
   "id": "f1c7acc3",
   "metadata": {},
   "outputs": [
    {
     "name": "stdout",
     "output_type": "stream",
     "text": [
      "orginal_data_size: 1000209, filtered_data_size: 836478\n",
      "Ratio of Remaining Data is 83.63%\n"
     ]
    }
   ],
   "source": [
    "# 3점 이상만 남깁니다.\n",
    "ratings = ratings[ratings['ratings']>=3]\n",
    "filtered_data_size = len(ratings)\n",
    "\n",
    "print(f'orginal_data_size: {orginal_data_size}, filtered_data_size: {filtered_data_size}')\n",
    "print(f'Ratio of Remaining Data is {filtered_data_size / orginal_data_size:.2%}')"
   ]
  },
  {
   "cell_type": "code",
   "execution_count": 72,
   "id": "7632d8db",
   "metadata": {},
   "outputs": [],
   "source": [
    "# ratings 컬럼의 이름을 counts로 바꿉니다.\n",
    "ratings.rename(columns={'ratings':'counts'}, inplace=True)"
   ]
  },
  {
   "cell_type": "code",
   "execution_count": 73,
   "id": "c6088d7c",
   "metadata": {},
   "outputs": [
    {
     "data": {
      "text/plain": [
       "0          5\n",
       "1          3\n",
       "2          3\n",
       "3          4\n",
       "4          5\n",
       "          ..\n",
       "1000203    3\n",
       "1000205    5\n",
       "1000206    5\n",
       "1000207    4\n",
       "1000208    4\n",
       "Name: counts, Length: 836478, dtype: int64"
      ]
     },
     "execution_count": 73,
     "metadata": {},
     "output_type": "execute_result"
    }
   ],
   "source": [
    "ratings['counts']"
   ]
  },
  {
   "cell_type": "code",
   "execution_count": 74,
   "id": "6c60f825",
   "metadata": {},
   "outputs": [
    {
     "data": {
      "text/html": [
       "<div>\n",
       "<style scoped>\n",
       "    .dataframe tbody tr th:only-of-type {\n",
       "        vertical-align: middle;\n",
       "    }\n",
       "\n",
       "    .dataframe tbody tr th {\n",
       "        vertical-align: top;\n",
       "    }\n",
       "\n",
       "    .dataframe thead th {\n",
       "        text-align: right;\n",
       "    }\n",
       "</style>\n",
       "<table border=\"1\" class=\"dataframe\">\n",
       "  <thead>\n",
       "    <tr style=\"text-align: right;\">\n",
       "      <th></th>\n",
       "      <th>user_id</th>\n",
       "      <th>movie_id</th>\n",
       "      <th>counts</th>\n",
       "      <th>timestamp</th>\n",
       "    </tr>\n",
       "  </thead>\n",
       "  <tbody>\n",
       "    <tr>\n",
       "      <th>0</th>\n",
       "      <td>1</td>\n",
       "      <td>1193</td>\n",
       "      <td>5</td>\n",
       "      <td>978300760</td>\n",
       "    </tr>\n",
       "    <tr>\n",
       "      <th>1</th>\n",
       "      <td>1</td>\n",
       "      <td>661</td>\n",
       "      <td>3</td>\n",
       "      <td>978302109</td>\n",
       "    </tr>\n",
       "    <tr>\n",
       "      <th>2</th>\n",
       "      <td>1</td>\n",
       "      <td>914</td>\n",
       "      <td>3</td>\n",
       "      <td>978301968</td>\n",
       "    </tr>\n",
       "    <tr>\n",
       "      <th>3</th>\n",
       "      <td>1</td>\n",
       "      <td>3408</td>\n",
       "      <td>4</td>\n",
       "      <td>978300275</td>\n",
       "    </tr>\n",
       "    <tr>\n",
       "      <th>4</th>\n",
       "      <td>1</td>\n",
       "      <td>2355</td>\n",
       "      <td>5</td>\n",
       "      <td>978824291</td>\n",
       "    </tr>\n",
       "  </tbody>\n",
       "</table>\n",
       "</div>"
      ],
      "text/plain": [
       "   user_id  movie_id  counts  timestamp\n",
       "0        1      1193       5  978300760\n",
       "1        1       661       3  978302109\n",
       "2        1       914       3  978301968\n",
       "3        1      3408       4  978300275\n",
       "4        1      2355       5  978824291"
      ]
     },
     "execution_count": 74,
     "metadata": {},
     "output_type": "execute_result"
    }
   ],
   "source": [
    "ratings.head()"
   ]
  },
  {
   "cell_type": "code",
   "execution_count": 75,
   "id": "38656826",
   "metadata": {},
   "outputs": [
    {
     "data": {
      "text/html": [
       "<div>\n",
       "<style scoped>\n",
       "    .dataframe tbody tr th:only-of-type {\n",
       "        vertical-align: middle;\n",
       "    }\n",
       "\n",
       "    .dataframe tbody tr th {\n",
       "        vertical-align: top;\n",
       "    }\n",
       "\n",
       "    .dataframe thead th {\n",
       "        text-align: right;\n",
       "    }\n",
       "</style>\n",
       "<table border=\"1\" class=\"dataframe\">\n",
       "  <thead>\n",
       "    <tr style=\"text-align: right;\">\n",
       "      <th></th>\n",
       "      <th>movie_id</th>\n",
       "      <th>title</th>\n",
       "      <th>genre</th>\n",
       "    </tr>\n",
       "  </thead>\n",
       "  <tbody>\n",
       "    <tr>\n",
       "      <th>0</th>\n",
       "      <td>1</td>\n",
       "      <td>Toy Story (1995)</td>\n",
       "      <td>Animation|Children's|Comedy</td>\n",
       "    </tr>\n",
       "    <tr>\n",
       "      <th>1</th>\n",
       "      <td>2</td>\n",
       "      <td>Jumanji (1995)</td>\n",
       "      <td>Adventure|Children's|Fantasy</td>\n",
       "    </tr>\n",
       "    <tr>\n",
       "      <th>2</th>\n",
       "      <td>3</td>\n",
       "      <td>Grumpier Old Men (1995)</td>\n",
       "      <td>Comedy|Romance</td>\n",
       "    </tr>\n",
       "    <tr>\n",
       "      <th>3</th>\n",
       "      <td>4</td>\n",
       "      <td>Waiting to Exhale (1995)</td>\n",
       "      <td>Comedy|Drama</td>\n",
       "    </tr>\n",
       "    <tr>\n",
       "      <th>4</th>\n",
       "      <td>5</td>\n",
       "      <td>Father of the Bride Part II (1995)</td>\n",
       "      <td>Comedy</td>\n",
       "    </tr>\n",
       "  </tbody>\n",
       "</table>\n",
       "</div>"
      ],
      "text/plain": [
       "   movie_id                               title                         genre\n",
       "0         1                    Toy Story (1995)   Animation|Children's|Comedy\n",
       "1         2                      Jumanji (1995)  Adventure|Children's|Fantasy\n",
       "2         3             Grumpier Old Men (1995)                Comedy|Romance\n",
       "3         4            Waiting to Exhale (1995)                  Comedy|Drama\n",
       "4         5  Father of the Bride Part II (1995)                        Comedy"
      ]
     },
     "execution_count": 75,
     "metadata": {},
     "output_type": "execute_result"
    }
   ],
   "source": [
    "# 영화 제목을 보기 위해 메타 데이터를 읽어옵니다.\n",
    "movie_file_path='./data/ml-1m/movies.dat'\n",
    "cols = ['movie_id', 'title', 'genre'] \n",
    "movies = pd.read_csv(movie_file_path, sep='::', names=cols, engine='python', encoding='ISO-8859-1')\n",
    "movies.head()"
   ]
  },
  {
   "cell_type": "markdown",
   "id": "50ea755b",
   "metadata": {},
   "source": [
    "여기까지가 전처리입니다. 이후에는 이전 스텝에 소개했던 것과 동일한 방식으로 MF model을 구성하여 내가 좋아할 만한 영화를 추천해 볼 수 있습니다."
   ]
  },
  {
   "cell_type": "markdown",
   "id": "53fd9ae4",
   "metadata": {},
   "source": [
    "# 2) 분석해 봅시다.\n",
    "---\n",
    "- ratings에 있는 유니크한 영화 개수<br>\n",
    "- ratings에 있는 유니크한 사용자 수<br>\n",
    "- 가장 인기 있는 영화 30개(인기순)<br>"
   ]
  },
  {
   "cell_type": "code",
   "execution_count": 76,
   "id": "f12527f8",
   "metadata": {},
   "outputs": [],
   "source": [
    "# 나중에 csr matrix할때 index가 shape[0]크기를 벗어나는 오류때문에 0부터 시작하도록 미리 변경함\n",
    "ratings['user_id']=ratings['user_id']-1"
   ]
  },
  {
   "cell_type": "code",
   "execution_count": 84,
   "id": "2611ab4d",
   "metadata": {},
   "outputs": [],
   "source": [
    "ratings['movie_id']=ratings['movie_id']-1"
   ]
  },
  {
   "cell_type": "code",
   "execution_count": 79,
   "id": "b5d7114a",
   "metadata": {},
   "outputs": [],
   "source": [
    "# 나중에 csr matrix할때 index가 shape[0]크기를 벗어나는 오류때문에 0부터 시작하도록 미리 변경함\n",
    "movies['movie_id']=movies['movie_id']-1"
   ]
  },
  {
   "cell_type": "code",
   "execution_count": 85,
   "id": "01574ab6",
   "metadata": {},
   "outputs": [
    {
     "data": {
      "text/plain": [
       "3628"
      ]
     },
     "execution_count": 85,
     "metadata": {},
     "output_type": "execute_result"
    }
   ],
   "source": [
    "# ratings에 있는 유니크한 영화개수\n",
    "ratings['movie_id'].nunique()"
   ]
  },
  {
   "cell_type": "code",
   "execution_count": 86,
   "id": "25a26d47",
   "metadata": {},
   "outputs": [
    {
     "data": {
      "text/plain": [
       "6039"
      ]
     },
     "execution_count": 86,
     "metadata": {},
     "output_type": "execute_result"
    }
   ],
   "source": [
    "# ratings에 있는 유니크한 사용자 수\n",
    "ratings['user_id'].nunique()"
   ]
  },
  {
   "cell_type": "code",
   "execution_count": 87,
   "id": "d7b48850",
   "metadata": {},
   "outputs": [
    {
     "data": {
      "text/plain": [
       "movie_id\n",
       "0       2000\n",
       "1        551\n",
       "2        339\n",
       "3        102\n",
       "4        214\n",
       "        ... \n",
       "3947     752\n",
       "3948     280\n",
       "3949      47\n",
       "3950      36\n",
       "3951     353\n",
       "Name: user_id, Length: 3628, dtype: int64"
      ]
     },
     "execution_count": 87,
     "metadata": {},
     "output_type": "execute_result"
    }
   ],
   "source": [
    "# 가장 인기 있느 영화 30개(인기순)\n",
    "movie_id_user_count = ratings.groupby('movie_id')['user_id'].count()\n",
    "movie_id_user_count"
   ]
  },
  {
   "cell_type": "code",
   "execution_count": 88,
   "id": "84c24e47",
   "metadata": {},
   "outputs": [],
   "source": [
    "best_movie_id = movie_id_user_count.sort_values(ascending=False) # 큰값이 맨처음 ---> 나중으로 갈수록 값이 작아지도록 정렬"
   ]
  },
  {
   "cell_type": "code",
   "execution_count": 89,
   "id": "f093390f",
   "metadata": {},
   "outputs": [],
   "source": [
    "best_movie_id_list=best_movie_id[:5].index.to_list() # 최상위 5개의 index를 series로 변환"
   ]
  },
  {
   "cell_type": "code",
   "execution_count": 90,
   "id": "154f98a6",
   "metadata": {},
   "outputs": [
    {
     "data": {
      "text/html": [
       "<div>\n",
       "<style scoped>\n",
       "    .dataframe tbody tr th:only-of-type {\n",
       "        vertical-align: middle;\n",
       "    }\n",
       "\n",
       "    .dataframe tbody tr th {\n",
       "        vertical-align: top;\n",
       "    }\n",
       "\n",
       "    .dataframe thead th {\n",
       "        text-align: right;\n",
       "    }\n",
       "</style>\n",
       "<table border=\"1\" class=\"dataframe\">\n",
       "  <thead>\n",
       "    <tr style=\"text-align: right;\">\n",
       "      <th></th>\n",
       "      <th>movie_id</th>\n",
       "      <th>title</th>\n",
       "      <th>genre</th>\n",
       "    </tr>\n",
       "  </thead>\n",
       "  <tbody>\n",
       "    <tr>\n",
       "      <th>257</th>\n",
       "      <td>259</td>\n",
       "      <td>Star Wars: Episode IV - A New Hope (1977)</td>\n",
       "      <td>Action|Adventure|Fantasy|Sci-Fi</td>\n",
       "    </tr>\n",
       "    <tr>\n",
       "      <th>1178</th>\n",
       "      <td>1195</td>\n",
       "      <td>Star Wars: Episode V - The Empire Strikes Back...</td>\n",
       "      <td>Action|Adventure|Drama|Sci-Fi|War</td>\n",
       "    </tr>\n",
       "    <tr>\n",
       "      <th>1192</th>\n",
       "      <td>1209</td>\n",
       "      <td>Star Wars: Episode VI - Return of the Jedi (1983)</td>\n",
       "      <td>Action|Adventure|Romance|Sci-Fi|War</td>\n",
       "    </tr>\n",
       "    <tr>\n",
       "      <th>1959</th>\n",
       "      <td>2027</td>\n",
       "      <td>Saving Private Ryan (1998)</td>\n",
       "      <td>Action|Drama|War</td>\n",
       "    </tr>\n",
       "    <tr>\n",
       "      <th>2789</th>\n",
       "      <td>2857</td>\n",
       "      <td>American Beauty (1999)</td>\n",
       "      <td>Comedy|Drama</td>\n",
       "    </tr>\n",
       "  </tbody>\n",
       "</table>\n",
       "</div>"
      ],
      "text/plain": [
       "      movie_id                                              title  \\\n",
       "257        259          Star Wars: Episode IV - A New Hope (1977)   \n",
       "1178      1195  Star Wars: Episode V - The Empire Strikes Back...   \n",
       "1192      1209  Star Wars: Episode VI - Return of the Jedi (1983)   \n",
       "1959      2027                         Saving Private Ryan (1998)   \n",
       "2789      2857                             American Beauty (1999)   \n",
       "\n",
       "                                    genre  \n",
       "257       Action|Adventure|Fantasy|Sci-Fi  \n",
       "1178    Action|Adventure|Drama|Sci-Fi|War  \n",
       "1192  Action|Adventure|Romance|Sci-Fi|War  \n",
       "1959                     Action|Drama|War  \n",
       "2789                         Comedy|Drama  "
      ]
     },
     "execution_count": 90,
     "metadata": {},
     "output_type": "execute_result"
    }
   ],
   "source": [
    "best_movie_top5_df = movies[movies['movie_id'].isin(best_movie_id_list)]\n",
    "best_movie_top5_df"
   ]
  },
  {
   "cell_type": "code",
   "execution_count": 91,
   "id": "2953cc91",
   "metadata": {},
   "outputs": [],
   "source": [
    "best_movie_top5_df=best_movie_top5_df.set_index('movie_id') # 인덱스를 movie_id로 변경한다"
   ]
  },
  {
   "cell_type": "code",
   "execution_count": 92,
   "id": "960c2e8d",
   "metadata": {},
   "outputs": [
    {
     "data": {
      "text/html": [
       "<div>\n",
       "<style scoped>\n",
       "    .dataframe tbody tr th:only-of-type {\n",
       "        vertical-align: middle;\n",
       "    }\n",
       "\n",
       "    .dataframe tbody tr th {\n",
       "        vertical-align: top;\n",
       "    }\n",
       "\n",
       "    .dataframe thead th {\n",
       "        text-align: right;\n",
       "    }\n",
       "</style>\n",
       "<table border=\"1\" class=\"dataframe\">\n",
       "  <thead>\n",
       "    <tr style=\"text-align: right;\">\n",
       "      <th></th>\n",
       "      <th>title</th>\n",
       "      <th>genre</th>\n",
       "    </tr>\n",
       "    <tr>\n",
       "      <th>movie_id</th>\n",
       "      <th></th>\n",
       "      <th></th>\n",
       "    </tr>\n",
       "  </thead>\n",
       "  <tbody>\n",
       "    <tr>\n",
       "      <th>2857</th>\n",
       "      <td>American Beauty (1999)</td>\n",
       "      <td>Comedy|Drama</td>\n",
       "    </tr>\n",
       "    <tr>\n",
       "      <th>259</th>\n",
       "      <td>Star Wars: Episode IV - A New Hope (1977)</td>\n",
       "      <td>Action|Adventure|Fantasy|Sci-Fi</td>\n",
       "    </tr>\n",
       "    <tr>\n",
       "      <th>1195</th>\n",
       "      <td>Star Wars: Episode V - The Empire Strikes Back...</td>\n",
       "      <td>Action|Adventure|Drama|Sci-Fi|War</td>\n",
       "    </tr>\n",
       "    <tr>\n",
       "      <th>1209</th>\n",
       "      <td>Star Wars: Episode VI - Return of the Jedi (1983)</td>\n",
       "      <td>Action|Adventure|Romance|Sci-Fi|War</td>\n",
       "    </tr>\n",
       "    <tr>\n",
       "      <th>2027</th>\n",
       "      <td>Saving Private Ryan (1998)</td>\n",
       "      <td>Action|Drama|War</td>\n",
       "    </tr>\n",
       "  </tbody>\n",
       "</table>\n",
       "</div>"
      ],
      "text/plain": [
       "                                                      title  \\\n",
       "movie_id                                                      \n",
       "2857                                 American Beauty (1999)   \n",
       "259               Star Wars: Episode IV - A New Hope (1977)   \n",
       "1195      Star Wars: Episode V - The Empire Strikes Back...   \n",
       "1209      Star Wars: Episode VI - Return of the Jedi (1983)   \n",
       "2027                             Saving Private Ryan (1998)   \n",
       "\n",
       "                                        genre  \n",
       "movie_id                                       \n",
       "2857                             Comedy|Drama  \n",
       "259           Action|Adventure|Fantasy|Sci-Fi  \n",
       "1195        Action|Adventure|Drama|Sci-Fi|War  \n",
       "1209      Action|Adventure|Romance|Sci-Fi|War  \n",
       "2027                         Action|Drama|War  "
      ]
     },
     "execution_count": 92,
     "metadata": {},
     "output_type": "execute_result"
    }
   ],
   "source": [
    "best_movie_top5_df.loc[best_movie_id_list] # best_movie_id_list 값 순서와 동일하게 배치된 DataFrame을 출력한다 맨위부터 제일 많이 선호하는영화"
   ]
  },
  {
   "cell_type": "code",
   "execution_count": 93,
   "id": "b884d2fb",
   "metadata": {},
   "outputs": [
    {
     "data": {
      "text/plain": [
       "[2857, 259, 1195, 1209, 2027]"
      ]
     },
     "execution_count": 93,
     "metadata": {},
     "output_type": "execute_result"
    }
   ],
   "source": [
    "best_movie_id_list"
   ]
  },
  {
   "cell_type": "code",
   "execution_count": 95,
   "id": "07f5c514",
   "metadata": {},
   "outputs": [
    {
     "data": {
      "text/html": [
       "<div>\n",
       "<style scoped>\n",
       "    .dataframe tbody tr th:only-of-type {\n",
       "        vertical-align: middle;\n",
       "    }\n",
       "\n",
       "    .dataframe tbody tr th {\n",
       "        vertical-align: top;\n",
       "    }\n",
       "\n",
       "    .dataframe thead th {\n",
       "        text-align: right;\n",
       "    }\n",
       "</style>\n",
       "<table border=\"1\" class=\"dataframe\">\n",
       "  <thead>\n",
       "    <tr style=\"text-align: right;\">\n",
       "      <th></th>\n",
       "      <th>user_id</th>\n",
       "      <th>movie_id</th>\n",
       "      <th>counts</th>\n",
       "      <th>timestamp</th>\n",
       "      <th>title</th>\n",
       "    </tr>\n",
       "  </thead>\n",
       "  <tbody>\n",
       "    <tr>\n",
       "      <th>0</th>\n",
       "      <td>0</td>\n",
       "      <td>1192</td>\n",
       "      <td>5</td>\n",
       "      <td>978300760</td>\n",
       "      <td>One Flew Over the Cuckoo's Nest (1975)</td>\n",
       "    </tr>\n",
       "    <tr>\n",
       "      <th>1</th>\n",
       "      <td>0</td>\n",
       "      <td>660</td>\n",
       "      <td>3</td>\n",
       "      <td>978302109</td>\n",
       "      <td>James and the Giant Peach (1996)</td>\n",
       "    </tr>\n",
       "    <tr>\n",
       "      <th>2</th>\n",
       "      <td>0</td>\n",
       "      <td>913</td>\n",
       "      <td>3</td>\n",
       "      <td>978301968</td>\n",
       "      <td>My Fair Lady (1964)</td>\n",
       "    </tr>\n",
       "    <tr>\n",
       "      <th>3</th>\n",
       "      <td>0</td>\n",
       "      <td>3407</td>\n",
       "      <td>4</td>\n",
       "      <td>978300275</td>\n",
       "      <td>Erin Brockovich (2000)</td>\n",
       "    </tr>\n",
       "    <tr>\n",
       "      <th>4</th>\n",
       "      <td>0</td>\n",
       "      <td>2354</td>\n",
       "      <td>5</td>\n",
       "      <td>978824291</td>\n",
       "      <td>Bug's Life, A (1998)</td>\n",
       "    </tr>\n",
       "    <tr>\n",
       "      <th>...</th>\n",
       "      <td>...</td>\n",
       "      <td>...</td>\n",
       "      <td>...</td>\n",
       "      <td>...</td>\n",
       "      <td>...</td>\n",
       "    </tr>\n",
       "    <tr>\n",
       "      <th>836473</th>\n",
       "      <td>6039</td>\n",
       "      <td>1089</td>\n",
       "      <td>3</td>\n",
       "      <td>956715518</td>\n",
       "      <td>Platoon (1986)</td>\n",
       "    </tr>\n",
       "    <tr>\n",
       "      <th>836474</th>\n",
       "      <td>6039</td>\n",
       "      <td>1093</td>\n",
       "      <td>5</td>\n",
       "      <td>956704887</td>\n",
       "      <td>Crying Game, The (1992)</td>\n",
       "    </tr>\n",
       "    <tr>\n",
       "      <th>836475</th>\n",
       "      <td>6039</td>\n",
       "      <td>561</td>\n",
       "      <td>5</td>\n",
       "      <td>956704746</td>\n",
       "      <td>Welcome to the Dollhouse (1995)</td>\n",
       "    </tr>\n",
       "    <tr>\n",
       "      <th>836476</th>\n",
       "      <td>6039</td>\n",
       "      <td>1095</td>\n",
       "      <td>4</td>\n",
       "      <td>956715648</td>\n",
       "      <td>Sophie's Choice (1982)</td>\n",
       "    </tr>\n",
       "    <tr>\n",
       "      <th>836477</th>\n",
       "      <td>6039</td>\n",
       "      <td>1096</td>\n",
       "      <td>4</td>\n",
       "      <td>956715569</td>\n",
       "      <td>E.T. the Extra-Terrestrial (1982)</td>\n",
       "    </tr>\n",
       "  </tbody>\n",
       "</table>\n",
       "<p>836478 rows × 5 columns</p>\n",
       "</div>"
      ],
      "text/plain": [
       "        user_id  movie_id  counts  timestamp  \\\n",
       "0             0      1192       5  978300760   \n",
       "1             0       660       3  978302109   \n",
       "2             0       913       3  978301968   \n",
       "3             0      3407       4  978300275   \n",
       "4             0      2354       5  978824291   \n",
       "...         ...       ...     ...        ...   \n",
       "836473     6039      1089       3  956715518   \n",
       "836474     6039      1093       5  956704887   \n",
       "836475     6039       561       5  956704746   \n",
       "836476     6039      1095       4  956715648   \n",
       "836477     6039      1096       4  956715569   \n",
       "\n",
       "                                         title  \n",
       "0       One Flew Over the Cuckoo's Nest (1975)  \n",
       "1             James and the Giant Peach (1996)  \n",
       "2                          My Fair Lady (1964)  \n",
       "3                       Erin Brockovich (2000)  \n",
       "4                         Bug's Life, A (1998)  \n",
       "...                                        ...  \n",
       "836473                          Platoon (1986)  \n",
       "836474                 Crying Game, The (1992)  \n",
       "836475         Welcome to the Dollhouse (1995)  \n",
       "836476                  Sophie's Choice (1982)  \n",
       "836477       E.T. the Extra-Terrestrial (1982)  \n",
       "\n",
       "[836478 rows x 5 columns]"
      ]
     },
     "execution_count": 95,
     "metadata": {},
     "output_type": "execute_result"
    }
   ],
   "source": [
    "# ratings에 movie_id로 존재하는 값과 movies에 movie_id로 존재하는 값이 같은 경우 movie의 title 컬럼을 만들고 값을 넣어주려고합니다\n",
    "ratings = pd.merge(ratings,movies[['movie_id','title']],on='movie_id',how='left')\n",
    "ratings"
   ]
  },
  {
   "cell_type": "markdown",
   "id": "89ebb58d",
   "metadata": {},
   "source": [
    "# 3) 내가 선호하는 영화를 5가지 골라서 ratings에 추가해 줍시다.\n",
    "---"
   ]
  },
  {
   "cell_type": "code",
   "execution_count": 96,
   "id": "88a91ae4",
   "metadata": {},
   "outputs": [
    {
     "data": {
      "text/plain": [
       "836477    6039\n",
       "836295    6039\n",
       "836289    6039\n",
       "836290    6039\n",
       "836291    6039\n",
       "          ... \n",
       "33           0\n",
       "32           0\n",
       "31           0\n",
       "30           0\n",
       "0            0\n",
       "Name: user_id, Length: 836478, dtype: int64"
      ]
     },
     "execution_count": 96,
     "metadata": {},
     "output_type": "execute_result"
    }
   ],
   "source": [
    "ratings['user_id'].sort_values(ascending=False) # 나의 id를 선택하기 위해 id번호 맨 마지막 값을 얻어온다 -> 6040"
   ]
  },
  {
   "cell_type": "code",
   "execution_count": 97,
   "id": "157a927a",
   "metadata": {},
   "outputs": [
    {
     "data": {
      "text/html": [
       "<div>\n",
       "<style scoped>\n",
       "    .dataframe tbody tr th:only-of-type {\n",
       "        vertical-align: middle;\n",
       "    }\n",
       "\n",
       "    .dataframe tbody tr th {\n",
       "        vertical-align: top;\n",
       "    }\n",
       "\n",
       "    .dataframe thead th {\n",
       "        text-align: right;\n",
       "    }\n",
       "</style>\n",
       "<table border=\"1\" class=\"dataframe\">\n",
       "  <thead>\n",
       "    <tr style=\"text-align: right;\">\n",
       "      <th></th>\n",
       "      <th>user_id</th>\n",
       "      <th>movie_id</th>\n",
       "      <th>counts</th>\n",
       "      <th>timestamp</th>\n",
       "      <th>title</th>\n",
       "    </tr>\n",
       "  </thead>\n",
       "  <tbody>\n",
       "    <tr>\n",
       "      <th>836473</th>\n",
       "      <td>6039</td>\n",
       "      <td>1089</td>\n",
       "      <td>3</td>\n",
       "      <td>956715518</td>\n",
       "      <td>Platoon (1986)</td>\n",
       "    </tr>\n",
       "    <tr>\n",
       "      <th>836474</th>\n",
       "      <td>6039</td>\n",
       "      <td>1093</td>\n",
       "      <td>5</td>\n",
       "      <td>956704887</td>\n",
       "      <td>Crying Game, The (1992)</td>\n",
       "    </tr>\n",
       "    <tr>\n",
       "      <th>836475</th>\n",
       "      <td>6039</td>\n",
       "      <td>561</td>\n",
       "      <td>5</td>\n",
       "      <td>956704746</td>\n",
       "      <td>Welcome to the Dollhouse (1995)</td>\n",
       "    </tr>\n",
       "    <tr>\n",
       "      <th>836476</th>\n",
       "      <td>6039</td>\n",
       "      <td>1095</td>\n",
       "      <td>4</td>\n",
       "      <td>956715648</td>\n",
       "      <td>Sophie's Choice (1982)</td>\n",
       "    </tr>\n",
       "    <tr>\n",
       "      <th>836477</th>\n",
       "      <td>6039</td>\n",
       "      <td>1096</td>\n",
       "      <td>4</td>\n",
       "      <td>956715569</td>\n",
       "      <td>E.T. the Extra-Terrestrial (1982)</td>\n",
       "    </tr>\n",
       "    <tr>\n",
       "      <th>0</th>\n",
       "      <td>6040</td>\n",
       "      <td>3950</td>\n",
       "      <td>3</td>\n",
       "      <td>0</td>\n",
       "      <td>Contender, The (2000)</td>\n",
       "    </tr>\n",
       "    <tr>\n",
       "      <th>1</th>\n",
       "      <td>6040</td>\n",
       "      <td>3949</td>\n",
       "      <td>3</td>\n",
       "      <td>0</td>\n",
       "      <td>Tigerland (2000)</td>\n",
       "    </tr>\n",
       "    <tr>\n",
       "      <th>2</th>\n",
       "      <td>6040</td>\n",
       "      <td>3948</td>\n",
       "      <td>3</td>\n",
       "      <td>0</td>\n",
       "      <td>Requiem for a Dream (2000)</td>\n",
       "    </tr>\n",
       "    <tr>\n",
       "      <th>3</th>\n",
       "      <td>6040</td>\n",
       "      <td>3946</td>\n",
       "      <td>3</td>\n",
       "      <td>0</td>\n",
       "      <td>Get Carter (1971)</td>\n",
       "    </tr>\n",
       "    <tr>\n",
       "      <th>4</th>\n",
       "      <td>6040</td>\n",
       "      <td>3943</td>\n",
       "      <td>3</td>\n",
       "      <td>0</td>\n",
       "      <td>Bootmen (2000)</td>\n",
       "    </tr>\n",
       "  </tbody>\n",
       "</table>\n",
       "</div>"
      ],
      "text/plain": [
       "        user_id  movie_id  counts  timestamp  \\\n",
       "836473     6039      1089       3  956715518   \n",
       "836474     6039      1093       5  956704887   \n",
       "836475     6039       561       5  956704746   \n",
       "836476     6039      1095       4  956715648   \n",
       "836477     6039      1096       4  956715569   \n",
       "0          6040      3950       3          0   \n",
       "1          6040      3949       3          0   \n",
       "2          6040      3948       3          0   \n",
       "3          6040      3946       3          0   \n",
       "4          6040      3943       3          0   \n",
       "\n",
       "                                    title  \n",
       "836473                     Platoon (1986)  \n",
       "836474            Crying Game, The (1992)  \n",
       "836475    Welcome to the Dollhouse (1995)  \n",
       "836476             Sophie's Choice (1982)  \n",
       "836477  E.T. the Extra-Terrestrial (1982)  \n",
       "0                   Contender, The (2000)  \n",
       "1                        Tigerland (2000)  \n",
       "2              Requiem for a Dream (2000)  \n",
       "3                       Get Carter (1971)  \n",
       "4                          Bootmen (2000)  "
      ]
     },
     "execution_count": 97,
     "metadata": {},
     "output_type": "execute_result"
    }
   ],
   "source": [
    "# 본인이 좋아하시는 아티스트 데이터로 바꿔서 추가하셔도 됩니다! 단, 이름은 꼭 데이터셋에 있는 것과 동일하게 맞춰주세요. \n",
    "my_favorite_movie = ['Contender, The (2000)' , 'Tigerland (2000)' ,'Requiem for a Dream (2000)' ,'Get Carter (1971)' ,'Bootmen (2000)']\n",
    "my_favorite_movie_id=[3950,3949,3948,3946,3943]\n",
    "\n",
    "# 저의 'id'는 6039 의 다음 6040 로 하겠습니다.\n",
    "# id=6040 가 favorite_movie 를 보고 추천을 3으로 주었다고 가정하겠습니다.\n",
    "my_rate_list = pd.DataFrame({'user_id': [6040]*5, 'movie_id': my_favorite_movie_id, 'counts':[3]*5, 'timestamp':0,'title':my_favorite_movie})\n",
    "\n",
    "if not ratings.isin({'user_id':[6040]})['user_id'].any():  # user_id에 6041 이라는 데이터가 없다면\n",
    "    ratings = ratings.append(my_rate_list)                 # 위에 임의로 만든 my_rate_list 데이터를 추가해 줍니다. \n",
    "\n",
    "ratings.tail(10) "
   ]
  },
  {
   "cell_type": "code",
   "execution_count": 122,
   "id": "0124cd78",
   "metadata": {},
   "outputs": [],
   "source": [
    "user_id = ratings['user_id'].unique()\n",
    "movie_id = ratings['title'].unique()\n",
    "user_to_idx = {v:k for k,v in enumerate(user_id)}\n",
    "movie_to_idx = {v:k for k,v in enumerate(movie_id)}"
   ]
  },
  {
   "cell_type": "code",
   "execution_count": 125,
   "id": "ec1599e1",
   "metadata": {},
   "outputs": [
    {
     "name": "stdout",
     "output_type": "stream",
     "text": [
      "user_id column indexing OK!!\n",
      "title column indexing OK!!\n"
     ]
    }
   ],
   "source": [
    "temp_user_data = ratings['user_id'].map(user_to_idx.get).dropna()\n",
    "if len(temp_user_data) == len(ratings):   # 모든 row가 정상적으로 인덱싱되었다면\n",
    "    print('user_id column indexing OK!!')\n",
    "    ratings['user_id'] = temp_user_data   # data['user_id']을 인덱싱된 Series로 교체해 줍니다. \n",
    "else:\n",
    "    print('user_id column indexing Fail!!')\n",
    "\n",
    "# movie_to_idx 을 통해  title 컬럼도 동일한 방식으로 인덱싱해 줍니다. \n",
    "temp_movie_data = ratings['title'].map(movie_to_idx.get).dropna()\n",
    "if len(temp_movie_data) == len(ratings):\n",
    "    print('title column indexing OK!!')\n",
    "    ratings['title'] = temp_movie_data\n",
    "else:\n",
    "    print('title column indexing Fail!!')"
   ]
  },
  {
   "cell_type": "code",
   "execution_count": 129,
   "id": "cacc1552",
   "metadata": {},
   "outputs": [],
   "source": [
    "ratings.drop('movie_id',axis=1,inplace=True)"
   ]
  },
  {
   "cell_type": "code",
   "execution_count": 131,
   "id": "55395108",
   "metadata": {},
   "outputs": [],
   "source": [
    "ratings.drop('timestamp',axis=1,inplace=True)"
   ]
  },
  {
   "cell_type": "code",
   "execution_count": 133,
   "id": "14d6fd82",
   "metadata": {},
   "outputs": [],
   "source": [
    "ratings.rename(columns={'title':'movie_id'},inplace=True)"
   ]
  },
  {
   "cell_type": "code",
   "execution_count": 134,
   "id": "d3d45489",
   "metadata": {},
   "outputs": [
    {
     "data": {
      "text/html": [
       "<div>\n",
       "<style scoped>\n",
       "    .dataframe tbody tr th:only-of-type {\n",
       "        vertical-align: middle;\n",
       "    }\n",
       "\n",
       "    .dataframe tbody tr th {\n",
       "        vertical-align: top;\n",
       "    }\n",
       "\n",
       "    .dataframe thead th {\n",
       "        text-align: right;\n",
       "    }\n",
       "</style>\n",
       "<table border=\"1\" class=\"dataframe\">\n",
       "  <thead>\n",
       "    <tr style=\"text-align: right;\">\n",
       "      <th></th>\n",
       "      <th>user_id</th>\n",
       "      <th>counts</th>\n",
       "      <th>movie_id</th>\n",
       "    </tr>\n",
       "  </thead>\n",
       "  <tbody>\n",
       "    <tr>\n",
       "      <th>0</th>\n",
       "      <td>0</td>\n",
       "      <td>5</td>\n",
       "      <td>0</td>\n",
       "    </tr>\n",
       "    <tr>\n",
       "      <th>1</th>\n",
       "      <td>0</td>\n",
       "      <td>3</td>\n",
       "      <td>1</td>\n",
       "    </tr>\n",
       "    <tr>\n",
       "      <th>2</th>\n",
       "      <td>0</td>\n",
       "      <td>3</td>\n",
       "      <td>2</td>\n",
       "    </tr>\n",
       "    <tr>\n",
       "      <th>3</th>\n",
       "      <td>0</td>\n",
       "      <td>4</td>\n",
       "      <td>3</td>\n",
       "    </tr>\n",
       "    <tr>\n",
       "      <th>4</th>\n",
       "      <td>0</td>\n",
       "      <td>5</td>\n",
       "      <td>4</td>\n",
       "    </tr>\n",
       "    <tr>\n",
       "      <th>...</th>\n",
       "      <td>...</td>\n",
       "      <td>...</td>\n",
       "      <td>...</td>\n",
       "    </tr>\n",
       "    <tr>\n",
       "      <th>0</th>\n",
       "      <td>6039</td>\n",
       "      <td>3</td>\n",
       "      <td>1099</td>\n",
       "    </tr>\n",
       "    <tr>\n",
       "      <th>1</th>\n",
       "      <td>6039</td>\n",
       "      <td>3</td>\n",
       "      <td>2398</td>\n",
       "    </tr>\n",
       "    <tr>\n",
       "      <th>2</th>\n",
       "      <td>6039</td>\n",
       "      <td>3</td>\n",
       "      <td>1318</td>\n",
       "    </tr>\n",
       "    <tr>\n",
       "      <th>3</th>\n",
       "      <td>6039</td>\n",
       "      <td>3</td>\n",
       "      <td>2691</td>\n",
       "    </tr>\n",
       "    <tr>\n",
       "      <th>4</th>\n",
       "      <td>6039</td>\n",
       "      <td>3</td>\n",
       "      <td>3320</td>\n",
       "    </tr>\n",
       "  </tbody>\n",
       "</table>\n",
       "<p>836483 rows × 3 columns</p>\n",
       "</div>"
      ],
      "text/plain": [
       "    user_id  counts  movie_id\n",
       "0         0       5         0\n",
       "1         0       3         1\n",
       "2         0       3         2\n",
       "3         0       4         3\n",
       "4         0       5         4\n",
       "..      ...     ...       ...\n",
       "0      6039       3      1099\n",
       "1      6039       3      2398\n",
       "2      6039       3      1318\n",
       "3      6039       3      2691\n",
       "4      6039       3      3320\n",
       "\n",
       "[836483 rows x 3 columns]"
      ]
     },
     "execution_count": 134,
     "metadata": {},
     "output_type": "execute_result"
    }
   ],
   "source": [
    "ratings"
   ]
  },
  {
   "cell_type": "markdown",
   "id": "7c96afd2",
   "metadata": {},
   "source": [
    "# 4) CSR matrix를 직접 만들어 봅시다.\n",
    "---"
   ]
  },
  {
   "cell_type": "code",
   "execution_count": 140,
   "id": "4ae6788c",
   "metadata": {},
   "outputs": [
    {
     "data": {
      "text/plain": [
       "<6040x3628 sparse matrix of type '<class 'numpy.int64'>'\n",
       "\twith 836483 stored elements in Compressed Sparse Row format>"
      ]
     },
     "execution_count": 140,
     "metadata": {},
     "output_type": "execute_result"
    }
   ],
   "source": [
    "from scipy.sparse import csr_matrix\n",
    "\n",
    "num_user = ratings['user_id'].nunique()\n",
    "num_movie = ratings['movie_id'].nunique()\n",
    "\n",
    "csr_data = csr_matrix((ratings.counts, (ratings.user_id, ratings.movie_id)), shape= (num_user, num_movie))\n",
    "csr_data"
   ]
  },
  {
   "cell_type": "markdown",
   "id": "e701a5cd",
   "metadata": {},
   "source": [
    "# 5) als_model = AlternatingLeastSquares 모델을 직접 구성하여 훈련.\n",
    "---"
   ]
  },
  {
   "cell_type": "code",
   "execution_count": 141,
   "id": "7ea113b9",
   "metadata": {},
   "outputs": [],
   "source": [
    "from implicit.als import AlternatingLeastSquares\n",
    "import os\n",
    "import numpy as np\n",
    "\n",
    "# implicit 라이브러리에서 권장하고 있는 부분입니다. 학습 내용과는 무관합니다.\n",
    "os.environ['OPENBLAS_NUM_THREADS']='1'\n",
    "os.environ['KMP_DUPLICATE_LIB_OK']='True'\n",
    "os.environ['MKL_NUM_THREADS']='1'\n",
    "# Implicit AlternatingLeastSquares 모델의 선언\n",
    "als_model = AlternatingLeastSquares(factors=100, regularization=0.01, use_gpu=False, iterations=15, dtype=np.float32)"
   ]
  },
  {
   "cell_type": "code",
   "execution_count": 142,
   "id": "fd026a43",
   "metadata": {},
   "outputs": [
    {
     "data": {
      "text/plain": [
       "<3628x6040 sparse matrix of type '<class 'numpy.int64'>'\n",
       "\twith 836483 stored elements in Compressed Sparse Column format>"
      ]
     },
     "execution_count": 142,
     "metadata": {},
     "output_type": "execute_result"
    }
   ],
   "source": [
    "# als 모델은 input으로 (item X user 꼴의 matrix를 받기 때문에 Transpose해줍니다.)\n",
    "csr_data_transpose = csr_data.T\n",
    "csr_data_transpose"
   ]
  },
  {
   "cell_type": "code",
   "execution_count": 143,
   "id": "869e64ed",
   "metadata": {},
   "outputs": [
    {
     "name": "stderr",
     "output_type": "stream",
     "text": [
      "100%|██████████| 15/15 [00:03<00:00,  4.05it/s]\n"
     ]
    }
   ],
   "source": [
    "# 모델 훈련\n",
    "als_model.fit(csr_data_transpose)"
   ]
  },
  {
   "cell_type": "code",
   "execution_count": 144,
   "id": "49f8cfe2",
   "metadata": {},
   "outputs": [
    {
     "data": {
      "text/plain": [
       "(3628, 100)"
      ]
     },
     "execution_count": 144,
     "metadata": {},
     "output_type": "execute_result"
    }
   ],
   "source": [
    "als_model.item_factors.shape"
   ]
  },
  {
   "cell_type": "markdown",
   "id": "9870ca5e",
   "metadata": {},
   "source": [
    "# 6) 내가 선호하는 5가지 영화 중 하나와 그 외의 영화 하나를 골라 훈련된 모델이 예측한 나의 선호도를 파악해 보세요."
   ]
  },
  {
   "cell_type": "code",
   "execution_count": 146,
   "id": "11f8dbd5",
   "metadata": {},
   "outputs": [],
   "source": [
    "# 내가선호하는 5가지 영화중 하나\n",
    "my_user_idx, requiem_movie_idx = user_to_idx[6040], movie_to_idx['Requiem for a Dream (2000)']"
   ]
  },
  {
   "cell_type": "code",
   "execution_count": 149,
   "id": "51dcee1f",
   "metadata": {},
   "outputs": [],
   "source": [
    "my_vector = als_model.user_factors[my_user_idx]\n",
    "requiem_vector = als_model.item_factors[requiem_movie_idx]"
   ]
  },
  {
   "cell_type": "code",
   "execution_count": 150,
   "id": "e5f5a83f",
   "metadata": {},
   "outputs": [
    {
     "data": {
      "text/plain": [
       "0.27203968"
      ]
     },
     "execution_count": 150,
     "metadata": {},
     "output_type": "execute_result"
    }
   ],
   "source": [
    "# 선호도가 낮게 나오네요^^\n",
    "np.dot(my_vector, requiem_vector)"
   ]
  },
  {
   "cell_type": "code",
   "execution_count": 152,
   "id": "e95ab52e",
   "metadata": {},
   "outputs": [],
   "source": [
    "# 제가 선택하지 않은 영화 \n",
    "ab_movie_idx = movie_to_idx['American Beauty (1999)']\n",
    "ab_vector = als_model.item_factors[ab_movie_idx]"
   ]
  },
  {
   "cell_type": "code",
   "execution_count": 153,
   "id": "cb6dd21e",
   "metadata": {},
   "outputs": [
    {
     "data": {
      "text/plain": [
       "-0.050437592"
      ]
     },
     "execution_count": 153,
     "metadata": {},
     "output_type": "execute_result"
    }
   ],
   "source": [
    "# 선호도가 더 낮게 나오네요^^\n",
    "np.dot(my_vector, ab_vector)"
   ]
  },
  {
   "cell_type": "markdown",
   "id": "2b24bfba",
   "metadata": {},
   "source": [
    "# 7) 내가 좋아하는 영화와 비슷한 영화를 추천받아 봅시다."
   ]
  },
  {
   "cell_type": "code",
   "execution_count": 154,
   "id": "1a7c5685",
   "metadata": {},
   "outputs": [],
   "source": [
    "idx_to_movie = {v:k for k,v in movie_to_idx.items()}\n",
    "def get_similar_movie(movie_name: str):\n",
    "    movie_idx = movie_to_idx[movie_name]\n",
    "    similar_movies = als_model.similar_items(movie_idx)\n",
    "    similar_movie_list = [idx_to_movie[i[0]] for i in similar_movies]\n",
    "    return similar_movie_list"
   ]
  },
  {
   "cell_type": "code",
   "execution_count": 156,
   "id": "7001dcaa",
   "metadata": {},
   "outputs": [
    {
     "data": {
      "text/plain": [
       "['Tigerland (2000)',\n",
       " 'Yards, The (1999)',\n",
       " 'Wisdom of Crocodiles, The (a.k.a. Immortality) (2000)',\n",
       " 'Under Suspicion (2000)',\n",
       " 'End of the Affair, The (1955)',\n",
       " 'Following (1998)',\n",
       " 'Two Family House (2000)',\n",
       " 'Splendor (1999)',\n",
       " 'Jeanne and the Perfect Guy (Jeanne et le garçon formidable) (1998)',\n",
       " 'Shadow Conspiracy (1997)']"
      ]
     },
     "execution_count": 156,
     "metadata": {},
     "output_type": "execute_result"
    }
   ],
   "source": [
    "get_similar_movie('Tigerland (2000)')"
   ]
  },
  {
   "cell_type": "markdown",
   "id": "fbd341af",
   "metadata": {},
   "source": [
    "# 8) 내가 가장 좋아할 만한 영화들을 추천받아 봅시다."
   ]
  },
  {
   "cell_type": "code",
   "execution_count": 157,
   "id": "1ef0bd0a",
   "metadata": {},
   "outputs": [
    {
     "data": {
      "text/plain": [
       "[(755, 0.35434943),\n",
       " (1853, 0.30043364),\n",
       " (461, 0.29534772),\n",
       " (1814, 0.2777233),\n",
       " (486, 0.19206962),\n",
       " (1887, 0.17959005),\n",
       " (1852, 0.17035298),\n",
       " (859, 0.14803858),\n",
       " (1470, 0.1204398),\n",
       " (2056, 0.12015468),\n",
       " (1465, 0.11975765),\n",
       " (2537, 0.11627371),\n",
       " (1857, 0.11292884),\n",
       " (1117, 0.10323324),\n",
       " (2027, 0.10145312),\n",
       " (468, 0.09703316),\n",
       " (2243, 0.09660561),\n",
       " (2235, 0.0956245),\n",
       " (463, 0.08728663),\n",
       " (1808, 0.08594224)]"
      ]
     },
     "execution_count": 157,
     "metadata": {},
     "output_type": "execute_result"
    }
   ],
   "source": [
    "movie_recommended = als_model.recommend(my_user_idx, csr_data, N=20, filter_already_liked_items=True)\n",
    "movie_recommended"
   ]
  },
  {
   "cell_type": "code",
   "execution_count": 158,
   "id": "a75cff25",
   "metadata": {},
   "outputs": [
    {
     "data": {
      "text/plain": [
       "['Almost Famous (2000)',\n",
       " 'Best in Show (2000)',\n",
       " 'Meet the Parents (2000)',\n",
       " 'Nurse Betty (2000)',\n",
       " 'Remember the Titans (2000)',\n",
       " 'Wonder Boys (2000)',\n",
       " 'Dancer in the Dark (2000)',\n",
       " 'Cell, The (2000)',\n",
       " 'Tao of Steve, The (2000)',\n",
       " 'Way of the Gun, The (2000)',\n",
       " 'Saving Grace (2000)',\n",
       " 'Girlfight (2000)',\n",
       " 'Bring It On (2000)',\n",
       " 'Virgin Suicides, The (1999)',\n",
       " 'Croupier (1998)',\n",
       " 'Magnolia (1999)',\n",
       " 'Yards, The (1999)',\n",
       " 'Original Kings of Comedy, The (2000)',\n",
       " 'Frequency (2000)',\n",
       " 'Chuck & Buck (2000)']"
      ]
     },
     "execution_count": 158,
     "metadata": {},
     "output_type": "execute_result"
    }
   ],
   "source": [
    "[idx_to_movie[i[0]] for i in movie_recommended]"
   ]
  },
  {
   "cell_type": "code",
   "execution_count": null,
   "id": "8f488366",
   "metadata": {},
   "outputs": [],
   "source": []
  }
 ],
 "metadata": {
  "kernelspec": {
   "display_name": "Python 3 (ipykernel)",
   "language": "python",
   "name": "python3"
  },
  "language_info": {
   "codemirror_mode": {
    "name": "ipython",
    "version": 3
   },
   "file_extension": ".py",
   "mimetype": "text/x-python",
   "name": "python",
   "nbconvert_exporter": "python",
   "pygments_lexer": "ipython3",
   "version": "3.9.5"
  }
 },
 "nbformat": 4,
 "nbformat_minor": 5
}
