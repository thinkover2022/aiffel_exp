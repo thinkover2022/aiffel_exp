{
 "cells": [
  {
   "cell_type": "code",
   "execution_count": 1,
   "id": "5639b893-2aec-4a7b-91d5-3a6fc1a6d9be",
   "metadata": {},
   "outputs": [],
   "source": [
    "import glob  #glob 모듈의 glob 함수는 사용자가 제시한 조건에 맞는 파일명을 리스트 형식으로 반환한다\n",
    "import tensorflow as tf\n",
    "import re\n",
    "import matplotlib.pyplot as plt"
   ]
  },
  {
   "cell_type": "markdown",
   "id": "1c77ac40",
   "metadata": {},
   "source": [
    "# Step1.데이터 다운로드"
   ]
  },
  {
   "cell_type": "code",
   "execution_count": 2,
   "id": "69724d1f-ca34-4230-9009-d46c3be89824",
   "metadata": {},
   "outputs": [],
   "source": [
    "\n",
    "\n",
    "txt_file_path = '.\\\\data\\\\lyrics/*' #os.getenv(x)함수는 환경 변수x의 값을 포함하는 문자열 변수를 반환합니다. txt_file_path 에 \"/root/aiffel/lyricist/data/lyrics/*\" 저장\n",
    "\n",
    "txt_list = glob.glob(txt_file_path) #txt_file_path 경로에 있는 모든 파일명을 리스트 형식으로 txt_list 에 할당\n"
   ]
  },
  {
   "cell_type": "markdown",
   "id": "341f0110",
   "metadata": {},
   "source": [
    "# Step2.데이터 읽어오기"
   ]
  },
  {
   "cell_type": "code",
   "execution_count": 3,
   "id": "e08a76e9-38ba-4106-a84d-243fc90937a4",
   "metadata": {},
   "outputs": [
    {
     "name": "stdout",
     "output_type": "stream",
     "text": [
      "데이터 크기: 187088\n",
      "Examples:\n",
      " ['Looking for some education', 'Made my way into the night', 'All that bullshit conversation']\n"
     ]
    }
   ],
   "source": [
    "\n",
    "raw_corpus = [] \n",
    "\n",
    "# 여러개의 txt 파일을 모두 읽어서 raw_corpus 에 담습니다.\n",
    "for txt_file in txt_list:\n",
    "    with open(txt_file, \"r\",encoding='UTF8') as f:\n",
    "        raw = f.read().splitlines() #read() : 파일 전체의 내용을 하나의 문자열로 읽어온다. , splitlines()  : 여러라인으로 구분되어 있는 문자열을 한라인씩 분리하여 리스트로 반환\n",
    "        raw_corpus.extend(raw) # extend() : 리스트함수로 추가적인 내용을 연장 한다.\n",
    "\n",
    "print(\"데이터 크기:\", len(raw_corpus))\n",
    "print(\"Examples:\\n\", raw_corpus[:3])"
   ]
  },
  {
   "cell_type": "markdown",
   "id": "c9a3ba64",
   "metadata": {},
   "source": [
    "# Step 3. 데이터 정제"
   ]
  },
  {
   "cell_type": "code",
   "execution_count": 4,
   "id": "7f288f2b-aca0-4512-b4ad-b2c583b79ad9",
   "metadata": {},
   "outputs": [
    {
     "name": "stdout",
     "output_type": "stream",
     "text": [
      "<start> this is sample sentence . <end>\n"
     ]
    }
   ],
   "source": [
    "# 입력된 문장을\n",
    "#     1. 소문자로 바꾸고, 양쪽 공백을 지웁니다\n",
    "#     2. 특수문자 양쪽에 공백을 넣고\n",
    "#     3. 여러개의 공백은 하나의 공백으로 바꿉니다\n",
    "#     4. a-zA-Z?.!,¿가 아닌 모든 문자를 하나의 공백으로 바꿉니다\n",
    "#     5. 다시 양쪽 공백을 지웁니다\n",
    "#     6. 문장 시작에는 <start>, 끝에는 <end>를 추가합니다\n",
    "# 이 순서로 처리해주면 문제가 되는 상황을 방지할 수 있겠네요!\n",
    "def preprocess_sentence(sentence):\n",
    "    sentence = sentence.lower().strip() # 1\n",
    "    sentence = re.sub(r\"([?.!,¿])\", r\" \\1 \", sentence) # 2\n",
    "    sentence = re.sub(r'[\" \"]+', \" \", sentence) # 3\n",
    "    sentence = re.sub(r\"[^a-zA-Z?.!,¿]+\", \" \", sentence) # 4\n",
    "    sentence = sentence.strip() # 5\n",
    "    sentence = '<start> ' + sentence + ' <end>' # 6\n",
    "    return sentence\n",
    "\n",
    "# 이 문장이 어떻게 필터링되는지 확인해 보세요.\n",
    "print(preprocess_sentence(\"This @_is ;;;sample        sentence.\"))"
   ]
  },
  {
   "cell_type": "markdown",
   "id": "c0346a92",
   "metadata": {},
   "source": [
    "추가로 지나치게 긴 문장은 다른 데이터들이 과도한 Padding을 갖게 하므로 제거합니다. <br>\n",
    "너무 긴 문장은 노래 가사 작사하기에 어울리지 않을 수도 있겠죠.<br>\n",
    "그래서 이번에는 문장을 __토큰화 했을 때 토큰의 개수가 15개를 넘어가는 문장을 학습 데이터에서 제외하기__ 를 권합니다.<br>"
   ]
  },
  {
   "cell_type": "code",
   "execution_count": 5,
   "id": "c8e439a3-96c1-4f23-a280-6c58d1860d76",
   "metadata": {},
   "outputs": [
    {
     "data": {
      "text/plain": [
       "['<start> looking for some education <end>',\n",
       " '<start> made my way into the night <end>',\n",
       " '<start> all that bullshit conversation <end>',\n",
       " '<start> i don t even wanna waste your time <end>',\n",
       " '<start> let s just say that maybe <end>',\n",
       " '<start> you could help me ease my mind <end>',\n",
       " '<start> if that s love in your eyes <end>',\n",
       " '<start> it s more than enough <end>',\n",
       " '<start> had some bad love <end>',\n",
       " '<start> ooh , ooh looking for some affirmation <end>']"
      ]
     },
     "execution_count": 5,
     "metadata": {},
     "output_type": "execute_result"
    }
   ],
   "source": [
    "# 여기에 정제된 문장을 모을겁니다\n",
    "corpus = []\n",
    "\n",
    "# raw_corpus list에 저장된 문장들을 순서대로 반환하여 sentence에 저장\n",
    "for sentence in raw_corpus:\n",
    "    # 우리가 원하지 않는 문장은 건너뜁니다\n",
    "    if len(sentence) == 0: continue\n",
    "    \n",
    "    if sentence[-1] == \":\": continue\n",
    "    \n",
    "    # 앞서 구현한 preprocess_sentence() 함수를 이용하여 문장을 정제를 하고 담아주세요\n",
    "    preprocessed_sentence = preprocess_sentence(sentence)\n",
    "    \n",
    "    # 토큰개수가 15개 넘어가는 문장을 학습데이터에서 제외\n",
    "    if len(preprocessed_sentence.split()) > 15: continue\n",
    "    corpus.append(preprocessed_sentence)\n",
    "        \n",
    "# 정제된 결과를 10개만 확인해보죠\n",
    "corpus[:10]"
   ]
  },
  {
   "cell_type": "code",
   "execution_count": 6,
   "id": "7dc2cd9f-6faa-47f9-8305-d6ed89f08444",
   "metadata": {},
   "outputs": [],
   "source": [
    "# 정제된 데이터 중에서 토큰개수가 15보다 큰 경우가 존재하는 지 확인해봅니다.\n",
    "for i in corpus:\n",
    "    if len(i.split()) > 15:\n",
    "        print(i)"
   ]
  },
  {
   "cell_type": "markdown",
   "id": "308af2a8",
   "metadata": {},
   "source": [
    "# Step 4. 평가 데이터셋 분리\n",
    "훈련 데이터와 평가 데이터를 분리하세요!<br>\n",
    "\n",
    "tokenize() 함수로 데이터를 Tensor로 변환한 후,<br>\n",
    "sklearn 모듈의 train_test_split() 함수를 사용해 <br>\n",
    "훈련 데이터와 평가 데이터를 분리하도록 하겠습니다.<br>\n",
    "__단어장의 크기는 12,000 이상__ 으로 설정하세요!<br>\n",
    "__총 데이터의 20%__ 를 평가 데이터셋으로 사용해 주세요!<br>"
   ]
  },
  {
   "cell_type": "code",
   "execution_count": 7,
   "id": "1730e05d-685e-4dd6-a32c-144a18df2dcc",
   "metadata": {},
   "outputs": [
    {
     "name": "stdout",
     "output_type": "stream",
     "text": [
      "[[  2 290  28 ...   0   0   0]\n",
      " [  2 219  13 ...   0   0   0]\n",
      " [  2  25  15 ...   0   0   0]\n",
      " ...\n",
      " [  2  21  77 ...   0   0   0]\n",
      " [  2  41  26 ...   0   0   0]\n",
      " [  2  21  77 ...   0   0   0]] <keras_preprocessing.text.Tokenizer object at 0x000001E37F6EB6D0>\n"
     ]
    }
   ],
   "source": [
    "# 토큰화 할 때 텐서플로우의 Tokenizer와 pad_sequences를 사용합니다\n",
    "# 더 잘 알기 위해 아래 문서들을 참고하면 좋습니다\n",
    "# https://www.tensorflow.org/api_docs/python/tf/keras/preprocessing/text/Tokenizer\n",
    "# https://www.tensorflow.org/api_docs/python/tf/keras/preprocessing/sequence/pad_sequences\n",
    "def tokenize(corpus):\n",
    "    # 12000단어를 기억할 수 있는 tokenizer를 만들겁니다\n",
    "    # 우리는 이미 문장을 정제했으니 filters가 필요없어요\n",
    "    # 12000단어에 포함되지 못한 단어는 '<unk>'로 바꿀거에요\n",
    "    tokenizer = tf.keras.preprocessing.text.Tokenizer(\n",
    "        num_words=12000, \n",
    "        filters=' ',\n",
    "        oov_token=\"<unk>\"\n",
    "    )\n",
    "    # corpus를 이용해 tokenizer 내부의 단어장을 완성합니다\n",
    "    # tokenizer.fit_on_texts(texts): 문자 데이터를 입력받아 리스트의 형태로 변환하는 메서드\n",
    "    tokenizer.fit_on_texts(corpus)\n",
    "    # 준비한 tokenizer를 이용해 corpus를 Tensor로 변환합니다\n",
    "    # tokenizer.texts_to_sequences(texts): 텍스트 안의 단어들을 숫자의 시퀀스 형태로 변환하는 메서드\n",
    "    tensor = tokenizer.texts_to_sequences(corpus)   \n",
    "    # 입력 데이터의 시퀀스 길이를 일정하게 맞춰줍니다\n",
    "    # 만약 시퀀스가 짧다면 문장 뒤에 패딩을 붙여 길이를 맞춰줍니다.\n",
    "    # 문장 앞에 패딩을 붙여 길이를 맞추고 싶다면 padding='pre'를 사용합니다\n",
    "    tensor = tf.keras.preprocessing.sequence.pad_sequences(tensor, padding='post')  \n",
    "    \n",
    "    print(tensor,tokenizer)\n",
    "    return tensor, tokenizer\n",
    "\n",
    "tensor, tokenizer = tokenize(corpus)"
   ]
  },
  {
   "cell_type": "code",
   "execution_count": 8,
   "id": "1bf2f39f",
   "metadata": {},
   "outputs": [
    {
     "data": {
      "text/plain": [
       "25663"
      ]
     },
     "execution_count": 8,
     "metadata": {},
     "output_type": "execute_result"
    }
   ],
   "source": [
    "len(tokenizer.word_index)"
   ]
  },
  {
   "cell_type": "code",
   "execution_count": 9,
   "id": "8121e644-05ac-4165-8973-61f9b8a15dc9",
   "metadata": {},
   "outputs": [
    {
     "data": {
      "text/plain": [
       "(156013, 15)"
      ]
     },
     "execution_count": 9,
     "metadata": {},
     "output_type": "execute_result"
    }
   ],
   "source": [
    "tensor.shape"
   ]
  },
  {
   "cell_type": "code",
   "execution_count": 10,
   "id": "d0ec4bde-cd0b-408a-88bc-37efc4bbb40e",
   "metadata": {},
   "outputs": [
    {
     "name": "stdout",
     "output_type": "stream",
     "text": [
      "[   2  290   28   94 4486    3    0    0    0    0    0    0    0    0]\n",
      "[ 290   28   94 4486    3    0    0    0    0    0    0    0    0    0]\n"
     ]
    }
   ],
   "source": [
    "# tensor에서 마지막 토큰을 잘라내서 소스 문장을 생성합니다\n",
    "# 마지막 토큰은 <end>가 아니라 <pad>일 가능성이 높습니다.\n",
    "src_input = tensor[:, :-1]  \n",
    "# tensor에서 <start>를 잘라내서 타겟 문장을 생성합니다.\n",
    "tgt_input = tensor[:, 1:]    \n",
    "\n",
    "print(src_input[0])\n",
    "print(tgt_input[0])"
   ]
  },
  {
   "cell_type": "code",
   "execution_count": 11,
   "id": "e876027b-fbc7-4327-b4ba-5289a0c9bea1",
   "metadata": {},
   "outputs": [
    {
     "data": {
      "text/plain": [
       "(156013, 14)"
      ]
     },
     "execution_count": 11,
     "metadata": {},
     "output_type": "execute_result"
    }
   ],
   "source": [
    "tgt_input.shape"
   ]
  },
  {
   "cell_type": "code",
   "execution_count": 12,
   "id": "83c12aa9-7d43-4ed6-adc2-3150e8f4a444",
   "metadata": {},
   "outputs": [
    {
     "data": {
      "text/plain": [
       "(156013, 14)"
      ]
     },
     "execution_count": 12,
     "metadata": {},
     "output_type": "execute_result"
    }
   ],
   "source": [
    "src_input.shape"
   ]
  },
  {
   "cell_type": "markdown",
   "id": "fe77b464",
   "metadata": {},
   "source": [
    "### (enc_train,enc_val)학습데이터 80%, (dec_train,dec_val)평가데이터 20%로 데이터 나누기<br>"
   ]
  },
  {
   "cell_type": "code",
   "execution_count": 13,
   "id": "3a3461fb-cbbf-434e-9d92-d0ee6f2afcc3",
   "metadata": {},
   "outputs": [],
   "source": [
    "import numpy as np\n",
    "from sklearn.model_selection import train_test_split\n",
    "enc_train, dec_train, enc_val, dec_val = \\\n",
    "    train_test_split(src_input, tgt_input, test_size=0.2, random_state=42)"
   ]
  },
  {
   "cell_type": "code",
   "execution_count": 14,
   "id": "b64bbab5-9f3a-4385-9888-253adfc0b572",
   "metadata": {},
   "outputs": [
    {
     "data": {
      "text/plain": [
       "(124810, 14)"
      ]
     },
     "execution_count": 14,
     "metadata": {},
     "output_type": "execute_result"
    }
   ],
   "source": [
    "enc_train.shape"
   ]
  },
  {
   "cell_type": "code",
   "execution_count": 15,
   "id": "a368978f-d77d-4fdb-a2df-e6415468ebef",
   "metadata": {},
   "outputs": [
    {
     "data": {
      "text/plain": [
       "(124810, 14)"
      ]
     },
     "execution_count": 15,
     "metadata": {},
     "output_type": "execute_result"
    }
   ],
   "source": [
    "enc_val.shape"
   ]
  },
  {
   "cell_type": "code",
   "execution_count": 16,
   "id": "fa4b58c3-3276-4701-9129-a0f0fb648d4a",
   "metadata": {},
   "outputs": [
    {
     "data": {
      "text/plain": [
       "(31203, 14)"
      ]
     },
     "execution_count": 16,
     "metadata": {},
     "output_type": "execute_result"
    }
   ],
   "source": [
    "dec_train.shape"
   ]
  },
  {
   "cell_type": "code",
   "execution_count": 17,
   "id": "ced0b06d-df8d-4015-ac98-372710ffe49f",
   "metadata": {},
   "outputs": [
    {
     "data": {
      "text/plain": [
       "(31203, 14)"
      ]
     },
     "execution_count": 17,
     "metadata": {},
     "output_type": "execute_result"
    }
   ],
   "source": [
    " dec_val.shape"
   ]
  },
  {
   "cell_type": "markdown",
   "id": "672956e8",
   "metadata": {},
   "source": [
    "# Step 5. 인공지능 만들기\n",
    "- 모델의 Embedding Size와 Hidden Size를 조절하며 10 Epoch 안에 val_loss 값을 2.2 수준으로 줄일 수 있는 모델을 설계하세요!<br>"
   ]
  },
  {
   "cell_type": "markdown",
   "id": "2584b9ff",
   "metadata": {},
   "source": [
    "### Training dataset 만들기<br>"
   ]
  },
  {
   "cell_type": "code",
   "execution_count": 18,
   "id": "7dda4ed9-96dd-423a-aacb-4abc7a476f67",
   "metadata": {},
   "outputs": [
    {
     "data": {
      "text/plain": [
       "<BatchDataset shapes: ((256, 14), (256, 14)), types: (tf.int32, tf.int32)>"
      ]
     },
     "execution_count": 18,
     "metadata": {},
     "output_type": "execute_result"
    }
   ],
   "source": [
    "BUFFER_SIZE = len(enc_train)\n",
    "BATCH_SIZE = 256\n",
    "steps_per_epoch = len(enc_train) // BATCH_SIZE\n",
    "\n",
    " # tokenizer가 구축한 단어사전 내 12000개와, 여기 포함되지 않은 0:<pad>를 포함하여 12001개\n",
    " # tokenizer.num_words: 주어진 데이터의 문장들에서 빈도수가 높은 n개의 단어만 선택\n",
    " # tokenize() 함수에서 num_words를 12000개로 선언했기 때문에, tokenizer.num_words의 값은 12000\n",
    "VOCAB_SIZE = tokenizer.num_words + 1   \n",
    "\n",
    "# 준비한 데이터 소스로부터 데이터셋을 만듭니다\n",
    "# 데이터셋에 대해서는 아래 문서를 참고하세요\n",
    "# 자세히 알아둘수록 도움이 많이 되는 중요한 문서입니다\n",
    "# https://www.tensorflow.org/api_docs/python/tf/data/Dataset\n",
    "enc_dataset = tf.data.Dataset.from_tensor_slices((enc_train, enc_val))\n",
    "enc_dataset = enc_dataset.shuffle(BUFFER_SIZE)\n",
    "enc_dataset = enc_dataset.batch(BATCH_SIZE, drop_remainder=True)\n",
    "enc_dataset"
   ]
  },
  {
   "cell_type": "markdown",
   "id": "d4f380df",
   "metadata": {},
   "source": [
    "### Validation dataset만들기<br>"
   ]
  },
  {
   "cell_type": "code",
   "execution_count": 19,
   "id": "e6034ccc",
   "metadata": {},
   "outputs": [],
   "source": [
    "dec_dataset = tf.data.Dataset.from_tensor_slices((dec_train, dec_val))\n",
    "dec_dataset = dec_dataset.shuffle(len(dec_train))\n",
    "dec_dataset = dec_dataset.batch(BATCH_SIZE, drop_remainder=True)"
   ]
  },
  {
   "cell_type": "markdown",
   "id": "bf7df5a1",
   "metadata": {},
   "source": [
    "### embedding_size 계산하기<br>\n",
    "```\n",
    "if num_categories <= 1000 :\n",
    "    embedding_dimensions = min(500, num_categories/2) # 둘 중 최소값\n",
    "else: # num_categories > 1000 일때\n",
    "    embedding_dimensions = 75.6496 * np.log(num_categories + 176.623) - 41.4457\n",
    "\n",
    "return int(embedding_dimensions)\n",
    "```"
   ]
  },
  {
   "cell_type": "code",
   "execution_count": 20,
   "id": "e19ce703",
   "metadata": {},
   "outputs": [
    {
     "data": {
      "text/plain": [
       "670"
      ]
     },
     "execution_count": 20,
     "metadata": {},
     "output_type": "execute_result"
    }
   ],
   "source": [
    "import numpy as np\n",
    "def get_embedding_size(num_categories):\n",
    "    #embedding_dimensions =  num_categories**0.25\n",
    "    \n",
    "    if num_categories <= 1000 :\n",
    "        embedding_dimensions = min(500, num_categories/2)\n",
    "    # num_categories > 1000 일때\n",
    "    else:\n",
    "        embedding_dimensions = 75.6496 * np.log(num_categories + 176.623) - 41.4457\n",
    "    \n",
    "    return int(embedding_dimensions)\n",
    "\n",
    "embedding_size = get_embedding_size(tokenizer.num_words + 1)\n",
    "embedding_size      # 워드 벡터의 차원수를 말하며 단어가 추상적으로 표현되는 크기입니다."
   ]
  },
  {
   "cell_type": "markdown",
   "id": "91fd4be9",
   "metadata": {},
   "source": [
    "### LSTM hidden layer(Nh) 개수 계산하기<br>\n",
    "$Nh = \\frac{Ns}{(α∗(Ni+No))}$\n",
    "```\n",
    "Ni = 입력뉴런의 개수 (embedding_size)\n",
    "No = 출력뉴런의 개수 (12000 )\n",
    "Ns = 학습데이터 집합에서 샘플의 개수 (학습데이터개수 * embedding_size)\n",
    "α = 임의의 스케일 요소 (일반적으로 2 사용)\n",
    "```"
   ]
  },
  {
   "cell_type": "code",
   "execution_count": 21,
   "id": "58145bc9",
   "metadata": {},
   "outputs": [
    {
     "data": {
      "text/plain": [
       "3299"
      ]
     },
     "execution_count": 21,
     "metadata": {},
     "output_type": "execute_result"
    }
   ],
   "source": [
    "def get_hidden_count(n_input, n_output, n_sample, alpha=2):\n",
    "    n_hidden = n_sample / (alpha*(n_input + n_output))\n",
    "    return int(n_hidden)\n",
    "\n",
    "hidden_size = get_hidden_count(n_input=embedding_size,n_output=tokenizer.num_words + 1, n_sample=BUFFER_SIZE*embedding_size)\n",
    "hidden_size  # 모델에 얼마나 많은 일꾼을 둘 것인가? 정도로 이해하면 좋다."
   ]
  },
  {
   "cell_type": "code",
   "execution_count": 22,
   "id": "5978d4be-495c-4194-93a1-5b8f45a2392a",
   "metadata": {},
   "outputs": [],
   "source": [
    "class TextGenerator(tf.keras.Model):\n",
    "    def __init__(self, vocab_size, embedding_size, hidden_size):\n",
    "        super().__init__()\n",
    "        # Embedding 레이어, 2개의 LSTM 레이어, 1개의 Dense 레이어로 구성되어 있다.\n",
    "        # Embedding 레이어는 단어 사전의 인덱스 값을 해당 인덱스 번째의 워드 벡터로 바꿔준다.\n",
    "        # 이 워드 벡터는 의미 벡터 공간에서 단어의 추상적 표현으로 사용된다.\n",
    "        # input_dim : 어휘의 개수 --> 12000 +1\n",
    "        # output_dim: 각 단어의 벡터 길이 -->\n",
    "        # input_length: 시퀀스의 최대 길이\n",
    "        self.embedding = tf.keras.layers.Embedding(input_dim=vocab_size, output_dim=embedding_size,input_length=14) \n",
    "        self.rnn_1 = tf.keras.layers.LSTM(hidden_size, return_sequences=True)  \n",
    "        self.rnn_2 = tf.keras.layers.LSTM(hidden_size, return_sequences=True)\n",
    "        self.linear = tf.keras.layers.Dense(vocab_size)\n",
    "        \n",
    "    def call(self, x):\n",
    "        out = self.embedding(x)\n",
    "        out = self.rnn_1(out)\n",
    "        out = self.rnn_2(out)\n",
    "        out = self.linear(out)\n",
    "        \n",
    "        return out\n",
    "# embedding size 값이 커질수록 단어의 추상적인 특징들을 더 잡아낼 수 있지만\n",
    "# 그만큼 충분한 데이터가 없으면 안좋은 결과 값을 가져옵니다!   \n",
    "#embedding_size # 워드 벡터의 차원수를 말하며 단어가 추상적으로 표현되는 크기입니다.\n",
    "#hidden_size # 모델에 얼마나 많은 일꾼을 둘 것인가? 정도로 이해하면 좋다.\n",
    "model = TextGenerator(tokenizer.num_words + 1, embedding_size , hidden_size) # tokenizer.num_words에 +1인 이유는 문장에 없는 pad가 사용되었기 때문이다."
   ]
  },
  {
   "cell_type": "code",
   "execution_count": 24,
   "id": "fd7c6ce6-105e-47a2-82d0-5becc48fdf3e",
   "metadata": {},
   "outputs": [
    {
     "name": "stdout",
     "output_type": "stream",
     "text": [
      "Epoch 1/10\n",
      "487/487 [==============================] - 357s 571ms/step - loss: 3.2762 - accuracy: 0.5022 - val_loss: 2.9490 - val_accuracy: 0.5256\n",
      "Epoch 2/10\n",
      "487/487 [==============================] - 278s 571ms/step - loss: 2.7814 - accuracy: 0.5377 - val_loss: 2.7250 - val_accuracy: 0.5440\n",
      "Epoch 3/10\n",
      "487/487 [==============================] - 278s 571ms/step - loss: 2.5045 - accuracy: 0.5602 - val_loss: 2.5521 - val_accuracy: 0.5647\n",
      "Epoch 4/10\n",
      "487/487 [==============================] - 278s 570ms/step - loss: 2.2299 - accuracy: 0.5889 - val_loss: 2.4183 - val_accuracy: 0.5853\n",
      "Epoch 5/10\n",
      "487/487 [==============================] - 278s 570ms/step - loss: 1.9592 - accuracy: 0.6242 - val_loss: 2.3163 - val_accuracy: 0.6055\n",
      "Epoch 6/10\n",
      "487/487 [==============================] - 278s 571ms/step - loss: 1.7026 - accuracy: 0.6653 - val_loss: 2.2364 - val_accuracy: 0.6253\n",
      "Epoch 7/10\n",
      "487/487 [==============================] - 278s 571ms/step - loss: 1.4716 - accuracy: 0.7076 - val_loss: 2.1840 - val_accuracy: 0.6436\n",
      "Epoch 8/10\n",
      "487/487 [==============================] - 278s 571ms/step - loss: 1.2793 - accuracy: 0.7466 - val_loss: 2.1626 - val_accuracy: 0.6568\n",
      "Epoch 9/10\n",
      "487/487 [==============================] - 278s 571ms/step - loss: 1.1341 - accuracy: 0.7785 - val_loss: 2.1644 - val_accuracy: 0.6660\n",
      "Epoch 10/10\n",
      "487/487 [==============================] - 278s 571ms/step - loss: 1.0404 - accuracy: 0.7986 - val_loss: 2.1762 - val_accuracy: 0.6705\n",
      "CPU times: total: 51min 32s\n",
      "Wall time: 47min 39s\n"
     ]
    }
   ],
   "source": [
    "%%time\n",
    "# optimizer와 loss등은 차차 배웁니다\n",
    "# 혹시 미리 알고 싶다면 아래 문서를 참고하세요\n",
    "# https://www.tensorflow.org/api_docs/python/tf/keras/optimizers\n",
    "# https://www.tensorflow.org/api_docs/python/tf/keras/losses\n",
    "# 양이 상당히 많은 편이니 지금 보는 것은 추천하지 않습니다\n",
    "\n",
    "# Adam 알고리즘을 구현하는 optimzier이며 어떤 optimzier를 써야할지 모른다면 Adam을 쓰는 것도 방법이다.\n",
    "# 우리가 학습을 할 때 최대한 틀리지 않는 방향으로 학습을 해야한다.\n",
    "# 여기서 얼마나 틀리는지(loss)를 알게하는 함수가 손실함수 이다.\n",
    "# 이 손실함수의 최소값을 찾는 것을 학습의 목표로 하며 여기서 최소값을 찾아가는 과정을 optimization 이라하고\n",
    "# 이를 수행하는 알고리즘을 optimizer(최적화)라고 한다.\n",
    "\n",
    "optimizer = tf.keras.optimizers.Adam() # Adam은 현재 가장 많이 사용하는 옵티마이저이다. 자세한 내용은 차차 배운다.\n",
    "loss = tf.keras.losses.SparseCategoricalCrossentropy( # 훈련 데이터의 라벨이 정수의 형태로 제공될 때 사용하는 손실함수이다.\n",
    "    from_logits=True, # 기본값은 False이다. 모델에 의해 생성된 출력 값이 정규화되지 않았음을 손실 함수에 알려준다. 즉 softmax함수가 적용되지 않았다는걸 의미한다. \n",
    "    reduction='none'  # 기본값은 SUM이다. 각자 나오는 값의 반환 원할 때 None을 사용한다.\n",
    ")\n",
    "# 모델을 학습시키키 위한 학습과정을 설정하는 단계이다.\n",
    "model.compile(loss=loss, optimizer=optimizer,metrics=['accuracy']) # 손실함수와 훈련과정을 설정했다.\n",
    "history = model.fit(x=enc_dataset,validation_data=dec_dataset, epochs=10) # 만들어둔 데이터셋으로 모델을 학습한다. 10번 학습을 반복하겠다는 의미다."
   ]
  },
  {
   "cell_type": "code",
   "execution_count": 25,
   "id": "0124e528",
   "metadata": {},
   "outputs": [
    {
     "data": {
      "image/png": "[encoded data removed]",
      "text/plain": [
       "<Figure size 640x480 with 1 Axes>"
      ]
     },
     "metadata": {},
     "output_type": "display_data"
    }
   ],
   "source": [
    "plt.plot(history.history['loss'])\n",
    "plt.plot(history.history['val_loss'])\n",
    "plt.title('model loss')\n",
    "plt.ylabel('loss')\n",
    "plt.xlabel('epoch')\n",
    "plt.legend(['train_loss', 'val_loss'], loc='upper left')\n",
    "plt.show()"
   ]
  },
  {
   "cell_type": "code",
   "execution_count": 26,
   "id": "1a03c654",
   "metadata": {},
   "outputs": [
    {
     "data": {
      "image/png": "[encoded data removed]",
      "text/plain": [
       "<Figure size 640x480 with 1 Axes>"
      ]
     },
     "metadata": {},
     "output_type": "display_data"
    }
   ],
   "source": [
    "plt.plot(history.history['accuracy'])\n",
    "plt.plot(history.history['val_accuracy'])\n",
    "plt.title('model accuracy')\n",
    "plt.ylabel('accuracy')\n",
    "plt.xlabel('epoch')\n",
    "plt.legend(['train_accuracy', 'val_accuracy'], loc='upper left')\n",
    "plt.show()"
   ]
  },
  {
   "cell_type": "code",
   "execution_count": 27,
   "id": "ea87b4f5",
   "metadata": {},
   "outputs": [],
   "source": [
    "#문장생성 함수 정의\n",
    "#모델에게 시작 문장을 전달하면 모델이 시작 문장을 바탕으로 작문을 진행\n",
    "def generate_text(model, tokenizer, init_sentence=\"<start>\", max_len=20): #시작 문자열을 init_sentence 로 받으며 디폴트값은 <start> 를 받는다\n",
    "    # 테스트를 위해서 입력받은 init_sentence도 텐서로 변환합니다\n",
    "    test_input = tokenizer.texts_to_sequences([init_sentence]) #텍스트 안의 단어들을 숫자의 시퀀스의 형태로 변환\n",
    "    test_tensor = tf.convert_to_tensor(test_input, dtype=tf.int64)\n",
    "    end_token = tokenizer.word_index[\"<end>\"]\n",
    "\n",
    "    # 단어 하나씩 예측해 문장을 만듭니다\n",
    "    #    1. 입력받은 문장의 텐서를 입력합니다\n",
    "    #    2. 예측된 값 중 가장 높은 확률인 word index를 뽑아냅니다\n",
    "    #    3. 2에서 예측된 word index를 문장 뒤에 붙입니다\n",
    "    #    4. 모델이 <end>를 예측했거나, max_len에 도달했다면 문장 생성을 마칩니다 (도달 하지 못하였으면 while 루프를 돌면서 다음 단어를 예측)\n",
    "    while True: #루프를 돌면서 init_sentence에 단어를 하나씩 생성성\n",
    "        # 1\n",
    "        predict = model(test_tensor) \n",
    "        # 2\n",
    "        predict_word = tf.argmax(tf.nn.softmax(predict, axis=-1), axis=-1)[:, -1] \n",
    "        # 3 \n",
    "        test_tensor = tf.concat([test_tensor, tf.expand_dims(predict_word, axis=0)], axis=-1)\n",
    "        # 4 \n",
    "        if predict_word.numpy()[0] == end_token: break\n",
    "        if test_tensor.shape[1] >= max_len: break\n",
    "\n",
    "    generated = \"\"\n",
    "    # tokenizer를 이용해 word index를 단어로 하나씩 변환합니다 \n",
    "    for word_index in test_tensor[0].numpy():\n",
    "        generated += tokenizer.index_word[word_index] + \" \"\n",
    "\n",
    "    return generated #최종적으로 모델이 생성한 문장을 반환"
   ]
  },
  {
   "cell_type": "code",
   "execution_count": 28,
   "id": "bb91027c-0df0-4302-a70a-e74c3b76879e",
   "metadata": {},
   "outputs": [
    {
     "data": {
      "text/plain": [
       "'<start> i love you so , <end> '"
      ]
     },
     "execution_count": 28,
     "metadata": {},
     "output_type": "execute_result"
    }
   ],
   "source": [
    "generate_text(model, tokenizer, init_sentence=\"<start> I love\", max_len=20)"
   ]
  },
  {
   "cell_type": "code",
   "execution_count": null,
   "id": "a2225d6e-e107-49fe-8f01-be7417fb1b61",
   "metadata": {},
   "outputs": [],
   "source": []
  }
 ],
 "metadata": {
  "kernelspec": {
   "display_name": "Python 3 (ipykernel)",
   "language": "python",
   "name": "python3"
  },
  "language_info": {
   "codemirror_mode": {
    "name": "ipython",
    "version": 3
   },
   "file_extension": ".py",
   "mimetype": "text/x-python",
   "name": "python",
   "nbconvert_exporter": "python",
   "pygments_lexer": "ipython3",
   "version": "3.9.13"
  }
 },
 "nbformat": 4,
 "nbformat_minor": 5
}
