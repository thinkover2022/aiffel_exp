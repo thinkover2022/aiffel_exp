{
 "cells": [
  {
   "cell_type": "code",
   "execution_count": 1,
   "id": "e89dba00",
   "metadata": {},
   "outputs": [
    {
     "name": "stdout",
     "output_type": "stream",
     "text": [
      "2.6.0\n",
      "1.3.3\n",
      "0.5.2\n",
      "4.1.2\n"
     ]
    }
   ],
   "source": [
    "import tensorflow as tf\n",
    "import pandas\n",
    "import konlpy\n",
    "import gensim\n",
    "\n",
    "print(tf.__version__)\n",
    "print(pandas.__version__)\n",
    "print(konlpy.__version__)\n",
    "print(gensim.__version__)"
   ]
  },
  {
   "cell_type": "markdown",
   "id": "bf52ad92",
   "metadata": {},
   "source": [
    "# 1)데이터 준비와 확인"
   ]
  },
  {
   "cell_type": "code",
   "execution_count": 2,
   "id": "8c9bdfcb",
   "metadata": {},
   "outputs": [
    {
     "data": {
      "text/html": [
       "<div>\n",
       "<style scoped>\n",
       "    .dataframe tbody tr th:only-of-type {\n",
       "        vertical-align: middle;\n",
       "    }\n",
       "\n",
       "    .dataframe tbody tr th {\n",
       "        vertical-align: top;\n",
       "    }\n",
       "\n",
       "    .dataframe thead th {\n",
       "        text-align: right;\n",
       "    }\n",
       "</style>\n",
       "<table border=\"1\" class=\"dataframe\">\n",
       "  <thead>\n",
       "    <tr style=\"text-align: right;\">\n",
       "      <th></th>\n",
       "      <th>id</th>\n",
       "      <th>document</th>\n",
       "      <th>label</th>\n",
       "    </tr>\n",
       "  </thead>\n",
       "  <tbody>\n",
       "    <tr>\n",
       "      <th>0</th>\n",
       "      <td>9976970</td>\n",
       "      <td>아 더빙.. 진짜 짜증나네요 목소리</td>\n",
       "      <td>0</td>\n",
       "    </tr>\n",
       "    <tr>\n",
       "      <th>1</th>\n",
       "      <td>3819312</td>\n",
       "      <td>흠...포스터보고 초딩영화줄....오버연기조차 가볍지 않구나</td>\n",
       "      <td>1</td>\n",
       "    </tr>\n",
       "    <tr>\n",
       "      <th>2</th>\n",
       "      <td>10265843</td>\n",
       "      <td>너무재밓었다그래서보는것을추천한다</td>\n",
       "      <td>0</td>\n",
       "    </tr>\n",
       "    <tr>\n",
       "      <th>3</th>\n",
       "      <td>9045019</td>\n",
       "      <td>교도소 이야기구먼 ..솔직히 재미는 없다..평점 조정</td>\n",
       "      <td>0</td>\n",
       "    </tr>\n",
       "    <tr>\n",
       "      <th>4</th>\n",
       "      <td>6483659</td>\n",
       "      <td>사이몬페그의 익살스런 연기가 돋보였던 영화!스파이더맨에서 늙어보이기만 했던 커스틴 ...</td>\n",
       "      <td>1</td>\n",
       "    </tr>\n",
       "  </tbody>\n",
       "</table>\n",
       "</div>"
      ],
      "text/plain": [
       "         id                                           document  label\n",
       "0   9976970                                아 더빙.. 진짜 짜증나네요 목소리      0\n",
       "1   3819312                  흠...포스터보고 초딩영화줄....오버연기조차 가볍지 않구나      1\n",
       "2  10265843                                  너무재밓었다그래서보는것을추천한다      0\n",
       "3   9045019                      교도소 이야기구먼 ..솔직히 재미는 없다..평점 조정      0\n",
       "4   6483659  사이몬페그의 익살스런 연기가 돋보였던 영화!스파이더맨에서 늙어보이기만 했던 커스틴 ...      1"
      ]
     },
     "execution_count": 2,
     "metadata": {},
     "output_type": "execute_result"
    }
   ],
   "source": [
    "import pandas as pd\n",
    "\n",
    "# 데이터를 읽어봅시다. \n",
    "train_data = pd.read_table('ratings_train.txt')\n",
    "test_data = pd.read_table('ratings_test.txt')\n",
    "\n",
    "train_data.head()"
   ]
  },
  {
   "cell_type": "code",
   "execution_count": 3,
   "id": "46b90f38",
   "metadata": {},
   "outputs": [
    {
     "data": {
      "text/plain": [
       "(150000, 3)"
      ]
     },
     "execution_count": 3,
     "metadata": {},
     "output_type": "execute_result"
    }
   ],
   "source": [
    "train_data.shape"
   ]
  },
  {
   "cell_type": "markdown",
   "id": "0f7b2a5e",
   "metadata": {},
   "source": [
    "# 2)데이터 로더 구성\n",
    "- 데이터의 중복 제거<br>\n",
    "- NaN 결측치 제거<br>\n",
    "- 한국어 토크나이저로 토큰화<br>\n",
    "- 불용어(Stopwords) 제거<br>\n",
    "- 사전word_to_index 구성<br>\n",
    "- 텍스트 스트링을 사전 인덱스 스트링으로 변환<br>\n",
    "- X_train, y_train, X_test, y_test, word_to_index 리턴<br>"
   ]
  },
  {
   "cell_type": "code",
   "execution_count": 4,
   "id": "7b201f3c",
   "metadata": {},
   "outputs": [],
   "source": [
    "from konlpy.tag import Mecab\n",
    "import numpy as np\n",
    "from collections import Counter\n",
    "\n",
    "tokenizer = Mecab()\n",
    "stopwords = ['의','가','이','은','들','는','좀','잘','걍','과','도','를','으로','자','에','와','한','하다']\n",
    "\n",
    "def load_data(train_data, test_data):\n",
    "    train_data.drop_duplicates(subset=['document'], inplace=True)\n",
    "    train_data = train_data.dropna(how = 'any') \n",
    "    test_data.drop_duplicates(subset=['document'], inplace=True)\n",
    "    test_data = test_data.dropna(how = 'any') \n",
    "    \n",
    "    X_train = []\n",
    "    for sentence in train_data['document']:\n",
    "        temp_X = tokenizer.morphs(sentence) # 토큰화\n",
    "        temp_X = [word for word in temp_X if not word in stopwords] # 불용어 제거\n",
    "        X_train.append(temp_X)\n",
    "\n",
    "    X_test = []\n",
    "    for sentence in test_data['document']:\n",
    "        temp_X = tokenizer.morphs(sentence) # 토큰화\n",
    "        temp_X = [word for word in temp_X if not word in stopwords] # 불용어 제거\n",
    "        X_test.append(temp_X)\n",
    "    \n",
    "    words = np.concatenate(X_train).tolist()\n",
    "    counter = Counter(words)\n",
    "    counter = counter.most_common(10000-4)\n",
    "    vocab = ['', '', '', ''] + [key for key, _ in counter]\n",
    "    word_to_index = {word:index for index, word in enumerate(vocab)}\n",
    "        \n",
    "    def wordlist_to_indexlist(wordlist):\n",
    "        return [word_to_index[word] if word in word_to_index else word_to_index[''] for word in wordlist]\n",
    "        \n",
    "    X_train = list(map(wordlist_to_indexlist, X_train))\n",
    "    X_test = list(map(wordlist_to_indexlist, X_test))\n",
    "        \n",
    "    return X_train, np.array(list(train_data['label'])), X_test, np.array(list(test_data['label'])), word_to_index\n",
    "   \n",
    "    \n",
    "X_train, y_train, X_test, y_test, word_to_index = load_data(train_data, test_data)"
   ]
  },
  {
   "cell_type": "code",
   "execution_count": 5,
   "id": "c2ebf4e5",
   "metadata": {},
   "outputs": [
    {
     "data": {
      "text/plain": [
       "49157"
      ]
     },
     "execution_count": 5,
     "metadata": {},
     "output_type": "execute_result"
    }
   ],
   "source": [
    "len(X_test)"
   ]
  },
  {
   "cell_type": "code",
   "execution_count": 6,
   "id": "17934265",
   "metadata": {},
   "outputs": [
    {
     "data": {
      "text/plain": [
       "49157"
      ]
     },
     "execution_count": 6,
     "metadata": {},
     "output_type": "execute_result"
    }
   ],
   "source": [
    "len(y_test)"
   ]
  },
  {
   "cell_type": "markdown",
   "id": "30baf4dc",
   "metadata": {},
   "source": [
    "### word_to_index, index_to_word에 PAD, BOS, UNK 추가"
   ]
  },
  {
   "cell_type": "code",
   "execution_count": 7,
   "id": "293fae2c",
   "metadata": {},
   "outputs": [],
   "source": [
    "word_to_index[\"<PAD>\"] = 0\n",
    "word_to_index[\"<BOS>\"] = 1\n",
    "word_to_index[\"<UNK>\"] = 2  # unknown\n",
    "word_to_index[\"<UNUSED>\"] = 3"
   ]
  },
  {
   "cell_type": "code",
   "execution_count": 8,
   "id": "fa2cfbf6",
   "metadata": {},
   "outputs": [],
   "source": [
    "index_to_word = {index:word for word, index in word_to_index.items()}"
   ]
  },
  {
   "cell_type": "code",
   "execution_count": 9,
   "id": "91c46abb",
   "metadata": {},
   "outputs": [],
   "source": [
    "# 문장 1개를 활용할 딕셔너리와 함께 주면, 단어 인덱스 리스트 벡터로 변환해 주는 함수입니다. \n",
    "# 단, 모든 문장은 <BOS>로 시작하는 것으로 합니다. \n",
    "def get_encoded_sentence(sentence, word_to_index):\n",
    "    return [word_to_index['<BOS>']]+[word_to_index[word] if word in word_to_index else word_to_index['<UNK>'] for word in sentence.split()]\n",
    "\n",
    "# 여러 개의 문장 리스트를 한꺼번에 단어 인덱스 리스트 벡터로 encode해 주는 함수입니다. \n",
    "def get_encoded_sentences(sentences, word_to_index):\n",
    "    return [get_encoded_sentence(sentence, word_to_index) for sentence in sentences]\n",
    "\n",
    "# 숫자 벡터로 encode된 문장을 원래대로 decode하는 함수입니다. \n",
    "def get_decoded_sentence(encoded_sentence, index_to_word):\n",
    "    return ' '.join(index_to_word[index] if index in index_to_word else '<UNK>' for index in encoded_sentence[1:])\n",
    "\n",
    "# 여러 개의 숫자 벡터로 encode된 문장을 한꺼번에 원래대로 decode하는 함수입니다. \n",
    "def get_decoded_sentences(encoded_sentences, index_to_word):\n",
    "    return [get_decoded_sentence(encoded_sentence, index_to_word) for encoded_sentence in encoded_sentences]"
   ]
  },
  {
   "cell_type": "markdown",
   "id": "692a00c6",
   "metadata": {},
   "source": [
    "# 3)모델 구성을 위한 데이터 분석 및 가공\n",
    " - 데이터셋 내 문장 길이 분포<br>\n",
    " - 적절한 최대 문장 길이 지정<br>\n",
    " - keras.preprocessing.sequence.pad_sequences을 활용한 패딩 추가<br>"
   ]
  },
  {
   "cell_type": "markdown",
   "id": "3805266e",
   "metadata": {},
   "source": [
    "- X_train 데이터와 X_test 데이터에 시작 \\<BOS\\> 정보를 모두 붙여넣어줍니다<br>\n",
    "- 나중에 예측할때 시작점을 넣어주는게 정상적으로 예측할것같아서<br>"
   ]
  },
  {
   "cell_type": "code",
   "execution_count": 10,
   "id": "35770ef7",
   "metadata": {},
   "outputs": [],
   "source": [
    "for sentense in X_train:\n",
    "    sentense.insert(0,word_to_index[\"<BOS>\"])\n",
    "for sentense in X_test:\n",
    "    sentense.insert(0,word_to_index[\"<BOS>\"])"
   ]
  },
  {
   "cell_type": "code",
   "execution_count": 11,
   "id": "c330e94a",
   "metadata": {},
   "outputs": [
    {
     "data": {
      "text/plain": [
       "[1, 32, 74, 919, 4, 4, 39, 228, 20, 33, 748]"
      ]
     },
     "execution_count": 11,
     "metadata": {},
     "output_type": "execute_result"
    }
   ],
   "source": [
    "X_train[0]"
   ]
  },
  {
   "cell_type": "code",
   "execution_count": 12,
   "id": "2ac7c58e",
   "metadata": {},
   "outputs": [
    {
     "data": {
      "text/plain": [
       "[1, 832, 130]"
      ]
     },
     "execution_count": 12,
     "metadata": {},
     "output_type": "execute_result"
    }
   ],
   "source": [
    "X_test[0]"
   ]
  },
  {
   "cell_type": "code",
   "execution_count": 13,
   "id": "b4fd0746",
   "metadata": {},
   "outputs": [
    {
     "name": "stdout",
     "output_type": "stream",
     "text": [
      "아 더 빙 . . 진짜 짜증 나 네요 목소리\n",
      "0\n"
     ]
    }
   ],
   "source": [
    "print(get_decoded_sentence(X_train[0], index_to_word))\n",
    "print(y_train[0])"
   ]
  },
  {
   "cell_type": "code",
   "execution_count": 14,
   "id": "d449ec8a",
   "metadata": {},
   "outputs": [
    {
     "name": "stdout",
     "output_type": "stream",
     "text": [
      "굳 ㅋ\n",
      "1\n"
     ]
    }
   ],
   "source": [
    "print(get_decoded_sentence(X_test[0], index_to_word))\n",
    "print(y_test[0])"
   ]
  },
  {
   "cell_type": "code",
   "execution_count": 15,
   "id": "713f3189",
   "metadata": {},
   "outputs": [
    {
     "name": "stdout",
     "output_type": "stream",
     "text": [
      "문장길이 평균 :  16.96940191154864\n",
      "문장길이 최대 :  117\n",
      "문장길이 표준편차 :  12.843571191092\n",
      "pad_sequences maxlen :  42\n",
      "전체 문장의 0.9342988343341575%가 maxlen 설정값 이내에 포함됩니다. \n"
     ]
    }
   ],
   "source": [
    "total_data_text = list(X_train) + list(X_test)\n",
    "# 텍스트데이터 문장길이의 리스트를 생성한 후\n",
    "num_tokens = [len(tokens) for tokens in total_data_text]\n",
    "num_tokens = np.array(num_tokens)\n",
    "# 문장길이의 평균값, 최대값, 표준편차를 계산해 본다. \n",
    "print('문장길이 평균 : ', np.mean(num_tokens))\n",
    "print('문장길이 최대 : ', np.max(num_tokens))\n",
    "print('문장길이 표준편차 : ', np.std(num_tokens))\n",
    "\n",
    "# 예를들어, 최대 길이를 (평균 + 2*표준편차)로 한다면,  \n",
    "max_tokens = np.mean(num_tokens) + 2 * np.std(num_tokens)\n",
    "maxlen = int(max_tokens)\n",
    "print('pad_sequences maxlen : ', maxlen)\n",
    "print('전체 문장의 {}%가 maxlen 설정값 이내에 포함됩니다. '.format(np.sum(num_tokens < max_tokens) / len(num_tokens)))"
   ]
  },
  {
   "cell_type": "code",
   "execution_count": 16,
   "id": "b3248937",
   "metadata": {},
   "outputs": [
    {
     "name": "stdout",
     "output_type": "stream",
     "text": [
      "(146182, 42) (49157, 42)\n"
     ]
    }
   ],
   "source": [
    "x_train = tf.keras.preprocessing.sequence.pad_sequences(X_train,\n",
    "                                                        value=word_to_index[\"<PAD>\"],\n",
    "                                                        padding='pre', # 혹은 'pre'\n",
    "                                                        maxlen=maxlen)\n",
    "\n",
    "x_test = tf.keras.preprocessing.sequence.pad_sequences(X_test,\n",
    "                                                       value=word_to_index[\"<PAD>\"],\n",
    "                                                       padding='pre', # 혹은 'pre'\n",
    "                                                       maxlen=maxlen)\n",
    "\n",
    "print(x_train.shape,x_test.shape)"
   ]
  },
  {
   "cell_type": "code",
   "execution_count": 17,
   "id": "8b096379",
   "metadata": {},
   "outputs": [
    {
     "name": "stdout",
     "output_type": "stream",
     "text": [
      "[[   0    0    0 ...   20   33  748]\n",
      " [   0    0    0 ...   15   44  391]\n",
      " [   0    0    0 ...   24  205    3]\n",
      " ...\n",
      " [   0    0    0 ... 2710    6   18]\n",
      " [   0    0    0 ...   60  395 8572]\n",
      " [   0    0    0 ...   88 2740    5]]\n"
     ]
    }
   ],
   "source": [
    "print(x_train)"
   ]
  },
  {
   "cell_type": "markdown",
   "id": "709c4fb7",
   "metadata": {},
   "source": [
    "# 4)모델 구성 및 validation set 구성"
   ]
  },
  {
   "cell_type": "code",
   "execution_count": 18,
   "id": "7fddcfbf",
   "metadata": {},
   "outputs": [
    {
     "name": "stdout",
     "output_type": "stream",
     "text": [
      "(116945, 42) (116945,)\n",
      "(29237, 42) (29237,)\n"
     ]
    }
   ],
   "source": [
    "from sklearn.model_selection import train_test_split\n",
    "xx_train, xx_val, yy_train, yy_val = \\\n",
    "    train_test_split(x_train, y_train, test_size=0.2, random_state=42)\n",
    "\n",
    "print(xx_train.shape,yy_train.shape)\n",
    "print(xx_val.shape,yy_val.shape)"
   ]
  },
  {
   "cell_type": "markdown",
   "id": "88401018",
   "metadata": {},
   "source": [
    "### model1: LSTM"
   ]
  },
  {
   "cell_type": "code",
   "execution_count": 19,
   "id": "2f661a3b",
   "metadata": {},
   "outputs": [],
   "source": [
    "def get_embedding_size(num_categories):\n",
    "\n",
    "    if num_categories <= 1000 :\n",
    "        embedding_dimensions = min(500, num_categories/2)\n",
    "    # num_categories > 1000 일때\n",
    "    else:\n",
    "        embedding_dimensions = 75.6496 * np.log(num_categories + 176.623) - 41.4457\n",
    "    \n",
    "    return int(embedding_dimensions)\n",
    "\n",
    "def get_hidden_size(n_input, n_output, n_sample, alpha=2):\n",
    "    n_hidden = n_sample / (alpha*(n_input + n_output))\n",
    "    return int(n_hidden)"
   ]
  },
  {
   "cell_type": "code",
   "execution_count": 20,
   "id": "d40053f1",
   "metadata": {},
   "outputs": [
    {
     "name": "stdout",
     "output_type": "stream",
     "text": [
      "train_samples= 116945\n",
      "vocab_size= 10000\n",
      "word_vector_dim= 656\n",
      "hidden_size= 125\n",
      "input_data_length= 42\n"
     ]
    }
   ],
   "source": [
    "train_samples = xx_train.shape[0]\n",
    "vocab_size =len(index_to_word)\n",
    "word_vector_dim = get_embedding_size(vocab_size)  \n",
    "hidden_size = get_hidden_size(n_input=word_vector_dim,\n",
    "                               n_output=vocab_size, \n",
    "                               n_sample=train_samples*word_vector_dim)\n",
    "hidden_size = 125\n",
    "input_data_length = maxlen\n",
    "print('train_samples=',train_samples)\n",
    "print('vocab_size=',vocab_size)\n",
    "print('word_vector_dim=',word_vector_dim)\n",
    "print('hidden_size=',hidden_size)\n",
    "print('input_data_length=',input_data_length)"
   ]
  },
  {
   "cell_type": "code",
   "execution_count": 22,
   "id": "7619dd05",
   "metadata": {},
   "outputs": [
    {
     "name": "stdout",
     "output_type": "stream",
     "text": [
      "Model: \"sequential_1\"\n",
      "_________________________________________________________________\n",
      "Layer (type)                 Output Shape              Param #   \n",
      "=================================================================\n",
      "embedding_1 (Embedding)      (None, 42, 656)           6560000   \n",
      "_________________________________________________________________\n",
      "lstm_2 (LSTM)                (None, 42, 125)           391000    \n",
      "_________________________________________________________________\n",
      "lstm_3 (LSTM)                (None, 125)               125500    \n",
      "_________________________________________________________________\n",
      "dense (Dense)                (None, 10000)             1260000   \n",
      "_________________________________________________________________\n",
      "dense_1 (Dense)              (None, 1)                 10001     \n",
      "=================================================================\n",
      "Total params: 8,346,501\n",
      "Trainable params: 8,346,501\n",
      "Non-trainable params: 0\n",
      "_________________________________________________________________\n"
     ]
    }
   ],
   "source": [
    "model1 = tf.keras.Sequential()\n",
    "model1.add(tf.keras.layers.Embedding(input_dim=vocab_size, \n",
    "                                    output_dim=word_vector_dim,\n",
    "                                    input_length=input_data_length))\n",
    "\n",
    "model1.add(tf.keras.layers.LSTM(units = hidden_size,return_sequences=True))   # 가장 널리 쓰이는 RNN인 LSTM 레이어를 사용하였습니다. \n",
    "model1.add(tf.keras.layers.LSTM(units = hidden_size))   # 가장 널리 쓰이는 RNN인 LSTM 레이어를 사용하였습니다. \n",
    "model1.add(tf.keras.layers.Dense(units= vocab_size, activation='relu'))\n",
    "model1.add(tf.keras.layers.Dense(1, activation='sigmoid'))  # 최종 출력은 긍정/부정을 나타내는 1dim 입니다.\n",
    "\n",
    "model1.summary()"
   ]
  },
  {
   "cell_type": "markdown",
   "id": "f1f1a210",
   "metadata": {},
   "source": [
    "### model2: Convolution Neural Network"
   ]
  },
  {
   "cell_type": "code",
   "execution_count": 23,
   "id": "23062a5b",
   "metadata": {},
   "outputs": [
    {
     "name": "stdout",
     "output_type": "stream",
     "text": [
      "Model: \"sequential_2\"\n",
      "_________________________________________________________________\n",
      "Layer (type)                 Output Shape              Param #   \n",
      "=================================================================\n",
      "embedding_2 (Embedding)      (None, None, 656)         6560000   \n",
      "_________________________________________________________________\n",
      "conv1d (Conv1D)              (None, None, 16)          73488     \n",
      "_________________________________________________________________\n",
      "max_pooling1d (MaxPooling1D) (None, None, 16)          0         \n",
      "_________________________________________________________________\n",
      "conv1d_1 (Conv1D)            (None, None, 16)          1808      \n",
      "_________________________________________________________________\n",
      "global_max_pooling1d (Global (None, 16)                0         \n",
      "_________________________________________________________________\n",
      "dense_2 (Dense)              (None, 8)                 136       \n",
      "_________________________________________________________________\n",
      "dense_3 (Dense)              (None, 1)                 9         \n",
      "=================================================================\n",
      "Total params: 6,635,441\n",
      "Trainable params: 6,635,441\n",
      "Non-trainable params: 0\n",
      "_________________________________________________________________\n"
     ]
    }
   ],
   "source": [
    "model2 = tf.keras.Sequential()\n",
    "model2.add(tf.keras.layers.Embedding(vocab_size, word_vector_dim, input_shape=(None,)))\n",
    "model2.add(tf.keras.layers.Conv1D(16, 7, activation='relu'))\n",
    "model2.add(tf.keras.layers.MaxPooling1D(5))\n",
    "model2.add(tf.keras.layers.Conv1D(16, 7, activation='relu'))\n",
    "model2.add(tf.keras.layers.GlobalMaxPooling1D())\n",
    "model2.add(tf.keras.layers.Dense(8, activation='relu'))\n",
    "model2.add(tf.keras.layers.Dense(1, activation='sigmoid'))  # 최종 출력은 긍정/부정을 나타내는 1dim 입니다.\n",
    "\n",
    "model2.summary()"
   ]
  },
  {
   "cell_type": "markdown",
   "id": "614c4d44",
   "metadata": {},
   "source": [
    "### model3: GlobalMaxPooling1D"
   ]
  },
  {
   "cell_type": "code",
   "execution_count": 24,
   "id": "1c829a9a",
   "metadata": {},
   "outputs": [
    {
     "name": "stdout",
     "output_type": "stream",
     "text": [
      "Model: \"sequential_3\"\n",
      "_________________________________________________________________\n",
      "Layer (type)                 Output Shape              Param #   \n",
      "=================================================================\n",
      "embedding_3 (Embedding)      (None, None, 656)         6560000   \n",
      "_________________________________________________________________\n",
      "global_max_pooling1d_1 (Glob (None, 656)               0         \n",
      "_________________________________________________________________\n",
      "dense_4 (Dense)              (None, 8)                 5256      \n",
      "_________________________________________________________________\n",
      "dense_5 (Dense)              (None, 1)                 9         \n",
      "=================================================================\n",
      "Total params: 6,565,265\n",
      "Trainable params: 6,565,265\n",
      "Non-trainable params: 0\n",
      "_________________________________________________________________\n"
     ]
    }
   ],
   "source": [
    "model3 = tf.keras.Sequential()\n",
    "model3.add(tf.keras.layers.Embedding(vocab_size, word_vector_dim, input_shape=(None,)))\n",
    "model3.add(tf.keras.layers.GlobalMaxPooling1D())\n",
    "model3.add(tf.keras.layers.Dense(8, activation='relu'))\n",
    "model3.add(tf.keras.layers.Dense(1, activation='sigmoid'))  # 최종 출력은 긍정/부정을 나타내는 1dim 입니다.\n",
    "\n",
    "model3.summary()"
   ]
  },
  {
   "cell_type": "markdown",
   "id": "6b1d2d35",
   "metadata": {},
   "source": [
    "# 5)모델별 훈련 개시"
   ]
  },
  {
   "cell_type": "markdown",
   "id": "be13ea32",
   "metadata": {},
   "source": [
    "###  model1.fit() LSTM"
   ]
  },
  {
   "cell_type": "code",
   "execution_count": 25,
   "id": "db59bf4a",
   "metadata": {},
   "outputs": [
    {
     "name": "stdout",
     "output_type": "stream",
     "text": [
      "Epoch 1/10\n",
      "115/115 [==============================] - 12s 72ms/step - loss: 0.4181 - accuracy: 0.8009 - val_loss: 0.3613 - val_accuracy: 0.8438\n",
      "Epoch 2/10\n",
      "115/115 [==============================] - 8s 68ms/step - loss: 0.3097 - accuracy: 0.8677 - val_loss: 0.3378 - val_accuracy: 0.8523\n",
      "Epoch 3/10\n",
      "115/115 [==============================] - 8s 69ms/step - loss: 0.2655 - accuracy: 0.8872 - val_loss: 0.3429 - val_accuracy: 0.8518\n",
      "Epoch 4/10\n",
      "115/115 [==============================] - 8s 71ms/step - loss: 0.2257 - accuracy: 0.9054 - val_loss: 0.3634 - val_accuracy: 0.8517\n",
      "Epoch 5/10\n",
      "115/115 [==============================] - 8s 71ms/step - loss: 0.1921 - accuracy: 0.9201 - val_loss: 0.4203 - val_accuracy: 0.8507\n",
      "Epoch 6/10\n",
      "115/115 [==============================] - 8s 72ms/step - loss: 0.1627 - accuracy: 0.9338 - val_loss: 0.4931 - val_accuracy: 0.8463\n",
      "Epoch 7/10\n",
      "115/115 [==============================] - 8s 73ms/step - loss: 0.1398 - accuracy: 0.9437 - val_loss: 0.5363 - val_accuracy: 0.8459\n",
      "Epoch 8/10\n",
      "115/115 [==============================] - 9s 75ms/step - loss: 0.1195 - accuracy: 0.9521 - val_loss: 0.5970 - val_accuracy: 0.8408\n",
      "Epoch 9/10\n",
      "115/115 [==============================] - 9s 76ms/step - loss: 0.1039 - accuracy: 0.9587 - val_loss: 0.6224 - val_accuracy: 0.8433\n",
      "Epoch 10/10\n",
      "115/115 [==============================] - 9s 76ms/step - loss: 0.0912 - accuracy: 0.9640 - val_loss: 0.7066 - val_accuracy: 0.8338\n"
     ]
    }
   ],
   "source": [
    "model1.compile(optimizer='adam',\n",
    "              loss='binary_crossentropy',\n",
    "              metrics=['accuracy'])\n",
    "              \n",
    "epochs=10  # 몇 epoch를 훈련하면 좋을지 결과를 보면서 바꾸어 봅시다. \n",
    "\n",
    "history1 = model1.fit(xx_train,\n",
    "                    yy_train,\n",
    "                    epochs=epochs,\n",
    "                    batch_size=1024,\n",
    "                    validation_data=(xx_val, yy_val),\n",
    "                    verbose=1)"
   ]
  },
  {
   "cell_type": "code",
   "execution_count": 26,
   "id": "b77fc0f1",
   "metadata": {},
   "outputs": [
    {
     "name": "stdout",
     "output_type": "stream",
     "text": [
      "1537/1537 - 4s - loss: 0.6901 - accuracy: 0.8354\n",
      "[0.6900585889816284, 0.8354049324989319]\n"
     ]
    }
   ],
   "source": [
    "results = model1.evaluate(x_test,  y_test, verbose=2)\n",
    "print(results)"
   ]
  },
  {
   "cell_type": "markdown",
   "id": "38a7b65b",
   "metadata": {},
   "source": [
    "###  model2.fit() Convolution Neural Network"
   ]
  },
  {
   "cell_type": "code",
   "execution_count": 27,
   "id": "7c7ce9aa",
   "metadata": {},
   "outputs": [
    {
     "name": "stdout",
     "output_type": "stream",
     "text": [
      "Epoch 1/4\n",
      "229/229 [==============================] - 5s 16ms/step - loss: 0.4406 - accuracy: 0.7841 - val_loss: 0.3517 - val_accuracy: 0.8427\n",
      "Epoch 2/4\n",
      "229/229 [==============================] - 3s 14ms/step - loss: 0.3041 - accuracy: 0.8702 - val_loss: 0.3430 - val_accuracy: 0.8483\n",
      "Epoch 3/4\n",
      "229/229 [==============================] - 3s 14ms/step - loss: 0.2305 - accuracy: 0.9069 - val_loss: 0.3692 - val_accuracy: 0.8431\n",
      "Epoch 4/4\n",
      "229/229 [==============================] - 3s 14ms/step - loss: 0.1503 - accuracy: 0.9441 - val_loss: 0.4439 - val_accuracy: 0.8359\n"
     ]
    }
   ],
   "source": [
    "model2.compile(optimizer='adam',\n",
    "              loss='binary_crossentropy',\n",
    "              metrics=['accuracy'])\n",
    "              \n",
    "epochs=4  # 몇 epoch를 훈련하면 좋을지 결과를 보면서 바꾸어 봅시다. \n",
    "\n",
    "history2 = model2.fit(xx_train,\n",
    "                    yy_train,\n",
    "                    epochs=epochs,\n",
    "                    batch_size=512,\n",
    "                    validation_data=(xx_val, yy_val),\n",
    "                    verbose=1)"
   ]
  },
  {
   "cell_type": "code",
   "execution_count": 28,
   "id": "8519eeb8",
   "metadata": {},
   "outputs": [
    {
     "name": "stdout",
     "output_type": "stream",
     "text": [
      "1537/1537 - 3s - loss: 0.4455 - accuracy: 0.8328\n",
      "[0.445515900850296, 0.8327603340148926]\n"
     ]
    }
   ],
   "source": [
    "results = model2.evaluate(x_test,  y_test, verbose=2)\n",
    "print(results)"
   ]
  },
  {
   "cell_type": "markdown",
   "id": "51393318",
   "metadata": {},
   "source": [
    "### model3.fit() GlobalMaxPooling1D"
   ]
  },
  {
   "cell_type": "code",
   "execution_count": 29,
   "id": "05651156",
   "metadata": {},
   "outputs": [
    {
     "name": "stdout",
     "output_type": "stream",
     "text": [
      "Epoch 1/4\n",
      "229/229 [==============================] - 3s 10ms/step - loss: 0.4290 - accuracy: 0.8155 - val_loss: 0.3421 - val_accuracy: 0.8514\n",
      "Epoch 2/4\n",
      "229/229 [==============================] - 2s 9ms/step - loss: 0.2960 - accuracy: 0.8757 - val_loss: 0.3381 - val_accuracy: 0.8544\n",
      "Epoch 3/4\n",
      "229/229 [==============================] - 2s 9ms/step - loss: 0.2431 - accuracy: 0.9023 - val_loss: 0.3485 - val_accuracy: 0.8538\n",
      "Epoch 4/4\n",
      "229/229 [==============================] - 2s 9ms/step - loss: 0.1895 - accuracy: 0.9297 - val_loss: 0.3738 - val_accuracy: 0.8508\n"
     ]
    }
   ],
   "source": [
    "model3.compile(optimizer='adam',\n",
    "              loss='binary_crossentropy',\n",
    "              metrics=['accuracy'])\n",
    "              \n",
    "epochs=4  # 몇 epoch를 훈련하면 좋을지 결과를 보면서 바꾸어 봅시다. \n",
    "\n",
    "history3 = model3.fit(xx_train,\n",
    "                    yy_train,\n",
    "                    epochs=epochs,\n",
    "                    batch_size=512,\n",
    "                    validation_data=(xx_val, yy_val),\n",
    "                    verbose=1)"
   ]
  },
  {
   "cell_type": "code",
   "execution_count": 30,
   "id": "37a438e8",
   "metadata": {},
   "outputs": [
    {
     "name": "stdout",
     "output_type": "stream",
     "text": [
      "1537/1537 - 2s - loss: 0.3806 - accuracy: 0.8497\n",
      "[0.38060587644577026, 0.8496653437614441]\n"
     ]
    }
   ],
   "source": [
    "results = model3.evaluate(x_test,  y_test, verbose=2)\n",
    "print(results)"
   ]
  },
  {
   "cell_type": "code",
   "execution_count": 31,
   "id": "e5a231bd",
   "metadata": {},
   "outputs": [],
   "source": [
    "import matplotlib.pyplot as plt\n",
    "def draw_loss_accuracy_graph(history,txt_model_name):\n",
    "    history_dict = history.history\n",
    "\n",
    "    acc = history_dict['accuracy']\n",
    "    val_acc = history_dict['val_accuracy']\n",
    "    loss = history_dict['loss']\n",
    "    val_loss = history_dict['val_loss']\n",
    "\n",
    "    epochs = range(1, len(acc) + 1)\n",
    "\n",
    "    plt.subplot(2,1,1)\n",
    "    # \"bo\"는 \"파란색 점\"입니다\n",
    "    plt.plot(epochs, loss, 'bo--', label='Training loss')\n",
    "    # b는 \"파란 실선\"입니다\n",
    "    plt.plot(epochs, val_loss, 'ro--', label='Validation loss')\n",
    "    plt.title(txt_model_name+' Training and validation loss')\n",
    "    plt.xlabel('Epochs')\n",
    "    plt.ylabel('Loss')\n",
    "    plt.legend(['Train', 'Validation'], loc='upper left')\n",
    "\n",
    "    plt.subplot(2,1,2)\n",
    "    plt.plot(epochs, acc, 'bo--', label='Training acc')\n",
    "    plt.plot(epochs, val_acc, 'ro--', label='Validation acc')\n",
    "    plt.title(txt_model_name+' Training and validation accuracy')\n",
    "    plt.xlabel('Epochs')\n",
    "    plt.ylabel('Accuracy')\n",
    "    plt.legend(['Train', 'Validation'], loc='upper left')\n",
    "    plt.tight_layout()\n",
    "    plt.show()"
   ]
  },
  {
   "cell_type": "markdown",
   "id": "dd9530a6",
   "metadata": {},
   "source": [
    "# 6)Loss,Accuracy 그래프 시각화"
   ]
  },
  {
   "cell_type": "code",
   "execution_count": 32,
   "id": "5b9031e5",
   "metadata": {},
   "outputs": [
    {
     "data": {
      "image/png": "[encoded data removed]",
      "text/plain": [
       "<Figure size 432x288 with 2 Axes>"
      ]
     },
     "metadata": {
      "needs_background": "light"
     },
     "output_type": "display_data"
    },
    {
     "data": {
      "image/png": "[encoded data removed]",
      "text/plain": [
       "<Figure size 432x288 with 2 Axes>"
      ]
     },
     "metadata": {
      "needs_background": "light"
     },
     "output_type": "display_data"
    },
    {
     "data": {
      "image/png": "[encoded data removed]",
      "text/plain": [
       "<Figure size 432x288 with 2 Axes>"
      ]
     },
     "metadata": {
      "needs_background": "light"
     },
     "output_type": "display_data"
    }
   ],
   "source": [
    "draw_loss_accuracy_graph(history1,'LSTM')\n",
    "draw_loss_accuracy_graph(history2,'CNN')\n",
    "draw_loss_accuracy_graph(history3,'GlobalMaxPooling1D')"
   ]
  },
  {
   "cell_type": "markdown",
   "id": "5d42496b",
   "metadata": {},
   "source": [
    "# 7)학습된 Embedding레이어 분석"
   ]
  },
  {
   "cell_type": "markdown",
   "id": "2eec02e8",
   "metadata": {},
   "source": [
    "### 자체학습 LSTM 모델 임베딩 분석"
   ]
  },
  {
   "cell_type": "code",
   "execution_count": 33,
   "id": "87326a7c",
   "metadata": {},
   "outputs": [
    {
     "name": "stdout",
     "output_type": "stream",
     "text": [
      "(10000, 656)\n"
     ]
    }
   ],
   "source": [
    "embedding_layer = model1.layers[0]\n",
    "weights = embedding_layer.get_weights()[0]\n",
    "print(weights.shape)    # shape: (vocab_size, embedding_dim)"
   ]
  },
  {
   "cell_type": "code",
   "execution_count": 34,
   "id": "73313518",
   "metadata": {},
   "outputs": [],
   "source": [
    "# 학습한 Embedding 파라미터를 파일에 써서 저장합니다. \n",
    "word2vec_file_path = 'lstm_word2vec.txt'\n",
    "f = open(word2vec_file_path, 'w')\n",
    "f.write('{} {}\\n'.format(vocab_size-4, word_vector_dim))  # 몇개의 벡터를 얼마 사이즈로 기재할지 타이틀을 씁니다.\n",
    "\n",
    "# 단어 개수(에서 특수문자 4개는 제외하고)만큼의 워드 벡터를 파일에 기록합니다. \n",
    "vectors = model1.get_weights()[0]\n",
    "for i in range(4,vocab_size):\n",
    "    f.write('{} {}\\n'.format(index_to_word[i], ' '.join(map(str, list(vectors[i, :])))))\n",
    "f.close()"
   ]
  },
  {
   "cell_type": "code",
   "execution_count": 35,
   "id": "b8836135",
   "metadata": {},
   "outputs": [
    {
     "name": "stdout",
     "output_type": "stream",
     "text": [
      "[[-0.00754935 -0.01497225  0.02386746 ... -0.03005902 -0.03804918\n",
      "  -0.00999823]\n",
      " [-0.0039879  -0.0209295   0.00811292 ... -0.03482991  0.01506076\n",
      "  -0.00507548]\n",
      " [ 0.01129926  0.01473563 -0.02142347 ...  0.04511769  0.03395117\n",
      "  -0.02113849]\n",
      " ...\n",
      " [ 0.09020939  0.07355179 -0.04081298 ...  0.05222497  0.00558135\n",
      "   0.02296473]\n",
      " [-0.00900477  0.08003215 -0.02920782 ...  0.04378248 -0.06193143\n",
      "   0.06636756]\n",
      " [-0.09651308  0.05246721 -0.06892615 ... -0.03593567  0.0526824\n",
      "   0.07643785]]\n",
      "(9996, 656)\n"
     ]
    },
    {
     "data": {
      "text/plain": [
       "array([-6.66585267e-02,  1.58436671e-02,  1.09356701e-01, -2.70678475e-02,\n",
       "       -3.86014692e-02, -2.13834476e-02, -3.21167894e-02, -2.19529141e-02,\n",
       "       -1.05855890e-01, -1.82925947e-02,  1.25533165e-02, -6.60136938e-02,\n",
       "        2.47297771e-02,  1.09796524e-01,  6.70431852e-02, -7.94526115e-02,\n",
       "       -6.41444772e-02,  1.48351137e-02, -1.69552993e-02, -3.83097827e-02,\n",
       "       -1.06919259e-02,  4.10568081e-02,  4.38380763e-02,  5.20565314e-03,\n",
       "       -3.43227945e-02,  2.60748193e-02, -5.90988137e-02, -5.43451756e-02,\n",
       "       -3.70807536e-02, -3.55538391e-02, -3.96462940e-02,  1.51319318e-02,\n",
       "        1.02337869e-02, -5.11729382e-02, -2.05824263e-02, -3.38885076e-02,\n",
       "       -9.81098488e-02, -1.12728015e-01,  8.59265774e-02, -3.01745813e-03,\n",
       "        3.29891481e-02,  2.15783697e-02,  3.27841491e-02, -5.04747555e-02,\n",
       "       -6.02433160e-02,  5.75502403e-02, -3.58393788e-02, -2.10296754e-02,\n",
       "       -3.07198446e-02, -1.03807889e-01, -1.35384928e-02, -4.62661758e-02,\n",
       "        5.99264912e-02, -9.51747000e-02,  9.46229845e-02, -9.55557264e-03,\n",
       "        2.96912342e-02, -2.63227671e-02, -3.69391590e-02,  1.10015586e-01,\n",
       "       -8.95635486e-02, -4.91094105e-02, -8.85538161e-02, -2.87086256e-02,\n",
       "        5.24966344e-02, -8.29453841e-02,  8.13357681e-02, -6.62668347e-02,\n",
       "        9.70426947e-02,  3.11136637e-02,  6.43597841e-02, -6.00831024e-02,\n",
       "       -8.99037942e-02,  6.10559769e-02,  6.50074407e-02,  1.86809413e-02,\n",
       "        3.53600569e-02, -3.35247666e-02, -9.60765108e-02, -8.53289291e-02,\n",
       "        3.38035077e-02, -6.82866499e-02, -8.78243446e-02,  8.83132964e-02,\n",
       "       -8.11229795e-02, -4.05404307e-02, -2.12106649e-02,  9.08905119e-02,\n",
       "        9.70878601e-02, -3.93309258e-02, -3.68860252e-02, -2.34476142e-02,\n",
       "       -1.15109175e-01,  8.12655240e-02, -1.86399836e-02,  2.98899952e-02,\n",
       "        3.28133963e-02, -9.33314189e-02, -1.18661977e-01,  1.18688934e-01,\n",
       "       -9.10523236e-02, -9.40813334e-06,  8.16583782e-02,  1.32632582e-02,\n",
       "       -4.65240292e-02, -3.24421376e-03, -4.37150933e-02,  4.19871286e-02,\n",
       "       -4.55899388e-02, -5.56301922e-02,  3.93440090e-02,  8.11057389e-02,\n",
       "       -2.69065499e-02, -7.31120631e-02,  4.30310220e-02,  6.11680783e-02,\n",
       "       -5.78685999e-02,  8.63885358e-02,  1.10103309e-01,  8.42020139e-02,\n",
       "       -8.29298347e-02, -2.53594667e-02,  5.47238812e-02, -9.16270912e-02,\n",
       "       -2.07045078e-02, -5.48136868e-02,  8.00447911e-02,  6.80724457e-02,\n",
       "        1.00355903e-02, -1.95488520e-02,  1.03672460e-01,  2.50552339e-03,\n",
       "       -9.54947770e-02,  2.99656130e-02, -7.58351311e-02, -5.82646318e-02,\n",
       "       -5.52208610e-02, -3.79366204e-02, -9.28427838e-03,  2.10087914e-02,\n",
       "        7.38835558e-02, -2.38125632e-03,  4.34911437e-02,  1.01777650e-01,\n",
       "        4.88394722e-02, -4.88730446e-02,  2.25845017e-02, -1.59506910e-02,\n",
       "        8.66187960e-02, -7.31810331e-02,  6.02553450e-02,  9.17208269e-02,\n",
       "        2.66818255e-02, -8.19861069e-02, -8.46106336e-02,  8.94037560e-02,\n",
       "        2.03244034e-02,  2.12515313e-02,  1.53217912e-02, -8.31562355e-02,\n",
       "        1.93568263e-02, -7.71788657e-02, -6.35026321e-02, -5.34163527e-02,\n",
       "       -1.25307795e-02,  4.25362438e-02,  1.11639030e-01, -7.29311556e-02,\n",
       "        5.25787063e-02,  4.72717918e-02,  2.68756468e-02, -1.11106858e-02,\n",
       "       -6.29570931e-02, -5.87649457e-02,  8.34755898e-02,  2.22995840e-02,\n",
       "        1.04600072e-01,  8.13635588e-02,  2.75241565e-02, -3.37420627e-02,\n",
       "        1.92240123e-02,  8.01007450e-02,  1.32444012e-03,  1.05388490e-02,\n",
       "        5.26258387e-02,  3.24652046e-02, -5.36151268e-02,  4.97325249e-02,\n",
       "       -2.23662667e-02,  3.32412831e-02, -7.02255517e-02,  2.78409719e-02,\n",
       "       -7.20413700e-02,  1.16878092e-01, -5.83255552e-02, -4.19302694e-02,\n",
       "        8.22160989e-02,  8.44094977e-02,  8.99034645e-03, -6.25644103e-02,\n",
       "       -5.53241633e-02, -1.08498134e-01, -2.83916313e-02,  1.24848522e-01,\n",
       "       -1.15042496e-02, -2.62480248e-02,  9.78211910e-02,  3.48730870e-02,\n",
       "        4.67388742e-02, -4.70870025e-02, -7.77963772e-02, -3.74717591e-03,\n",
       "        7.03618396e-03,  1.32610472e-02, -3.30668911e-02, -4.42900993e-02,\n",
       "        5.94747663e-02, -2.88293194e-02,  2.47248802e-02,  3.81176695e-02,\n",
       "       -7.63373524e-02,  2.84885615e-03, -6.85458556e-02, -3.64843495e-02,\n",
       "        2.36285981e-02,  8.81678760e-02,  6.56151911e-03, -2.77475622e-02,\n",
       "       -5.01215318e-03,  5.61903976e-02, -9.13077891e-02, -2.49540270e-03,\n",
       "       -2.21107714e-02,  1.11795947e-01,  4.11198772e-02,  2.83253286e-02,\n",
       "       -3.01782060e-02, -4.14119512e-02,  7.99742937e-02,  4.07953896e-02,\n",
       "       -5.58263175e-02,  1.33027323e-02, -1.62716657e-02,  6.17907867e-02,\n",
       "       -2.65117642e-02, -7.94242099e-02,  3.04364562e-02, -1.07728317e-01,\n",
       "        1.49837174e-02,  2.88423616e-02,  3.63795236e-02, -2.27303561e-02,\n",
       "        3.72249261e-02,  2.19637323e-02,  5.28409146e-02, -5.07303886e-03,\n",
       "       -3.91938630e-03, -4.72307988e-02, -7.31435716e-02,  5.45652658e-02,\n",
       "       -7.10255057e-02,  2.64584087e-02, -2.66053211e-02,  8.06535631e-02,\n",
       "        5.76467216e-02,  4.25324887e-02,  8.03700909e-02,  3.31177786e-02,\n",
       "       -6.02623709e-02, -7.07185939e-02, -6.51369840e-02,  2.40634605e-02,\n",
       "        3.64580899e-02, -4.61593606e-02,  8.37196112e-02,  7.34634027e-02,\n",
       "       -3.00821811e-02, -1.61485502e-03,  2.32222048e-03,  1.44756297e-02,\n",
       "        4.04710397e-02,  8.28270540e-02, -7.63500715e-03,  4.10301723e-02,\n",
       "        4.75952774e-02, -2.58883294e-02, -9.36276764e-02, -3.05721606e-03,\n",
       "       -9.58315358e-02,  2.49361359e-02, -5.77991195e-02,  9.25946534e-02,\n",
       "       -5.22502977e-03, -6.46393970e-02,  7.80590400e-02,  5.71119599e-02,\n",
       "        1.22346677e-01,  1.54749816e-02,  7.37049878e-02,  9.47099328e-02,\n",
       "        1.91335659e-02,  3.80951352e-02, -4.93659489e-02,  1.09923869e-01,\n",
       "        1.01159774e-01,  7.66787305e-02,  2.00981684e-02, -8.16351827e-03,\n",
       "       -3.25765349e-02, -4.27703895e-02, -3.01144347e-02, -2.45160181e-02,\n",
       "       -3.59465219e-02,  3.76323089e-02,  8.20503086e-02, -7.46843517e-02,\n",
       "        1.07382145e-03,  4.94524129e-02, -4.08068486e-02,  3.76210287e-02,\n",
       "        5.41611500e-02, -4.99775112e-02, -6.88536018e-02, -1.16343878e-01,\n",
       "       -6.26772717e-02,  1.74936261e-02,  5.06278090e-02,  4.38490603e-03,\n",
       "        5.96484281e-02,  8.46523494e-02,  3.59612680e-03, -8.38369206e-02,\n",
       "        2.54333951e-02,  7.33995214e-02,  7.20974207e-02, -6.34747371e-02,\n",
       "       -7.87190422e-02, -2.65234467e-02,  6.09346777e-02, -5.61797479e-03,\n",
       "        9.44832861e-02,  2.88961474e-02,  4.21504900e-02, -3.88629548e-02,\n",
       "        3.73789333e-02, -6.14741035e-02, -7.61331096e-02, -8.04183409e-02,\n",
       "       -4.81299311e-02,  7.71310329e-02, -2.87747160e-02,  7.52027854e-02,\n",
       "        2.28444338e-02, -3.72139737e-02,  4.34521101e-02,  2.13881042e-02,\n",
       "        1.17170028e-02,  2.51373947e-02,  5.99346682e-02,  3.95896621e-02,\n",
       "       -1.81328729e-02, -2.15552021e-02,  3.58549058e-02,  2.70816498e-03,\n",
       "        9.09507945e-02,  8.56698006e-02, -1.71748511e-02,  2.63636373e-02,\n",
       "        1.70459896e-02,  6.79655746e-02,  4.54207622e-02,  2.54951119e-02,\n",
       "        1.38338894e-01,  3.29889804e-02,  2.36851089e-02,  2.15134602e-02,\n",
       "        6.20976612e-02,  3.52827981e-02, -5.13830641e-03,  2.88471803e-02,\n",
       "       -7.21570924e-02,  9.00374353e-03, -4.19677943e-02, -2.39903126e-02,\n",
       "        9.94481146e-02, -5.24169430e-02,  5.05819544e-02,  8.12529176e-02,\n",
       "        5.14467806e-02,  5.24537116e-02, -1.52603174e-02, -7.04899281e-02,\n",
       "       -2.62971744e-02, -8.06694031e-02,  4.58176695e-02, -9.99559537e-02,\n",
       "       -6.83311895e-02,  3.43411230e-02, -8.65536463e-03,  2.11663265e-02,\n",
       "        3.40314470e-02,  8.80517811e-03,  1.92084238e-02,  5.46429213e-03,\n",
       "       -7.37534165e-02, -5.00219204e-02, -7.78105259e-02, -9.92583781e-02,\n",
       "        9.81876329e-02, -1.01458780e-01, -2.79745013e-02, -1.36969239e-02,\n",
       "        1.62410270e-02, -8.28406657e-04, -8.83437842e-02, -8.06352124e-02,\n",
       "        6.90309913e-04,  3.60848606e-02,  4.15090658e-02,  6.18750192e-02,\n",
       "        3.32171731e-02, -2.90326104e-02,  3.99880558e-02,  5.14555648e-02,\n",
       "       -1.04544111e-01, -2.92246919e-02,  7.01053217e-02, -7.19692707e-02,\n",
       "        8.26075971e-02, -2.42799148e-02,  1.21038184e-02, -2.60199662e-02,\n",
       "       -8.60760957e-02, -2.81923562e-02, -6.58004805e-02,  1.81816015e-02,\n",
       "       -3.37439985e-03,  2.23170640e-03, -7.73589090e-02,  3.95917669e-02,\n",
       "       -1.76165514e-02, -4.11957093e-02, -6.61087781e-02,  5.98653965e-03,\n",
       "       -6.10991120e-02,  3.54787298e-02, -6.12099841e-02, -5.24552502e-02,\n",
       "        8.78397003e-02,  3.34634483e-02, -1.44271292e-02, -1.38271265e-02,\n",
       "        3.48586217e-02, -1.22071221e-03,  2.76181870e-03,  1.19439647e-01,\n",
       "       -5.95650636e-03,  5.64607326e-03,  2.85689589e-02,  2.66289879e-02,\n",
       "       -1.10043287e-01,  3.24821696e-02,  8.61613676e-02,  6.37299195e-02,\n",
       "       -5.80490530e-02,  2.75328644e-02,  7.35633224e-02, -3.02887205e-02,\n",
       "       -3.36950347e-02,  5.37876785e-03,  1.02774702e-01, -7.12861717e-02,\n",
       "        1.19534684e-02, -2.15913095e-02,  4.36578281e-02, -2.20276117e-02,\n",
       "       -2.09305994e-02,  8.01402479e-02, -7.45402053e-02, -8.75419704e-04,\n",
       "        1.52705784e-03, -2.13640705e-02, -6.98988326e-03, -3.28287669e-02,\n",
       "       -8.09822902e-02, -1.39195979e-01, -5.74668646e-02,  2.01170277e-02,\n",
       "       -8.51023197e-02, -3.02790254e-02, -3.97490785e-02,  3.57405879e-02,\n",
       "        2.39844415e-02, -1.14893854e-01,  6.03077933e-02,  3.58868507e-03,\n",
       "        8.50999057e-02, -6.59439415e-02,  2.48052925e-02,  6.40762746e-02,\n",
       "        7.73368552e-02, -6.16656095e-02,  4.93864492e-02,  5.06372042e-02,\n",
       "        2.67385393e-02, -3.45803015e-02,  8.26097578e-02, -2.42493730e-02,\n",
       "        5.51154017e-02,  3.91886942e-02,  9.14107189e-02, -3.56448665e-02,\n",
       "        7.39493221e-02,  3.16519453e-03, -9.22090113e-02,  1.68990418e-02,\n",
       "        2.63940338e-02,  7.38732740e-02, -2.73835324e-02,  4.78827208e-03,\n",
       "       -3.50267300e-03,  1.01503525e-02, -7.70775601e-02, -1.03280611e-01,\n",
       "        4.45959456e-02,  1.28791220e-02, -4.86763939e-02, -5.49904108e-02,\n",
       "       -1.98868453e-03,  1.07928842e-01, -1.03841387e-01,  7.77402073e-02,\n",
       "        8.01779330e-02,  6.62957877e-02, -8.01031739e-02,  6.11156039e-03,\n",
       "       -1.12666838e-01,  6.03153743e-02, -5.35649136e-02, -2.49282829e-03,\n",
       "        2.72515472e-02, -3.14048715e-02,  1.55559331e-02,  6.87189922e-02,\n",
       "        8.27390775e-02, -1.99932139e-02,  5.21164089e-02, -5.73127181e-04,\n",
       "        4.36092056e-02, -1.15494793e-02, -1.28494846e-02,  5.09291850e-02,\n",
       "        8.47085789e-02,  5.22571616e-02, -6.08961470e-02,  1.26185631e-02,\n",
       "        6.44612778e-03, -1.45478901e-02, -8.58661369e-04,  1.44486735e-02,\n",
       "        2.28465293e-02, -9.21956673e-02, -2.46022586e-02,  1.23341363e-02,\n",
       "        8.84232670e-02, -2.61020716e-02, -2.37008277e-02,  7.28235468e-02,\n",
       "       -6.62617758e-03, -1.16208389e-01, -1.27851311e-02,  4.77544069e-02,\n",
       "        3.52260247e-02, -8.93472880e-02,  2.58535333e-02,  4.29343283e-02,\n",
       "        4.92083654e-02,  1.96906831e-02,  9.01028067e-02, -1.81439091e-02,\n",
       "        6.33085892e-03,  1.00244470e-01,  1.46830222e-02, -1.23584233e-01,\n",
       "        1.10716008e-01,  6.89658076e-02,  9.06289369e-02, -8.84092879e-03,\n",
       "        6.63738325e-02,  8.84331986e-02, -2.70247329e-02,  2.18145680e-02,\n",
       "        4.59237285e-02,  3.62909846e-02, -5.41485772e-02,  3.65944989e-02,\n",
       "       -4.88824174e-02, -4.25704271e-02, -2.22046804e-02, -7.01011494e-02,\n",
       "       -2.67894641e-02,  3.30137126e-02, -1.20768650e-02,  6.05657287e-02,\n",
       "        9.56441462e-02,  7.20986873e-02,  5.68494387e-02,  1.69757977e-02,\n",
       "        6.67962106e-03, -3.15230712e-02,  4.78181466e-02,  7.34645352e-02,\n",
       "        2.82784346e-02, -4.75184172e-02,  2.94257477e-02, -2.20518317e-02,\n",
       "        5.39382473e-02,  7.22477064e-02,  9.17988122e-02,  1.41893160e-02,\n",
       "       -6.37238622e-02, -7.21775144e-02,  7.48997182e-02,  6.25710413e-02,\n",
       "        1.19218742e-02,  7.80027285e-02, -9.36166123e-02,  6.14319593e-02,\n",
       "        6.91777542e-02,  4.82740300e-03,  1.76256690e-02,  9.50042456e-02,\n",
       "        2.72492822e-02, -2.81456877e-02, -8.00139084e-02, -3.96792106e-02,\n",
       "        1.83231104e-02, -1.14152037e-01,  5.21273799e-02,  8.67677182e-02,\n",
       "        6.44920114e-03, -7.13490322e-02,  6.83986172e-02, -1.03531033e-01,\n",
       "       -1.88615685e-03, -5.30386940e-02, -8.11691210e-02, -3.57206240e-02,\n",
       "        6.28718212e-02,  4.97982837e-02, -5.07815629e-02,  4.03143056e-02,\n",
       "        6.59431890e-02, -3.74194495e-02,  5.63945919e-02, -8.45110565e-02],\n",
       "      dtype=float32)"
      ]
     },
     "execution_count": 35,
     "metadata": {},
     "output_type": "execute_result"
    }
   ],
   "source": [
    "word2vec_file_path = 'lstm_word2vec.txt'\n",
    "from gensim.models.keyedvectors import Word2VecKeyedVectors\n",
    "print(model1.get_weights()[0])\n",
    "word_vectors = Word2VecKeyedVectors.load_word2vec_format(word2vec_file_path, binary=False)\n",
    "print(word_vectors.vectors.shape)\n",
    "\n",
    "vector = word_vectors['사랑']\n",
    "vector"
   ]
  },
  {
   "cell_type": "code",
   "execution_count": 36,
   "id": "13f2dd27",
   "metadata": {},
   "outputs": [
    {
     "data": {
      "text/plain": [
       "[('설레', 0.7476403117179871),\n",
       " ('명작', 0.7421166896820068),\n",
       " ('..)', 0.7370077967643738),\n",
       " ('수작', 0.7237048149108887),\n",
       " ('최고', 0.7160084247589111),\n",
       " ('먹먹', 0.713281512260437),\n",
       " ('소장', 0.702877402305603),\n",
       " ('탄탄', 0.6947634816169739),\n",
       " ('부드러운', 0.6925491690635681),\n",
       " ('유쾌', 0.690848171710968)]"
      ]
     },
     "execution_count": 36,
     "metadata": {},
     "output_type": "execute_result"
    }
   ],
   "source": [
    "word_vectors.similar_by_word(\"사랑\")"
   ]
  },
  {
   "cell_type": "markdown",
   "id": "4196bd72",
   "metadata": {},
   "source": [
    "### 사전학습 임베딩 분석"
   ]
  },
  {
   "cell_type": "code",
   "execution_count": 37,
   "id": "4a6e64f4",
   "metadata": {},
   "outputs": [
    {
     "name": "stdout",
     "output_type": "stream",
     "text": [
      "[[-0.00754935 -0.01497225  0.02386746 ... -0.03005902 -0.03804918\n",
      "  -0.00999823]\n",
      " [-0.0039879  -0.0209295   0.00811292 ... -0.03482991  0.01506076\n",
      "  -0.00507548]\n",
      " [ 0.01129926  0.01473563 -0.02142347 ...  0.04511769  0.03395117\n",
      "  -0.02113849]\n",
      " ...\n",
      " [ 0.09020939  0.07355179 -0.04081298 ...  0.05222497  0.00558135\n",
      "   0.02296473]\n",
      " [-0.00900477  0.08003215 -0.02920782 ...  0.04378248 -0.06193143\n",
      "   0.06636756]\n",
      " [-0.09651308  0.05246721 -0.06892615 ... -0.03593567  0.0526824\n",
      "   0.07643785]]\n",
      "<class 'gensim.models.keyedvectors.KeyedVectors'>\n",
      "(100,)\n"
     ]
    },
    {
     "data": {
      "text/plain": [
       "array([ 3.2565942 , -0.85421413, -3.6964011 ,  1.0956469 ,  0.599815  ,\n",
       "       -1.9681435 ,  0.32379073, -1.0716053 , -1.1776937 ,  2.0442047 ,\n",
       "        2.2501915 , -2.7868037 , -2.702359  , -0.9775915 , -0.12478333,\n",
       "        0.28235647,  0.77683175, -1.5393747 ,  2.0879042 , -5.444462  ,\n",
       "       -4.931412  ,  0.8532094 ,  0.11118065, -2.743522  ,  0.7902363 ,\n",
       "        0.10469969, -0.56074625,  1.6684421 ,  1.0278419 , -3.8816829 ,\n",
       "       -3.606887  , -3.120771  , -1.2527398 , -0.77196646, -1.0102901 ,\n",
       "        3.331668  ,  0.30032924,  1.2074511 , -1.2813627 ,  2.6281219 ,\n",
       "       -1.4624823 , -1.1354805 ,  0.7605239 ,  2.83577   , -1.199358  ,\n",
       "        3.1347232 ,  4.062026  , -0.23413125,  3.205856  , -0.9567054 ,\n",
       "        0.77167803, -1.4300145 ,  2.9014013 , -3.940087  , -3.234169  ,\n",
       "       -5.5460634 ,  0.6185009 , -0.75793767,  2.1043491 ,  2.350599  ,\n",
       "        2.9313247 , -2.235593  ,  3.2084036 , -5.594638  ,  1.6516634 ,\n",
       "       -0.32628602, -1.8824683 , -1.5573231 , -1.8452163 , -1.4044309 ,\n",
       "        4.872565  , -2.1063929 , -0.32347348,  1.9946551 , -4.0967984 ,\n",
       "       -1.4509655 , -0.09111219, -4.458617  ,  0.06598099, -2.211754  ,\n",
       "        3.0731246 , -0.06910119,  2.2555242 ,  2.0823317 , -0.58695716,\n",
       "       -3.1035714 ,  2.4014452 ,  3.4731216 ,  1.424459  , -4.313935  ,\n",
       "       -3.5665336 , -6.5203366 , -2.1090846 , -3.2797608 ,  0.4331985 ,\n",
       "        1.1721823 ,  1.8870457 , -0.08832774,  5.423067  , -3.8484313 ],\n",
       "      dtype=float32)"
      ]
     },
     "execution_count": 37,
     "metadata": {},
     "output_type": "execute_result"
    }
   ],
   "source": [
    "word2vec_file_path = 'word2vec_ko.model'\n",
    "from gensim.models.keyedvectors import Word2VecKeyedVectors\n",
    "print(model1.get_weights()[0])\n",
    "word_vectors = Word2VecKeyedVectors.load(word2vec_file_path)\n",
    "print(type(word_vectors.wv))\n",
    "vector = word_vectors.wv['사랑']\n",
    "print(vector.shape)\n",
    "vector"
   ]
  },
  {
   "cell_type": "code",
   "execution_count": 38,
   "id": "21ac04ad",
   "metadata": {},
   "outputs": [
    {
     "data": {
      "text/plain": [
       "[('이별', 0.7626414895057678),\n",
       " ('행복', 0.7550068497657776),\n",
       " ('슬픔', 0.7381505966186523),\n",
       " ('유혹', 0.7238055467605591),\n",
       " ('그리움', 0.7167419195175171),\n",
       " ('추억', 0.7143999338150024),\n",
       " ('꿈', 0.7089294195175171),\n",
       " ('애정', 0.7066588997840881),\n",
       " ('포옹', 0.7034594416618347),\n",
       " ('마음', 0.6972615718841553)]"
      ]
     },
     "execution_count": 38,
     "metadata": {},
     "output_type": "execute_result"
    }
   ],
   "source": [
    "word_vectors.wv.most_similar(positive=['사랑'])"
   ]
  },
  {
   "cell_type": "markdown",
   "id": "b223dd33",
   "metadata": {},
   "source": [
    "# 8)한국어 Word2Vec 임베딩 활용하여 성능개선\n",
    "- 한국어 Word2Vec은 /data 폴더 안에 있는 word2vec_ko.model을 활용<br>\n",
    "- 한국어 Word2Vec을 활용할 때는 load_word2vec_format() 형태가 아닌 load() 형태로 모델을 불러오기<br>"
   ]
  },
  {
   "cell_type": "code",
   "execution_count": 39,
   "id": "712ceb44",
   "metadata": {},
   "outputs": [
    {
     "name": "stdout",
     "output_type": "stream",
     "text": [
      "9453\n"
     ]
    }
   ],
   "source": [
    "vocab_size = 10000    # 어휘 사전의 크기입니다(10,000개의 단어)\n",
    "word_vector_dim = 100  # 워드 벡터의 차원수\n",
    "embedding_matrix = np.random.rand(vocab_size, word_vector_dim)\n",
    "\n",
    "# embedding_matrix에 Word2Vec 워드 벡터를 단어 하나씩마다 차례차례 카피한다.\n",
    "cnt=0\n",
    "for i in range(4,vocab_size):\n",
    "    if index_to_word[i] in word_vectors.wv.index_to_key:\n",
    "        cnt +=1\n",
    "        embedding_matrix[i] = word_vectors.wv[index_to_word[i]]\n",
    "print(cnt)"
   ]
  },
  {
   "cell_type": "code",
   "execution_count": 40,
   "id": "0a630824",
   "metadata": {},
   "outputs": [
    {
     "name": "stdout",
     "output_type": "stream",
     "text": [
      "Model: \"sequential_4\"\n",
      "_________________________________________________________________\n",
      "Layer (type)                 Output Shape              Param #   \n",
      "=================================================================\n",
      "embedding_4 (Embedding)      (None, 42, 100)           1000000   \n",
      "_________________________________________________________________\n",
      "lstm_4 (LSTM)                (None, 42, 125)           113000    \n",
      "_________________________________________________________________\n",
      "lstm_5 (LSTM)                (None, 125)               125500    \n",
      "_________________________________________________________________\n",
      "dense_6 (Dense)              (None, 10000)             1260000   \n",
      "_________________________________________________________________\n",
      "dense_7 (Dense)              (None, 1)                 10001     \n",
      "=================================================================\n",
      "Total params: 2,508,501\n",
      "Trainable params: 2,508,501\n",
      "Non-trainable params: 0\n",
      "_________________________________________________________________\n"
     ]
    }
   ],
   "source": [
    "from tensorflow.keras.initializers import Constant\n",
    "\n",
    "vocab_size = 10000    # 어휘 사전의 크기입니다(10,000개의 단어)\n",
    "word_vector_dim = 100  # 워드 벡터의 차원 수 \n",
    "\n",
    "# 모델 구성\n",
    "model_final = tf.keras.Sequential()\n",
    "model_final.add(tf.keras.layers.Embedding(vocab_size, \n",
    "                                 word_vector_dim, \n",
    "                                 embeddings_initializer=Constant(embedding_matrix),  # 카피한 임베딩을 여기서 활용\n",
    "                                 input_length=maxlen, \n",
    "                                 trainable=True))   # trainable을 True로 주면 Fine-tuning\n",
    "\n",
    "model_final.add(tf.keras.layers.LSTM(units = hidden_size,return_sequences=True))   # 가장 널리 쓰이는 RNN인 LSTM 레이어를 사용하였습니다. \n",
    "model_final.add(tf.keras.layers.LSTM(units = hidden_size)) \n",
    "model_final.add(tf.keras.layers.Dense(units= vocab_size, activation='relu'))\n",
    "model_final.add(tf.keras.layers.Dense(1, activation='sigmoid'))  # 최종 출력은 긍정/부정을 나타내는 1dim 입니다.\n",
    "\n",
    "model_final.summary()"
   ]
  },
  {
   "cell_type": "code",
   "execution_count": 41,
   "id": "1d7247fc",
   "metadata": {},
   "outputs": [
    {
     "name": "stdout",
     "output_type": "stream",
     "text": [
      "Epoch 1/10\n",
      "115/115 [==============================] - 7s 46ms/step - loss: 0.4857 - accuracy: 0.7582 - val_loss: 0.4127 - val_accuracy: 0.8106\n",
      "Epoch 2/10\n",
      "115/115 [==============================] - 5s 41ms/step - loss: 0.3710 - accuracy: 0.8352 - val_loss: 0.3902 - val_accuracy: 0.8225\n",
      "Epoch 3/10\n",
      "115/115 [==============================] - 5s 41ms/step - loss: 0.3222 - accuracy: 0.8608 - val_loss: 0.3364 - val_accuracy: 0.8529\n",
      "Epoch 4/10\n",
      "115/115 [==============================] - 5s 42ms/step - loss: 0.2862 - accuracy: 0.8781 - val_loss: 0.3299 - val_accuracy: 0.8576\n",
      "Epoch 5/10\n",
      "115/115 [==============================] - 5s 42ms/step - loss: 0.2669 - accuracy: 0.8880 - val_loss: 0.3413 - val_accuracy: 0.8605\n",
      "Epoch 6/10\n",
      "115/115 [==============================] - 5s 42ms/step - loss: 0.2404 - accuracy: 0.9001 - val_loss: 0.3553 - val_accuracy: 0.8492\n",
      "Epoch 7/10\n",
      "115/115 [==============================] - 5s 43ms/step - loss: 0.2204 - accuracy: 0.9102 - val_loss: 0.3320 - val_accuracy: 0.8615\n",
      "Epoch 8/10\n",
      "115/115 [==============================] - 5s 43ms/step - loss: 0.1959 - accuracy: 0.9210 - val_loss: 0.3566 - val_accuracy: 0.8606\n",
      "Epoch 9/10\n",
      "115/115 [==============================] - 5s 43ms/step - loss: 0.1732 - accuracy: 0.9309 - val_loss: 0.3755 - val_accuracy: 0.8597\n",
      "Epoch 10/10\n",
      "115/115 [==============================] - 5s 43ms/step - loss: 0.1542 - accuracy: 0.9387 - val_loss: 0.4096 - val_accuracy: 0.8572\n"
     ]
    }
   ],
   "source": [
    "model_final.compile(optimizer='adam',\n",
    "              loss='binary_crossentropy',\n",
    "              metrics=['accuracy'])\n",
    "              \n",
    "epochs=10  # 몇 epoch를 훈련하면 좋을지 결과를 보면서 바꾸어 봅시다. \n",
    "\n",
    "history_final = model_final.fit(xx_train,\n",
    "                                yy_train,\n",
    "                                epochs=epochs,\n",
    "                                batch_size=1024,\n",
    "                                validation_data=(xx_val, yy_val),\n",
    "                                verbose=1)"
   ]
  },
  {
   "cell_type": "code",
   "execution_count": 42,
   "id": "798d918d",
   "metadata": {},
   "outputs": [
    {
     "name": "stdout",
     "output_type": "stream",
     "text": [
      "1537/1537 - 4s - loss: 0.4188 - accuracy: 0.8550\n",
      "[0.41882359981536865, 0.8550155758857727]\n"
     ]
    }
   ],
   "source": [
    "# 테스트셋을 통한 모델 평가\n",
    "results = model_final.evaluate(x_test,  y_test, verbose=2)\n",
    "\n",
    "print(results)"
   ]
  },
  {
   "cell_type": "code",
   "execution_count": 43,
   "id": "d29682fa",
   "metadata": {},
   "outputs": [
    {
     "data": {
      "image/png": "[encoded data removed]",
      "text/plain": [
       "<Figure size 432x288 with 2 Axes>"
      ]
     },
     "metadata": {
      "needs_background": "light"
     },
     "output_type": "display_data"
    }
   ],
   "source": [
    "draw_loss_accuracy_graph(history_final,'word2vec_ko.model added LSTM')"
   ]
  },
  {
   "cell_type": "code",
   "execution_count": null,
   "id": "809fb0a9",
   "metadata": {},
   "outputs": [],
   "source": []
  }
 ],
 "metadata": {
  "kernelspec": {
   "display_name": "Python 3 (ipykernel)",
   "language": "python",
   "name": "python3"
  },
  "language_info": {
   "codemirror_mode": {
    "name": "ipython",
    "version": 3
   },
   "file_extension": ".py",
   "mimetype": "text/x-python",
   "name": "python",
   "nbconvert_exporter": "python",
   "pygments_lexer": "ipython3",
   "version": "3.9.7"
  }
 },
 "nbformat": 4,
 "nbformat_minor": 5
}
