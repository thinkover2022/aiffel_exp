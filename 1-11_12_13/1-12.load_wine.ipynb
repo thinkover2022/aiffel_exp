{
 "cells": [
  {
   "cell_type": "markdown",
   "id": "d30d4da1-6191-44eb-830e-4811fd5cb10d",
   "metadata": {},
   "source": [
    "# 1.필요한 모듈 import 하기"
   ]
  },
  {
   "cell_type": "code",
   "execution_count": 1,
   "id": "e55cad82-825e-4b42-9903-3b566f42424a",
   "metadata": {},
   "outputs": [],
   "source": [
    "from sklearn.datasets import load_wine\n",
    "from sklearn.model_selection import train_test_split\n",
    "from sklearn.metrics import classification_report"
   ]
  },
  {
   "cell_type": "markdown",
   "id": "1dfa8f2b-33ab-4e1b-8f5f-f28ad6eb6869",
   "metadata": {},
   "source": [
    "# 2.데이터 준비"
   ]
  },
  {
   "cell_type": "code",
   "execution_count": 2,
   "id": "f39021e1-bc5c-494f-9573-a5a4db14722d",
   "metadata": {},
   "outputs": [],
   "source": [
    "wine = load_wine()"
   ]
  },
  {
   "cell_type": "markdown",
   "id": "693c4e11-a0b7-4e72-85f0-72ee9ceaac92",
   "metadata": {},
   "source": [
    "# 3.데이터 이해하기"
   ]
  },
  {
   "cell_type": "code",
   "execution_count": 3,
   "id": "e2dc2d5d-5e9b-421c-86b6-928898f4080a",
   "metadata": {},
   "outputs": [
    {
     "name": "stdout",
     "output_type": "stream",
     "text": [
      "(178, 13)\n"
     ]
    }
   ],
   "source": [
    "# Feature Data 지정하기\n",
    "print(wine.data.shape)\n",
    "# 총 178개 데이터, feature는 13개\n",
    "wine_data = wine.data"
   ]
  },
  {
   "cell_type": "code",
   "execution_count": 4,
   "id": "78accc8d-c622-449b-8560-93d7e482f150",
   "metadata": {},
   "outputs": [
    {
     "name": "stdout",
     "output_type": "stream",
     "text": [
      "(178,)\n"
     ]
    }
   ],
   "source": [
    "# Label Data 지정하기\n",
    "print(wine.target.shape)\n",
    "wine_label = wine.target"
   ]
  },
  {
   "cell_type": "code",
   "execution_count": 5,
   "id": "d7eb106f-eb21-4671-beee-71a55e9b676e",
   "metadata": {},
   "outputs": [
    {
     "data": {
      "text/plain": [
       "array(['class_0', 'class_1', 'class_2'], dtype='<U7')"
      ]
     },
     "execution_count": 5,
     "metadata": {},
     "output_type": "execute_result"
    }
   ],
   "source": [
    "# Target Names 출력해보기\n",
    "wine.target_names"
   ]
  },
  {
   "cell_type": "code",
   "execution_count": 6,
   "id": "98e6873c-43cd-42ec-8e63-350edec89d51",
   "metadata": {},
   "outputs": [
    {
     "data": {
      "text/plain": [
       "'.. _wine_dataset:\\n\\nWine recognition dataset\\n------------------------\\n\\n**Data Set Characteristics:**\\n\\n    :Number of Instances: 178\\n    :Number of Attributes: 13 numeric, predictive attributes and the class\\n    :Attribute Information:\\n \\t\\t- Alcohol\\n \\t\\t- Malic acid\\n \\t\\t- Ash\\n\\t\\t- Alcalinity of ash  \\n \\t\\t- Magnesium\\n\\t\\t- Total phenols\\n \\t\\t- Flavanoids\\n \\t\\t- Nonflavanoid phenols\\n \\t\\t- Proanthocyanins\\n\\t\\t- Color intensity\\n \\t\\t- Hue\\n \\t\\t- OD280/OD315 of diluted wines\\n \\t\\t- Proline\\n\\n    - class:\\n            - class_0\\n            - class_1\\n            - class_2\\n\\t\\t\\n    :Summary Statistics:\\n    \\n    ============================= ==== ===== ======= =====\\n                                   Min   Max   Mean     SD\\n    ============================= ==== ===== ======= =====\\n    Alcohol:                      11.0  14.8    13.0   0.8\\n    Malic Acid:                   0.74  5.80    2.34  1.12\\n    Ash:                          1.36  3.23    2.36  0.27\\n    Alcalinity of Ash:            10.6  30.0    19.5   3.3\\n    Magnesium:                    70.0 162.0    99.7  14.3\\n    Total Phenols:                0.98  3.88    2.29  0.63\\n    Flavanoids:                   0.34  5.08    2.03  1.00\\n    Nonflavanoid Phenols:         0.13  0.66    0.36  0.12\\n    Proanthocyanins:              0.41  3.58    1.59  0.57\\n    Colour Intensity:              1.3  13.0     5.1   2.3\\n    Hue:                          0.48  1.71    0.96  0.23\\n    OD280/OD315 of diluted wines: 1.27  4.00    2.61  0.71\\n    Proline:                       278  1680     746   315\\n    ============================= ==== ===== ======= =====\\n\\n    :Missing Attribute Values: None\\n    :Class Distribution: class_0 (59), class_1 (71), class_2 (48)\\n    :Creator: R.A. Fisher\\n    :Donor: Michael Marshall (MARSHALL%PLU@io.arc.nasa.gov)\\n    :Date: July, 1988\\n\\nThis is a copy of UCI ML Wine recognition datasets.\\nhttps://archive.ics.uci.edu/ml/machine-learning-databases/wine/wine.data\\n\\nThe data is the results of a chemical analysis of wines grown in the same\\nregion in Italy by three different cultivators. There are thirteen different\\nmeasurements taken for different constituents found in the three types of\\nwine.\\n\\nOriginal Owners: \\n\\nForina, M. et al, PARVUS - \\nAn Extendible Package for Data Exploration, Classification and Correlation. \\nInstitute of Pharmaceutical and Food Analysis and Technologies,\\nVia Brigata Salerno, 16147 Genoa, Italy.\\n\\nCitation:\\n\\nLichman, M. (2013). UCI Machine Learning Repository\\n[https://archive.ics.uci.edu/ml]. Irvine, CA: University of California,\\nSchool of Information and Computer Science. \\n\\n.. topic:: References\\n\\n  (1) S. Aeberhard, D. Coomans and O. de Vel, \\n  Comparison of Classifiers in High Dimensional Settings, \\n  Tech. Rep. no. 92-02, (1992), Dept. of Computer Science and Dept. of  \\n  Mathematics and Statistics, James Cook University of North Queensland. \\n  (Also submitted to Technometrics). \\n\\n  The data was used with many others for comparing various \\n  classifiers. The classes are separable, though only RDA \\n  has achieved 100% correct classification. \\n  (RDA : 100%, QDA 99.4%, LDA 98.9%, 1NN 96.1% (z-transformed data)) \\n  (All results using the leave-one-out technique) \\n\\n  (2) S. Aeberhard, D. Coomans and O. de Vel, \\n  \"THE CLASSIFICATION PERFORMANCE OF RDA\" \\n  Tech. Rep. no. 92-01, (1992), Dept. of Computer Science and Dept. of \\n  Mathematics and Statistics, James Cook University of North Queensland. \\n  (Also submitted to Journal of Chemometrics).\\n'"
      ]
     },
     "execution_count": 6,
     "metadata": {},
     "output_type": "execute_result"
    }
   ],
   "source": [
    "# 데이터 Describe해보기\n",
    "wine.DESCR"
   ]
  },
  {
   "cell_type": "markdown",
   "id": "1f294f8a-501f-4bf8-bf52-c8912aec70c4",
   "metadata": {},
   "source": [
    "# 4.train,test 데이터 분리"
   ]
  },
  {
   "cell_type": "code",
   "execution_count": 7,
   "id": "be0af2a3-a26d-4ce6-a324-528d93c73392",
   "metadata": {},
   "outputs": [],
   "source": [
    "X_train,X_test,y_train,y_test = train_test_split(wine_data,wine_label,test_size=0.2,random_state=7)"
   ]
  },
  {
   "cell_type": "markdown",
   "id": "62ebb158-6057-4940-a99c-6a6cc693a226",
   "metadata": {
    "tags": []
   },
   "source": [
    "# 5.다양한 모델로 학습시켜보기"
   ]
  },
  {
   "cell_type": "code",
   "execution_count": 8,
   "id": "5a037027-8581-4848-8c56-27eaa883440f",
   "metadata": {},
   "outputs": [],
   "source": [
    "# Decision Tree 사용해 보기\n",
    "from sklearn.tree import DecisionTreeClassifier\n",
    "\n",
    "decision_tree = DecisionTreeClassifier(random_state=32)\n",
    "decision_tree.fit(X_train, y_train)\n",
    "y_pred_decision = decision_tree.predict(X_test)\n",
    "\n",
    "#print(classification_report(y_test, y_pred_decision))"
   ]
  },
  {
   "cell_type": "code",
   "execution_count": 9,
   "id": "e8136c41-26e9-4c7d-abe1-991b231e2f05",
   "metadata": {},
   "outputs": [],
   "source": [
    "# Random Forest 사용해 보기\n",
    "from sklearn.ensemble import RandomForestClassifier\n",
    "\n",
    "random_forest = RandomForestClassifier(random_state=32)\n",
    "random_forest.fit(X_train, y_train)\n",
    "y_pred_forest = random_forest.predict(X_test)\n",
    "\n",
    "#print(classification_report(y_test, y_pred_forest))"
   ]
  },
  {
   "cell_type": "code",
   "execution_count": 10,
   "id": "4811f9af-dee9-45e8-822d-e9bd115414c0",
   "metadata": {},
   "outputs": [],
   "source": [
    "# SVM 사용해 보기\n",
    "from sklearn import svm\n",
    "\n",
    "svm_model = svm.SVC()\n",
    "svm_model.fit(X_train, y_train)\n",
    "y_pred_svm = svm_model.predict(X_test)\n",
    "\n",
    "#print(classification_report(y_test, y_pred_svm))"
   ]
  },
  {
   "cell_type": "code",
   "execution_count": 11,
   "id": "e55e3509-1329-4644-95fd-e4ef4e94e6f3",
   "metadata": {},
   "outputs": [],
   "source": [
    "# SGD Classifier 사용해 보기\n",
    "from sklearn.linear_model import SGDClassifier\n",
    "\n",
    "sgd_model = SGDClassifier()\n",
    "sgd_model.fit(X_train, y_train)\n",
    "y_pred_sgd = sgd_model.predict(X_test)\n",
    "\n",
    "#print(classification_report(y_test, y_pred_sgd,zero_division=))"
   ]
  },
  {
   "cell_type": "code",
   "execution_count": 12,
   "id": "20636ff6-b295-4e6b-bf5e-cc8168605809",
   "metadata": {},
   "outputs": [],
   "source": [
    "# Logistic Regression 사용해 보기\n",
    "from sklearn.linear_model import LogisticRegression\n",
    "# Gradient Decending 이 수렴되지 않아서 warning메세지 나와서\n",
    "# max_iter 값을 3000번 으로 변경\n",
    "logistic_model = LogisticRegression(max_iter=3000)\n",
    "\n",
    "logistic_model.fit(X_train, y_train)\n",
    "y_pred_log = logistic_model.predict(X_test)\n",
    "\n",
    "#print(classification_report(y_test, y_pred_log))"
   ]
  },
  {
   "cell_type": "markdown",
   "id": "377cefb8-3356-41f0-b242-7ad1ae0dfe62",
   "metadata": {},
   "source": [
    "# 6.모델을 평가해 보기"
   ]
  },
  {
   "cell_type": "code",
   "execution_count": 15,
   "id": "282e06a4-f158-4d30-a019-4020b0b6bd4a",
   "metadata": {},
   "outputs": [
    {
     "name": "stdout",
     "output_type": "stream",
     "text": [
      "Decision Tree -----------------------------\n",
      "              precision    recall  f1-score   support\n",
      "\n",
      "           0       1.00      1.00      1.00         7\n",
      "           1       0.89      1.00      0.94        17\n",
      "           2       1.00      0.83      0.91        12\n",
      "\n",
      "    accuracy                           0.94        36\n",
      "   macro avg       0.96      0.94      0.95        36\n",
      "weighted avg       0.95      0.94      0.94        36\n",
      "\n",
      "Random Forest -----------------------------\n",
      "              precision    recall  f1-score   support\n",
      "\n",
      "           0       1.00      1.00      1.00         7\n",
      "           1       1.00      1.00      1.00        17\n",
      "           2       1.00      1.00      1.00        12\n",
      "\n",
      "    accuracy                           1.00        36\n",
      "   macro avg       1.00      1.00      1.00        36\n",
      "weighted avg       1.00      1.00      1.00        36\n",
      "\n",
      "SVM           -----------------------------\n",
      "              precision    recall  f1-score   support\n",
      "\n",
      "           0       0.86      0.86      0.86         7\n",
      "           1       0.58      0.88      0.70        17\n",
      "           2       0.33      0.08      0.13        12\n",
      "\n",
      "    accuracy                           0.61        36\n",
      "   macro avg       0.59      0.61      0.56        36\n",
      "weighted avg       0.55      0.61      0.54        36\n",
      "\n",
      "SGD Classifier ----------------------------\n",
      "              precision    recall  f1-score   support\n",
      "\n",
      "           0       0.44      1.00      0.61         7\n",
      "           1       0.70      0.82      0.76        17\n",
      "           2       0.00      0.00      0.00        12\n",
      "\n",
      "    accuracy                           0.58        36\n",
      "   macro avg       0.38      0.61      0.46        36\n",
      "weighted avg       0.42      0.58      0.48        36\n",
      "\n",
      "Logistic Regression -----------------------\n",
      "              precision    recall  f1-score   support\n",
      "\n",
      "           0       1.00      1.00      1.00         7\n",
      "           1       0.94      1.00      0.97        17\n",
      "           2       1.00      0.92      0.96        12\n",
      "\n",
      "    accuracy                           0.97        36\n",
      "   macro avg       0.98      0.97      0.98        36\n",
      "weighted avg       0.97      0.97      0.97        36\n",
      "\n"
     ]
    }
   ],
   "source": [
    "#Decision Tree (y_pred_decision)\n",
    "#Random Forest (y_pred_forest)\n",
    "#SVM (y_pred_svm)\n",
    "#SGD Classifier (y_pred_sgd)\n",
    "#Logistic Regression (y_pred_log)\n",
    "print('Decision Tree -----------------------------')\n",
    "print(classification_report(y_test, y_pred_decision,zero_division=0))\n",
    "print('Random Forest -----------------------------')\n",
    "print(classification_report(y_test, y_pred_forest,zero_division=0))\n",
    "print('SVM           -----------------------------')\n",
    "print(classification_report(y_test, y_pred_svm,zero_division=0))\n",
    "print('SGD Classifier ----------------------------')\n",
    "print(classification_report(y_test, y_pred_sgd,zero_division=0))\n",
    "print('Logistic Regression -----------------------')\n",
    "print(classification_report(y_test, y_pred_log,zero_division=0))"
   ]
  },
  {
   "cell_type": "markdown",
   "id": "c2d6160e-a02d-40ae-b94b-eed53925aef6",
   "metadata": {},
   "source": [
    "### 1.데이터 불균형이 존재하는가?  \n",
    " - 1.1. SVM모델과 SGD Classifier의 classification_report를 보면 데이터 불균형으로 판단  \n",
    "   - f1-score 값이 54%,48%로 낮고 accuracy 값과 차이가 10%이상 나는 모습  \n",
    "   - 총 36개의 테스트 데이터중에 class_0의 데이터 비중이 19.4% 로 낮아서 영향을 주는 것인가?      \n",
    " - 1.2. 그러나 다른 모델에서는 데이터 불균형이 없는 것으로 판단  \n",
    "   - f1-score와 accuracy값이 비슷하고 값이 90%로 높게 형성됨    \n",
    " - 1.1과 1.2를 바탕으로 어떻게 결론을 내야할 지 잘 모르겠습니다.  \n",
    "\n",
    "### 2.모델의 성능을 평가하는 지표로 무엇이 좋을까요?  \n",
    " - 잘 모르겠네요"
   ]
  },
  {
   "cell_type": "code",
   "execution_count": null,
   "id": "a1c83db1-2742-40aa-8b11-3012c2c1640c",
   "metadata": {},
   "outputs": [],
   "source": []
  }
 ],
 "metadata": {
  "kernelspec": {
   "display_name": "Python 3 (ipykernel)",
   "language": "python",
   "name": "python3"
  },
  "language_info": {
   "codemirror_mode": {
    "name": "ipython",
    "version": 3
   },
   "file_extension": ".py",
   "mimetype": "text/x-python",
   "name": "python",
   "nbconvert_exporter": "python",
   "pygments_lexer": "ipython3",
   "version": "3.9.7"
  }
 },
 "nbformat": 4,
 "nbformat_minor": 5
}
