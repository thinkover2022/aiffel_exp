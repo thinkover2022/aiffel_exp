{
 "cells": [
  {
   "cell_type": "markdown",
   "id": "d30d4da1-6191-44eb-830e-4811fd5cb10d",
   "metadata": {},
   "source": [
    "# 1.필요한 모듈 import 하기"
   ]
  },
  {
   "cell_type": "code",
   "execution_count": 1,
   "id": "e55cad82-825e-4b42-9903-3b566f42424a",
   "metadata": {},
   "outputs": [],
   "source": [
    "from sklearn.datasets import load_breast_cancer\n",
    "from sklearn.model_selection import train_test_split\n",
    "from sklearn.metrics import classification_report"
   ]
  },
  {
   "cell_type": "markdown",
   "id": "1dfa8f2b-33ab-4e1b-8f5f-f28ad6eb6869",
   "metadata": {},
   "source": [
    "# 2.데이터 준비"
   ]
  },
  {
   "cell_type": "code",
   "execution_count": 2,
   "id": "f39021e1-bc5c-494f-9573-a5a4db14722d",
   "metadata": {},
   "outputs": [],
   "source": [
    "breast_cancer = load_breast_cancer()"
   ]
  },
  {
   "cell_type": "markdown",
   "id": "693c4e11-a0b7-4e72-85f0-72ee9ceaac92",
   "metadata": {},
   "source": [
    "# 3.데이터 이해하기"
   ]
  },
  {
   "cell_type": "code",
   "execution_count": 3,
   "id": "e2dc2d5d-5e9b-421c-86b6-928898f4080a",
   "metadata": {},
   "outputs": [
    {
     "name": "stdout",
     "output_type": "stream",
     "text": [
      "(569, 30)\n"
     ]
    }
   ],
   "source": [
    "# Feature Data 지정하기\n",
    "print(breast_cancer.data.shape)\n",
    "# 총 569개 데이터, feature는 30개\n",
    "breast_cancer_data = breast_cancer.data"
   ]
  },
  {
   "cell_type": "code",
   "execution_count": 4,
   "id": "78accc8d-c622-449b-8560-93d7e482f150",
   "metadata": {},
   "outputs": [
    {
     "name": "stdout",
     "output_type": "stream",
     "text": [
      "(569,)\n"
     ]
    }
   ],
   "source": [
    "# Label Data 지정하기\n",
    "print(breast_cancer.target.shape)\n",
    "breast_cancer_label = breast_cancer.target"
   ]
  },
  {
   "cell_type": "code",
   "execution_count": 5,
   "id": "d7eb106f-eb21-4671-beee-71a55e9b676e",
   "metadata": {},
   "outputs": [
    {
     "data": {
      "text/plain": [
       "array(['malignant', 'benign'], dtype='<U9')"
      ]
     },
     "execution_count": 5,
     "metadata": {},
     "output_type": "execute_result"
    }
   ],
   "source": [
    "# Target Names 출력해보기\n",
    "breast_cancer.target_names"
   ]
  },
  {
   "cell_type": "code",
   "execution_count": 6,
   "id": "98e6873c-43cd-42ec-8e63-350edec89d51",
   "metadata": {},
   "outputs": [
    {
     "data": {
      "text/plain": [
       "'.. _breast_cancer_dataset:\\n\\nBreast cancer wisconsin (diagnostic) dataset\\n--------------------------------------------\\n\\n**Data Set Characteristics:**\\n\\n    :Number of Instances: 569\\n\\n    :Number of Attributes: 30 numeric, predictive attributes and the class\\n\\n    :Attribute Information:\\n        - radius (mean of distances from center to points on the perimeter)\\n        - texture (standard deviation of gray-scale values)\\n        - perimeter\\n        - area\\n        - smoothness (local variation in radius lengths)\\n        - compactness (perimeter^2 / area - 1.0)\\n        - concavity (severity of concave portions of the contour)\\n        - concave points (number of concave portions of the contour)\\n        - symmetry\\n        - fractal dimension (\"coastline approximation\" - 1)\\n\\n        The mean, standard error, and \"worst\" or largest (mean of the three\\n        worst/largest values) of these features were computed for each image,\\n        resulting in 30 features.  For instance, field 0 is Mean Radius, field\\n        10 is Radius SE, field 20 is Worst Radius.\\n\\n        - class:\\n                - WDBC-Malignant\\n                - WDBC-Benign\\n\\n    :Summary Statistics:\\n\\n    ===================================== ====== ======\\n                                           Min    Max\\n    ===================================== ====== ======\\n    radius (mean):                        6.981  28.11\\n    texture (mean):                       9.71   39.28\\n    perimeter (mean):                     43.79  188.5\\n    area (mean):                          143.5  2501.0\\n    smoothness (mean):                    0.053  0.163\\n    compactness (mean):                   0.019  0.345\\n    concavity (mean):                     0.0    0.427\\n    concave points (mean):                0.0    0.201\\n    symmetry (mean):                      0.106  0.304\\n    fractal dimension (mean):             0.05   0.097\\n    radius (standard error):              0.112  2.873\\n    texture (standard error):             0.36   4.885\\n    perimeter (standard error):           0.757  21.98\\n    area (standard error):                6.802  542.2\\n    smoothness (standard error):          0.002  0.031\\n    compactness (standard error):         0.002  0.135\\n    concavity (standard error):           0.0    0.396\\n    concave points (standard error):      0.0    0.053\\n    symmetry (standard error):            0.008  0.079\\n    fractal dimension (standard error):   0.001  0.03\\n    radius (worst):                       7.93   36.04\\n    texture (worst):                      12.02  49.54\\n    perimeter (worst):                    50.41  251.2\\n    area (worst):                         185.2  4254.0\\n    smoothness (worst):                   0.071  0.223\\n    compactness (worst):                  0.027  1.058\\n    concavity (worst):                    0.0    1.252\\n    concave points (worst):               0.0    0.291\\n    symmetry (worst):                     0.156  0.664\\n    fractal dimension (worst):            0.055  0.208\\n    ===================================== ====== ======\\n\\n    :Missing Attribute Values: None\\n\\n    :Class Distribution: 212 - Malignant, 357 - Benign\\n\\n    :Creator:  Dr. William H. Wolberg, W. Nick Street, Olvi L. Mangasarian\\n\\n    :Donor: Nick Street\\n\\n    :Date: November, 1995\\n\\nThis is a copy of UCI ML Breast Cancer Wisconsin (Diagnostic) datasets.\\nhttps://goo.gl/U2Uwz2\\n\\nFeatures are computed from a digitized image of a fine needle\\naspirate (FNA) of a breast mass.  They describe\\ncharacteristics of the cell nuclei present in the image.\\n\\nSeparating plane described above was obtained using\\nMultisurface Method-Tree (MSM-T) [K. P. Bennett, \"Decision Tree\\nConstruction Via Linear Programming.\" Proceedings of the 4th\\nMidwest Artificial Intelligence and Cognitive Science Society,\\npp. 97-101, 1992], a classification method which uses linear\\nprogramming to construct a decision tree.  Relevant features\\nwere selected using an exhaustive search in the space of 1-4\\nfeatures and 1-3 separating planes.\\n\\nThe actual linear program used to obtain the separating plane\\nin the 3-dimensional space is that described in:\\n[K. P. Bennett and O. L. Mangasarian: \"Robust Linear\\nProgramming Discrimination of Two Linearly Inseparable Sets\",\\nOptimization Methods and Software 1, 1992, 23-34].\\n\\nThis database is also available through the UW CS ftp server:\\n\\nftp ftp.cs.wisc.edu\\ncd math-prog/cpo-dataset/machine-learn/WDBC/\\n\\n.. topic:: References\\n\\n   - W.N. Street, W.H. Wolberg and O.L. Mangasarian. Nuclear feature extraction \\n     for breast tumor diagnosis. IS&T/SPIE 1993 International Symposium on \\n     Electronic Imaging: Science and Technology, volume 1905, pages 861-870,\\n     San Jose, CA, 1993.\\n   - O.L. Mangasarian, W.N. Street and W.H. Wolberg. Breast cancer diagnosis and \\n     prognosis via linear programming. Operations Research, 43(4), pages 570-577, \\n     July-August 1995.\\n   - W.H. Wolberg, W.N. Street, and O.L. Mangasarian. Machine learning techniques\\n     to diagnose breast cancer from fine-needle aspirates. Cancer Letters 77 (1994) \\n     163-171.'"
      ]
     },
     "execution_count": 6,
     "metadata": {},
     "output_type": "execute_result"
    }
   ],
   "source": [
    "# 데이터 Describe해보기\n",
    "breast_cancer.DESCR"
   ]
  },
  {
   "cell_type": "markdown",
   "id": "1f294f8a-501f-4bf8-bf52-c8912aec70c4",
   "metadata": {},
   "source": [
    "# 4.train,test 데이터 분리"
   ]
  },
  {
   "cell_type": "code",
   "execution_count": 7,
   "id": "be0af2a3-a26d-4ce6-a324-528d93c73392",
   "metadata": {},
   "outputs": [],
   "source": [
    "X_train,X_test,y_train,y_test = train_test_split(breast_cancer_data,breast_cancer_label,test_size=0.2,random_state=7)"
   ]
  },
  {
   "cell_type": "markdown",
   "id": "62ebb158-6057-4940-a99c-6a6cc693a226",
   "metadata": {
    "tags": []
   },
   "source": [
    "# 5.다양한 모델로 학습시켜보기"
   ]
  },
  {
   "cell_type": "code",
   "execution_count": 8,
   "id": "5a037027-8581-4848-8c56-27eaa883440f",
   "metadata": {},
   "outputs": [],
   "source": [
    "# Decision Tree 사용해 보기\n",
    "from sklearn.tree import DecisionTreeClassifier\n",
    "\n",
    "decision_tree = DecisionTreeClassifier(random_state=32)\n",
    "decision_tree.fit(X_train, y_train)\n",
    "y_pred_decision = decision_tree.predict(X_test)\n",
    "\n",
    "#print(classification_report(y_test, y_pred_decision))"
   ]
  },
  {
   "cell_type": "code",
   "execution_count": 9,
   "id": "e8136c41-26e9-4c7d-abe1-991b231e2f05",
   "metadata": {},
   "outputs": [],
   "source": [
    "# Random Forest 사용해 보기\n",
    "from sklearn.ensemble import RandomForestClassifier\n",
    "\n",
    "random_forest = RandomForestClassifier(random_state=32)\n",
    "random_forest.fit(X_train, y_train)\n",
    "y_pred_forest = random_forest.predict(X_test)\n",
    "\n",
    "#print(classification_report(y_test, y_pred_forest))"
   ]
  },
  {
   "cell_type": "code",
   "execution_count": 10,
   "id": "4811f9af-dee9-45e8-822d-e9bd115414c0",
   "metadata": {},
   "outputs": [],
   "source": [
    "# SVM 사용해 보기\n",
    "from sklearn import svm\n",
    "\n",
    "svm_model = svm.SVC()\n",
    "svm_model.fit(X_train, y_train)\n",
    "y_pred_svm = svm_model.predict(X_test)\n",
    "\n",
    "#print(classification_report(y_test, y_pred_svm))"
   ]
  },
  {
   "cell_type": "code",
   "execution_count": 11,
   "id": "e55e3509-1329-4644-95fd-e4ef4e94e6f3",
   "metadata": {},
   "outputs": [],
   "source": [
    "# SGD Classifier 사용해 보기\n",
    "from sklearn.linear_model import SGDClassifier\n",
    "\n",
    "sgd_model = SGDClassifier()\n",
    "sgd_model.fit(X_train, y_train)\n",
    "y_pred_sgd = sgd_model.predict(X_test)\n",
    "\n",
    "#print(classification_report(y_test, y_pred_sgd,zero_division=))"
   ]
  },
  {
   "cell_type": "code",
   "execution_count": 12,
   "id": "20636ff6-b295-4e6b-bf5e-cc8168605809",
   "metadata": {},
   "outputs": [],
   "source": [
    "from sklearn.linear_model import LogisticRegression\n",
    "# Gradient Decending 이 수렴되지 않아서 warning메세지 나와서\n",
    "# max_iter 값을 3000번 으로 변경\n",
    "logistic_model = LogisticRegression(max_iter=3000)\n",
    "\n",
    "logistic_model.fit(X_train, y_train)\n",
    "y_pred_log = logistic_model.predict(X_test)\n",
    "\n",
    "#print(classification_report(y_test, y_pred_log))"
   ]
  },
  {
   "cell_type": "markdown",
   "id": "377cefb8-3356-41f0-b242-7ad1ae0dfe62",
   "metadata": {},
   "source": [
    "# 6.모델을 평가해 보기"
   ]
  },
  {
   "cell_type": "code",
   "execution_count": 13,
   "id": "282e06a4-f158-4d30-a019-4020b0b6bd4a",
   "metadata": {},
   "outputs": [
    {
     "name": "stdout",
     "output_type": "stream",
     "text": [
      "Decision Tree -----------------------------\n",
      "              precision    recall  f1-score   support\n",
      "\n",
      "           0       0.92      0.82      0.87        40\n",
      "           1       0.91      0.96      0.93        74\n",
      "\n",
      "    accuracy                           0.91       114\n",
      "   macro avg       0.91      0.89      0.90       114\n",
      "weighted avg       0.91      0.91      0.91       114\n",
      "\n",
      "Random Forest -----------------------------\n",
      "              precision    recall  f1-score   support\n",
      "\n",
      "           0       1.00      1.00      1.00        40\n",
      "           1       1.00      1.00      1.00        74\n",
      "\n",
      "    accuracy                           1.00       114\n",
      "   macro avg       1.00      1.00      1.00       114\n",
      "weighted avg       1.00      1.00      1.00       114\n",
      "\n",
      "SVM           -----------------------------\n",
      "              precision    recall  f1-score   support\n",
      "\n",
      "           0       1.00      0.72      0.84        40\n",
      "           1       0.87      1.00      0.93        74\n",
      "\n",
      "    accuracy                           0.90       114\n",
      "   macro avg       0.94      0.86      0.89       114\n",
      "weighted avg       0.92      0.90      0.90       114\n",
      "\n",
      "SGD Classifier ----------------------------\n",
      "              precision    recall  f1-score   support\n",
      "\n",
      "           0       1.00      0.53      0.69        40\n",
      "           1       0.80      1.00      0.89        74\n",
      "\n",
      "    accuracy                           0.83       114\n",
      "   macro avg       0.90      0.76      0.79       114\n",
      "weighted avg       0.87      0.83      0.82       114\n",
      "\n",
      "Logistic Regression -----------------------\n",
      "              precision    recall  f1-score   support\n",
      "\n",
      "           0       1.00      0.85      0.92        40\n",
      "           1       0.93      1.00      0.96        74\n",
      "\n",
      "    accuracy                           0.95       114\n",
      "   macro avg       0.96      0.93      0.94       114\n",
      "weighted avg       0.95      0.95      0.95       114\n",
      "\n"
     ]
    }
   ],
   "source": [
    "#Decision Tree (y_pred_decision)\n",
    "#Random Forest (y_pred_forest)\n",
    "#SVM (y_pred_svm)\n",
    "#SGD Classifier (y_pred_sgd)\n",
    "#Logistic Regression (y_pred_log)\n",
    "print('Decision Tree -----------------------------')\n",
    "print(classification_report(y_test, y_pred_decision,zero_division=0))\n",
    "print('Random Forest -----------------------------')\n",
    "print(classification_report(y_test, y_pred_forest,zero_division=0))\n",
    "print('SVM           -----------------------------')\n",
    "print(classification_report(y_test, y_pred_svm,zero_division=0))\n",
    "print('SGD Classifier ----------------------------')\n",
    "print(classification_report(y_test, y_pred_sgd,zero_division=0))\n",
    "print('Logistic Regression -----------------------')\n",
    "print(classification_report(y_test, y_pred_log,zero_division=0))"
   ]
  },
  {
   "cell_type": "markdown",
   "id": "c2d6160e-a02d-40ae-b94b-eed53925aef6",
   "metadata": {},
   "source": [
    "### 1.데이터 불균형이 존재하는가?  \n",
    " - 모델 별로 weighted avg f1-score 값과 accuracy 값의 차이가 별로 없어서 \n",
    "   데이터 불균형은 낮은 것으로 판단   \n",
    "\n",
    "### 2.모델의 성능을 평가하는 지표로 무엇이 좋을까요?  \n",
    " - 데이터 불균형이 낮으므로 정확성(accuracy) 지표를 사용하는 것이 좋을것 같습니다.  \n",
    " - Random Forest 모델이 100%로 가장 좋은 성능을 보이고 있습니다."
   ]
  },
  {
   "cell_type": "code",
   "execution_count": null,
   "id": "f9ac6f67-c40f-4c80-baf9-49deb0e40fcd",
   "metadata": {},
   "outputs": [],
   "source": []
  }
 ],
 "metadata": {
  "kernelspec": {
   "display_name": "Python 3 (ipykernel)",
   "language": "python",
   "name": "python3"
  },
  "language_info": {
   "codemirror_mode": {
    "name": "ipython",
    "version": 3
   },
   "file_extension": ".py",
   "mimetype": "text/x-python",
   "name": "python",
   "nbconvert_exporter": "python",
   "pygments_lexer": "ipython3",
   "version": "3.9.7"
  }
 },
 "nbformat": 4,
 "nbformat_minor": 5
}
