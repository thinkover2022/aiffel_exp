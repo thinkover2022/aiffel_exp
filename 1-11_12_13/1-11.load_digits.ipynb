{
 "cells": [
  {
   "cell_type": "markdown",
   "id": "d30d4da1-6191-44eb-830e-4811fd5cb10d",
   "metadata": {},
   "source": [
    "# 1.필요한 모듈 import 하기"
   ]
  },
  {
   "cell_type": "code",
   "execution_count": 1,
   "id": "e55cad82-825e-4b42-9903-3b566f42424a",
   "metadata": {},
   "outputs": [],
   "source": [
    "from sklearn.datasets import load_digits\n",
    "from sklearn.model_selection import train_test_split\n",
    "from sklearn.metrics import classification_report"
   ]
  },
  {
   "cell_type": "markdown",
   "id": "1dfa8f2b-33ab-4e1b-8f5f-f28ad6eb6869",
   "metadata": {},
   "source": [
    "# 2.데이터 준비"
   ]
  },
  {
   "cell_type": "code",
   "execution_count": 2,
   "id": "f39021e1-bc5c-494f-9573-a5a4db14722d",
   "metadata": {},
   "outputs": [],
   "source": [
    "digits = load_digits()"
   ]
  },
  {
   "cell_type": "markdown",
   "id": "693c4e11-a0b7-4e72-85f0-72ee9ceaac92",
   "metadata": {},
   "source": [
    "# 3.데이터 이해하기"
   ]
  },
  {
   "cell_type": "code",
   "execution_count": 3,
   "id": "e2dc2d5d-5e9b-421c-86b6-928898f4080a",
   "metadata": {},
   "outputs": [
    {
     "name": "stdout",
     "output_type": "stream",
     "text": [
      "(1797, 64)\n"
     ]
    }
   ],
   "source": [
    "# Feature Data 지정하기\n",
    "print(digits.data.shape)\n",
    "# 총 1797개 데이터, feature는 64개 : 8x8 gray scale image를 의미함\n",
    "digits_data = digits.data"
   ]
  },
  {
   "cell_type": "code",
   "execution_count": 4,
   "id": "78accc8d-c622-449b-8560-93d7e482f150",
   "metadata": {},
   "outputs": [
    {
     "name": "stdout",
     "output_type": "stream",
     "text": [
      "(1797,)\n"
     ]
    }
   ],
   "source": [
    "# Label Data 지정하기\n",
    "print(digits.target.shape)\n",
    "digits_label = digits.target"
   ]
  },
  {
   "cell_type": "code",
   "execution_count": 5,
   "id": "d7eb106f-eb21-4671-beee-71a55e9b676e",
   "metadata": {},
   "outputs": [
    {
     "data": {
      "text/plain": [
       "array([0, 1, 2, 3, 4, 5, 6, 7, 8, 9])"
      ]
     },
     "execution_count": 5,
     "metadata": {},
     "output_type": "execute_result"
    }
   ],
   "source": [
    "# Target Names 출력해보기\n",
    "digits.target_names"
   ]
  },
  {
   "cell_type": "code",
   "execution_count": 6,
   "id": "98e6873c-43cd-42ec-8e63-350edec89d51",
   "metadata": {},
   "outputs": [
    {
     "data": {
      "text/plain": [
       "\".. _digits_dataset:\\n\\nOptical recognition of handwritten digits dataset\\n--------------------------------------------------\\n\\n**Data Set Characteristics:**\\n\\n    :Number of Instances: 1797\\n    :Number of Attributes: 64\\n    :Attribute Information: 8x8 image of integer pixels in the range 0..16.\\n    :Missing Attribute Values: None\\n    :Creator: E. Alpaydin (alpaydin '@' boun.edu.tr)\\n    :Date: July; 1998\\n\\nThis is a copy of the test set of the UCI ML hand-written digits datasets\\nhttps://archive.ics.uci.edu/ml/datasets/Optical+Recognition+of+Handwritten+Digits\\n\\nThe data set contains images of hand-written digits: 10 classes where\\neach class refers to a digit.\\n\\nPreprocessing programs made available by NIST were used to extract\\nnormalized bitmaps of handwritten digits from a preprinted form. From a\\ntotal of 43 people, 30 contributed to the training set and different 13\\nto the test set. 32x32 bitmaps are divided into nonoverlapping blocks of\\n4x4 and the number of on pixels are counted in each block. This generates\\nan input matrix of 8x8 where each element is an integer in the range\\n0..16. This reduces dimensionality and gives invariance to small\\ndistortions.\\n\\nFor info on NIST preprocessing routines, see M. D. Garris, J. L. Blue, G.\\nT. Candela, D. L. Dimmick, J. Geist, P. J. Grother, S. A. Janet, and C.\\nL. Wilson, NIST Form-Based Handprint Recognition System, NISTIR 5469,\\n1994.\\n\\n.. topic:: References\\n\\n  - C. Kaynak (1995) Methods of Combining Multiple Classifiers and Their\\n    Applications to Handwritten Digit Recognition, MSc Thesis, Institute of\\n    Graduate Studies in Science and Engineering, Bogazici University.\\n  - E. Alpaydin, C. Kaynak (1998) Cascading Classifiers, Kybernetika.\\n  - Ken Tang and Ponnuthurai N. Suganthan and Xi Yao and A. Kai Qin.\\n    Linear dimensionalityreduction using relevance weighted LDA. School of\\n    Electrical and Electronic Engineering Nanyang Technological University.\\n    2005.\\n  - Claudio Gentile. A New Approximate Maximal Margin Classification\\n    Algorithm. NIPS. 2000.\\n\""
      ]
     },
     "execution_count": 6,
     "metadata": {},
     "output_type": "execute_result"
    }
   ],
   "source": [
    "# 데이터 Describe해보기\n",
    "digits.DESCR"
   ]
  },
  {
   "cell_type": "markdown",
   "id": "1f294f8a-501f-4bf8-bf52-c8912aec70c4",
   "metadata": {},
   "source": [
    "# 4.train,test 데이터 분리"
   ]
  },
  {
   "cell_type": "code",
   "execution_count": 7,
   "id": "be0af2a3-a26d-4ce6-a324-528d93c73392",
   "metadata": {},
   "outputs": [],
   "source": [
    "X_train,X_test,y_train,y_test = train_test_split(digits_data,digits_label,test_size=0.2,random_state=7)"
   ]
  },
  {
   "cell_type": "markdown",
   "id": "62ebb158-6057-4940-a99c-6a6cc693a226",
   "metadata": {
    "tags": []
   },
   "source": [
    "# 5.다양한 모델로 학습시켜보기"
   ]
  },
  {
   "cell_type": "code",
   "execution_count": 8,
   "id": "5a037027-8581-4848-8c56-27eaa883440f",
   "metadata": {},
   "outputs": [
    {
     "name": "stdout",
     "output_type": "stream",
     "text": [
      "0.856\n"
     ]
    }
   ],
   "source": [
    "# Decision Tree 사용해 보기\n",
    "from sklearn.tree import DecisionTreeClassifier\n",
    "\n",
    "decision_tree = DecisionTreeClassifier(random_state=32)\n",
    "decision_tree.fit(X_train, y_train)\n",
    "y_pred_decision = decision_tree.predict(X_test)\n",
    "score_tr = decision_tree.score(X_test,y_test)\n",
    "print('{:.3f}'.format(score_tr))\n",
    "#print(classification_report(y_test, y_pred_decision))"
   ]
  },
  {
   "cell_type": "code",
   "execution_count": 9,
   "id": "e8136c41-26e9-4c7d-abe1-991b231e2f05",
   "metadata": {},
   "outputs": [],
   "source": [
    "# Random Forest 사용해 보기\n",
    "from sklearn.ensemble import RandomForestClassifier\n",
    "\n",
    "random_forest = RandomForestClassifier(random_state=32)\n",
    "random_forest.fit(X_train, y_train)\n",
    "y_pred_forest = random_forest.predict(X_test)\n",
    "\n",
    "#print(classification_report(y_test, y_pred_forest))"
   ]
  },
  {
   "cell_type": "code",
   "execution_count": 10,
   "id": "4811f9af-dee9-45e8-822d-e9bd115414c0",
   "metadata": {},
   "outputs": [],
   "source": [
    "# SVM 사용해 보기\n",
    "from sklearn import svm\n",
    "\n",
    "svm_model = svm.SVC()\n",
    "svm_model.fit(X_train, y_train)\n",
    "y_pred_svm = svm_model.predict(X_test)\n",
    "\n",
    "#print(classification_report(y_test, y_pred_svm))"
   ]
  },
  {
   "cell_type": "code",
   "execution_count": 11,
   "id": "e55e3509-1329-4644-95fd-e4ef4e94e6f3",
   "metadata": {},
   "outputs": [],
   "source": [
    "# SGD Classifier 사용해 보기\n",
    "from sklearn.linear_model import SGDClassifier\n",
    "\n",
    "sgd_model = SGDClassifier()\n",
    "sgd_model.fit(X_train, y_train)\n",
    "y_pred_sgd = sgd_model.predict(X_test)\n",
    "\n",
    "#print(classification_report(y_test, y_pred_sgd))"
   ]
  },
  {
   "cell_type": "code",
   "execution_count": 12,
   "id": "20636ff6-b295-4e6b-bf5e-cc8168605809",
   "metadata": {},
   "outputs": [],
   "source": [
    "# Logistic Regression 사용해 보기\n",
    "from sklearn.linear_model import LogisticRegression\n",
    "# Gradient Decending 이 수렴되지 않아서 warning메세지 나와서\n",
    "# max_iter 값을 4000번 으로 변경\n",
    "logistic_model = LogisticRegression(max_iter=4000)\n",
    "\n",
    "logistic_model.fit(X_train, y_train)\n",
    "y_pred_log = logistic_model.predict(X_test)\n",
    "\n",
    "#print(classification_report(y_test, y_pred_log))"
   ]
  },
  {
   "cell_type": "markdown",
   "id": "377cefb8-3356-41f0-b242-7ad1ae0dfe62",
   "metadata": {},
   "source": [
    "# 6.모델을 평가해 보기"
   ]
  },
  {
   "cell_type": "code",
   "execution_count": 13,
   "id": "282e06a4-f158-4d30-a019-4020b0b6bd4a",
   "metadata": {},
   "outputs": [
    {
     "name": "stdout",
     "output_type": "stream",
     "text": [
      "Decision Tree -----------------------------\n",
      "              precision    recall  f1-score   support\n",
      "\n",
      "           0       1.00      0.98      0.99        43\n",
      "           1       0.81      0.81      0.81        42\n",
      "           2       0.79      0.82      0.80        40\n",
      "           3       0.79      0.91      0.85        34\n",
      "           4       0.83      0.95      0.89        37\n",
      "           5       0.90      0.96      0.93        28\n",
      "           6       0.84      0.93      0.88        28\n",
      "           7       0.96      0.82      0.89        33\n",
      "           8       0.88      0.65      0.75        43\n",
      "           9       0.78      0.78      0.78        32\n",
      "\n",
      "    accuracy                           0.86       360\n",
      "   macro avg       0.86      0.86      0.86       360\n",
      "weighted avg       0.86      0.86      0.85       360\n",
      "\n",
      "Random Forest -----------------------------\n",
      "              precision    recall  f1-score   support\n",
      "\n",
      "           0       1.00      0.98      0.99        43\n",
      "           1       0.93      1.00      0.97        42\n",
      "           2       1.00      1.00      1.00        40\n",
      "           3       1.00      1.00      1.00        34\n",
      "           4       0.93      1.00      0.96        37\n",
      "           5       0.90      0.96      0.93        28\n",
      "           6       1.00      0.96      0.98        28\n",
      "           7       0.94      0.97      0.96        33\n",
      "           8       1.00      0.84      0.91        43\n",
      "           9       0.94      0.94      0.94        32\n",
      "\n",
      "    accuracy                           0.96       360\n",
      "   macro avg       0.96      0.96      0.96       360\n",
      "weighted avg       0.97      0.96      0.96       360\n",
      "\n",
      "SVM           -----------------------------\n",
      "              precision    recall  f1-score   support\n",
      "\n",
      "           0       1.00      1.00      1.00        43\n",
      "           1       0.95      1.00      0.98        42\n",
      "           2       1.00      1.00      1.00        40\n",
      "           3       1.00      1.00      1.00        34\n",
      "           4       1.00      1.00      1.00        37\n",
      "           5       0.93      1.00      0.97        28\n",
      "           6       1.00      1.00      1.00        28\n",
      "           7       1.00      1.00      1.00        33\n",
      "           8       1.00      0.93      0.96        43\n",
      "           9       1.00      0.97      0.98        32\n",
      "\n",
      "    accuracy                           0.99       360\n",
      "   macro avg       0.99      0.99      0.99       360\n",
      "weighted avg       0.99      0.99      0.99       360\n",
      "\n",
      "SGD Classifier ----------------------------\n",
      "              precision    recall  f1-score   support\n",
      "\n",
      "           0       1.00      1.00      1.00        43\n",
      "           1       0.94      0.79      0.86        42\n",
      "           2       0.97      0.97      0.97        40\n",
      "           3       0.91      0.88      0.90        34\n",
      "           4       0.97      0.97      0.97        37\n",
      "           5       0.96      0.96      0.96        28\n",
      "           6       0.84      0.96      0.90        28\n",
      "           7       0.97      0.94      0.95        33\n",
      "           8       0.88      0.86      0.87        43\n",
      "           9       0.82      0.97      0.89        32\n",
      "\n",
      "    accuracy                           0.93       360\n",
      "   macro avg       0.93      0.93      0.93       360\n",
      "weighted avg       0.93      0.93      0.93       360\n",
      "\n",
      "Logistic Regression -----------------------\n",
      "              precision    recall  f1-score   support\n",
      "\n",
      "           0       1.00      1.00      1.00        43\n",
      "           1       0.95      0.95      0.95        42\n",
      "           2       0.98      1.00      0.99        40\n",
      "           3       0.94      0.97      0.96        34\n",
      "           4       1.00      1.00      1.00        37\n",
      "           5       0.79      0.96      0.87        28\n",
      "           6       1.00      0.96      0.98        28\n",
      "           7       0.94      0.97      0.96        33\n",
      "           8       0.92      0.81      0.86        43\n",
      "           9       0.97      0.88      0.92        32\n",
      "\n",
      "    accuracy                           0.95       360\n",
      "   macro avg       0.95      0.95      0.95       360\n",
      "weighted avg       0.95      0.95      0.95       360\n",
      "\n"
     ]
    }
   ],
   "source": [
    "#Decision Tree (y_pred_decision)\n",
    "#Random Forest (y_pred_forest)\n",
    "#SVM (y_pred_svm)\n",
    "#SGD Classifier (y_pred_sgd)\n",
    "#Logistic Regression (y_pred_log)\n",
    "print('Decision Tree -----------------------------')\n",
    "print(classification_report(y_test, y_pred_decision,zero_division=0))\n",
    "print('Random Forest -----------------------------')\n",
    "print(classification_report(y_test, y_pred_forest,zero_division=0))\n",
    "print('SVM           -----------------------------')\n",
    "print(classification_report(y_test, y_pred_svm,zero_division=0))\n",
    "print('SGD Classifier ----------------------------')\n",
    "print(classification_report(y_test, y_pred_sgd,zero_division=0))\n",
    "print('Logistic Regression -----------------------')\n",
    "print(classification_report(y_test, y_pred_log,zero_division=0))"
   ]
  },
  {
   "cell_type": "code",
   "execution_count": 14,
   "id": "80d75a6b-8942-46f6-babd-9edae7e07fbe",
   "metadata": {},
   "outputs": [
    {
     "data": {
      "text/plain": [
       "array([[43,  0,  0,  0,  0,  0,  0,  0,  0,  0],\n",
       "       [ 0, 40,  0,  0,  0,  0,  0,  0,  1,  1],\n",
       "       [ 0,  0, 40,  0,  0,  0,  0,  0,  0,  0],\n",
       "       [ 0,  0,  0, 33,  0,  0,  0,  1,  0,  0],\n",
       "       [ 0,  0,  0,  0, 37,  0,  0,  0,  0,  0],\n",
       "       [ 0,  0,  0,  0,  0, 27,  0,  0,  1,  0],\n",
       "       [ 0,  0,  0,  0,  0,  0, 27,  0,  1,  0],\n",
       "       [ 0,  0,  0,  1,  0,  0,  0, 32,  0,  0],\n",
       "       [ 0,  2,  1,  0,  0,  4,  0,  1, 35,  0],\n",
       "       [ 0,  0,  0,  1,  0,  3,  0,  0,  0, 28]], dtype=int64)"
      ]
     },
     "execution_count": 14,
     "metadata": {},
     "output_type": "execute_result"
    }
   ],
   "source": [
    "from sklearn.metrics import confusion_matrix\n",
    "confusion_matrix(y_test, y_pred_log)"
   ]
  },
  {
   "cell_type": "markdown",
   "id": "c2d6160e-a02d-40ae-b94b-eed53925aef6",
   "metadata": {},
   "source": [
    "### 1.데이터 불균형이 존재하는가?  \n",
    " - 모델 별로 weighted avg f1-score 값과 accuracy 값의 차이가 별로 없어서 \n",
    "   데이터 불균형은 낮은 것으로 판단   \n",
    "### 2.모델의 성능을 평가하는 지표로 무엇이 좋을까요?  \n",
    " - 데이터 불균형이 낮으므로 정확성(accuracy) 지표를 사용하는 것이 좋을것 같습니다.  \n",
    " - SVM 모델이 99%로 가장 좋은 성능을 보이고 있습니다."
   ]
  },
  {
   "cell_type": "code",
   "execution_count": null,
   "id": "3cc238f1-b5ea-453e-a591-98d8652e334f",
   "metadata": {},
   "outputs": [],
   "source": []
  }
 ],
 "metadata": {
  "kernelspec": {
   "display_name": "Python 3 (ipykernel)",
   "language": "python",
   "name": "python3"
  },
  "language_info": {
   "codemirror_mode": {
    "name": "ipython",
    "version": 3
   },
   "file_extension": ".py",
   "mimetype": "text/x-python",
   "name": "python",
   "nbconvert_exporter": "python",
   "pygments_lexer": "ipython3",
   "version": "3.9.7"
  }
 },
 "nbformat": 4,
 "nbformat_minor": 5
}
